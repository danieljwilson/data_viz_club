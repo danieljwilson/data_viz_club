{
 "cells": [
  {
   "cell_type": "code",
   "execution_count": 1,
   "metadata": {},
   "outputs": [],
   "source": [
    "import numpy as np\n",
    "import pandas as pd"
   ]
  },
  {
   "cell_type": "code",
   "execution_count": 187,
   "metadata": {},
   "outputs": [],
   "source": [
    "df = pd.read_csv('data/shot_logs.csv')"
   ]
  },
  {
   "cell_type": "code",
   "execution_count": 188,
   "metadata": {},
   "outputs": [
    {
     "data": {
      "text/plain": [
       "['GAME_ID',\n",
       " 'MATCHUP',\n",
       " 'LOCATION',\n",
       " 'W',\n",
       " 'FINAL_MARGIN',\n",
       " 'SHOT_NUMBER',\n",
       " 'PERIOD',\n",
       " 'GAME_CLOCK',\n",
       " 'SHOT_CLOCK',\n",
       " 'DRIBBLES',\n",
       " 'TOUCH_TIME',\n",
       " 'SHOT_DIST',\n",
       " 'PTS_TYPE',\n",
       " 'SHOT_RESULT',\n",
       " 'CLOSEST_DEFENDER',\n",
       " 'CLOSEST_DEFENDER_PLAYER_ID',\n",
       " 'CLOSE_DEF_DIST',\n",
       " 'FGM',\n",
       " 'PTS',\n",
       " 'player_name',\n",
       " 'player_id']"
      ]
     },
     "execution_count": 188,
     "metadata": {},
     "output_type": "execute_result"
    }
   ],
   "source": [
    "list(df.columns)"
   ]
  },
  {
   "cell_type": "code",
   "execution_count": 189,
   "metadata": {},
   "outputs": [
    {
     "data": {
      "text/html": [
       "<div>\n",
       "<style scoped>\n",
       "    .dataframe tbody tr th:only-of-type {\n",
       "        vertical-align: middle;\n",
       "    }\n",
       "\n",
       "    .dataframe tbody tr th {\n",
       "        vertical-align: top;\n",
       "    }\n",
       "\n",
       "    .dataframe thead th {\n",
       "        text-align: right;\n",
       "    }\n",
       "</style>\n",
       "<table border=\"1\" class=\"dataframe\">\n",
       "  <thead>\n",
       "    <tr style=\"text-align: right;\">\n",
       "      <th></th>\n",
       "      <th>GAME_ID</th>\n",
       "      <th>MATCHUP</th>\n",
       "      <th>LOCATION</th>\n",
       "      <th>W</th>\n",
       "      <th>FINAL_MARGIN</th>\n",
       "      <th>SHOT_NUMBER</th>\n",
       "      <th>PERIOD</th>\n",
       "      <th>GAME_CLOCK</th>\n",
       "      <th>SHOT_CLOCK</th>\n",
       "      <th>DRIBBLES</th>\n",
       "      <th>...</th>\n",
       "      <th>SHOT_DIST</th>\n",
       "      <th>PTS_TYPE</th>\n",
       "      <th>SHOT_RESULT</th>\n",
       "      <th>CLOSEST_DEFENDER</th>\n",
       "      <th>CLOSEST_DEFENDER_PLAYER_ID</th>\n",
       "      <th>CLOSE_DEF_DIST</th>\n",
       "      <th>FGM</th>\n",
       "      <th>PTS</th>\n",
       "      <th>player_name</th>\n",
       "      <th>player_id</th>\n",
       "    </tr>\n",
       "  </thead>\n",
       "  <tbody>\n",
       "    <tr>\n",
       "      <th>0</th>\n",
       "      <td>21400899</td>\n",
       "      <td>MAR 04, 2015 - CHA @ BKN</td>\n",
       "      <td>A</td>\n",
       "      <td>W</td>\n",
       "      <td>24</td>\n",
       "      <td>1</td>\n",
       "      <td>1</td>\n",
       "      <td>1:09</td>\n",
       "      <td>10.8</td>\n",
       "      <td>2</td>\n",
       "      <td>...</td>\n",
       "      <td>7.7</td>\n",
       "      <td>2</td>\n",
       "      <td>made</td>\n",
       "      <td>Anderson, Alan</td>\n",
       "      <td>101187</td>\n",
       "      <td>1.3</td>\n",
       "      <td>1</td>\n",
       "      <td>2</td>\n",
       "      <td>brian roberts</td>\n",
       "      <td>203148</td>\n",
       "    </tr>\n",
       "    <tr>\n",
       "      <th>1</th>\n",
       "      <td>21400899</td>\n",
       "      <td>MAR 04, 2015 - CHA @ BKN</td>\n",
       "      <td>A</td>\n",
       "      <td>W</td>\n",
       "      <td>24</td>\n",
       "      <td>2</td>\n",
       "      <td>1</td>\n",
       "      <td>0:14</td>\n",
       "      <td>3.4</td>\n",
       "      <td>0</td>\n",
       "      <td>...</td>\n",
       "      <td>28.2</td>\n",
       "      <td>3</td>\n",
       "      <td>missed</td>\n",
       "      <td>Bogdanovic, Bojan</td>\n",
       "      <td>202711</td>\n",
       "      <td>6.1</td>\n",
       "      <td>0</td>\n",
       "      <td>0</td>\n",
       "      <td>brian roberts</td>\n",
       "      <td>203148</td>\n",
       "    </tr>\n",
       "  </tbody>\n",
       "</table>\n",
       "<p>2 rows × 21 columns</p>\n",
       "</div>"
      ],
      "text/plain": [
       "    GAME_ID                   MATCHUP LOCATION  W  FINAL_MARGIN  SHOT_NUMBER  \\\n",
       "0  21400899  MAR 04, 2015 - CHA @ BKN        A  W            24            1   \n",
       "1  21400899  MAR 04, 2015 - CHA @ BKN        A  W            24            2   \n",
       "\n",
       "   PERIOD GAME_CLOCK  SHOT_CLOCK  DRIBBLES  ...  SHOT_DIST  PTS_TYPE  \\\n",
       "0       1       1:09        10.8         2  ...        7.7         2   \n",
       "1       1       0:14         3.4         0  ...       28.2         3   \n",
       "\n",
       "   SHOT_RESULT   CLOSEST_DEFENDER CLOSEST_DEFENDER_PLAYER_ID  CLOSE_DEF_DIST  \\\n",
       "0         made     Anderson, Alan                     101187             1.3   \n",
       "1       missed  Bogdanovic, Bojan                     202711             6.1   \n",
       "\n",
       "   FGM  PTS    player_name player_id  \n",
       "0    1    2  brian roberts    203148  \n",
       "1    0    0  brian roberts    203148  \n",
       "\n",
       "[2 rows x 21 columns]"
      ]
     },
     "execution_count": 189,
     "metadata": {},
     "output_type": "execute_result"
    }
   ],
   "source": [
    "df.head(2)"
   ]
  },
  {
   "cell_type": "code",
   "execution_count": 190,
   "metadata": {},
   "outputs": [],
   "source": [
    "# Select columns of interest\n",
    "df = df[['player_name', 'GAME_ID', 'FGM']]"
   ]
  },
  {
   "cell_type": "code",
   "execution_count": 191,
   "metadata": {},
   "outputs": [
    {
     "data": {
      "text/html": [
       "<div>\n",
       "<style scoped>\n",
       "    .dataframe tbody tr th:only-of-type {\n",
       "        vertical-align: middle;\n",
       "    }\n",
       "\n",
       "    .dataframe tbody tr th {\n",
       "        vertical-align: top;\n",
       "    }\n",
       "\n",
       "    .dataframe thead th {\n",
       "        text-align: right;\n",
       "    }\n",
       "</style>\n",
       "<table border=\"1\" class=\"dataframe\">\n",
       "  <thead>\n",
       "    <tr style=\"text-align: right;\">\n",
       "      <th></th>\n",
       "      <th>player_name</th>\n",
       "      <th>GAME_ID</th>\n",
       "      <th>FGM</th>\n",
       "    </tr>\n",
       "  </thead>\n",
       "  <tbody>\n",
       "    <tr>\n",
       "      <th>0</th>\n",
       "      <td>brian roberts</td>\n",
       "      <td>21400899</td>\n",
       "      <td>1</td>\n",
       "    </tr>\n",
       "    <tr>\n",
       "      <th>1</th>\n",
       "      <td>brian roberts</td>\n",
       "      <td>21400899</td>\n",
       "      <td>0</td>\n",
       "    </tr>\n",
       "  </tbody>\n",
       "</table>\n",
       "</div>"
      ],
      "text/plain": [
       "     player_name   GAME_ID  FGM\n",
       "0  brian roberts  21400899    1\n",
       "1  brian roberts  21400899    0"
      ]
     },
     "execution_count": 191,
     "metadata": {},
     "output_type": "execute_result"
    }
   ],
   "source": [
    "df.head(2)"
   ]
  },
  {
   "cell_type": "markdown",
   "metadata": {},
   "source": [
    "## Shot History"
   ]
  },
  {
   "cell_type": "code",
   "execution_count": 192,
   "metadata": {},
   "outputs": [],
   "source": [
    "df['shot_m1'] = df.groupby(['player_name', 'GAME_ID'])['FGM'].apply(lambda x: x.shift(periods=1))\n",
    "df['shot_m2'] = df.groupby(['player_name', 'GAME_ID'])['FGM'].apply(lambda x: x.shift(periods=2))\n",
    "df['shot_m3'] = df.groupby(['player_name', 'GAME_ID'])['FGM'].apply(lambda x: x.shift(periods=3))\n",
    "df['shot_m4'] = df.groupby(['player_name', 'GAME_ID'])['FGM'].apply(lambda x: x.shift(periods=4))\n",
    "df['shot_m5'] = df.groupby(['player_name', 'GAME_ID'])['FGM'].apply(lambda x: x.shift(periods=5))"
   ]
  },
  {
   "cell_type": "code",
   "execution_count": 193,
   "metadata": {},
   "outputs": [
    {
     "data": {
      "text/html": [
       "<div>\n",
       "<style scoped>\n",
       "    .dataframe tbody tr th:only-of-type {\n",
       "        vertical-align: middle;\n",
       "    }\n",
       "\n",
       "    .dataframe tbody tr th {\n",
       "        vertical-align: top;\n",
       "    }\n",
       "\n",
       "    .dataframe thead th {\n",
       "        text-align: right;\n",
       "    }\n",
       "</style>\n",
       "<table border=\"1\" class=\"dataframe\">\n",
       "  <thead>\n",
       "    <tr style=\"text-align: right;\">\n",
       "      <th></th>\n",
       "      <th>player_name</th>\n",
       "      <th>GAME_ID</th>\n",
       "      <th>FGM</th>\n",
       "      <th>shot_m1</th>\n",
       "      <th>shot_m2</th>\n",
       "      <th>shot_m3</th>\n",
       "      <th>shot_m4</th>\n",
       "      <th>shot_m5</th>\n",
       "    </tr>\n",
       "  </thead>\n",
       "  <tbody>\n",
       "    <tr>\n",
       "      <th>0</th>\n",
       "      <td>brian roberts</td>\n",
       "      <td>21400899</td>\n",
       "      <td>1</td>\n",
       "      <td>NaN</td>\n",
       "      <td>NaN</td>\n",
       "      <td>NaN</td>\n",
       "      <td>NaN</td>\n",
       "      <td>NaN</td>\n",
       "    </tr>\n",
       "    <tr>\n",
       "      <th>1</th>\n",
       "      <td>brian roberts</td>\n",
       "      <td>21400899</td>\n",
       "      <td>0</td>\n",
       "      <td>1.0</td>\n",
       "      <td>NaN</td>\n",
       "      <td>NaN</td>\n",
       "      <td>NaN</td>\n",
       "      <td>NaN</td>\n",
       "    </tr>\n",
       "    <tr>\n",
       "      <th>2</th>\n",
       "      <td>brian roberts</td>\n",
       "      <td>21400899</td>\n",
       "      <td>0</td>\n",
       "      <td>0.0</td>\n",
       "      <td>1.0</td>\n",
       "      <td>NaN</td>\n",
       "      <td>NaN</td>\n",
       "      <td>NaN</td>\n",
       "    </tr>\n",
       "    <tr>\n",
       "      <th>3</th>\n",
       "      <td>brian roberts</td>\n",
       "      <td>21400899</td>\n",
       "      <td>0</td>\n",
       "      <td>0.0</td>\n",
       "      <td>0.0</td>\n",
       "      <td>1.0</td>\n",
       "      <td>NaN</td>\n",
       "      <td>NaN</td>\n",
       "    </tr>\n",
       "    <tr>\n",
       "      <th>4</th>\n",
       "      <td>brian roberts</td>\n",
       "      <td>21400899</td>\n",
       "      <td>0</td>\n",
       "      <td>0.0</td>\n",
       "      <td>0.0</td>\n",
       "      <td>0.0</td>\n",
       "      <td>1.0</td>\n",
       "      <td>NaN</td>\n",
       "    </tr>\n",
       "  </tbody>\n",
       "</table>\n",
       "</div>"
      ],
      "text/plain": [
       "     player_name   GAME_ID  FGM  shot_m1  shot_m2  shot_m3  shot_m4  shot_m5\n",
       "0  brian roberts  21400899    1      NaN      NaN      NaN      NaN      NaN\n",
       "1  brian roberts  21400899    0      1.0      NaN      NaN      NaN      NaN\n",
       "2  brian roberts  21400899    0      0.0      1.0      NaN      NaN      NaN\n",
       "3  brian roberts  21400899    0      0.0      0.0      1.0      NaN      NaN\n",
       "4  brian roberts  21400899    0      0.0      0.0      0.0      1.0      NaN"
      ]
     },
     "execution_count": 193,
     "metadata": {},
     "output_type": "execute_result"
    }
   ],
   "source": [
    "df.head()"
   ]
  },
  {
   "cell_type": "markdown",
   "metadata": {},
   "source": [
    "## Min Shot Count"
   ]
  },
  {
   "cell_type": "code",
   "execution_count": 194,
   "metadata": {},
   "outputs": [
    {
     "data": {
      "text/plain": [
       "(128069, 8)"
      ]
     },
     "execution_count": 194,
     "metadata": {},
     "output_type": "execute_result"
    }
   ],
   "source": [
    "df.shape"
   ]
  },
  {
   "cell_type": "code",
   "execution_count": 195,
   "metadata": {},
   "outputs": [],
   "source": [
    "grouped = df.groupby(['player_name', 'GAME_ID'])\n",
    "df = grouped.filter(lambda x: x['FGM'].count()>9).reset_index(drop=True)"
   ]
  },
  {
   "cell_type": "code",
   "execution_count": 196,
   "metadata": {},
   "outputs": [
    {
     "data": {
      "text/plain": [
       "(81588, 8)"
      ]
     },
     "execution_count": 196,
     "metadata": {},
     "output_type": "execute_result"
    }
   ],
   "source": [
    "df.shape"
   ]
  },
  {
   "cell_type": "code",
   "execution_count": 197,
   "metadata": {},
   "outputs": [],
   "source": [
    "# filter for min shots/game (10/15/20+)\n",
    "\n",
    "# group by player and game\n",
    "# min 10 shots\n",
    "# was shot-1 good?\n",
    "# player average shooting rate\n",
    "\n",
    "# taking previous shot into account\n",
    "    # column['shot_m1'] = duplicate the column and move up one\n",
    "    # remove the first shot, then look at each shot\n",
    "    \n",
    "# player average for next shot if previous a hit    \n",
    "    # hit_prev_miss = sum of hits after misses/sum of shots after misses\n",
    "    # hit_prev_hit = sum of hits after hits/sum of shots after hits\n",
    "    \n",
    "# player average if previous shot a miss\n",
    "    # miss_prev_miss = sum of misses after misses/sum of shots after misses\n",
    "    # miss_prev_hit = sum of misses after hits/sum of shots after hits\n",
    "    \n",
    "\n",
    "# repeat for 2, 3, 4 shots\n",
    "\n",
    "# check for 3 out of 4 previous shots\n"
   ]
  },
  {
   "cell_type": "markdown",
   "metadata": {},
   "source": [
    "## Player p_stats"
   ]
  },
  {
   "cell_type": "code",
   "execution_count": 198,
   "metadata": {},
   "outputs": [
    {
     "data": {
      "text/html": [
       "<div>\n",
       "<style scoped>\n",
       "    .dataframe tbody tr th:only-of-type {\n",
       "        vertical-align: middle;\n",
       "    }\n",
       "\n",
       "    .dataframe tbody tr th {\n",
       "        vertical-align: top;\n",
       "    }\n",
       "\n",
       "    .dataframe thead th {\n",
       "        text-align: right;\n",
       "    }\n",
       "</style>\n",
       "<table border=\"1\" class=\"dataframe\">\n",
       "  <thead>\n",
       "    <tr style=\"text-align: right;\">\n",
       "      <th></th>\n",
       "      <th>player_name</th>\n",
       "      <th>FG_pct</th>\n",
       "    </tr>\n",
       "  </thead>\n",
       "  <tbody>\n",
       "    <tr>\n",
       "      <th>0</th>\n",
       "      <td>aaron brooks</td>\n",
       "      <td>0.420904</td>\n",
       "    </tr>\n",
       "    <tr>\n",
       "      <th>1</th>\n",
       "      <td>al farouq aminu</td>\n",
       "      <td>0.500000</td>\n",
       "    </tr>\n",
       "    <tr>\n",
       "      <th>2</th>\n",
       "      <td>al horford</td>\n",
       "      <td>0.519544</td>\n",
       "    </tr>\n",
       "    <tr>\n",
       "      <th>3</th>\n",
       "      <td>al jefferson</td>\n",
       "      <td>0.479592</td>\n",
       "    </tr>\n",
       "    <tr>\n",
       "      <th>4</th>\n",
       "      <td>alan anderson</td>\n",
       "      <td>0.487805</td>\n",
       "    </tr>\n",
       "  </tbody>\n",
       "</table>\n",
       "</div>"
      ],
      "text/plain": [
       "       player_name    FG_pct\n",
       "0     aaron brooks  0.420904\n",
       "1  al farouq aminu  0.500000\n",
       "2       al horford  0.519544\n",
       "3     al jefferson  0.479592\n",
       "4    alan anderson  0.487805"
      ]
     },
     "execution_count": 198,
     "metadata": {},
     "output_type": "execute_result"
    }
   ],
   "source": [
    "# get shooting percentage\n",
    "p_stats = pd.DataFrame(df.groupby(['player_name'])['FGM'].mean()).reset_index()\n",
    "p_stats = p_stats.rename(columns={'FGM' : 'FG_pct'})\n",
    "p_stats.head()\n",
    "\n",
    "# maybe add mean number of shots by player from original df?"
   ]
  },
  {
   "cell_type": "markdown",
   "metadata": {},
   "source": [
    "### Hit Previous 1 Shot"
   ]
  },
  {
   "cell_type": "code",
   "execution_count": 199,
   "metadata": {},
   "outputs": [],
   "source": [
    "hot_1 = df.loc[df.shot_m1==1]\n",
    "hot_1 = pd.DataFrame(hot_1.groupby(['player_name'])['FGM'].mean()).reset_index()\n",
    "hot_1 = hot_1.rename(columns={'FGM':'FG_pct_1_make'})"
   ]
  },
  {
   "cell_type": "code",
   "execution_count": 200,
   "metadata": {},
   "outputs": [],
   "source": [
    "# add to p_stats df\n",
    "p_stats = p_stats.merge(hot_1, how='right', on='player_name')"
   ]
  },
  {
   "cell_type": "code",
   "execution_count": 201,
   "metadata": {},
   "outputs": [
    {
     "data": {
      "text/html": [
       "<div>\n",
       "<style scoped>\n",
       "    .dataframe tbody tr th:only-of-type {\n",
       "        vertical-align: middle;\n",
       "    }\n",
       "\n",
       "    .dataframe tbody tr th {\n",
       "        vertical-align: top;\n",
       "    }\n",
       "\n",
       "    .dataframe thead th {\n",
       "        text-align: right;\n",
       "    }\n",
       "</style>\n",
       "<table border=\"1\" class=\"dataframe\">\n",
       "  <thead>\n",
       "    <tr style=\"text-align: right;\">\n",
       "      <th></th>\n",
       "      <th>player_name</th>\n",
       "      <th>FG_pct</th>\n",
       "      <th>FG_pct_1_make</th>\n",
       "    </tr>\n",
       "  </thead>\n",
       "  <tbody>\n",
       "    <tr>\n",
       "      <th>0</th>\n",
       "      <td>aaron brooks</td>\n",
       "      <td>0.420904</td>\n",
       "      <td>0.450000</td>\n",
       "    </tr>\n",
       "    <tr>\n",
       "      <th>1</th>\n",
       "      <td>al farouq aminu</td>\n",
       "      <td>0.500000</td>\n",
       "      <td>0.454545</td>\n",
       "    </tr>\n",
       "  </tbody>\n",
       "</table>\n",
       "</div>"
      ],
      "text/plain": [
       "       player_name    FG_pct  FG_pct_1_make\n",
       "0     aaron brooks  0.420904       0.450000\n",
       "1  al farouq aminu  0.500000       0.454545"
      ]
     },
     "execution_count": 201,
     "metadata": {},
     "output_type": "execute_result"
    }
   ],
   "source": [
    "p_stats.head(2)"
   ]
  },
  {
   "cell_type": "markdown",
   "metadata": {},
   "source": [
    "### Missed Previous 1 Shot"
   ]
  },
  {
   "cell_type": "code",
   "execution_count": 202,
   "metadata": {},
   "outputs": [],
   "source": [
    "hot_1 = df.loc[df.shot_m1==0]\n",
    "hot_1 = pd.DataFrame(hot_1.groupby(['player_name'])['FGM'].mean()).reset_index()\n",
    "hot_1 = hot_1.rename(columns={'FGM':'FG_pct_1_miss'})"
   ]
  },
  {
   "cell_type": "code",
   "execution_count": 203,
   "metadata": {},
   "outputs": [],
   "source": [
    "# add to p_stats df\n",
    "p_stats = p_stats.merge(hot_1, how='left', on='player_name')"
   ]
  },
  {
   "cell_type": "code",
   "execution_count": 204,
   "metadata": {},
   "outputs": [
    {
     "data": {
      "text/html": [
       "<div>\n",
       "<style scoped>\n",
       "    .dataframe tbody tr th:only-of-type {\n",
       "        vertical-align: middle;\n",
       "    }\n",
       "\n",
       "    .dataframe tbody tr th {\n",
       "        vertical-align: top;\n",
       "    }\n",
       "\n",
       "    .dataframe thead th {\n",
       "        text-align: right;\n",
       "    }\n",
       "</style>\n",
       "<table border=\"1\" class=\"dataframe\">\n",
       "  <thead>\n",
       "    <tr style=\"text-align: right;\">\n",
       "      <th></th>\n",
       "      <th>player_name</th>\n",
       "      <th>FG_pct</th>\n",
       "      <th>FG_pct_1_make</th>\n",
       "      <th>FG_pct_1_miss</th>\n",
       "    </tr>\n",
       "  </thead>\n",
       "  <tbody>\n",
       "    <tr>\n",
       "      <th>0</th>\n",
       "      <td>aaron brooks</td>\n",
       "      <td>0.420904</td>\n",
       "      <td>0.450000</td>\n",
       "      <td>0.392473</td>\n",
       "    </tr>\n",
       "    <tr>\n",
       "      <th>1</th>\n",
       "      <td>al farouq aminu</td>\n",
       "      <td>0.500000</td>\n",
       "      <td>0.454545</td>\n",
       "      <td>0.555556</td>\n",
       "    </tr>\n",
       "  </tbody>\n",
       "</table>\n",
       "</div>"
      ],
      "text/plain": [
       "       player_name    FG_pct  FG_pct_1_make  FG_pct_1_miss\n",
       "0     aaron brooks  0.420904       0.450000       0.392473\n",
       "1  al farouq aminu  0.500000       0.454545       0.555556"
      ]
     },
     "execution_count": 204,
     "metadata": {},
     "output_type": "execute_result"
    }
   ],
   "source": [
    "p_stats.head(2)"
   ]
  },
  {
   "cell_type": "markdown",
   "metadata": {},
   "source": [
    "### Hit Previous 2 Shots"
   ]
  },
  {
   "cell_type": "code",
   "execution_count": 205,
   "metadata": {},
   "outputs": [],
   "source": [
    "hot_1 = df.loc[(df.shot_m1==1) & (df.shot_m2==1)]\n",
    "hot_1 = pd.DataFrame(hot_1.groupby(['player_name'])['FGM'].mean()).reset_index()\n",
    "hot_1 = hot_1.rename(columns={'FGM':'FG_pct_2_make'})"
   ]
  },
  {
   "cell_type": "code",
   "execution_count": 206,
   "metadata": {},
   "outputs": [],
   "source": [
    "# add to p_stats df\n",
    "p_stats = p_stats.merge(hot_1, how='left', on='player_name')"
   ]
  },
  {
   "cell_type": "code",
   "execution_count": 207,
   "metadata": {},
   "outputs": [
    {
     "data": {
      "text/html": [
       "<div>\n",
       "<style scoped>\n",
       "    .dataframe tbody tr th:only-of-type {\n",
       "        vertical-align: middle;\n",
       "    }\n",
       "\n",
       "    .dataframe tbody tr th {\n",
       "        vertical-align: top;\n",
       "    }\n",
       "\n",
       "    .dataframe thead th {\n",
       "        text-align: right;\n",
       "    }\n",
       "</style>\n",
       "<table border=\"1\" class=\"dataframe\">\n",
       "  <thead>\n",
       "    <tr style=\"text-align: right;\">\n",
       "      <th></th>\n",
       "      <th>player_name</th>\n",
       "      <th>FG_pct</th>\n",
       "      <th>FG_pct_1_make</th>\n",
       "      <th>FG_pct_1_miss</th>\n",
       "      <th>FG_pct_2_make</th>\n",
       "    </tr>\n",
       "  </thead>\n",
       "  <tbody>\n",
       "    <tr>\n",
       "      <th>0</th>\n",
       "      <td>aaron brooks</td>\n",
       "      <td>0.420904</td>\n",
       "      <td>0.450000</td>\n",
       "      <td>0.392473</td>\n",
       "      <td>0.403509</td>\n",
       "    </tr>\n",
       "    <tr>\n",
       "      <th>1</th>\n",
       "      <td>al farouq aminu</td>\n",
       "      <td>0.500000</td>\n",
       "      <td>0.454545</td>\n",
       "      <td>0.555556</td>\n",
       "      <td>0.600000</td>\n",
       "    </tr>\n",
       "  </tbody>\n",
       "</table>\n",
       "</div>"
      ],
      "text/plain": [
       "       player_name    FG_pct  FG_pct_1_make  FG_pct_1_miss  FG_pct_2_make\n",
       "0     aaron brooks  0.420904       0.450000       0.392473       0.403509\n",
       "1  al farouq aminu  0.500000       0.454545       0.555556       0.600000"
      ]
     },
     "execution_count": 207,
     "metadata": {},
     "output_type": "execute_result"
    }
   ],
   "source": [
    "p_stats.head(2)"
   ]
  },
  {
   "cell_type": "markdown",
   "metadata": {},
   "source": [
    "### Missed Previous 2 Shots"
   ]
  },
  {
   "cell_type": "code",
   "execution_count": 208,
   "metadata": {},
   "outputs": [],
   "source": [
    "hot_1 = df.loc[(df.shot_m1==0) & (df.shot_m2==0)]\n",
    "hot_1 = pd.DataFrame(hot_1.groupby(['player_name'])['FGM'].mean()).reset_index()\n",
    "hot_1 = hot_1.rename(columns={'FGM':'FG_pct_2_miss'})"
   ]
  },
  {
   "cell_type": "code",
   "execution_count": 209,
   "metadata": {},
   "outputs": [],
   "source": [
    "# add to p_stats df\n",
    "p_stats = p_stats.merge(hot_1, how='left', on='player_name')"
   ]
  },
  {
   "cell_type": "code",
   "execution_count": 210,
   "metadata": {},
   "outputs": [
    {
     "data": {
      "text/html": [
       "<div>\n",
       "<style scoped>\n",
       "    .dataframe tbody tr th:only-of-type {\n",
       "        vertical-align: middle;\n",
       "    }\n",
       "\n",
       "    .dataframe tbody tr th {\n",
       "        vertical-align: top;\n",
       "    }\n",
       "\n",
       "    .dataframe thead th {\n",
       "        text-align: right;\n",
       "    }\n",
       "</style>\n",
       "<table border=\"1\" class=\"dataframe\">\n",
       "  <thead>\n",
       "    <tr style=\"text-align: right;\">\n",
       "      <th></th>\n",
       "      <th>player_name</th>\n",
       "      <th>FG_pct</th>\n",
       "      <th>FG_pct_1_make</th>\n",
       "      <th>FG_pct_1_miss</th>\n",
       "      <th>FG_pct_2_make</th>\n",
       "      <th>FG_pct_2_miss</th>\n",
       "    </tr>\n",
       "  </thead>\n",
       "  <tbody>\n",
       "    <tr>\n",
       "      <th>0</th>\n",
       "      <td>aaron brooks</td>\n",
       "      <td>0.420904</td>\n",
       "      <td>0.450000</td>\n",
       "      <td>0.392473</td>\n",
       "      <td>0.403509</td>\n",
       "      <td>0.310680</td>\n",
       "    </tr>\n",
       "    <tr>\n",
       "      <th>1</th>\n",
       "      <td>al farouq aminu</td>\n",
       "      <td>0.500000</td>\n",
       "      <td>0.454545</td>\n",
       "      <td>0.555556</td>\n",
       "      <td>0.600000</td>\n",
       "      <td>0.333333</td>\n",
       "    </tr>\n",
       "  </tbody>\n",
       "</table>\n",
       "</div>"
      ],
      "text/plain": [
       "       player_name    FG_pct  FG_pct_1_make  FG_pct_1_miss  FG_pct_2_make  \\\n",
       "0     aaron brooks  0.420904       0.450000       0.392473       0.403509   \n",
       "1  al farouq aminu  0.500000       0.454545       0.555556       0.600000   \n",
       "\n",
       "   FG_pct_2_miss  \n",
       "0       0.310680  \n",
       "1       0.333333  "
      ]
     },
     "execution_count": 210,
     "metadata": {},
     "output_type": "execute_result"
    }
   ],
   "source": [
    "p_stats.head(2)"
   ]
  },
  {
   "cell_type": "markdown",
   "metadata": {},
   "source": [
    "### Hit Previous 3 Shots"
   ]
  },
  {
   "cell_type": "code",
   "execution_count": 211,
   "metadata": {},
   "outputs": [],
   "source": [
    "hot_1 = df.loc[(df.shot_m1==1) & (df.shot_m2==1) & (df.shot_m3==1)]\n",
    "hot_1 = pd.DataFrame(hot_1.groupby(['player_name'])['FGM'].mean()).reset_index()\n",
    "hot_1 = hot_1.rename(columns={'FGM':'FG_pct_3_make'})"
   ]
  },
  {
   "cell_type": "code",
   "execution_count": 212,
   "metadata": {},
   "outputs": [],
   "source": [
    "# add to p_stats df\n",
    "p_stats = p_stats.merge(hot_1, how='left', on='player_name')"
   ]
  },
  {
   "cell_type": "code",
   "execution_count": 213,
   "metadata": {},
   "outputs": [
    {
     "data": {
      "text/html": [
       "<div>\n",
       "<style scoped>\n",
       "    .dataframe tbody tr th:only-of-type {\n",
       "        vertical-align: middle;\n",
       "    }\n",
       "\n",
       "    .dataframe tbody tr th {\n",
       "        vertical-align: top;\n",
       "    }\n",
       "\n",
       "    .dataframe thead th {\n",
       "        text-align: right;\n",
       "    }\n",
       "</style>\n",
       "<table border=\"1\" class=\"dataframe\">\n",
       "  <thead>\n",
       "    <tr style=\"text-align: right;\">\n",
       "      <th></th>\n",
       "      <th>player_name</th>\n",
       "      <th>FG_pct</th>\n",
       "      <th>FG_pct_1_make</th>\n",
       "      <th>FG_pct_1_miss</th>\n",
       "      <th>FG_pct_2_make</th>\n",
       "      <th>FG_pct_2_miss</th>\n",
       "      <th>FG_pct_3_make</th>\n",
       "    </tr>\n",
       "  </thead>\n",
       "  <tbody>\n",
       "    <tr>\n",
       "      <th>0</th>\n",
       "      <td>aaron brooks</td>\n",
       "      <td>0.420904</td>\n",
       "      <td>0.450000</td>\n",
       "      <td>0.392473</td>\n",
       "      <td>0.403509</td>\n",
       "      <td>0.310680</td>\n",
       "      <td>0.350000</td>\n",
       "    </tr>\n",
       "    <tr>\n",
       "      <th>1</th>\n",
       "      <td>al farouq aminu</td>\n",
       "      <td>0.500000</td>\n",
       "      <td>0.454545</td>\n",
       "      <td>0.555556</td>\n",
       "      <td>0.600000</td>\n",
       "      <td>0.333333</td>\n",
       "      <td>0.333333</td>\n",
       "    </tr>\n",
       "  </tbody>\n",
       "</table>\n",
       "</div>"
      ],
      "text/plain": [
       "       player_name    FG_pct  FG_pct_1_make  FG_pct_1_miss  FG_pct_2_make  \\\n",
       "0     aaron brooks  0.420904       0.450000       0.392473       0.403509   \n",
       "1  al farouq aminu  0.500000       0.454545       0.555556       0.600000   \n",
       "\n",
       "   FG_pct_2_miss  FG_pct_3_make  \n",
       "0       0.310680       0.350000  \n",
       "1       0.333333       0.333333  "
      ]
     },
     "execution_count": 213,
     "metadata": {},
     "output_type": "execute_result"
    }
   ],
   "source": [
    "p_stats.head(2)"
   ]
  },
  {
   "cell_type": "markdown",
   "metadata": {},
   "source": [
    "### Missed Previous 3 Shots"
   ]
  },
  {
   "cell_type": "code",
   "execution_count": 214,
   "metadata": {},
   "outputs": [],
   "source": [
    "hot_1 = df.loc[(df.shot_m1==0) & (df.shot_m2==0) & (df.shot_m3==0)]\n",
    "hot_1 = pd.DataFrame(hot_1.groupby(['player_name'])['FGM'].mean()).reset_index()\n",
    "hot_1 = hot_1.rename(columns={'FGM':'FG_pct_3_miss'})"
   ]
  },
  {
   "cell_type": "code",
   "execution_count": 215,
   "metadata": {},
   "outputs": [],
   "source": [
    "# add to p_stats df\n",
    "p_stats = p_stats.merge(hot_1, how='left', on='player_name')"
   ]
  },
  {
   "cell_type": "code",
   "execution_count": 216,
   "metadata": {},
   "outputs": [
    {
     "data": {
      "text/html": [
       "<div>\n",
       "<style scoped>\n",
       "    .dataframe tbody tr th:only-of-type {\n",
       "        vertical-align: middle;\n",
       "    }\n",
       "\n",
       "    .dataframe tbody tr th {\n",
       "        vertical-align: top;\n",
       "    }\n",
       "\n",
       "    .dataframe thead th {\n",
       "        text-align: right;\n",
       "    }\n",
       "</style>\n",
       "<table border=\"1\" class=\"dataframe\">\n",
       "  <thead>\n",
       "    <tr style=\"text-align: right;\">\n",
       "      <th></th>\n",
       "      <th>player_name</th>\n",
       "      <th>FG_pct</th>\n",
       "      <th>FG_pct_1_make</th>\n",
       "      <th>FG_pct_1_miss</th>\n",
       "      <th>FG_pct_2_make</th>\n",
       "      <th>FG_pct_2_miss</th>\n",
       "      <th>FG_pct_3_make</th>\n",
       "      <th>FG_pct_3_miss</th>\n",
       "    </tr>\n",
       "  </thead>\n",
       "  <tbody>\n",
       "    <tr>\n",
       "      <th>0</th>\n",
       "      <td>aaron brooks</td>\n",
       "      <td>0.420904</td>\n",
       "      <td>0.450000</td>\n",
       "      <td>0.392473</td>\n",
       "      <td>0.403509</td>\n",
       "      <td>0.310680</td>\n",
       "      <td>0.350000</td>\n",
       "      <td>0.338462</td>\n",
       "    </tr>\n",
       "    <tr>\n",
       "      <th>1</th>\n",
       "      <td>al farouq aminu</td>\n",
       "      <td>0.500000</td>\n",
       "      <td>0.454545</td>\n",
       "      <td>0.555556</td>\n",
       "      <td>0.600000</td>\n",
       "      <td>0.333333</td>\n",
       "      <td>0.333333</td>\n",
       "      <td>0.000000</td>\n",
       "    </tr>\n",
       "  </tbody>\n",
       "</table>\n",
       "</div>"
      ],
      "text/plain": [
       "       player_name    FG_pct  FG_pct_1_make  FG_pct_1_miss  FG_pct_2_make  \\\n",
       "0     aaron brooks  0.420904       0.450000       0.392473       0.403509   \n",
       "1  al farouq aminu  0.500000       0.454545       0.555556       0.600000   \n",
       "\n",
       "   FG_pct_2_miss  FG_pct_3_make  FG_pct_3_miss  \n",
       "0       0.310680       0.350000       0.338462  \n",
       "1       0.333333       0.333333       0.000000  "
      ]
     },
     "execution_count": 216,
     "metadata": {},
     "output_type": "execute_result"
    }
   ],
   "source": [
    "p_stats.head(2)"
   ]
  },
  {
   "cell_type": "markdown",
   "metadata": {},
   "source": [
    "### Hit Previous 4 Shots"
   ]
  },
  {
   "cell_type": "code",
   "execution_count": 217,
   "metadata": {},
   "outputs": [],
   "source": [
    "hot_1 = df.loc[(df.shot_m1==1) & (df.shot_m2==1) & (df.shot_m3==1) & (df.shot_m4==1)]\n",
    "hot_1 = pd.DataFrame(hot_1.groupby(['player_name'])['FGM'].mean()).reset_index()\n",
    "hot_1 = hot_1.rename(columns={'FGM':'FG_pct_4_make'})"
   ]
  },
  {
   "cell_type": "code",
   "execution_count": 218,
   "metadata": {},
   "outputs": [],
   "source": [
    "# add to p_stats df\n",
    "p_stats = p_stats.merge(hot_1, how='left', on='player_name')"
   ]
  },
  {
   "cell_type": "code",
   "execution_count": 219,
   "metadata": {},
   "outputs": [
    {
     "data": {
      "text/html": [
       "<div>\n",
       "<style scoped>\n",
       "    .dataframe tbody tr th:only-of-type {\n",
       "        vertical-align: middle;\n",
       "    }\n",
       "\n",
       "    .dataframe tbody tr th {\n",
       "        vertical-align: top;\n",
       "    }\n",
       "\n",
       "    .dataframe thead th {\n",
       "        text-align: right;\n",
       "    }\n",
       "</style>\n",
       "<table border=\"1\" class=\"dataframe\">\n",
       "  <thead>\n",
       "    <tr style=\"text-align: right;\">\n",
       "      <th></th>\n",
       "      <th>player_name</th>\n",
       "      <th>FG_pct</th>\n",
       "      <th>FG_pct_1_make</th>\n",
       "      <th>FG_pct_1_miss</th>\n",
       "      <th>FG_pct_2_make</th>\n",
       "      <th>FG_pct_2_miss</th>\n",
       "      <th>FG_pct_3_make</th>\n",
       "      <th>FG_pct_3_miss</th>\n",
       "      <th>FG_pct_4_make</th>\n",
       "    </tr>\n",
       "  </thead>\n",
       "  <tbody>\n",
       "    <tr>\n",
       "      <th>0</th>\n",
       "      <td>aaron brooks</td>\n",
       "      <td>0.420904</td>\n",
       "      <td>0.450000</td>\n",
       "      <td>0.392473</td>\n",
       "      <td>0.403509</td>\n",
       "      <td>0.310680</td>\n",
       "      <td>0.350000</td>\n",
       "      <td>0.338462</td>\n",
       "      <td>0.333333</td>\n",
       "    </tr>\n",
       "    <tr>\n",
       "      <th>1</th>\n",
       "      <td>al farouq aminu</td>\n",
       "      <td>0.500000</td>\n",
       "      <td>0.454545</td>\n",
       "      <td>0.555556</td>\n",
       "      <td>0.600000</td>\n",
       "      <td>0.333333</td>\n",
       "      <td>0.333333</td>\n",
       "      <td>0.000000</td>\n",
       "      <td>0.000000</td>\n",
       "    </tr>\n",
       "  </tbody>\n",
       "</table>\n",
       "</div>"
      ],
      "text/plain": [
       "       player_name    FG_pct  FG_pct_1_make  FG_pct_1_miss  FG_pct_2_make  \\\n",
       "0     aaron brooks  0.420904       0.450000       0.392473       0.403509   \n",
       "1  al farouq aminu  0.500000       0.454545       0.555556       0.600000   \n",
       "\n",
       "   FG_pct_2_miss  FG_pct_3_make  FG_pct_3_miss  FG_pct_4_make  \n",
       "0       0.310680       0.350000       0.338462       0.333333  \n",
       "1       0.333333       0.333333       0.000000       0.000000  "
      ]
     },
     "execution_count": 219,
     "metadata": {},
     "output_type": "execute_result"
    }
   ],
   "source": [
    "p_stats.head(2)"
   ]
  },
  {
   "cell_type": "markdown",
   "metadata": {},
   "source": [
    "### Missed Previous 4 Shots"
   ]
  },
  {
   "cell_type": "code",
   "execution_count": 220,
   "metadata": {},
   "outputs": [],
   "source": [
    "hot_1 = df.loc[(df.shot_m1==0) & (df.shot_m2==0) & (df.shot_m3==0) & (df.shot_m4==0)]\n",
    "hot_1 = pd.DataFrame(hot_1.groupby(['player_name'])['FGM'].mean()).reset_index()\n",
    "hot_1 = hot_1.rename(columns={'FGM':'FG_pct_4_miss'})"
   ]
  },
  {
   "cell_type": "code",
   "execution_count": 221,
   "metadata": {},
   "outputs": [],
   "source": [
    "# add to p_stats df\n",
    "p_stats = p_stats.merge(hot_1, how='left', on='player_name')"
   ]
  },
  {
   "cell_type": "code",
   "execution_count": 222,
   "metadata": {},
   "outputs": [
    {
     "data": {
      "text/html": [
       "<div>\n",
       "<style scoped>\n",
       "    .dataframe tbody tr th:only-of-type {\n",
       "        vertical-align: middle;\n",
       "    }\n",
       "\n",
       "    .dataframe tbody tr th {\n",
       "        vertical-align: top;\n",
       "    }\n",
       "\n",
       "    .dataframe thead th {\n",
       "        text-align: right;\n",
       "    }\n",
       "</style>\n",
       "<table border=\"1\" class=\"dataframe\">\n",
       "  <thead>\n",
       "    <tr style=\"text-align: right;\">\n",
       "      <th></th>\n",
       "      <th>player_name</th>\n",
       "      <th>FG_pct</th>\n",
       "      <th>FG_pct_1_make</th>\n",
       "      <th>FG_pct_1_miss</th>\n",
       "      <th>FG_pct_2_make</th>\n",
       "      <th>FG_pct_2_miss</th>\n",
       "      <th>FG_pct_3_make</th>\n",
       "      <th>FG_pct_3_miss</th>\n",
       "      <th>FG_pct_4_make</th>\n",
       "      <th>FG_pct_4_miss</th>\n",
       "    </tr>\n",
       "  </thead>\n",
       "  <tbody>\n",
       "    <tr>\n",
       "      <th>0</th>\n",
       "      <td>aaron brooks</td>\n",
       "      <td>0.420904</td>\n",
       "      <td>0.450000</td>\n",
       "      <td>0.392473</td>\n",
       "      <td>0.403509</td>\n",
       "      <td>0.310680</td>\n",
       "      <td>0.350000</td>\n",
       "      <td>0.338462</td>\n",
       "      <td>0.333333</td>\n",
       "      <td>0.317073</td>\n",
       "    </tr>\n",
       "    <tr>\n",
       "      <th>1</th>\n",
       "      <td>al farouq aminu</td>\n",
       "      <td>0.500000</td>\n",
       "      <td>0.454545</td>\n",
       "      <td>0.555556</td>\n",
       "      <td>0.600000</td>\n",
       "      <td>0.333333</td>\n",
       "      <td>0.333333</td>\n",
       "      <td>0.000000</td>\n",
       "      <td>0.000000</td>\n",
       "      <td>NaN</td>\n",
       "    </tr>\n",
       "  </tbody>\n",
       "</table>\n",
       "</div>"
      ],
      "text/plain": [
       "       player_name    FG_pct  FG_pct_1_make  FG_pct_1_miss  FG_pct_2_make  \\\n",
       "0     aaron brooks  0.420904       0.450000       0.392473       0.403509   \n",
       "1  al farouq aminu  0.500000       0.454545       0.555556       0.600000   \n",
       "\n",
       "   FG_pct_2_miss  FG_pct_3_make  FG_pct_3_miss  FG_pct_4_make  FG_pct_4_miss  \n",
       "0       0.310680       0.350000       0.338462       0.333333       0.317073  \n",
       "1       0.333333       0.333333       0.000000       0.000000            NaN  "
      ]
     },
     "execution_count": 222,
     "metadata": {},
     "output_type": "execute_result"
    }
   ],
   "source": [
    "p_stats.head(2)"
   ]
  },
  {
   "cell_type": "markdown",
   "metadata": {},
   "source": [
    "### Hit Previous 5 Shots"
   ]
  },
  {
   "cell_type": "code",
   "execution_count": 223,
   "metadata": {},
   "outputs": [],
   "source": [
    "hot_1 = df.loc[(df.shot_m1==1) & (df.shot_m2==1) & (df.shot_m3==1) & (df.shot_m4==1) & (df.shot_m5==1)]\n",
    "hot_1 = pd.DataFrame(hot_1.groupby(['player_name'])['FGM'].mean()).reset_index()\n",
    "hot_1 = hot_1.rename(columns={'FGM':'FG_pct_5_make'})"
   ]
  },
  {
   "cell_type": "code",
   "execution_count": 224,
   "metadata": {},
   "outputs": [],
   "source": [
    "# add to p_stats df\n",
    "p_stats = p_stats.merge(hot_1, how='left', on='player_name')"
   ]
  },
  {
   "cell_type": "code",
   "execution_count": 225,
   "metadata": {},
   "outputs": [
    {
     "data": {
      "text/html": [
       "<div>\n",
       "<style scoped>\n",
       "    .dataframe tbody tr th:only-of-type {\n",
       "        vertical-align: middle;\n",
       "    }\n",
       "\n",
       "    .dataframe tbody tr th {\n",
       "        vertical-align: top;\n",
       "    }\n",
       "\n",
       "    .dataframe thead th {\n",
       "        text-align: right;\n",
       "    }\n",
       "</style>\n",
       "<table border=\"1\" class=\"dataframe\">\n",
       "  <thead>\n",
       "    <tr style=\"text-align: right;\">\n",
       "      <th></th>\n",
       "      <th>player_name</th>\n",
       "      <th>FG_pct</th>\n",
       "      <th>FG_pct_1_make</th>\n",
       "      <th>FG_pct_1_miss</th>\n",
       "      <th>FG_pct_2_make</th>\n",
       "      <th>FG_pct_2_miss</th>\n",
       "      <th>FG_pct_3_make</th>\n",
       "      <th>FG_pct_3_miss</th>\n",
       "      <th>FG_pct_4_make</th>\n",
       "      <th>FG_pct_4_miss</th>\n",
       "      <th>FG_pct_5_make</th>\n",
       "    </tr>\n",
       "  </thead>\n",
       "  <tbody>\n",
       "    <tr>\n",
       "      <th>0</th>\n",
       "      <td>aaron brooks</td>\n",
       "      <td>0.420904</td>\n",
       "      <td>0.450000</td>\n",
       "      <td>0.392473</td>\n",
       "      <td>0.403509</td>\n",
       "      <td>0.310680</td>\n",
       "      <td>0.350000</td>\n",
       "      <td>0.338462</td>\n",
       "      <td>0.333333</td>\n",
       "      <td>0.317073</td>\n",
       "      <td>0.0</td>\n",
       "    </tr>\n",
       "    <tr>\n",
       "      <th>1</th>\n",
       "      <td>al farouq aminu</td>\n",
       "      <td>0.500000</td>\n",
       "      <td>0.454545</td>\n",
       "      <td>0.555556</td>\n",
       "      <td>0.600000</td>\n",
       "      <td>0.333333</td>\n",
       "      <td>0.333333</td>\n",
       "      <td>0.000000</td>\n",
       "      <td>0.000000</td>\n",
       "      <td>NaN</td>\n",
       "      <td>NaN</td>\n",
       "    </tr>\n",
       "  </tbody>\n",
       "</table>\n",
       "</div>"
      ],
      "text/plain": [
       "       player_name    FG_pct  FG_pct_1_make  FG_pct_1_miss  FG_pct_2_make  \\\n",
       "0     aaron brooks  0.420904       0.450000       0.392473       0.403509   \n",
       "1  al farouq aminu  0.500000       0.454545       0.555556       0.600000   \n",
       "\n",
       "   FG_pct_2_miss  FG_pct_3_make  FG_pct_3_miss  FG_pct_4_make  FG_pct_4_miss  \\\n",
       "0       0.310680       0.350000       0.338462       0.333333       0.317073   \n",
       "1       0.333333       0.333333       0.000000       0.000000            NaN   \n",
       "\n",
       "   FG_pct_5_make  \n",
       "0            0.0  \n",
       "1            NaN  "
      ]
     },
     "execution_count": 225,
     "metadata": {},
     "output_type": "execute_result"
    }
   ],
   "source": [
    "p_stats.head(2)"
   ]
  },
  {
   "cell_type": "markdown",
   "metadata": {},
   "source": [
    "### Missed Previous 5 Shots"
   ]
  },
  {
   "cell_type": "code",
   "execution_count": 226,
   "metadata": {},
   "outputs": [],
   "source": [
    "hot_1 = df.loc[(df.shot_m1==0) & (df.shot_m2==0) & (df.shot_m3==0) & (df.shot_m4==0)& (df.shot_m5==0)]\n",
    "hot_1 = pd.DataFrame(hot_1.groupby(['player_name'])['FGM'].mean()).reset_index()\n",
    "hot_1 = hot_1.rename(columns={'FGM':'FG_pct_5_miss'})"
   ]
  },
  {
   "cell_type": "code",
   "execution_count": 227,
   "metadata": {},
   "outputs": [],
   "source": [
    "# add to p_stats df\n",
    "p_stats = p_stats.merge(hot_1, how='left', on='player_name')"
   ]
  },
  {
   "cell_type": "code",
   "execution_count": 228,
   "metadata": {},
   "outputs": [
    {
     "data": {
      "text/html": [
       "<div>\n",
       "<style scoped>\n",
       "    .dataframe tbody tr th:only-of-type {\n",
       "        vertical-align: middle;\n",
       "    }\n",
       "\n",
       "    .dataframe tbody tr th {\n",
       "        vertical-align: top;\n",
       "    }\n",
       "\n",
       "    .dataframe thead th {\n",
       "        text-align: right;\n",
       "    }\n",
       "</style>\n",
       "<table border=\"1\" class=\"dataframe\">\n",
       "  <thead>\n",
       "    <tr style=\"text-align: right;\">\n",
       "      <th></th>\n",
       "      <th>player_name</th>\n",
       "      <th>FG_pct</th>\n",
       "      <th>FG_pct_1_make</th>\n",
       "      <th>FG_pct_1_miss</th>\n",
       "      <th>FG_pct_2_make</th>\n",
       "      <th>FG_pct_2_miss</th>\n",
       "      <th>FG_pct_3_make</th>\n",
       "      <th>FG_pct_3_miss</th>\n",
       "      <th>FG_pct_4_make</th>\n",
       "      <th>FG_pct_4_miss</th>\n",
       "      <th>FG_pct_5_make</th>\n",
       "      <th>FG_pct_5_miss</th>\n",
       "    </tr>\n",
       "  </thead>\n",
       "  <tbody>\n",
       "    <tr>\n",
       "      <th>0</th>\n",
       "      <td>aaron brooks</td>\n",
       "      <td>0.420904</td>\n",
       "      <td>0.450000</td>\n",
       "      <td>0.392473</td>\n",
       "      <td>0.403509</td>\n",
       "      <td>0.310680</td>\n",
       "      <td>0.350000</td>\n",
       "      <td>0.338462</td>\n",
       "      <td>0.333333</td>\n",
       "      <td>0.317073</td>\n",
       "      <td>0.0</td>\n",
       "      <td>0.307692</td>\n",
       "    </tr>\n",
       "    <tr>\n",
       "      <th>1</th>\n",
       "      <td>al farouq aminu</td>\n",
       "      <td>0.500000</td>\n",
       "      <td>0.454545</td>\n",
       "      <td>0.555556</td>\n",
       "      <td>0.600000</td>\n",
       "      <td>0.333333</td>\n",
       "      <td>0.333333</td>\n",
       "      <td>0.000000</td>\n",
       "      <td>0.000000</td>\n",
       "      <td>NaN</td>\n",
       "      <td>NaN</td>\n",
       "      <td>NaN</td>\n",
       "    </tr>\n",
       "  </tbody>\n",
       "</table>\n",
       "</div>"
      ],
      "text/plain": [
       "       player_name    FG_pct  FG_pct_1_make  FG_pct_1_miss  FG_pct_2_make  \\\n",
       "0     aaron brooks  0.420904       0.450000       0.392473       0.403509   \n",
       "1  al farouq aminu  0.500000       0.454545       0.555556       0.600000   \n",
       "\n",
       "   FG_pct_2_miss  FG_pct_3_make  FG_pct_3_miss  FG_pct_4_make  FG_pct_4_miss  \\\n",
       "0       0.310680       0.350000       0.338462       0.333333       0.317073   \n",
       "1       0.333333       0.333333       0.000000       0.000000            NaN   \n",
       "\n",
       "   FG_pct_5_make  FG_pct_5_miss  \n",
       "0            0.0       0.307692  \n",
       "1            NaN            NaN  "
      ]
     },
     "execution_count": 228,
     "metadata": {},
     "output_type": "execute_result"
    }
   ],
   "source": [
    "p_stats.head(2)"
   ]
  },
  {
   "cell_type": "markdown",
   "metadata": {},
   "source": [
    "### Hit 4 of 5 previous"
   ]
  },
  {
   "cell_type": "code",
   "execution_count": 229,
   "metadata": {},
   "outputs": [],
   "source": [
    "df['prev5_count'] = df.loc[:,'shot_m1':'shot_m5'].sum(axis=1)"
   ]
  },
  {
   "cell_type": "code",
   "execution_count": 230,
   "metadata": {},
   "outputs": [],
   "source": [
    "hot_1 = df.loc[df.prev5_count==4]\n",
    "hot_1 = pd.DataFrame(hot_1.groupby(['player_name'])['FGM'].mean()).reset_index()\n",
    "hot_1 = hot_1.rename(columns={'FGM':'FG_pct_80_pct'})"
   ]
  },
  {
   "cell_type": "code",
   "execution_count": 231,
   "metadata": {},
   "outputs": [],
   "source": [
    "# add to p_stats df\n",
    "p_stats = p_stats.merge(hot_1, how='left', on='player_name')"
   ]
  },
  {
   "cell_type": "code",
   "execution_count": 232,
   "metadata": {},
   "outputs": [
    {
     "data": {
      "text/html": [
       "<div>\n",
       "<style scoped>\n",
       "    .dataframe tbody tr th:only-of-type {\n",
       "        vertical-align: middle;\n",
       "    }\n",
       "\n",
       "    .dataframe tbody tr th {\n",
       "        vertical-align: top;\n",
       "    }\n",
       "\n",
       "    .dataframe thead th {\n",
       "        text-align: right;\n",
       "    }\n",
       "</style>\n",
       "<table border=\"1\" class=\"dataframe\">\n",
       "  <thead>\n",
       "    <tr style=\"text-align: right;\">\n",
       "      <th></th>\n",
       "      <th>player_name</th>\n",
       "      <th>FG_pct</th>\n",
       "      <th>FG_pct_1_make</th>\n",
       "      <th>FG_pct_1_miss</th>\n",
       "      <th>FG_pct_2_make</th>\n",
       "      <th>FG_pct_2_miss</th>\n",
       "      <th>FG_pct_3_make</th>\n",
       "      <th>FG_pct_3_miss</th>\n",
       "      <th>FG_pct_4_make</th>\n",
       "      <th>FG_pct_4_miss</th>\n",
       "      <th>FG_pct_5_make</th>\n",
       "      <th>FG_pct_5_miss</th>\n",
       "      <th>FG_pct_80_pct</th>\n",
       "    </tr>\n",
       "  </thead>\n",
       "  <tbody>\n",
       "    <tr>\n",
       "      <th>0</th>\n",
       "      <td>aaron brooks</td>\n",
       "      <td>0.420904</td>\n",
       "      <td>0.450000</td>\n",
       "      <td>0.392473</td>\n",
       "      <td>0.403509</td>\n",
       "      <td>0.310680</td>\n",
       "      <td>0.350000</td>\n",
       "      <td>0.338462</td>\n",
       "      <td>0.333333</td>\n",
       "      <td>0.317073</td>\n",
       "      <td>0.0</td>\n",
       "      <td>0.307692</td>\n",
       "      <td>0.304348</td>\n",
       "    </tr>\n",
       "    <tr>\n",
       "      <th>1</th>\n",
       "      <td>al farouq aminu</td>\n",
       "      <td>0.500000</td>\n",
       "      <td>0.454545</td>\n",
       "      <td>0.555556</td>\n",
       "      <td>0.600000</td>\n",
       "      <td>0.333333</td>\n",
       "      <td>0.333333</td>\n",
       "      <td>0.000000</td>\n",
       "      <td>0.000000</td>\n",
       "      <td>NaN</td>\n",
       "      <td>NaN</td>\n",
       "      <td>NaN</td>\n",
       "      <td>0.000000</td>\n",
       "    </tr>\n",
       "  </tbody>\n",
       "</table>\n",
       "</div>"
      ],
      "text/plain": [
       "       player_name    FG_pct  FG_pct_1_make  FG_pct_1_miss  FG_pct_2_make  \\\n",
       "0     aaron brooks  0.420904       0.450000       0.392473       0.403509   \n",
       "1  al farouq aminu  0.500000       0.454545       0.555556       0.600000   \n",
       "\n",
       "   FG_pct_2_miss  FG_pct_3_make  FG_pct_3_miss  FG_pct_4_make  FG_pct_4_miss  \\\n",
       "0       0.310680       0.350000       0.338462       0.333333       0.317073   \n",
       "1       0.333333       0.333333       0.000000       0.000000            NaN   \n",
       "\n",
       "   FG_pct_5_make  FG_pct_5_miss  FG_pct_80_pct  \n",
       "0            0.0       0.307692       0.304348  \n",
       "1            NaN            NaN       0.000000  "
      ]
     },
     "execution_count": 232,
     "metadata": {},
     "output_type": "execute_result"
    }
   ],
   "source": [
    "p_stats.head(2)"
   ]
  },
  {
   "cell_type": "markdown",
   "metadata": {},
   "source": [
    "### Missed 4 of 5 previous"
   ]
  },
  {
   "cell_type": "code",
   "execution_count": 233,
   "metadata": {},
   "outputs": [],
   "source": [
    "hot_1 = df.loc[df.prev5_count==1]\n",
    "hot_1 = pd.DataFrame(hot_1.groupby(['player_name'])['FGM'].mean()).reset_index()\n",
    "hot_1 = hot_1.rename(columns={'FGM':'FG_pct_20_pct'})"
   ]
  },
  {
   "cell_type": "code",
   "execution_count": 234,
   "metadata": {},
   "outputs": [],
   "source": [
    "# add to p_stats df\n",
    "p_stats = p_stats.merge(hot_1, how='left', on='player_name')"
   ]
  },
  {
   "cell_type": "code",
   "execution_count": 235,
   "metadata": {},
   "outputs": [
    {
     "data": {
      "text/html": [
       "<div>\n",
       "<style scoped>\n",
       "    .dataframe tbody tr th:only-of-type {\n",
       "        vertical-align: middle;\n",
       "    }\n",
       "\n",
       "    .dataframe tbody tr th {\n",
       "        vertical-align: top;\n",
       "    }\n",
       "\n",
       "    .dataframe thead th {\n",
       "        text-align: right;\n",
       "    }\n",
       "</style>\n",
       "<table border=\"1\" class=\"dataframe\">\n",
       "  <thead>\n",
       "    <tr style=\"text-align: right;\">\n",
       "      <th></th>\n",
       "      <th>player_name</th>\n",
       "      <th>FG_pct</th>\n",
       "      <th>FG_pct_1_make</th>\n",
       "      <th>FG_pct_1_miss</th>\n",
       "      <th>FG_pct_2_make</th>\n",
       "      <th>FG_pct_2_miss</th>\n",
       "      <th>FG_pct_3_make</th>\n",
       "      <th>FG_pct_3_miss</th>\n",
       "      <th>FG_pct_4_make</th>\n",
       "      <th>FG_pct_4_miss</th>\n",
       "      <th>FG_pct_5_make</th>\n",
       "      <th>FG_pct_5_miss</th>\n",
       "      <th>FG_pct_80_pct</th>\n",
       "      <th>FG_pct_20_pct</th>\n",
       "    </tr>\n",
       "  </thead>\n",
       "  <tbody>\n",
       "    <tr>\n",
       "      <th>0</th>\n",
       "      <td>aaron brooks</td>\n",
       "      <td>0.420904</td>\n",
       "      <td>0.450000</td>\n",
       "      <td>0.392473</td>\n",
       "      <td>0.403509</td>\n",
       "      <td>0.310680</td>\n",
       "      <td>0.350000</td>\n",
       "      <td>0.338462</td>\n",
       "      <td>0.333333</td>\n",
       "      <td>0.317073</td>\n",
       "      <td>0.0</td>\n",
       "      <td>0.307692</td>\n",
       "      <td>0.304348</td>\n",
       "      <td>0.430233</td>\n",
       "    </tr>\n",
       "    <tr>\n",
       "      <th>1</th>\n",
       "      <td>al farouq aminu</td>\n",
       "      <td>0.500000</td>\n",
       "      <td>0.454545</td>\n",
       "      <td>0.555556</td>\n",
       "      <td>0.600000</td>\n",
       "      <td>0.333333</td>\n",
       "      <td>0.333333</td>\n",
       "      <td>0.000000</td>\n",
       "      <td>0.000000</td>\n",
       "      <td>NaN</td>\n",
       "      <td>NaN</td>\n",
       "      <td>NaN</td>\n",
       "      <td>0.000000</td>\n",
       "      <td>0.666667</td>\n",
       "    </tr>\n",
       "  </tbody>\n",
       "</table>\n",
       "</div>"
      ],
      "text/plain": [
       "       player_name    FG_pct  FG_pct_1_make  FG_pct_1_miss  FG_pct_2_make  \\\n",
       "0     aaron brooks  0.420904       0.450000       0.392473       0.403509   \n",
       "1  al farouq aminu  0.500000       0.454545       0.555556       0.600000   \n",
       "\n",
       "   FG_pct_2_miss  FG_pct_3_make  FG_pct_3_miss  FG_pct_4_make  FG_pct_4_miss  \\\n",
       "0       0.310680       0.350000       0.338462       0.333333       0.317073   \n",
       "1       0.333333       0.333333       0.000000       0.000000            NaN   \n",
       "\n",
       "   FG_pct_5_make  FG_pct_5_miss  FG_pct_80_pct  FG_pct_20_pct  \n",
       "0            0.0       0.307692       0.304348       0.430233  \n",
       "1            NaN            NaN       0.000000       0.666667  "
      ]
     },
     "execution_count": 235,
     "metadata": {},
     "output_type": "execute_result"
    }
   ],
   "source": [
    "p_stats.head(2)"
   ]
  },
  {
   "cell_type": "markdown",
   "metadata": {},
   "source": [
    "# Summary Stats"
   ]
  },
  {
   "cell_type": "code",
   "execution_count": 236,
   "metadata": {},
   "outputs": [
    {
     "data": {
      "text/html": [
       "<div>\n",
       "<style scoped>\n",
       "    .dataframe tbody tr th:only-of-type {\n",
       "        vertical-align: middle;\n",
       "    }\n",
       "\n",
       "    .dataframe tbody tr th {\n",
       "        vertical-align: top;\n",
       "    }\n",
       "\n",
       "    .dataframe thead th {\n",
       "        text-align: right;\n",
       "    }\n",
       "</style>\n",
       "<table border=\"1\" class=\"dataframe\">\n",
       "  <thead>\n",
       "    <tr style=\"text-align: right;\">\n",
       "      <th></th>\n",
       "      <th>FG_pct</th>\n",
       "      <th>FG_pct_1_make</th>\n",
       "      <th>FG_pct_1_miss</th>\n",
       "      <th>FG_pct_2_make</th>\n",
       "      <th>FG_pct_2_miss</th>\n",
       "      <th>FG_pct_3_make</th>\n",
       "      <th>FG_pct_3_miss</th>\n",
       "      <th>FG_pct_4_make</th>\n",
       "      <th>FG_pct_4_miss</th>\n",
       "      <th>FG_pct_5_make</th>\n",
       "      <th>FG_pct_5_miss</th>\n",
       "      <th>FG_pct_80_pct</th>\n",
       "      <th>FG_pct_20_pct</th>\n",
       "    </tr>\n",
       "  </thead>\n",
       "  <tbody>\n",
       "    <tr>\n",
       "      <th>count</th>\n",
       "      <td>265.000000</td>\n",
       "      <td>265.000000</td>\n",
       "      <td>265.000000</td>\n",
       "      <td>261.000000</td>\n",
       "      <td>263.000000</td>\n",
       "      <td>249.000000</td>\n",
       "      <td>252.000000</td>\n",
       "      <td>221.000000</td>\n",
       "      <td>224.000000</td>\n",
       "      <td>180.000000</td>\n",
       "      <td>195.000000</td>\n",
       "      <td>249.000000</td>\n",
       "      <td>265.000000</td>\n",
       "    </tr>\n",
       "    <tr>\n",
       "      <th>mean</th>\n",
       "      <td>0.470284</td>\n",
       "      <td>0.451124</td>\n",
       "      <td>0.486868</td>\n",
       "      <td>0.428287</td>\n",
       "      <td>0.508544</td>\n",
       "      <td>0.404352</td>\n",
       "      <td>0.530350</td>\n",
       "      <td>0.360870</td>\n",
       "      <td>0.504246</td>\n",
       "      <td>0.343285</td>\n",
       "      <td>0.515047</td>\n",
       "      <td>0.423965</td>\n",
       "      <td>0.504096</td>\n",
       "    </tr>\n",
       "    <tr>\n",
       "      <th>std</th>\n",
       "      <td>0.069348</td>\n",
       "      <td>0.100537</td>\n",
       "      <td>0.098687</td>\n",
       "      <td>0.141569</td>\n",
       "      <td>0.146259</td>\n",
       "      <td>0.192458</td>\n",
       "      <td>0.196799</td>\n",
       "      <td>0.227441</td>\n",
       "      <td>0.217662</td>\n",
       "      <td>0.260191</td>\n",
       "      <td>0.266116</td>\n",
       "      <td>0.194142</td>\n",
       "      <td>0.125185</td>\n",
       "    </tr>\n",
       "    <tr>\n",
       "      <th>min</th>\n",
       "      <td>0.300000</td>\n",
       "      <td>0.000000</td>\n",
       "      <td>0.166667</td>\n",
       "      <td>0.000000</td>\n",
       "      <td>0.142857</td>\n",
       "      <td>0.000000</td>\n",
       "      <td>0.000000</td>\n",
       "      <td>0.000000</td>\n",
       "      <td>0.000000</td>\n",
       "      <td>0.000000</td>\n",
       "      <td>0.000000</td>\n",
       "      <td>0.000000</td>\n",
       "      <td>0.142857</td>\n",
       "    </tr>\n",
       "    <tr>\n",
       "      <th>25%</th>\n",
       "      <td>0.423611</td>\n",
       "      <td>0.400000</td>\n",
       "      <td>0.428571</td>\n",
       "      <td>0.375000</td>\n",
       "      <td>0.421565</td>\n",
       "      <td>0.333333</td>\n",
       "      <td>0.417691</td>\n",
       "      <td>0.222222</td>\n",
       "      <td>0.387821</td>\n",
       "      <td>0.000000</td>\n",
       "      <td>0.373214</td>\n",
       "      <td>0.333333</td>\n",
       "      <td>0.437500</td>\n",
       "    </tr>\n",
       "    <tr>\n",
       "      <th>50%</th>\n",
       "      <td>0.462019</td>\n",
       "      <td>0.447368</td>\n",
       "      <td>0.468391</td>\n",
       "      <td>0.428571</td>\n",
       "      <td>0.486301</td>\n",
       "      <td>0.421053</td>\n",
       "      <td>0.500000</td>\n",
       "      <td>0.388889</td>\n",
       "      <td>0.500000</td>\n",
       "      <td>0.333333</td>\n",
       "      <td>0.500000</td>\n",
       "      <td>0.431818</td>\n",
       "      <td>0.482759</td>\n",
       "    </tr>\n",
       "    <tr>\n",
       "      <th>75%</th>\n",
       "      <td>0.500560</td>\n",
       "      <td>0.500000</td>\n",
       "      <td>0.530686</td>\n",
       "      <td>0.500000</td>\n",
       "      <td>0.557190</td>\n",
       "      <td>0.500000</td>\n",
       "      <td>0.591487</td>\n",
       "      <td>0.500000</td>\n",
       "      <td>0.583333</td>\n",
       "      <td>0.500000</td>\n",
       "      <td>0.666667</td>\n",
       "      <td>0.510638</td>\n",
       "      <td>0.538462</td>\n",
       "    </tr>\n",
       "    <tr>\n",
       "      <th>max</th>\n",
       "      <td>0.700000</td>\n",
       "      <td>0.833333</td>\n",
       "      <td>1.000000</td>\n",
       "      <td>1.000000</td>\n",
       "      <td>1.000000</td>\n",
       "      <td>1.000000</td>\n",
       "      <td>1.000000</td>\n",
       "      <td>1.000000</td>\n",
       "      <td>1.000000</td>\n",
       "      <td>1.000000</td>\n",
       "      <td>1.000000</td>\n",
       "      <td>1.000000</td>\n",
       "      <td>1.000000</td>\n",
       "    </tr>\n",
       "  </tbody>\n",
       "</table>\n",
       "</div>"
      ],
      "text/plain": [
       "           FG_pct  FG_pct_1_make  FG_pct_1_miss  FG_pct_2_make  FG_pct_2_miss  \\\n",
       "count  265.000000     265.000000     265.000000     261.000000     263.000000   \n",
       "mean     0.470284       0.451124       0.486868       0.428287       0.508544   \n",
       "std      0.069348       0.100537       0.098687       0.141569       0.146259   \n",
       "min      0.300000       0.000000       0.166667       0.000000       0.142857   \n",
       "25%      0.423611       0.400000       0.428571       0.375000       0.421565   \n",
       "50%      0.462019       0.447368       0.468391       0.428571       0.486301   \n",
       "75%      0.500560       0.500000       0.530686       0.500000       0.557190   \n",
       "max      0.700000       0.833333       1.000000       1.000000       1.000000   \n",
       "\n",
       "       FG_pct_3_make  FG_pct_3_miss  FG_pct_4_make  FG_pct_4_miss  \\\n",
       "count     249.000000     252.000000     221.000000     224.000000   \n",
       "mean        0.404352       0.530350       0.360870       0.504246   \n",
       "std         0.192458       0.196799       0.227441       0.217662   \n",
       "min         0.000000       0.000000       0.000000       0.000000   \n",
       "25%         0.333333       0.417691       0.222222       0.387821   \n",
       "50%         0.421053       0.500000       0.388889       0.500000   \n",
       "75%         0.500000       0.591487       0.500000       0.583333   \n",
       "max         1.000000       1.000000       1.000000       1.000000   \n",
       "\n",
       "       FG_pct_5_make  FG_pct_5_miss  FG_pct_80_pct  FG_pct_20_pct  \n",
       "count     180.000000     195.000000     249.000000     265.000000  \n",
       "mean        0.343285       0.515047       0.423965       0.504096  \n",
       "std         0.260191       0.266116       0.194142       0.125185  \n",
       "min         0.000000       0.000000       0.000000       0.142857  \n",
       "25%         0.000000       0.373214       0.333333       0.437500  \n",
       "50%         0.333333       0.500000       0.431818       0.482759  \n",
       "75%         0.500000       0.666667       0.510638       0.538462  \n",
       "max         1.000000       1.000000       1.000000       1.000000  "
      ]
     },
     "execution_count": 236,
     "metadata": {},
     "output_type": "execute_result"
    }
   ],
   "source": [
    "p_stats.describe()"
   ]
  },
  {
   "cell_type": "code",
   "execution_count": 183,
   "metadata": {},
   "outputs": [],
   "source": [
    "from scipy import stats"
   ]
  },
  {
   "cell_type": "code",
   "execution_count": 237,
   "metadata": {},
   "outputs": [
    {
     "data": {
      "text/plain": [
       "0      0.392473\n",
       "1      0.555556\n",
       "2      0.530686\n",
       "3      0.500000\n",
       "4      0.555556\n",
       "         ...   \n",
       "260    0.504644\n",
       "261    0.449438\n",
       "262    0.400000\n",
       "263    0.483221\n",
       "264    0.447761\n",
       "Name: FG_pct_1_miss, Length: 265, dtype: float64"
      ]
     },
     "execution_count": 237,
     "metadata": {},
     "output_type": "execute_result"
    }
   ],
   "source": [
    "p_stats.FG_pct_1_miss"
   ]
  },
  {
   "cell_type": "code",
   "execution_count": 238,
   "metadata": {},
   "outputs": [
    {
     "data": {
      "text/plain": [
       "Ttest_indResult(statistic=4.130319757211996, pvalue=4.210867135540211e-05)"
      ]
     },
     "execution_count": 238,
     "metadata": {},
     "output_type": "execute_result"
    }
   ],
   "source": [
    "stats.ttest_ind(p_stats.FG_pct_1_miss, p_stats.FG_pct_1_make)"
   ]
  },
  {
   "cell_type": "code",
   "execution_count": 241,
   "metadata": {},
   "outputs": [
    {
     "data": {
      "text/plain": [
       "Ttest_indResult(statistic=6.381549674551054, pvalue=3.871966995700222e-10)"
      ]
     },
     "execution_count": 241,
     "metadata": {},
     "output_type": "execute_result"
    }
   ],
   "source": [
    "stats.ttest_ind(p_stats.FG_pct_2_miss, p_stats.FG_pct_2_make, nan_policy='omit')"
   ]
  },
  {
   "cell_type": "code",
   "execution_count": 242,
   "metadata": {},
   "outputs": [
    {
     "data": {
      "text/plain": [
       "Ttest_indResult(statistic=7.2440874226294385, pvalue=1.661896827670226e-12)"
      ]
     },
     "execution_count": 242,
     "metadata": {},
     "output_type": "execute_result"
    }
   ],
   "source": [
    "stats.ttest_ind(p_stats.FG_pct_3_miss, p_stats.FG_pct_3_make, nan_policy='omit')"
   ]
  },
  {
   "cell_type": "code",
   "execution_count": 243,
   "metadata": {},
   "outputs": [
    {
     "data": {
      "text/plain": [
       "Ttest_indResult(statistic=6.794306516662065, pvalue=3.5212469774236385e-11)"
      ]
     },
     "execution_count": 243,
     "metadata": {},
     "output_type": "execute_result"
    }
   ],
   "source": [
    "stats.ttest_ind(p_stats.FG_pct_4_miss, p_stats.FG_pct_4_make, nan_policy='omit')"
   ]
  },
  {
   "cell_type": "code",
   "execution_count": 244,
   "metadata": {},
   "outputs": [
    {
     "data": {
      "text/plain": [
       "Ttest_indResult(statistic=6.311479455326923, pvalue=7.84752123418275e-10)"
      ]
     },
     "execution_count": 244,
     "metadata": {},
     "output_type": "execute_result"
    }
   ],
   "source": [
    "stats.ttest_ind(p_stats.FG_pct_5_miss, p_stats.FG_pct_5_make, nan_policy='omit')"
   ]
  },
  {
   "cell_type": "code",
   "execution_count": 245,
   "metadata": {},
   "outputs": [
    {
     "data": {
      "text/plain": [
       "Ttest_indResult(statistic=-5.594408209699447, pvalue=3.6096620244384676e-08)"
      ]
     },
     "execution_count": 245,
     "metadata": {},
     "output_type": "execute_result"
    }
   ],
   "source": [
    "stats.ttest_ind(p_stats.FG_pct_80_pct, p_stats.FG_pct_20_pct, nan_policy='omit')"
   ]
  },
  {
   "cell_type": "code",
   "execution_count": null,
   "metadata": {},
   "outputs": [],
   "source": []
  }
 ],
 "metadata": {
  "kernelspec": {
   "display_name": "Python 3",
   "language": "python",
   "name": "python3"
  },
  "language_info": {
   "codemirror_mode": {
    "name": "ipython",
    "version": 3
   },
   "file_extension": ".py",
   "mimetype": "text/x-python",
   "name": "python",
   "nbconvert_exporter": "python",
   "pygments_lexer": "ipython3",
   "version": "3.8.3"
  }
 },
 "nbformat": 4,
 "nbformat_minor": 4
}
