{
 "cells": [
  {
   "cell_type": "code",
   "execution_count": 1,
   "metadata": {},
   "outputs": [],
   "source": [
    "import pandas as pd\n",
    "import numpy as np"
   ]
  },
  {
   "cell_type": "code",
   "execution_count": 3,
   "metadata": {},
   "outputs": [],
   "source": [
    "dat_0 = pd.read_csv('world_university_rankings_2016_to_2021_updated.csv')"
   ]
  },
  {
   "cell_type": "code",
   "execution_count": 9,
   "metadata": {},
   "outputs": [],
   "source": [
    "# Rename columns\n",
    "dat_1 = dat_0.rename(columns={'Year':'year_number',\n",
    "                              'Rank':'rank_string',\n",
    "                              'University':'uni',\n",
    "                              'URL' :'url',\n",
    "                              'Country':'country',\n",
    "                              'Number of FTE Students':'FTEs',\n",
    "                              'Number of Students per staff':'stdnts_stf_ratio',\n",
    "                              'International Students':'intStdnts_ratio',\n",
    "                              'Female Male Ratio':'fml_ml_ratio',\n",
    "                              })"
   ]
  },
  {
   "cell_type": "code",
   "execution_count": 5,
   "metadata": {},
   "outputs": [
    {
     "data": {
      "text/html": [
       "<div>\n",
       "<style scoped>\n",
       "    .dataframe tbody tr th:only-of-type {\n",
       "        vertical-align: middle;\n",
       "    }\n",
       "\n",
       "    .dataframe tbody tr th {\n",
       "        vertical-align: top;\n",
       "    }\n",
       "\n",
       "    .dataframe thead th {\n",
       "        text-align: right;\n",
       "    }\n",
       "</style>\n",
       "<table border=\"1\" class=\"dataframe\">\n",
       "  <thead>\n",
       "    <tr style=\"text-align: right;\">\n",
       "      <th></th>\n",
       "      <th>rank_string</th>\n",
       "      <th>uni</th>\n",
       "      <th>url</th>\n",
       "      <th>country</th>\n",
       "      <th>FTEs</th>\n",
       "      <th>stdnts_stf_ratio</th>\n",
       "      <th>intStdnts_ratio</th>\n",
       "      <th>fml_ml_ratio</th>\n",
       "      <th>year_number</th>\n",
       "    </tr>\n",
       "  </thead>\n",
       "  <tbody>\n",
       "    <tr>\n",
       "      <th>0</th>\n",
       "      <td>1</td>\n",
       "      <td>University of Oxford</td>\n",
       "      <td>https://www.timeshighereducation.com/world-uni...</td>\n",
       "      <td>United Kingdom</td>\n",
       "      <td>20774</td>\n",
       "      <td>11.1</td>\n",
       "      <td>0.41</td>\n",
       "      <td>46 : 54</td>\n",
       "      <td>2021</td>\n",
       "    </tr>\n",
       "    <tr>\n",
       "      <th>1</th>\n",
       "      <td>2</td>\n",
       "      <td>Stanford University</td>\n",
       "      <td>https://www.timeshighereducation.com/world-uni...</td>\n",
       "      <td>United States</td>\n",
       "      <td>16223</td>\n",
       "      <td>7.4</td>\n",
       "      <td>0.23</td>\n",
       "      <td>44 : 56</td>\n",
       "      <td>2021</td>\n",
       "    </tr>\n",
       "    <tr>\n",
       "      <th>2</th>\n",
       "      <td>3</td>\n",
       "      <td>Harvard University</td>\n",
       "      <td>https://www.timeshighereducation.com/world-uni...</td>\n",
       "      <td>United States</td>\n",
       "      <td>21261</td>\n",
       "      <td>9.3</td>\n",
       "      <td>0.25</td>\n",
       "      <td>49 : 51</td>\n",
       "      <td>2021</td>\n",
       "    </tr>\n",
       "    <tr>\n",
       "      <th>3</th>\n",
       "      <td>4</td>\n",
       "      <td>California Institute of Technology</td>\n",
       "      <td>https://www.timeshighereducation.com/world-uni...</td>\n",
       "      <td>United States</td>\n",
       "      <td>2238</td>\n",
       "      <td>6.3</td>\n",
       "      <td>0.33</td>\n",
       "      <td>36 : 64</td>\n",
       "      <td>2021</td>\n",
       "    </tr>\n",
       "    <tr>\n",
       "      <th>4</th>\n",
       "      <td>5</td>\n",
       "      <td>Massachusetts Institute of Technology</td>\n",
       "      <td>https://www.timeshighereducation.com/world-uni...</td>\n",
       "      <td>United States</td>\n",
       "      <td>11276</td>\n",
       "      <td>8.4</td>\n",
       "      <td>0.34</td>\n",
       "      <td>39 : 61</td>\n",
       "      <td>2021</td>\n",
       "    </tr>\n",
       "  </tbody>\n",
       "</table>\n",
       "</div>"
      ],
      "text/plain": [
       "  rank_string                                    uni  \\\n",
       "0           1                   University of Oxford   \n",
       "1           2                    Stanford University   \n",
       "2           3                     Harvard University   \n",
       "3           4     California Institute of Technology   \n",
       "4           5  Massachusetts Institute of Technology   \n",
       "\n",
       "                                                 url         country   FTEs  \\\n",
       "0  https://www.timeshighereducation.com/world-uni...  United Kingdom  20774   \n",
       "1  https://www.timeshighereducation.com/world-uni...   United States  16223   \n",
       "2  https://www.timeshighereducation.com/world-uni...   United States  21261   \n",
       "3  https://www.timeshighereducation.com/world-uni...   United States   2238   \n",
       "4  https://www.timeshighereducation.com/world-uni...   United States  11276   \n",
       "\n",
       "   stdnts_stf_ratio intStdnts_ratio fml_ml_ratio  year_number  \n",
       "0              11.1            0.41      46 : 54         2021  \n",
       "1               7.4            0.23      44 : 56         2021  \n",
       "2               9.3            0.25      49 : 51         2021  \n",
       "3               6.3            0.33      36 : 64         2021  \n",
       "4               8.4            0.34      39 : 61         2021  "
      ]
     },
     "execution_count": 5,
     "metadata": {},
     "output_type": "execute_result"
    }
   ],
   "source": [
    "dat_1.head()"
   ]
  },
  {
   "cell_type": "code",
   "execution_count": 10,
   "metadata": {},
   "outputs": [
    {
     "data": {
      "text/plain": [
       "0       0.41\n",
       "1       0.23\n",
       "2       0.25\n",
       "3       0.33\n",
       "4       0.34\n",
       "        ... \n",
       "7060    0.03\n",
       "7061    0.02\n",
       "7062    0.03\n",
       "7063    0.07\n",
       "7064    0.04\n",
       "Name: intStdnts_ratio, Length: 7065, dtype: object"
      ]
     },
     "execution_count": 10,
     "metadata": {},
     "output_type": "execute_result"
    }
   ],
   "source": [
    "dat_1.intStdnts_ratio"
   ]
  },
  {
   "cell_type": "code",
   "execution_count": 11,
   "metadata": {},
   "outputs": [
    {
     "data": {
      "text/plain": [
       "str"
      ]
     },
     "execution_count": 11,
     "metadata": {},
     "output_type": "execute_result"
    }
   ],
   "source": [
    "type(dat_1.intStdnts_ratio[0])"
   ]
  },
  {
   "cell_type": "code",
   "execution_count": 15,
   "metadata": {},
   "outputs": [
    {
     "ename": "AttributeError",
     "evalue": "'float' object has no attribute 'split'",
     "output_type": "error",
     "traceback": [
      "\u001b[0;31m---------------------------------------------------------------------------\u001b[0m",
      "\u001b[0;31mAttributeError\u001b[0m                            Traceback (most recent call last)",
      "\u001b[0;32m<ipython-input-15-f58646a2d09b>\u001b[0m in \u001b[0;36m<module>\u001b[0;34m\u001b[0m\n\u001b[0;32m----> 1\u001b[0;31m \u001b[0mdat_1\u001b[0m\u001b[0;34m.\u001b[0m\u001b[0mfml_ml_ratio\u001b[0m\u001b[0;34m.\u001b[0m\u001b[0mapply\u001b[0m\u001b[0;34m(\u001b[0m\u001b[0;32mlambda\u001b[0m \u001b[0mx\u001b[0m\u001b[0;34m:\u001b[0m \u001b[0mx\u001b[0m\u001b[0;34m.\u001b[0m\u001b[0msplit\u001b[0m\u001b[0;34m(\u001b[0m\u001b[0;34m' '\u001b[0m\u001b[0;34m)\u001b[0m\u001b[0;34m[\u001b[0m\u001b[0;36m0\u001b[0m\u001b[0;34m]\u001b[0m\u001b[0;34m)\u001b[0m\u001b[0;34m\u001b[0m\u001b[0;34m\u001b[0m\u001b[0m\n\u001b[0m",
      "\u001b[0;32m~/opt/miniconda3/envs/thesis_env/lib/python3.8/site-packages/pandas/core/series.py\u001b[0m in \u001b[0;36mapply\u001b[0;34m(self, func, convert_dtype, args, **kwds)\u001b[0m\n\u001b[1;32m   3846\u001b[0m             \u001b[0;32melse\u001b[0m\u001b[0;34m:\u001b[0m\u001b[0;34m\u001b[0m\u001b[0;34m\u001b[0m\u001b[0m\n\u001b[1;32m   3847\u001b[0m                 \u001b[0mvalues\u001b[0m \u001b[0;34m=\u001b[0m \u001b[0mself\u001b[0m\u001b[0;34m.\u001b[0m\u001b[0mastype\u001b[0m\u001b[0;34m(\u001b[0m\u001b[0mobject\u001b[0m\u001b[0;34m)\u001b[0m\u001b[0;34m.\u001b[0m\u001b[0mvalues\u001b[0m\u001b[0;34m\u001b[0m\u001b[0;34m\u001b[0m\u001b[0m\n\u001b[0;32m-> 3848\u001b[0;31m                 \u001b[0mmapped\u001b[0m \u001b[0;34m=\u001b[0m \u001b[0mlib\u001b[0m\u001b[0;34m.\u001b[0m\u001b[0mmap_infer\u001b[0m\u001b[0;34m(\u001b[0m\u001b[0mvalues\u001b[0m\u001b[0;34m,\u001b[0m \u001b[0mf\u001b[0m\u001b[0;34m,\u001b[0m \u001b[0mconvert\u001b[0m\u001b[0;34m=\u001b[0m\u001b[0mconvert_dtype\u001b[0m\u001b[0;34m)\u001b[0m\u001b[0;34m\u001b[0m\u001b[0;34m\u001b[0m\u001b[0m\n\u001b[0m\u001b[1;32m   3849\u001b[0m \u001b[0;34m\u001b[0m\u001b[0m\n\u001b[1;32m   3850\u001b[0m         \u001b[0;32mif\u001b[0m \u001b[0mlen\u001b[0m\u001b[0;34m(\u001b[0m\u001b[0mmapped\u001b[0m\u001b[0;34m)\u001b[0m \u001b[0;32mand\u001b[0m \u001b[0misinstance\u001b[0m\u001b[0;34m(\u001b[0m\u001b[0mmapped\u001b[0m\u001b[0;34m[\u001b[0m\u001b[0;36m0\u001b[0m\u001b[0;34m]\u001b[0m\u001b[0;34m,\u001b[0m \u001b[0mSeries\u001b[0m\u001b[0;34m)\u001b[0m\u001b[0;34m:\u001b[0m\u001b[0;34m\u001b[0m\u001b[0;34m\u001b[0m\u001b[0m\n",
      "\u001b[0;32mpandas/_libs/lib.pyx\u001b[0m in \u001b[0;36mpandas._libs.lib.map_infer\u001b[0;34m()\u001b[0m\n",
      "\u001b[0;32m<ipython-input-15-f58646a2d09b>\u001b[0m in \u001b[0;36m<lambda>\u001b[0;34m(x)\u001b[0m\n\u001b[0;32m----> 1\u001b[0;31m \u001b[0mdat_1\u001b[0m\u001b[0;34m.\u001b[0m\u001b[0mfml_ml_ratio\u001b[0m\u001b[0;34m.\u001b[0m\u001b[0mapply\u001b[0m\u001b[0;34m(\u001b[0m\u001b[0;32mlambda\u001b[0m \u001b[0mx\u001b[0m\u001b[0;34m:\u001b[0m \u001b[0mx\u001b[0m\u001b[0;34m.\u001b[0m\u001b[0msplit\u001b[0m\u001b[0;34m(\u001b[0m\u001b[0;34m' '\u001b[0m\u001b[0;34m)\u001b[0m\u001b[0;34m[\u001b[0m\u001b[0;36m0\u001b[0m\u001b[0;34m]\u001b[0m\u001b[0;34m)\u001b[0m\u001b[0;34m\u001b[0m\u001b[0;34m\u001b[0m\u001b[0m\n\u001b[0m",
      "\u001b[0;31mAttributeError\u001b[0m: 'float' object has no attribute 'split'"
     ]
    }
   ],
   "source": [
    "dat_1.fml_ml_ratio.apply(lambda x: x.split(' ')[0])"
   ]
  },
  {
   "cell_type": "code",
   "execution_count": null,
   "metadata": {},
   "outputs": [],
   "source": []
  }
 ],
 "metadata": {
  "kernelspec": {
   "display_name": "Python 3",
   "language": "python",
   "name": "python3"
  },
  "language_info": {
   "codemirror_mode": {
    "name": "ipython",
    "version": 3
   },
   "file_extension": ".py",
   "mimetype": "text/x-python",
   "name": "python",
   "nbconvert_exporter": "python",
   "pygments_lexer": "ipython3",
   "version": "3.8.3"
  }
 },
 "nbformat": 4,
 "nbformat_minor": 4
}
