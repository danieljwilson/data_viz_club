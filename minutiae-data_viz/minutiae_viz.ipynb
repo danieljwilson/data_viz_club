{
 "cells": [
  {
   "cell_type": "markdown",
   "metadata": {},
   "source": [
    "# Imports"
   ]
  },
  {
   "cell_type": "code",
   "execution_count": 65,
   "metadata": {},
   "outputs": [],
   "source": [
    "import pandas as pd\n",
    "import numpy as np"
   ]
  },
  {
   "cell_type": "code",
   "execution_count": 66,
   "metadata": {},
   "outputs": [],
   "source": [
    "from tqdm import tqdm\n",
    "import requests\n",
    "import json\n",
    "import math"
   ]
  },
  {
   "cell_type": "code",
   "execution_count": 67,
   "metadata": {},
   "outputs": [],
   "source": [
    "import matplotlib.pyplot as plt\n",
    "import seaborn as sns \n",
    "\n",
    "import descartes\n",
    "import geopandas as gpd\n",
    "from shapely.geometry import Point, Polygon"
   ]
  },
  {
   "cell_type": "code",
   "execution_count": 68,
   "metadata": {},
   "outputs": [],
   "source": [
    "# Set options\n",
    "pd.set_option('precision', 2)\n",
    "%matplotlib inline"
   ]
  },
  {
   "cell_type": "markdown",
   "metadata": {},
   "source": [
    "---\n",
    "**Account created** Jan 20, 2017\n",
    "\n",
    "**User UID** jXtvmUtPb4aRNmVJ9ZcsO0eD8dA3\n",
    "\n",
    "**First corrected moment** Feb 19, 2017\n",
    "\n",
    "**Full res pics** [Link](https://console.firebase.google.com/u/0/project/minutiae-production/storage/minutiae-production.appspot.com/files~2Fproduction~2Fmoments~2FjXtvmUtPb4aRNmVJ9ZcsO0eD8dA3~2Fphotos)\n",
    "\n",
    "**Openweathermap.org API Key** 3d4fe593c4ccd0579a1d6ce5193f64ce\n",
    "\n",
    "\n",
    "---"
   ]
  },
  {
   "cell_type": "markdown",
   "metadata": {},
   "source": [
    "# Data Munging"
   ]
  },
  {
   "cell_type": "markdown",
   "metadata": {},
   "source": [
    "## Clean & Aggregate Data"
   ]
  },
  {
   "cell_type": "code",
   "execution_count": 63,
   "metadata": {},
   "outputs": [],
   "source": [
    "# my moment location info\n",
    "djw_moments = pd.read_json('data/minutiae-production-jXtvmUtPb4aRNmVJ9ZcsO0eD8dA3-export.json', orient='index').reset_index()\n",
    "\n",
    "# moment timing list (wrong version)\n",
    "moment_list = pd.read_csv('data/newTiming_Sept11.csv')"
   ]
  },
  {
   "cell_type": "code",
   "execution_count": 64,
   "metadata": {},
   "outputs": [],
   "source": [
    "# timing doc from ustwo\n",
    "timing = pd.read_json('/Users/djw/Downloads/moments.json', lines=True).rename_axis('moment').reset_index()"
   ]
  },
  {
   "cell_type": "code",
   "execution_count": 65,
   "metadata": {},
   "outputs": [
    {
     "data": {
      "text/html": [
       "<div>\n",
       "<style scoped>\n",
       "    .dataframe tbody tr th:only-of-type {\n",
       "        vertical-align: middle;\n",
       "    }\n",
       "\n",
       "    .dataframe tbody tr th {\n",
       "        vertical-align: top;\n",
       "    }\n",
       "\n",
       "    .dataframe thead th {\n",
       "        text-align: right;\n",
       "    }\n",
       "</style>\n",
       "<table border=\"1\" class=\"dataframe\">\n",
       "  <thead>\n",
       "    <tr style=\"text-align: right;\">\n",
       "      <th></th>\n",
       "      <th>moment</th>\n",
       "      <th>date</th>\n",
       "      <th>hour</th>\n",
       "      <th>minute</th>\n",
       "    </tr>\n",
       "  </thead>\n",
       "  <tbody>\n",
       "    <tr>\n",
       "      <th>0</th>\n",
       "      <td>0</td>\n",
       "      <td>2016-10-26 00:00:00+00:00</td>\n",
       "      <td>16</td>\n",
       "      <td>35</td>\n",
       "    </tr>\n",
       "    <tr>\n",
       "      <th>1</th>\n",
       "      <td>1</td>\n",
       "      <td>2016-10-27 00:00:00+00:00</td>\n",
       "      <td>4</td>\n",
       "      <td>25</td>\n",
       "    </tr>\n",
       "  </tbody>\n",
       "</table>\n",
       "</div>"
      ],
      "text/plain": [
       "   moment                      date  hour  minute\n",
       "0       0 2016-10-26 00:00:00+00:00    16      35\n",
       "1       1 2016-10-27 00:00:00+00:00     4      25"
      ]
     },
     "execution_count": 65,
     "metadata": {},
     "output_type": "execute_result"
    }
   ],
   "source": [
    "timing.head(2)"
   ]
  },
  {
   "cell_type": "code",
   "execution_count": 66,
   "metadata": {},
   "outputs": [
    {
     "data": {
      "text/html": [
       "<div>\n",
       "<style scoped>\n",
       "    .dataframe tbody tr th:only-of-type {\n",
       "        vertical-align: middle;\n",
       "    }\n",
       "\n",
       "    .dataframe tbody tr th {\n",
       "        vertical-align: top;\n",
       "    }\n",
       "\n",
       "    .dataframe thead th {\n",
       "        text-align: right;\n",
       "    }\n",
       "</style>\n",
       "<table border=\"1\" class=\"dataframe\">\n",
       "  <thead>\n",
       "    <tr style=\"text-align: right;\">\n",
       "      <th></th>\n",
       "      <th>index</th>\n",
       "      <th>displayUrl</th>\n",
       "      <th>location</th>\n",
       "      <th>thumbnailUrl</th>\n",
       "    </tr>\n",
       "  </thead>\n",
       "  <tbody>\n",
       "    <tr>\n",
       "      <th>0</th>\n",
       "      <td>moment_100</td>\n",
       "      <td>https://firebasestorage.googleapis.com/v0/b/mi...</td>\n",
       "      <td>Toronto, Canada</td>\n",
       "      <td>https://firebasestorage.googleapis.com/v0/b/mi...</td>\n",
       "    </tr>\n",
       "    <tr>\n",
       "      <th>1</th>\n",
       "      <td>moment_1001</td>\n",
       "      <td>https://firebasestorage.googleapis.com/v0/b/mi...</td>\n",
       "      <td>NaN</td>\n",
       "      <td>https://firebasestorage.googleapis.com/v0/b/mi...</td>\n",
       "    </tr>\n",
       "  </tbody>\n",
       "</table>\n",
       "</div>"
      ],
      "text/plain": [
       "         index                                         displayUrl  \\\n",
       "0   moment_100  https://firebasestorage.googleapis.com/v0/b/mi...   \n",
       "1  moment_1001  https://firebasestorage.googleapis.com/v0/b/mi...   \n",
       "\n",
       "          location                                       thumbnailUrl  \n",
       "0  Toronto, Canada  https://firebasestorage.googleapis.com/v0/b/mi...  \n",
       "1              NaN  https://firebasestorage.googleapis.com/v0/b/mi...  "
      ]
     },
     "execution_count": 66,
     "metadata": {},
     "output_type": "execute_result"
    }
   ],
   "source": [
    "djw_moments.head(2)"
   ]
  },
  {
   "cell_type": "code",
   "execution_count": 67,
   "metadata": {},
   "outputs": [],
   "source": [
    "# remove unneeded part of string\n",
    "djw_moments['moment'] = djw_moments['index'].map(lambda x: x.lstrip('moment_'))"
   ]
  },
  {
   "cell_type": "code",
   "execution_count": 76,
   "metadata": {},
   "outputs": [],
   "source": [
    "# get rid of unneccesary columns\n",
    "djw_moments.drop(['thumbnailUrl', 'index'], axis=1, inplace=True)"
   ]
  },
  {
   "cell_type": "code",
   "execution_count": 78,
   "metadata": {},
   "outputs": [
    {
     "data": {
      "text/html": [
       "<div>\n",
       "<style scoped>\n",
       "    .dataframe tbody tr th:only-of-type {\n",
       "        vertical-align: middle;\n",
       "    }\n",
       "\n",
       "    .dataframe tbody tr th {\n",
       "        vertical-align: top;\n",
       "    }\n",
       "\n",
       "    .dataframe thead th {\n",
       "        text-align: right;\n",
       "    }\n",
       "</style>\n",
       "<table border=\"1\" class=\"dataframe\">\n",
       "  <thead>\n",
       "    <tr style=\"text-align: right;\">\n",
       "      <th></th>\n",
       "      <th>displayUrl</th>\n",
       "      <th>location</th>\n",
       "      <th>moment</th>\n",
       "    </tr>\n",
       "  </thead>\n",
       "  <tbody>\n",
       "    <tr>\n",
       "      <th>721</th>\n",
       "      <td>https://firebasestorage.googleapis.com/v0/b/mi...</td>\n",
       "      <td>Toronto, Canada</td>\n",
       "      <td>86</td>\n",
       "    </tr>\n",
       "    <tr>\n",
       "      <th>730</th>\n",
       "      <td>https://firebasestorage.googleapis.com/v0/b/mi...</td>\n",
       "      <td>NaN</td>\n",
       "      <td>87</td>\n",
       "    </tr>\n",
       "  </tbody>\n",
       "</table>\n",
       "</div>"
      ],
      "text/plain": [
       "                                            displayUrl         location  \\\n",
       "721  https://firebasestorage.googleapis.com/v0/b/mi...  Toronto, Canada   \n",
       "730  https://firebasestorage.googleapis.com/v0/b/mi...              NaN   \n",
       "\n",
       "     moment  \n",
       "721      86  \n",
       "730      87  "
      ]
     },
     "execution_count": 78,
     "metadata": {},
     "output_type": "execute_result"
    }
   ],
   "source": [
    "# convert data type\n",
    "djw_moments = djw_moments.astype({'moment': 'int16'})\n",
    "# sort values\n",
    "djw_moments.sort_values(by=['moment'], inplace=True)\n",
    "djw_moments.head(2)"
   ]
  },
  {
   "cell_type": "code",
   "execution_count": 66,
   "metadata": {},
   "outputs": [
    {
     "data": {
      "text/plain": [
       "1437"
      ]
     },
     "execution_count": 66,
     "metadata": {},
     "output_type": "execute_result"
    }
   ],
   "source": [
    "# did I have misses either at end or beginning\n",
    "djw_moments.moment.max() - djw_moments.moment.min()"
   ]
  },
  {
   "cell_type": "code",
   "execution_count": 80,
   "metadata": {},
   "outputs": [
    {
     "data": {
      "text/html": [
       "<div>\n",
       "<style scoped>\n",
       "    .dataframe tbody tr th:only-of-type {\n",
       "        vertical-align: middle;\n",
       "    }\n",
       "\n",
       "    .dataframe tbody tr th {\n",
       "        vertical-align: top;\n",
       "    }\n",
       "\n",
       "    .dataframe thead th {\n",
       "        text-align: right;\n",
       "    }\n",
       "</style>\n",
       "<table border=\"1\" class=\"dataframe\">\n",
       "  <thead>\n",
       "    <tr style=\"text-align: right;\">\n",
       "      <th></th>\n",
       "      <th>displayUrl</th>\n",
       "      <th>location</th>\n",
       "      <th>moment</th>\n",
       "      <th>date</th>\n",
       "      <th>hour</th>\n",
       "      <th>minute</th>\n",
       "    </tr>\n",
       "  </thead>\n",
       "  <tbody>\n",
       "    <tr>\n",
       "      <th>0</th>\n",
       "      <td>https://firebasestorage.googleapis.com/v0/b/mi...</td>\n",
       "      <td>Toronto, Canada</td>\n",
       "      <td>86</td>\n",
       "      <td>2017-01-20 00:00:00+00:00</td>\n",
       "      <td>2</td>\n",
       "      <td>18</td>\n",
       "    </tr>\n",
       "    <tr>\n",
       "      <th>1</th>\n",
       "      <td>https://firebasestorage.googleapis.com/v0/b/mi...</td>\n",
       "      <td>NaN</td>\n",
       "      <td>87</td>\n",
       "      <td>2017-01-21 00:00:00+00:00</td>\n",
       "      <td>17</td>\n",
       "      <td>55</td>\n",
       "    </tr>\n",
       "  </tbody>\n",
       "</table>\n",
       "</div>"
      ],
      "text/plain": [
       "                                          displayUrl         location  moment  \\\n",
       "0  https://firebasestorage.googleapis.com/v0/b/mi...  Toronto, Canada      86   \n",
       "1  https://firebasestorage.googleapis.com/v0/b/mi...              NaN      87   \n",
       "\n",
       "                       date  hour  minute  \n",
       "0 2017-01-20 00:00:00+00:00     2      18  \n",
       "1 2017-01-21 00:00:00+00:00    17      55  "
      ]
     },
     "execution_count": 80,
     "metadata": {},
     "output_type": "execute_result"
    }
   ],
   "source": [
    "# add moment info to my locations\n",
    "djw_moments = djw_moments.merge(timing, how='left', on='moment')\n",
    "djw_moments.head(2)"
   ]
  },
  {
   "cell_type": "code",
   "execution_count": 81,
   "metadata": {},
   "outputs": [
    {
     "data": {
      "text/html": [
       "<div>\n",
       "<style scoped>\n",
       "    .dataframe tbody tr th:only-of-type {\n",
       "        vertical-align: middle;\n",
       "    }\n",
       "\n",
       "    .dataframe tbody tr th {\n",
       "        vertical-align: top;\n",
       "    }\n",
       "\n",
       "    .dataframe thead th {\n",
       "        text-align: right;\n",
       "    }\n",
       "</style>\n",
       "<table border=\"1\" class=\"dataframe\">\n",
       "  <thead>\n",
       "    <tr style=\"text-align: right;\">\n",
       "      <th></th>\n",
       "      <th>displayUrl</th>\n",
       "      <th>location</th>\n",
       "      <th>moment</th>\n",
       "      <th>date</th>\n",
       "      <th>hour</th>\n",
       "      <th>minute</th>\n",
       "    </tr>\n",
       "  </thead>\n",
       "  <tbody>\n",
       "    <tr>\n",
       "      <th>0</th>\n",
       "      <td>https://firebasestorage.googleapis.com/v0/b/mi...</td>\n",
       "      <td>Toronto, Canada</td>\n",
       "      <td>86</td>\n",
       "      <td>2017-01-20 00:00:00+00:00</td>\n",
       "      <td>2</td>\n",
       "      <td>18</td>\n",
       "    </tr>\n",
       "    <tr>\n",
       "      <th>1</th>\n",
       "      <td>https://firebasestorage.googleapis.com/v0/b/mi...</td>\n",
       "      <td>NaN</td>\n",
       "      <td>87</td>\n",
       "      <td>2017-01-21 00:00:00+00:00</td>\n",
       "      <td>17</td>\n",
       "      <td>55</td>\n",
       "    </tr>\n",
       "  </tbody>\n",
       "</table>\n",
       "</div>"
      ],
      "text/plain": [
       "                                          displayUrl         location  moment  \\\n",
       "0  https://firebasestorage.googleapis.com/v0/b/mi...  Toronto, Canada      86   \n",
       "1  https://firebasestorage.googleapis.com/v0/b/mi...              NaN      87   \n",
       "\n",
       "                       date  hour  minute  \n",
       "0 2017-01-20 00:00:00+00:00     2      18  \n",
       "1 2017-01-21 00:00:00+00:00    17      55  "
      ]
     },
     "execution_count": 81,
     "metadata": {},
     "output_type": "execute_result"
    }
   ],
   "source": [
    "# get rid of NaNs\n",
    "djw_moments = djw_moments.dropna(axis=0, subset=['date'])\n",
    "djw_moments.head(2)"
   ]
  },
  {
   "cell_type": "markdown",
   "metadata": {},
   "source": [
    "## Add Lat/Long"
   ]
  },
  {
   "cell_type": "markdown",
   "metadata": {},
   "source": [
    "[Mapquest](https://developer.mapquest.com/)\n",
    "- [Geocoding API](https://developer.mapquest.com/documentation/geocoding-api/)"
   ]
  },
  {
   "cell_type": "code",
   "execution_count": 74,
   "metadata": {},
   "outputs": [],
   "source": [
    "import requests\n",
    "import json"
   ]
  },
  {
   "cell_type": "code",
   "execution_count": 88,
   "metadata": {},
   "outputs": [
    {
     "data": {
      "text/plain": [
       "Toronto, Canada                   397\n",
       "Nice, France                       88\n",
       "Paris, France                      35\n",
       "Los Angeles, United States         21\n",
       "Montréal, Canada                   21\n",
       "Philadelphia, United States        20\n",
       "Villemus, France                   15\n",
       "Burlington, Canada                  8\n",
       "New York, United States             7\n",
       "                                    5\n",
       "Boston, United States               4\n",
       "Goleta, United States               4\n",
       "Couches, France                     4\n",
       "Santa Monica, United States         4\n",
       "Champagny-en-Vanoise, France        3\n",
       "Philipstown, United States          2\n",
       "Mississauga, Canada                 2\n",
       "Saint-Laurent-du-Var, France        1\n",
       "L'Escarène, France                  1\n",
       "Èze, France                         1\n",
       "East Bloomfield, United States      1\n",
       "Dingy-Saint-Clair, France           1\n",
       "Newark, United States               1\n",
       "Tobyhanna, United States            1\n",
       "Bluffton, United States             1\n",
       "Halifax, Canada                     1\n",
       "Vence, France                       1\n",
       "Banon, France                       1\n",
       "Joshua Tree, United States          1\n",
       "Lexington, United States            1\n",
       "Mendon, United States               1\n",
       "Aix-les-Bains, France               1\n",
       "Saint-Étienne, France               1\n",
       "North Frontenac, Canada             1\n",
       "Cassis, France                      1\n",
       "Vienne, France                      1\n",
       "Coxsackie, United States            1\n",
       "Waitsfield, United States           1\n",
       "Cannes, France                      1\n",
       "Prescott Valley, United States      1\n",
       "Saint-Chamond, France               1\n",
       "Bergen, United States               1\n",
       "Mifflin, United States              1\n",
       "Lyndhurst, United States            1\n",
       "Fort Erie, Canada                   1\n",
       "Carcassonne, France                 1\n",
       "Name: location, dtype: int64"
      ]
     },
     "execution_count": 88,
     "metadata": {},
     "output_type": "execute_result"
    }
   ],
   "source": [
    "djw_moments.location.value_counts()"
   ]
  },
  {
   "cell_type": "code",
   "execution_count": 89,
   "metadata": {},
   "outputs": [
    {
     "data": {
      "text/html": [
       "<div>\n",
       "<style scoped>\n",
       "    .dataframe tbody tr th:only-of-type {\n",
       "        vertical-align: middle;\n",
       "    }\n",
       "\n",
       "    .dataframe tbody tr th {\n",
       "        vertical-align: top;\n",
       "    }\n",
       "\n",
       "    .dataframe thead th {\n",
       "        text-align: right;\n",
       "    }\n",
       "</style>\n",
       "<table border=\"1\" class=\"dataframe\">\n",
       "  <thead>\n",
       "    <tr style=\"text-align: right;\">\n",
       "      <th></th>\n",
       "      <th>displayUrl</th>\n",
       "      <th>location</th>\n",
       "      <th>moment</th>\n",
       "      <th>date</th>\n",
       "      <th>hour</th>\n",
       "      <th>minute</th>\n",
       "    </tr>\n",
       "  </thead>\n",
       "  <tbody>\n",
       "    <tr>\n",
       "      <th>0</th>\n",
       "      <td>https://firebasestorage.googleapis.com/v0/b/mi...</td>\n",
       "      <td>Toronto, Canada</td>\n",
       "      <td>86</td>\n",
       "      <td>2017-01-20 00:00:00+00:00</td>\n",
       "      <td>2</td>\n",
       "      <td>18</td>\n",
       "    </tr>\n",
       "    <tr>\n",
       "      <th>1</th>\n",
       "      <td>https://firebasestorage.googleapis.com/v0/b/mi...</td>\n",
       "      <td>NaN</td>\n",
       "      <td>87</td>\n",
       "      <td>2017-01-21 00:00:00+00:00</td>\n",
       "      <td>17</td>\n",
       "      <td>55</td>\n",
       "    </tr>\n",
       "  </tbody>\n",
       "</table>\n",
       "</div>"
      ],
      "text/plain": [
       "                                          displayUrl         location  moment  \\\n",
       "0  https://firebasestorage.googleapis.com/v0/b/mi...  Toronto, Canada      86   \n",
       "1  https://firebasestorage.googleapis.com/v0/b/mi...              NaN      87   \n",
       "\n",
       "                       date  hour  minute  \n",
       "0 2017-01-20 00:00:00+00:00     2      18  \n",
       "1 2017-01-21 00:00:00+00:00    17      55  "
      ]
     },
     "execution_count": 89,
     "metadata": {},
     "output_type": "execute_result"
    }
   ],
   "source": [
    "# API Call\n",
    "djw_moments.head(2)"
   ]
  },
  {
   "cell_type": "code",
   "execution_count": 21,
   "metadata": {},
   "outputs": [
    {
     "data": {
      "text/plain": [
       "{'info': {'statuscode': 0,\n",
       "  'copyright': {'text': '© 2021 MapQuest, Inc.',\n",
       "   'imageUrl': 'http://api.mqcdn.com/res/mqlogo.gif',\n",
       "   'imageAltText': '© 2021 MapQuest, Inc.'},\n",
       "  'messages': []},\n",
       " 'options': {'maxResults': -1, 'thumbMaps': True, 'ignoreLatLngInput': False},\n",
       " 'results': [{'providedLocation': {'location': 'Toronto, Canada'},\n",
       "   'locations': [{'street': '',\n",
       "     'adminArea6': '',\n",
       "     'adminArea6Type': 'Neighborhood',\n",
       "     'adminArea5': 'Toronto',\n",
       "     'adminArea5Type': 'City',\n",
       "     'adminArea4': '',\n",
       "     'adminArea4Type': 'County',\n",
       "     'adminArea3': 'ON',\n",
       "     'adminArea3Type': 'State',\n",
       "     'adminArea1': 'CA',\n",
       "     'adminArea1Type': 'Country',\n",
       "     'postalCode': '',\n",
       "     'geocodeQualityCode': 'A5XAX',\n",
       "     'geocodeQuality': 'CITY',\n",
       "     'dragPoint': False,\n",
       "     'sideOfStreet': 'N',\n",
       "     'linkId': '282178726',\n",
       "     'unknownInput': '',\n",
       "     'type': 's',\n",
       "     'latLng': {'lat': 43.651893, 'lng': -79.381713},\n",
       "     'displayLatLng': {'lat': 43.651893, 'lng': -79.381713},\n",
       "     'mapUrl': 'http://www.mapquestapi.com/staticmap/v5/map?key=Gx79RzycSAe45N2ZaCsg9SXVZj94IWHc&type=map&size=225,160&locations=43.651893,-79.381713|marker-sm-50318A-1&scalebar=true&zoom=12&rand=1047857798'}]}]}"
      ]
     },
     "execution_count": 21,
     "metadata": {},
     "output_type": "execute_result"
    }
   ],
   "source": [
    "parameters = {\n",
    "    'key' : 'Gx79RzycSAe45N2ZaCsg9SXVZj94IWHc',\n",
    "    'location' : 'Toronto, Canada'\n",
    "}\n",
    "response = requests.get('http://www.mapquestapi.com/geocoding/v1/address', params = parameters)\n",
    "\n",
    "data = json.loads(response.text)\n",
    "data"
   ]
  },
  {
   "cell_type": "code",
   "execution_count": 90,
   "metadata": {},
   "outputs": [],
   "source": [
    "# convert empty strings to Nans\n",
    "djw_moments.location = djw_moments.location.replace(r'^\\s*$', np.nan, regex=True)"
   ]
  },
  {
   "cell_type": "code",
   "execution_count": 91,
   "metadata": {},
   "outputs": [],
   "source": [
    "for i, row in djw_moments.iterrows():\n",
    "    apiAddress = djw_moments.location[i]\n",
    "    parameters = {\n",
    "        'key' : 'Gx79RzycSAe45N2ZaCsg9SXVZj94IWHc',\n",
    "        'location' : apiAddress\n",
    "    }\n",
    "    response = requests.get('http://www.mapquestapi.com/geocoding/v1/address', params = parameters)\n",
    "\n",
    "    data = json.loads(response.text)['results']\n",
    "    lat = data[0]['locations'][0]['latLng']['lat']\n",
    "    lng = data[0]['locations'][0]['latLng']['lng']\n",
    "\n",
    "    djw_moments.at[i,'lat'] = lat\n",
    "    djw_moments.at[i,'lng'] = lng    "
   ]
  },
  {
   "cell_type": "code",
   "execution_count": 92,
   "metadata": {},
   "outputs": [],
   "source": [
    "# Save data\n",
    "djw_moments.to_csv('data/minutiae_djw_clean.csv')"
   ]
  },
  {
   "cell_type": "code",
   "execution_count": 4,
   "metadata": {},
   "outputs": [],
   "source": [
    "djw = pd.read_csv('data/minutiae_djw_clean.csv', index_col=0)"
   ]
  },
  {
   "cell_type": "code",
   "execution_count": 5,
   "metadata": {},
   "outputs": [
    {
     "data": {
      "text/html": [
       "<div>\n",
       "<style scoped>\n",
       "    .dataframe tbody tr th:only-of-type {\n",
       "        vertical-align: middle;\n",
       "    }\n",
       "\n",
       "    .dataframe tbody tr th {\n",
       "        vertical-align: top;\n",
       "    }\n",
       "\n",
       "    .dataframe thead th {\n",
       "        text-align: right;\n",
       "    }\n",
       "</style>\n",
       "<table border=\"1\" class=\"dataframe\">\n",
       "  <thead>\n",
       "    <tr style=\"text-align: right;\">\n",
       "      <th></th>\n",
       "      <th>displayUrl</th>\n",
       "      <th>location</th>\n",
       "      <th>moment</th>\n",
       "      <th>date</th>\n",
       "      <th>hour</th>\n",
       "      <th>minute</th>\n",
       "      <th>lat</th>\n",
       "      <th>lng</th>\n",
       "    </tr>\n",
       "  </thead>\n",
       "  <tbody>\n",
       "    <tr>\n",
       "      <th>804</th>\n",
       "      <td>https://firebasestorage.googleapis.com/v0/b/mi...</td>\n",
       "      <td>Montréal, Canada</td>\n",
       "      <td>1517</td>\n",
       "      <td>2020-12-21 00:00:00+00:00</td>\n",
       "      <td>23</td>\n",
       "      <td>52</td>\n",
       "      <td>45.509062</td>\n",
       "      <td>-73.553363</td>\n",
       "    </tr>\n",
       "    <tr>\n",
       "      <th>805</th>\n",
       "      <td>https://firebasestorage.googleapis.com/v0/b/mi...</td>\n",
       "      <td>Montréal, Canada</td>\n",
       "      <td>1520</td>\n",
       "      <td>2020-12-24 00:00:00+00:00</td>\n",
       "      <td>18</td>\n",
       "      <td>53</td>\n",
       "      <td>45.509062</td>\n",
       "      <td>-73.553363</td>\n",
       "    </tr>\n",
       "    <tr>\n",
       "      <th>806</th>\n",
       "      <td>https://firebasestorage.googleapis.com/v0/b/mi...</td>\n",
       "      <td>Montréal, Canada</td>\n",
       "      <td>1521</td>\n",
       "      <td>2020-12-25 00:00:00+00:00</td>\n",
       "      <td>12</td>\n",
       "      <td>26</td>\n",
       "      <td>45.509062</td>\n",
       "      <td>-73.553363</td>\n",
       "    </tr>\n",
       "    <tr>\n",
       "      <th>807</th>\n",
       "      <td>https://firebasestorage.googleapis.com/v0/b/mi...</td>\n",
       "      <td>Montréal, Canada</td>\n",
       "      <td>1522</td>\n",
       "      <td>2020-12-26 00:00:00+00:00</td>\n",
       "      <td>23</td>\n",
       "      <td>57</td>\n",
       "      <td>45.509062</td>\n",
       "      <td>-73.553363</td>\n",
       "    </tr>\n",
       "    <tr>\n",
       "      <th>808</th>\n",
       "      <td>https://firebasestorage.googleapis.com/v0/b/mi...</td>\n",
       "      <td>Montréal, Canada</td>\n",
       "      <td>1523</td>\n",
       "      <td>2020-12-27 00:00:00+00:00</td>\n",
       "      <td>11</td>\n",
       "      <td>51</td>\n",
       "      <td>45.509062</td>\n",
       "      <td>-73.553363</td>\n",
       "    </tr>\n",
       "  </tbody>\n",
       "</table>\n",
       "</div>"
      ],
      "text/plain": [
       "                                            displayUrl          location  \\\n",
       "804  https://firebasestorage.googleapis.com/v0/b/mi...  Montréal, Canada   \n",
       "805  https://firebasestorage.googleapis.com/v0/b/mi...  Montréal, Canada   \n",
       "806  https://firebasestorage.googleapis.com/v0/b/mi...  Montréal, Canada   \n",
       "807  https://firebasestorage.googleapis.com/v0/b/mi...  Montréal, Canada   \n",
       "808  https://firebasestorage.googleapis.com/v0/b/mi...  Montréal, Canada   \n",
       "\n",
       "     moment                       date  hour  minute        lat        lng  \n",
       "804    1517  2020-12-21 00:00:00+00:00    23      52  45.509062 -73.553363  \n",
       "805    1520  2020-12-24 00:00:00+00:00    18      53  45.509062 -73.553363  \n",
       "806    1521  2020-12-25 00:00:00+00:00    12      26  45.509062 -73.553363  \n",
       "807    1522  2020-12-26 00:00:00+00:00    23      57  45.509062 -73.553363  \n",
       "808    1523  2020-12-27 00:00:00+00:00    11      51  45.509062 -73.553363  "
      ]
     },
     "execution_count": 5,
     "metadata": {},
     "output_type": "execute_result"
    }
   ],
   "source": [
    "djw.tail()"
   ]
  },
  {
   "cell_type": "markdown",
   "metadata": {},
   "source": [
    "## Add Weather"
   ]
  },
  {
   "cell_type": "markdown",
   "metadata": {},
   "source": [
    "Data from [NASA](https://power.larc.nasa.gov/data-access-viewer/)\n",
    "- [API Info](https://power.larc.nasa.gov/docs/services/api/v1/temporal/daily/)"
   ]
  },
  {
   "cell_type": "code",
   "execution_count": 75,
   "metadata": {},
   "outputs": [
    {
     "name": "stderr",
     "output_type": "stream",
     "text": [
      "<ipython-input-75-4761f4e2e074>:5: SettingWithCopyWarning: \n",
      "A value is trying to be set on a copy of a slice from a DataFrame\n",
      "\n",
      "See the caveats in the documentation: https://pandas.pydata.org/pandas-docs/stable/user_guide/indexing.html#returning-a-view-versus-a-copy\n",
      "  djw['date_nasa'][i] = djw.date[i].split(' ')[0].replace('-', '')\n"
     ]
    }
   ],
   "source": [
    "# date format required = YYYYMMDD\n",
    "\n",
    "djw['date_nasa'] = None\n",
    "for i in range(len(djw.date)):\n",
    "    djw['date_nasa'][i] = djw.date[i].split(' ')[0].replace('-', '')"
   ]
  },
  {
   "cell_type": "markdown",
   "metadata": {},
   "source": [
    "### Test"
   ]
  },
  {
   "cell_type": "code",
   "execution_count": 57,
   "metadata": {},
   "outputs": [],
   "source": [
    "# Montreal\n",
    "lat = 45.509062\n",
    "lon = -73.553363\n",
    "date = 20200101"
   ]
  },
  {
   "cell_type": "code",
   "execution_count": 77,
   "metadata": {},
   "outputs": [],
   "source": [
    "# Getting Temp @ 2m, Wind speed @10m and precipitation\n",
    "url = 'https://power.larc.nasa.gov/cgi-bin/v1/DataAccess.py?&request=execute&tempAverage=DAILY&identifier=SinglePoint&parameters=T2M,WS10M,PRECTOT&userCommunity=SB&lon={lon}&lat={lat}&startDate={date}&endDate={date}&outputList=JSON&user=DOCUMENTATION'"
   ]
  },
  {
   "cell_type": "code",
   "execution_count": 96,
   "metadata": {},
   "outputs": [],
   "source": [
    "response = requests.get(url.format(lat=lat, lon=lon, date=date))"
   ]
  },
  {
   "cell_type": "code",
   "execution_count": 97,
   "metadata": {},
   "outputs": [
    {
     "data": {
      "text/plain": [
       "{'features': [{'geometry': {'coordinates': [-73.55335, 45.50907, 124.0],\n",
       "    'type': 'Point'},\n",
       "   'properties': {'parameter': {'PRECTOT': {'20200101': 1.1},\n",
       "     'T2M': {'20200101': -3.04},\n",
       "     'WS10M': {'20200101': 4.46}}},\n",
       "   'type': 'Feature'}],\n",
       " 'header': {'api_version': '1.1.0',\n",
       "  'endDate': '20200101',\n",
       "  'fillValue': '-999',\n",
       "  'startDate': '20200101',\n",
       "  'title': 'NASA/POWER SRB/FLASHFlux/MERRA2/GEOS 5.12.4 (FP-IT) 0.5 x 0.5 Degree Daily Averaged Data'},\n",
       " 'messages': [],\n",
       " 'outputs': {'json': 'https://power.larc.nasa.gov/downloads/POWER_SinglePoint_Daily_20200101_20200101_045d51N_73d55W_45b1f0d7.json'},\n",
       " 'parameterInformation': {'PRECTOT': {'longname': 'Precipitation',\n",
       "   'units': 'mm day-1'},\n",
       "  'T2M': {'longname': 'Temperature at 2 Meters', 'units': 'C'},\n",
       "  'WS10M': {'longname': 'Wind Speed at 10 Meters', 'units': 'm/s'}},\n",
       " 'time': [['Main OPeNDAP Requests:', 2.47], ['Total Script:', 3.43]],\n",
       " 'type': 'FeatureCollection'}"
      ]
     },
     "execution_count": 97,
     "metadata": {},
     "output_type": "execute_result"
    }
   ],
   "source": [
    "data = json.loads(response.text)\n",
    "data"
   ]
  },
  {
   "cell_type": "markdown",
   "metadata": {},
   "source": [
    "https://openweathermap.org/history`"
   ]
  },
  {
   "cell_type": "code",
   "execution_count": 70,
   "metadata": {},
   "outputs": [],
   "source": [
    "from tqdm import tqdm"
   ]
  },
  {
   "cell_type": "code",
   "execution_count": 79,
   "metadata": {},
   "outputs": [
    {
     "name": "stderr",
     "output_type": "stream",
     "text": [
      "809it [24:21,  1.81s/it]\n"
     ]
    }
   ],
   "source": [
    "for i, row in tqdm(djw.iterrows()):\n",
    "    lat = djw.lat[i]\n",
    "    lon = djw.lng[i]\n",
    "    date = djw.date_nasa[i]\n",
    "    response = requests.get(url.format(lat=lat, lon=lon, date=date))\n",
    "    \n",
    "    data = json.loads(response.text)\n",
    "    precipitation = data['features'][0]['properties']['parameter']['PRECTOT'][str(date)]\n",
    "    wind = data['features'][0]['properties']['parameter']['WS10M'][str(date)]\n",
    "    temp = data['features'][0]['properties']['parameter']['T2M'][str(date)]\n",
    "\n",
    "    djw.at[i,'temp_2m'] = temp\n",
    "    djw.at[i,'wind_10m'] = wind \n",
    "    djw.at[i, 'precipitation'] = precipitation"
   ]
  },
  {
   "cell_type": "code",
   "execution_count": 80,
   "metadata": {},
   "outputs": [],
   "source": [
    "# Save data\n",
    "djw.to_csv('data/minutiae_djw_clean_weather.csv')"
   ]
  },
  {
   "cell_type": "code",
   "execution_count": null,
   "metadata": {},
   "outputs": [],
   "source": [
    "# Hist/Density of temperatures/windspeed/preciptation"
   ]
  },
  {
   "cell_type": "code",
   "execution_count": 224,
   "metadata": {},
   "outputs": [
    {
     "data": {
      "text/plain": [
       "<seaborn.axisgrid.FacetGrid at 0x119adf4c0>"
      ]
     },
     "execution_count": 224,
     "metadata": {},
     "output_type": "execute_result"
    },
    {
     "data": {
      "image/png": "[encoded data removed]",
      "text/plain": [
       "<Figure size 360x360 with 1 Axes>"
      ]
     },
     "metadata": {
      "needs_background": "light"
     },
     "output_type": "display_data"
    }
   ],
   "source": [
    "sns.displot(djw, x=\"temp_2m\", kind=\"kde\")"
   ]
  },
  {
   "cell_type": "code",
   "execution_count": 225,
   "metadata": {},
   "outputs": [
    {
     "data": {
      "text/plain": [
       "<seaborn.axisgrid.FacetGrid at 0x119ab2a90>"
      ]
     },
     "execution_count": 225,
     "metadata": {},
     "output_type": "execute_result"
    },
    {
     "data": {
      "image/png": "[encoded data removed]",
      "text/plain": [
       "<Figure size 360x360 with 1 Axes>"
      ]
     },
     "metadata": {
      "needs_background": "light"
     },
     "output_type": "display_data"
    }
   ],
   "source": [
    "sns.displot(djw, x=\"wind_10m\", kind=\"kde\")"
   ]
  },
  {
   "cell_type": "code",
   "execution_count": 226,
   "metadata": {},
   "outputs": [
    {
     "data": {
      "text/plain": [
       "<seaborn.axisgrid.FacetGrid at 0x11c80cf40>"
      ]
     },
     "execution_count": 226,
     "metadata": {},
     "output_type": "execute_result"
    },
    {
     "data": {
      "image/png": "[encoded data removed]",
      "text/plain": [
       "<Figure size 360x360 with 1 Axes>"
      ]
     },
     "metadata": {
      "needs_background": "light"
     },
     "output_type": "display_data"
    }
   ],
   "source": [
    "sns.displot(djw, x=\"precipitation\", kind=\"kde\")"
   ]
  },
  {
   "cell_type": "markdown",
   "metadata": {},
   "source": [
    "## Add Distance"
   ]
  },
  {
   "cell_type": "markdown",
   "metadata": {},
   "source": [
    "Distance between two points uses the [Haversine formula](https://www.kite.com/python/answers/how-to-find-the-distance-between-two-lat-long-coordinates-in-python)\n",
    "\n",
    "- calculates the **great circle** distance between two points\n",
    "- current point compared to previous point"
   ]
  },
  {
   "cell_type": "code",
   "execution_count": 18,
   "metadata": {},
   "outputs": [],
   "source": [
    "# realize that Nan's get assigned weird lat/lng\n",
    "# this is their location: https://www.google.com/maps/place/18%C2%B047'04.7%22N+100%C2%B046'38.3%22E/@18.7846343,100.7771557,92m/data=!3m1!1e3!4m5!3m4!1s0x0:0x0!8m2!3d18.784635!4d100.777315\n",
    "\n",
    "# hack: assigne lat and lng to previous row if location is NaN\n",
    "for i, frame in djw.iterrows():\n",
    "    if i>0:\n",
    "        if pd.isnull(djw.location[i]):\n",
    "            djw.loc[i, 'lat'] = djw.loc[i-1, 'lat']\n",
    "            djw.log[i, 'lng'] = djw.loc[i-1, 'lng']"
   ]
  },
  {
   "cell_type": "code",
   "execution_count": 19,
   "metadata": {},
   "outputs": [],
   "source": [
    "import math"
   ]
  },
  {
   "cell_type": "code",
   "execution_count": 20,
   "metadata": {},
   "outputs": [],
   "source": [
    "djw['distance'] = 0"
   ]
  },
  {
   "cell_type": "code",
   "execution_count": 21,
   "metadata": {},
   "outputs": [],
   "source": [
    "# create new column\n",
    "djw['distance'] = 0\n",
    "\n",
    "R = 6371 # radius of the earth in km\n",
    "\n",
    "for i, frame in djw.iterrows():\n",
    "    #can't compare first point with previous point\n",
    "    if i>0:\n",
    "        lat1 = math.radians(djw.lat[i-1])\n",
    "        lon1 = math.radians(djw.lng[i-1])\n",
    "        lat2 = math.radians(djw.lat[i])\n",
    "        lon2 = math.radians(djw.lng[i])\n",
    "\n",
    "        dlon = lon2 - lon1\n",
    "        dlat = lat2 - lat1\n",
    "\n",
    "        # Haversine formula\n",
    "        a = math.sin(dlat / 2)**2 + math.cos(lat1) * math.cos(lat2) * math.sin(dlon / 2)**2\n",
    "\n",
    "        c = 2 * math.atan2(math.sqrt(a), math.sqrt(1 - a))\n",
    "        distance = R * c\n",
    "        \n",
    "        djw.loc[i, 'distance'] = distance\n"
   ]
  },
  {
   "cell_type": "code",
   "execution_count": 22,
   "metadata": {},
   "outputs": [],
   "source": [
    "djw['distance_cum'] = djw['distance'].cumsum()"
   ]
  },
  {
   "cell_type": "markdown",
   "metadata": {},
   "source": [
    "## Add Previous Location\n",
    "To be used to create links between locations like the airport dataframe"
   ]
  },
  {
   "cell_type": "code",
   "execution_count": 24,
   "metadata": {},
   "outputs": [
    {
     "data": {
      "text/plain": [
       "'Toronto, Canada'"
      ]
     },
     "execution_count": 24,
     "metadata": {},
     "output_type": "execute_result"
    }
   ],
   "source": [
    "djw.loc[0,'location']"
   ]
  },
  {
   "cell_type": "code",
   "execution_count": 71,
   "metadata": {},
   "outputs": [],
   "source": [
    "djw['location_previous'] = None\n",
    "djw['lat_previous'] = None\n",
    "djw['lng_previous'] = None\n",
    "\n",
    "for i, frame in djw.iterrows():\n",
    "    if i>0:\n",
    "        if pd.isnull(djw.location[i]):\n",
    "            djw.loc[i, 'location'] = djw.loc[i-1,'location']\n",
    "        djw.loc[i, 'location_previous'] = djw.loc[i-1, 'location']\n",
    "        djw.loc[i, 'lat_previous'] = djw.loc[i-1, 'lat']\n",
    "        djw.loc[i, 'lng_previous'] = djw.loc[i-1, 'lng']"
   ]
  },
  {
   "cell_type": "markdown",
   "metadata": {},
   "source": [
    "## Add Greenhouse Gasses"
   ]
  },
  {
   "cell_type": "markdown",
   "metadata": {},
   "source": [
    "Interesting difference between [carbon](https://ourworldindata.org/grapher/co-emissions-per-capita) and [greenhouse gasses](https://ourworldindata.org/greenhouse-gas-emissions#per-capita-greenhouse-gas-emissions-how-much-does-the-average-person-emit)!\n",
    "\n",
    "Also nice representation of [household emissions](https://www.pbs.org/newshour/science/5-charts-show-how-your-household-drives-up-global-greenhouse-gas-emissions)..."
   ]
  },
  {
   "cell_type": "markdown",
   "metadata": {},
   "source": [
    "![](images/ghg_household.png)"
   ]
  },
  {
   "cell_type": "code",
   "execution_count": 57,
   "metadata": {},
   "outputs": [
    {
     "data": {
      "text/plain": [
       "10424.090909090908"
      ]
     },
     "execution_count": 57,
     "metadata": {},
     "output_type": "execute_result"
    }
   ],
   "source": [
    "# in kg\n",
    "24586/2.2 - 1653/2.2"
   ]
  },
  {
   "cell_type": "code",
   "execution_count": 72,
   "metadata": {},
   "outputs": [
    {
     "data": {
      "text/html": [
       "<div>\n",
       "<style scoped>\n",
       "    .dataframe tbody tr th:only-of-type {\n",
       "        vertical-align: middle;\n",
       "    }\n",
       "\n",
       "    .dataframe tbody tr th {\n",
       "        vertical-align: top;\n",
       "    }\n",
       "\n",
       "    .dataframe thead th {\n",
       "        text-align: right;\n",
       "    }\n",
       "</style>\n",
       "<table border=\"1\" class=\"dataframe\">\n",
       "  <thead>\n",
       "    <tr style=\"text-align: right;\">\n",
       "      <th></th>\n",
       "      <th>Entity</th>\n",
       "      <th>GHG emissions (gCO2e/km)</th>\n",
       "    </tr>\n",
       "  </thead>\n",
       "  <tbody>\n",
       "    <tr>\n",
       "      <th>5</th>\n",
       "      <td>Domestic flight</td>\n",
       "      <td>0.25</td>\n",
       "    </tr>\n",
       "    <tr>\n",
       "      <th>15</th>\n",
       "      <td>London Underground</td>\n",
       "      <td>0.03</td>\n",
       "    </tr>\n",
       "    <tr>\n",
       "      <th>17</th>\n",
       "      <td>Long-haul flight (economy)</td>\n",
       "      <td>0.15</td>\n",
       "    </tr>\n",
       "    <tr>\n",
       "      <th>28</th>\n",
       "      <td>National rail</td>\n",
       "      <td>0.04</td>\n",
       "    </tr>\n",
       "    <tr>\n",
       "      <th>29</th>\n",
       "      <td>Petrol car, 2 passengers</td>\n",
       "      <td>0.10</td>\n",
       "    </tr>\n",
       "  </tbody>\n",
       "</table>\n",
       "</div>"
      ],
      "text/plain": [
       "                        Entity  GHG emissions (gCO2e/km)\n",
       "5              Domestic flight                      0.25\n",
       "15          London Underground                      0.03\n",
       "17  Long-haul flight (economy)                      0.15\n",
       "28               National rail                      0.04\n",
       "29    Petrol car, 2 passengers                      0.10"
      ]
     },
     "execution_count": 72,
     "metadata": {},
     "output_type": "execute_result"
    }
   ],
   "source": [
    "# from: https://ourworldindata.org/travel-carbon-footprint\n",
    "ghg = pd.read_csv('data/carbon-footprint-travel-mode.csv')\n",
    "\n",
    "# a list of the types of transportation I used\n",
    "transit_list = ['Domestic flight', 'Long-haul flight (economy)', 'Petrol car, 2 passengers', 'National rail', 'London Underground']\n",
    "\n",
    "# subset based on those categories\n",
    "ghg = ghg[ghg['Entity'].isin(transit_list)]\n",
    "ghg"
   ]
  },
  {
   "cell_type": "code",
   "execution_count": 73,
   "metadata": {},
   "outputs": [],
   "source": [
    "# correct incorrect labeling (these have been converted to kg, not g!)\n",
    "ghg.rename(columns={\"GHG emissions (gCO2e/km)\": \"GHG emissions (kgCO2e/km)\"}, inplace=True)"
   ]
  },
  {
   "cell_type": "code",
   "execution_count": 74,
   "metadata": {},
   "outputs": [
    {
     "data": {
      "application/vnd.plotly.v1+json": {
       "config": {
        "plotlyServerURL": "https://plot.ly"
       },
       "data": [
        {
         "alignmentgroup": "True",
         "hovertemplate": "Entity=%{x}<br>GHG emissions (kgCO2e/km)=%{y}<extra></extra>",
         "legendgroup": "",
         "marker": {
          "color": "#636efa"
         },
         "name": "",
         "offsetgroup": "",
         "orientation": "v",
         "showlegend": false,
         "textposition": "auto",
         "type": "bar",
         "x": [
          "Domestic flight",
          "London Underground",
          "Long-haul flight (economy)",
          "National rail",
          "Petrol car, 2 passengers"
         ],
         "xaxis": "x",
         "y": [
          0.25493000000000005,
          0.03084,
          0.14981,
          0.04115,
          0.09614
         ],
         "yaxis": "y"
        }
       ],
       "layout": {
        "autosize": true,
        "barmode": "relative",
        "legend": {
         "tracegroupgap": 0
        },
        "margin": {
         "t": 60
        },
        "template": {
         "data": {
          "bar": [
           {
            "error_x": {
             "color": "#2a3f5f"
            },
            "error_y": {
             "color": "#2a3f5f"
            },
            "marker": {
             "line": {
              "color": "#E5ECF6",
              "width": 0.5
             }
            },
            "type": "bar"
           }
          ],
          "barpolar": [
           {
            "marker": {
             "line": {
              "color": "#E5ECF6",
              "width": 0.5
             }
            },
            "type": "barpolar"
           }
          ],
          "carpet": [
           {
            "aaxis": {
             "endlinecolor": "#2a3f5f",
             "gridcolor": "white",
             "linecolor": "white",
             "minorgridcolor": "white",
             "startlinecolor": "#2a3f5f"
            },
            "baxis": {
             "endlinecolor": "#2a3f5f",
             "gridcolor": "white",
             "linecolor": "white",
             "minorgridcolor": "white",
             "startlinecolor": "#2a3f5f"
            },
            "type": "carpet"
           }
          ],
          "choropleth": [
           {
            "colorbar": {
             "outlinewidth": 0,
             "ticks": ""
            },
            "type": "choropleth"
           }
          ],
          "contour": [
           {
            "colorbar": {
             "outlinewidth": 0,
             "ticks": ""
            },
            "colorscale": [
             [
              0,
              "#0d0887"
             ],
             [
              0.1111111111111111,
              "#46039f"
             ],
             [
              0.2222222222222222,
              "#7201a8"
             ],
             [
              0.3333333333333333,
              "#9c179e"
             ],
             [
              0.4444444444444444,
              "#bd3786"
             ],
             [
              0.5555555555555556,
              "#d8576b"
             ],
             [
              0.6666666666666666,
              "#ed7953"
             ],
             [
              0.7777777777777778,
              "#fb9f3a"
             ],
             [
              0.8888888888888888,
              "#fdca26"
             ],
             [
              1,
              "#f0f921"
             ]
            ],
            "type": "contour"
           }
          ],
          "contourcarpet": [
           {
            "colorbar": {
             "outlinewidth": 0,
             "ticks": ""
            },
            "type": "contourcarpet"
           }
          ],
          "heatmap": [
           {
            "colorbar": {
             "outlinewidth": 0,
             "ticks": ""
            },
            "colorscale": [
             [
              0,
              "#0d0887"
             ],
             [
              0.1111111111111111,
              "#46039f"
             ],
             [
              0.2222222222222222,
              "#7201a8"
             ],
             [
              0.3333333333333333,
              "#9c179e"
             ],
             [
              0.4444444444444444,
              "#bd3786"
             ],
             [
              0.5555555555555556,
              "#d8576b"
             ],
             [
              0.6666666666666666,
              "#ed7953"
             ],
             [
              0.7777777777777778,
              "#fb9f3a"
             ],
             [
              0.8888888888888888,
              "#fdca26"
             ],
             [
              1,
              "#f0f921"
             ]
            ],
            "type": "heatmap"
           }
          ],
          "heatmapgl": [
           {
            "colorbar": {
             "outlinewidth": 0,
             "ticks": ""
            },
            "colorscale": [
             [
              0,
              "#0d0887"
             ],
             [
              0.1111111111111111,
              "#46039f"
             ],
             [
              0.2222222222222222,
              "#7201a8"
             ],
             [
              0.3333333333333333,
              "#9c179e"
             ],
             [
              0.4444444444444444,
              "#bd3786"
             ],
             [
              0.5555555555555556,
              "#d8576b"
             ],
             [
              0.6666666666666666,
              "#ed7953"
             ],
             [
              0.7777777777777778,
              "#fb9f3a"
             ],
             [
              0.8888888888888888,
              "#fdca26"
             ],
             [
              1,
              "#f0f921"
             ]
            ],
            "type": "heatmapgl"
           }
          ],
          "histogram": [
           {
            "marker": {
             "colorbar": {
              "outlinewidth": 0,
              "ticks": ""
             }
            },
            "type": "histogram"
           }
          ],
          "histogram2d": [
           {
            "colorbar": {
             "outlinewidth": 0,
             "ticks": ""
            },
            "colorscale": [
             [
              0,
              "#0d0887"
             ],
             [
              0.1111111111111111,
              "#46039f"
             ],
             [
              0.2222222222222222,
              "#7201a8"
             ],
             [
              0.3333333333333333,
              "#9c179e"
             ],
             [
              0.4444444444444444,
              "#bd3786"
             ],
             [
              0.5555555555555556,
              "#d8576b"
             ],
             [
              0.6666666666666666,
              "#ed7953"
             ],
             [
              0.7777777777777778,
              "#fb9f3a"
             ],
             [
              0.8888888888888888,
              "#fdca26"
             ],
             [
              1,
              "#f0f921"
             ]
            ],
            "type": "histogram2d"
           }
          ],
          "histogram2dcontour": [
           {
            "colorbar": {
             "outlinewidth": 0,
             "ticks": ""
            },
            "colorscale": [
             [
              0,
              "#0d0887"
             ],
             [
              0.1111111111111111,
              "#46039f"
             ],
             [
              0.2222222222222222,
              "#7201a8"
             ],
             [
              0.3333333333333333,
              "#9c179e"
             ],
             [
              0.4444444444444444,
              "#bd3786"
             ],
             [
              0.5555555555555556,
              "#d8576b"
             ],
             [
              0.6666666666666666,
              "#ed7953"
             ],
             [
              0.7777777777777778,
              "#fb9f3a"
             ],
             [
              0.8888888888888888,
              "#fdca26"
             ],
             [
              1,
              "#f0f921"
             ]
            ],
            "type": "histogram2dcontour"
           }
          ],
          "mesh3d": [
           {
            "colorbar": {
             "outlinewidth": 0,
             "ticks": ""
            },
            "type": "mesh3d"
           }
          ],
          "parcoords": [
           {
            "line": {
             "colorbar": {
              "outlinewidth": 0,
              "ticks": ""
             }
            },
            "type": "parcoords"
           }
          ],
          "pie": [
           {
            "automargin": true,
            "type": "pie"
           }
          ],
          "scatter": [
           {
            "marker": {
             "colorbar": {
              "outlinewidth": 0,
              "ticks": ""
             }
            },
            "type": "scatter"
           }
          ],
          "scatter3d": [
           {
            "line": {
             "colorbar": {
              "outlinewidth": 0,
              "ticks": ""
             }
            },
            "marker": {
             "colorbar": {
              "outlinewidth": 0,
              "ticks": ""
             }
            },
            "type": "scatter3d"
           }
          ],
          "scattercarpet": [
           {
            "marker": {
             "colorbar": {
              "outlinewidth": 0,
              "ticks": ""
             }
            },
            "type": "scattercarpet"
           }
          ],
          "scattergeo": [
           {
            "marker": {
             "colorbar": {
              "outlinewidth": 0,
              "ticks": ""
             }
            },
            "type": "scattergeo"
           }
          ],
          "scattergl": [
           {
            "marker": {
             "colorbar": {
              "outlinewidth": 0,
              "ticks": ""
             }
            },
            "type": "scattergl"
           }
          ],
          "scattermapbox": [
           {
            "marker": {
             "colorbar": {
              "outlinewidth": 0,
              "ticks": ""
             }
            },
            "type": "scattermapbox"
           }
          ],
          "scatterpolar": [
           {
            "marker": {
             "colorbar": {
              "outlinewidth": 0,
              "ticks": ""
             }
            },
            "type": "scatterpolar"
           }
          ],
          "scatterpolargl": [
           {
            "marker": {
             "colorbar": {
              "outlinewidth": 0,
              "ticks": ""
             }
            },
            "type": "scatterpolargl"
           }
          ],
          "scatterternary": [
           {
            "marker": {
             "colorbar": {
              "outlinewidth": 0,
              "ticks": ""
             }
            },
            "type": "scatterternary"
           }
          ],
          "surface": [
           {
            "colorbar": {
             "outlinewidth": 0,
             "ticks": ""
            },
            "colorscale": [
             [
              0,
              "#0d0887"
             ],
             [
              0.1111111111111111,
              "#46039f"
             ],
             [
              0.2222222222222222,
              "#7201a8"
             ],
             [
              0.3333333333333333,
              "#9c179e"
             ],
             [
              0.4444444444444444,
              "#bd3786"
             ],
             [
              0.5555555555555556,
              "#d8576b"
             ],
             [
              0.6666666666666666,
              "#ed7953"
             ],
             [
              0.7777777777777778,
              "#fb9f3a"
             ],
             [
              0.8888888888888888,
              "#fdca26"
             ],
             [
              1,
              "#f0f921"
             ]
            ],
            "type": "surface"
           }
          ],
          "table": [
           {
            "cells": {
             "fill": {
              "color": "#EBF0F8"
             },
             "line": {
              "color": "white"
             }
            },
            "header": {
             "fill": {
              "color": "#C8D4E3"
             },
             "line": {
              "color": "white"
             }
            },
            "type": "table"
           }
          ]
         },
         "layout": {
          "annotationdefaults": {
           "arrowcolor": "#2a3f5f",
           "arrowhead": 0,
           "arrowwidth": 1
          },
          "coloraxis": {
           "colorbar": {
            "outlinewidth": 0,
            "ticks": ""
           }
          },
          "colorscale": {
           "diverging": [
            [
             0,
             "#8e0152"
            ],
            [
             0.1,
             "#c51b7d"
            ],
            [
             0.2,
             "#de77ae"
            ],
            [
             0.3,
             "#f1b6da"
            ],
            [
             0.4,
             "#fde0ef"
            ],
            [
             0.5,
             "#f7f7f7"
            ],
            [
             0.6,
             "#e6f5d0"
            ],
            [
             0.7,
             "#b8e186"
            ],
            [
             0.8,
             "#7fbc41"
            ],
            [
             0.9,
             "#4d9221"
            ],
            [
             1,
             "#276419"
            ]
           ],
           "sequential": [
            [
             0,
             "#0d0887"
            ],
            [
             0.1111111111111111,
             "#46039f"
            ],
            [
             0.2222222222222222,
             "#7201a8"
            ],
            [
             0.3333333333333333,
             "#9c179e"
            ],
            [
             0.4444444444444444,
             "#bd3786"
            ],
            [
             0.5555555555555556,
             "#d8576b"
            ],
            [
             0.6666666666666666,
             "#ed7953"
            ],
            [
             0.7777777777777778,
             "#fb9f3a"
            ],
            [
             0.8888888888888888,
             "#fdca26"
            ],
            [
             1,
             "#f0f921"
            ]
           ],
           "sequentialminus": [
            [
             0,
             "#0d0887"
            ],
            [
             0.1111111111111111,
             "#46039f"
            ],
            [
             0.2222222222222222,
             "#7201a8"
            ],
            [
             0.3333333333333333,
             "#9c179e"
            ],
            [
             0.4444444444444444,
             "#bd3786"
            ],
            [
             0.5555555555555556,
             "#d8576b"
            ],
            [
             0.6666666666666666,
             "#ed7953"
            ],
            [
             0.7777777777777778,
             "#fb9f3a"
            ],
            [
             0.8888888888888888,
             "#fdca26"
            ],
            [
             1,
             "#f0f921"
            ]
           ]
          },
          "colorway": [
           "#636efa",
           "#EF553B",
           "#00cc96",
           "#ab63fa",
           "#FFA15A",
           "#19d3f3",
           "#FF6692",
           "#B6E880",
           "#FF97FF",
           "#FECB52"
          ],
          "font": {
           "color": "#2a3f5f"
          },
          "geo": {
           "bgcolor": "white",
           "lakecolor": "white",
           "landcolor": "#E5ECF6",
           "showlakes": true,
           "showland": true,
           "subunitcolor": "white"
          },
          "hoverlabel": {
           "align": "left"
          },
          "hovermode": "closest",
          "mapbox": {
           "style": "light"
          },
          "paper_bgcolor": "white",
          "plot_bgcolor": "#E5ECF6",
          "polar": {
           "angularaxis": {
            "gridcolor": "white",
            "linecolor": "white",
            "ticks": ""
           },
           "bgcolor": "#E5ECF6",
           "radialaxis": {
            "gridcolor": "white",
            "linecolor": "white",
            "ticks": ""
           }
          },
          "scene": {
           "xaxis": {
            "backgroundcolor": "#E5ECF6",
            "gridcolor": "white",
            "gridwidth": 2,
            "linecolor": "white",
            "showbackground": true,
            "ticks": "",
            "zerolinecolor": "white"
           },
           "yaxis": {
            "backgroundcolor": "#E5ECF6",
            "gridcolor": "white",
            "gridwidth": 2,
            "linecolor": "white",
            "showbackground": true,
            "ticks": "",
            "zerolinecolor": "white"
           },
           "zaxis": {
            "backgroundcolor": "#E5ECF6",
            "gridcolor": "white",
            "gridwidth": 2,
            "linecolor": "white",
            "showbackground": true,
            "ticks": "",
            "zerolinecolor": "white"
           }
          },
          "shapedefaults": {
           "line": {
            "color": "#2a3f5f"
           }
          },
          "ternary": {
           "aaxis": {
            "gridcolor": "white",
            "linecolor": "white",
            "ticks": ""
           },
           "baxis": {
            "gridcolor": "white",
            "linecolor": "white",
            "ticks": ""
           },
           "bgcolor": "#E5ECF6",
           "caxis": {
            "gridcolor": "white",
            "linecolor": "white",
            "ticks": ""
           }
          },
          "title": {
           "x": 0.05
          },
          "xaxis": {
           "automargin": true,
           "gridcolor": "white",
           "linecolor": "white",
           "ticks": "",
           "title": {
            "standoff": 15
           },
           "zerolinecolor": "white",
           "zerolinewidth": 2
          },
          "yaxis": {
           "automargin": true,
           "gridcolor": "white",
           "linecolor": "white",
           "ticks": "",
           "title": {
            "standoff": 15
           },
           "zerolinecolor": "white",
           "zerolinewidth": 2
          }
         }
        },
        "xaxis": {
         "anchor": "y",
         "autorange": true,
         "domain": [
          0,
          1
         ],
         "range": [
          -0.5,
          4.5
         ],
         "title": {
          "text": "Entity"
         },
         "type": "category"
        },
        "yaxis": {
         "anchor": "x",
         "autorange": true,
         "domain": [
          0,
          1
         ],
         "range": [
          0,
          0.26834736842105267
         ],
         "title": {
          "text": "GHG emissions (kgCO2e/km)"
         },
         "type": "linear"
        }
       }
      },
      "image/png": "[encoded data removed]",
      "text/html": [
       "<div>\n",
       "        \n",
       "        \n",
       "            <div id=\"336df954-3088-47b6-a090-caca56cdf852\" class=\"plotly-graph-div\" style=\"height:525px; width:100%;\"></div>\n",
       "            <script type=\"text/javascript\">\n",
       "                require([\"plotly\"], function(Plotly) {\n",
       "                    window.PLOTLYENV=window.PLOTLYENV || {};\n",
       "                    \n",
       "                if (document.getElementById(\"336df954-3088-47b6-a090-caca56cdf852\")) {\n",
       "                    Plotly.newPlot(\n",
       "                        '336df954-3088-47b6-a090-caca56cdf852',\n",
       "                        [{\"alignmentgroup\": \"True\", \"hovertemplate\": \"Entity=%{x}<br>GHG emissions (kgCO2e/km)=%{y}<extra></extra>\", \"legendgroup\": \"\", \"marker\": {\"color\": \"#636efa\"}, \"name\": \"\", \"offsetgroup\": \"\", \"orientation\": \"v\", \"showlegend\": false, \"textposition\": \"auto\", \"type\": \"bar\", \"x\": [\"Domestic flight\", \"London Underground\", \"Long-haul flight (economy)\", \"National rail\", \"Petrol car, 2 passengers\"], \"xaxis\": \"x\", \"y\": [0.25493000000000005, 0.03084, 0.14981, 0.04115, 0.09614], \"yaxis\": \"y\"}],\n",
       "                        {\"barmode\": \"relative\", \"legend\": {\"tracegroupgap\": 0}, \"margin\": {\"t\": 60}, \"template\": {\"data\": {\"bar\": [{\"error_x\": {\"color\": \"#2a3f5f\"}, \"error_y\": {\"color\": \"#2a3f5f\"}, \"marker\": {\"line\": {\"color\": \"#E5ECF6\", \"width\": 0.5}}, \"type\": \"bar\"}], \"barpolar\": [{\"marker\": {\"line\": {\"color\": \"#E5ECF6\", \"width\": 0.5}}, \"type\": \"barpolar\"}], \"carpet\": [{\"aaxis\": {\"endlinecolor\": \"#2a3f5f\", \"gridcolor\": \"white\", \"linecolor\": \"white\", \"minorgridcolor\": \"white\", \"startlinecolor\": \"#2a3f5f\"}, \"baxis\": {\"endlinecolor\": \"#2a3f5f\", \"gridcolor\": \"white\", \"linecolor\": \"white\", \"minorgridcolor\": \"white\", \"startlinecolor\": \"#2a3f5f\"}, \"type\": \"carpet\"}], \"choropleth\": [{\"colorbar\": {\"outlinewidth\": 0, \"ticks\": \"\"}, \"type\": \"choropleth\"}], \"contour\": [{\"colorbar\": {\"outlinewidth\": 0, \"ticks\": \"\"}, \"colorscale\": [[0.0, \"#0d0887\"], [0.1111111111111111, \"#46039f\"], [0.2222222222222222, \"#7201a8\"], [0.3333333333333333, \"#9c179e\"], [0.4444444444444444, \"#bd3786\"], [0.5555555555555556, \"#d8576b\"], [0.6666666666666666, \"#ed7953\"], [0.7777777777777778, \"#fb9f3a\"], [0.8888888888888888, \"#fdca26\"], [1.0, \"#f0f921\"]], \"type\": \"contour\"}], \"contourcarpet\": [{\"colorbar\": {\"outlinewidth\": 0, \"ticks\": \"\"}, \"type\": \"contourcarpet\"}], \"heatmap\": [{\"colorbar\": {\"outlinewidth\": 0, \"ticks\": \"\"}, \"colorscale\": [[0.0, \"#0d0887\"], [0.1111111111111111, \"#46039f\"], [0.2222222222222222, \"#7201a8\"], [0.3333333333333333, \"#9c179e\"], [0.4444444444444444, \"#bd3786\"], [0.5555555555555556, \"#d8576b\"], [0.6666666666666666, \"#ed7953\"], [0.7777777777777778, \"#fb9f3a\"], [0.8888888888888888, \"#fdca26\"], [1.0, \"#f0f921\"]], \"type\": \"heatmap\"}], \"heatmapgl\": [{\"colorbar\": {\"outlinewidth\": 0, \"ticks\": \"\"}, \"colorscale\": [[0.0, \"#0d0887\"], [0.1111111111111111, \"#46039f\"], [0.2222222222222222, \"#7201a8\"], [0.3333333333333333, \"#9c179e\"], [0.4444444444444444, \"#bd3786\"], [0.5555555555555556, \"#d8576b\"], [0.6666666666666666, \"#ed7953\"], [0.7777777777777778, \"#fb9f3a\"], [0.8888888888888888, \"#fdca26\"], [1.0, \"#f0f921\"]], \"type\": \"heatmapgl\"}], \"histogram\": [{\"marker\": {\"colorbar\": {\"outlinewidth\": 0, \"ticks\": \"\"}}, \"type\": \"histogram\"}], \"histogram2d\": [{\"colorbar\": {\"outlinewidth\": 0, \"ticks\": \"\"}, \"colorscale\": [[0.0, \"#0d0887\"], [0.1111111111111111, \"#46039f\"], [0.2222222222222222, \"#7201a8\"], [0.3333333333333333, \"#9c179e\"], [0.4444444444444444, \"#bd3786\"], [0.5555555555555556, \"#d8576b\"], [0.6666666666666666, \"#ed7953\"], [0.7777777777777778, \"#fb9f3a\"], [0.8888888888888888, \"#fdca26\"], [1.0, \"#f0f921\"]], \"type\": \"histogram2d\"}], \"histogram2dcontour\": [{\"colorbar\": {\"outlinewidth\": 0, \"ticks\": \"\"}, \"colorscale\": [[0.0, \"#0d0887\"], [0.1111111111111111, \"#46039f\"], [0.2222222222222222, \"#7201a8\"], [0.3333333333333333, \"#9c179e\"], [0.4444444444444444, \"#bd3786\"], [0.5555555555555556, \"#d8576b\"], [0.6666666666666666, \"#ed7953\"], [0.7777777777777778, \"#fb9f3a\"], [0.8888888888888888, \"#fdca26\"], [1.0, \"#f0f921\"]], \"type\": \"histogram2dcontour\"}], \"mesh3d\": [{\"colorbar\": {\"outlinewidth\": 0, \"ticks\": \"\"}, \"type\": \"mesh3d\"}], \"parcoords\": [{\"line\": {\"colorbar\": {\"outlinewidth\": 0, \"ticks\": \"\"}}, \"type\": \"parcoords\"}], \"pie\": [{\"automargin\": true, \"type\": \"pie\"}], \"scatter\": [{\"marker\": {\"colorbar\": {\"outlinewidth\": 0, \"ticks\": \"\"}}, \"type\": \"scatter\"}], \"scatter3d\": [{\"line\": {\"colorbar\": {\"outlinewidth\": 0, \"ticks\": \"\"}}, \"marker\": {\"colorbar\": {\"outlinewidth\": 0, \"ticks\": \"\"}}, \"type\": \"scatter3d\"}], \"scattercarpet\": [{\"marker\": {\"colorbar\": {\"outlinewidth\": 0, \"ticks\": \"\"}}, \"type\": \"scattercarpet\"}], \"scattergeo\": [{\"marker\": {\"colorbar\": {\"outlinewidth\": 0, \"ticks\": \"\"}}, \"type\": \"scattergeo\"}], \"scattergl\": [{\"marker\": {\"colorbar\": {\"outlinewidth\": 0, \"ticks\": \"\"}}, \"type\": \"scattergl\"}], \"scattermapbox\": [{\"marker\": {\"colorbar\": {\"outlinewidth\": 0, \"ticks\": \"\"}}, \"type\": \"scattermapbox\"}], \"scatterpolar\": [{\"marker\": {\"colorbar\": {\"outlinewidth\": 0, \"ticks\": \"\"}}, \"type\": \"scatterpolar\"}], \"scatterpolargl\": [{\"marker\": {\"colorbar\": {\"outlinewidth\": 0, \"ticks\": \"\"}}, \"type\": \"scatterpolargl\"}], \"scatterternary\": [{\"marker\": {\"colorbar\": {\"outlinewidth\": 0, \"ticks\": \"\"}}, \"type\": \"scatterternary\"}], \"surface\": [{\"colorbar\": {\"outlinewidth\": 0, \"ticks\": \"\"}, \"colorscale\": [[0.0, \"#0d0887\"], [0.1111111111111111, \"#46039f\"], [0.2222222222222222, \"#7201a8\"], [0.3333333333333333, \"#9c179e\"], [0.4444444444444444, \"#bd3786\"], [0.5555555555555556, \"#d8576b\"], [0.6666666666666666, \"#ed7953\"], [0.7777777777777778, \"#fb9f3a\"], [0.8888888888888888, \"#fdca26\"], [1.0, \"#f0f921\"]], \"type\": \"surface\"}], \"table\": [{\"cells\": {\"fill\": {\"color\": \"#EBF0F8\"}, \"line\": {\"color\": \"white\"}}, \"header\": {\"fill\": {\"color\": \"#C8D4E3\"}, \"line\": {\"color\": \"white\"}}, \"type\": \"table\"}]}, \"layout\": {\"annotationdefaults\": {\"arrowcolor\": \"#2a3f5f\", \"arrowhead\": 0, \"arrowwidth\": 1}, \"coloraxis\": {\"colorbar\": {\"outlinewidth\": 0, \"ticks\": \"\"}}, \"colorscale\": {\"diverging\": [[0, \"#8e0152\"], [0.1, \"#c51b7d\"], [0.2, \"#de77ae\"], [0.3, \"#f1b6da\"], [0.4, \"#fde0ef\"], [0.5, \"#f7f7f7\"], [0.6, \"#e6f5d0\"], [0.7, \"#b8e186\"], [0.8, \"#7fbc41\"], [0.9, \"#4d9221\"], [1, \"#276419\"]], \"sequential\": [[0.0, \"#0d0887\"], [0.1111111111111111, \"#46039f\"], [0.2222222222222222, \"#7201a8\"], [0.3333333333333333, \"#9c179e\"], [0.4444444444444444, \"#bd3786\"], [0.5555555555555556, \"#d8576b\"], [0.6666666666666666, \"#ed7953\"], [0.7777777777777778, \"#fb9f3a\"], [0.8888888888888888, \"#fdca26\"], [1.0, \"#f0f921\"]], \"sequentialminus\": [[0.0, \"#0d0887\"], [0.1111111111111111, \"#46039f\"], [0.2222222222222222, \"#7201a8\"], [0.3333333333333333, \"#9c179e\"], [0.4444444444444444, \"#bd3786\"], [0.5555555555555556, \"#d8576b\"], [0.6666666666666666, \"#ed7953\"], [0.7777777777777778, \"#fb9f3a\"], [0.8888888888888888, \"#fdca26\"], [1.0, \"#f0f921\"]]}, \"colorway\": [\"#636efa\", \"#EF553B\", \"#00cc96\", \"#ab63fa\", \"#FFA15A\", \"#19d3f3\", \"#FF6692\", \"#B6E880\", \"#FF97FF\", \"#FECB52\"], \"font\": {\"color\": \"#2a3f5f\"}, \"geo\": {\"bgcolor\": \"white\", \"lakecolor\": \"white\", \"landcolor\": \"#E5ECF6\", \"showlakes\": true, \"showland\": true, \"subunitcolor\": \"white\"}, \"hoverlabel\": {\"align\": \"left\"}, \"hovermode\": \"closest\", \"mapbox\": {\"style\": \"light\"}, \"paper_bgcolor\": \"white\", \"plot_bgcolor\": \"#E5ECF6\", \"polar\": {\"angularaxis\": {\"gridcolor\": \"white\", \"linecolor\": \"white\", \"ticks\": \"\"}, \"bgcolor\": \"#E5ECF6\", \"radialaxis\": {\"gridcolor\": \"white\", \"linecolor\": \"white\", \"ticks\": \"\"}}, \"scene\": {\"xaxis\": {\"backgroundcolor\": \"#E5ECF6\", \"gridcolor\": \"white\", \"gridwidth\": 2, \"linecolor\": \"white\", \"showbackground\": true, \"ticks\": \"\", \"zerolinecolor\": \"white\"}, \"yaxis\": {\"backgroundcolor\": \"#E5ECF6\", \"gridcolor\": \"white\", \"gridwidth\": 2, \"linecolor\": \"white\", \"showbackground\": true, \"ticks\": \"\", \"zerolinecolor\": \"white\"}, \"zaxis\": {\"backgroundcolor\": \"#E5ECF6\", \"gridcolor\": \"white\", \"gridwidth\": 2, \"linecolor\": \"white\", \"showbackground\": true, \"ticks\": \"\", \"zerolinecolor\": \"white\"}}, \"shapedefaults\": {\"line\": {\"color\": \"#2a3f5f\"}}, \"ternary\": {\"aaxis\": {\"gridcolor\": \"white\", \"linecolor\": \"white\", \"ticks\": \"\"}, \"baxis\": {\"gridcolor\": \"white\", \"linecolor\": \"white\", \"ticks\": \"\"}, \"bgcolor\": \"#E5ECF6\", \"caxis\": {\"gridcolor\": \"white\", \"linecolor\": \"white\", \"ticks\": \"\"}}, \"title\": {\"x\": 0.05}, \"xaxis\": {\"automargin\": true, \"gridcolor\": \"white\", \"linecolor\": \"white\", \"ticks\": \"\", \"title\": {\"standoff\": 15}, \"zerolinecolor\": \"white\", \"zerolinewidth\": 2}, \"yaxis\": {\"automargin\": true, \"gridcolor\": \"white\", \"linecolor\": \"white\", \"ticks\": \"\", \"title\": {\"standoff\": 15}, \"zerolinecolor\": \"white\", \"zerolinewidth\": 2}}}, \"xaxis\": {\"anchor\": \"y\", \"domain\": [0.0, 1.0], \"title\": {\"text\": \"Entity\"}}, \"yaxis\": {\"anchor\": \"x\", \"domain\": [0.0, 1.0], \"title\": {\"text\": \"GHG emissions (kgCO2e/km)\"}}},\n",
       "                        {\"responsive\": true}\n",
       "                    ).then(function(){\n",
       "                            \n",
       "var gd = document.getElementById('336df954-3088-47b6-a090-caca56cdf852');\n",
       "var x = new MutationObserver(function (mutations, observer) {{\n",
       "        var display = window.getComputedStyle(gd).display;\n",
       "        if (!display || display === 'none') {{\n",
       "            console.log([gd, 'removed!']);\n",
       "            Plotly.purge(gd);\n",
       "            observer.disconnect();\n",
       "        }}\n",
       "}});\n",
       "\n",
       "// Listen for the removal of the full notebook cells\n",
       "var notebookContainer = gd.closest('#notebook-container');\n",
       "if (notebookContainer) {{\n",
       "    x.observe(notebookContainer, {childList: true});\n",
       "}}\n",
       "\n",
       "// Listen for the clearing of the current output cell\n",
       "var outputEl = gd.closest('.output');\n",
       "if (outputEl) {{\n",
       "    x.observe(outputEl, {childList: true});\n",
       "}}\n",
       "\n",
       "                        })\n",
       "                };\n",
       "                });\n",
       "            </script>\n",
       "        </div>"
      ]
     },
     "metadata": {},
     "output_type": "display_data"
    }
   ],
   "source": [
    "# visualize\n",
    "import plotly.express as px\n",
    "\n",
    "fig = px.bar(ghg, x='Entity', y='GHG emissions (kgCO2e/km)')\n",
    "fig.show()"
   ]
  },
  {
   "cell_type": "code",
   "execution_count": 75,
   "metadata": {},
   "outputs": [],
   "source": [
    "# take mean of these categories and multiply by the `distance_cum column`\n",
    "# convert to kg\n",
    "mean_ghg_kg = ghg['GHG emissions (kgCO2e/km)'].mean()\n",
    "\n",
    "djw['carbon_footprint'] = djw['distance_cum'] * mean_ghg_kg"
   ]
  },
  {
   "cell_type": "code",
   "execution_count": 76,
   "metadata": {},
   "outputs": [
    {
     "data": {
      "text/html": [
       "<div>\n",
       "<style scoped>\n",
       "    .dataframe tbody tr th:only-of-type {\n",
       "        vertical-align: middle;\n",
       "    }\n",
       "\n",
       "    .dataframe tbody tr th {\n",
       "        vertical-align: top;\n",
       "    }\n",
       "\n",
       "    .dataframe thead th {\n",
       "        text-align: right;\n",
       "    }\n",
       "</style>\n",
       "<table border=\"1\" class=\"dataframe\">\n",
       "  <thead>\n",
       "    <tr style=\"text-align: right;\">\n",
       "      <th></th>\n",
       "      <th>displayUrl</th>\n",
       "      <th>location</th>\n",
       "      <th>moment</th>\n",
       "      <th>date</th>\n",
       "      <th>hour</th>\n",
       "      <th>minute</th>\n",
       "      <th>lat</th>\n",
       "      <th>lng</th>\n",
       "      <th>date_nasa</th>\n",
       "      <th>temp_2m</th>\n",
       "      <th>wind_10m</th>\n",
       "      <th>precipitation</th>\n",
       "      <th>distance</th>\n",
       "      <th>distance_cum</th>\n",
       "      <th>location_previous</th>\n",
       "      <th>carbon_footprint</th>\n",
       "      <th>lat_previous</th>\n",
       "      <th>lng_previous</th>\n",
       "    </tr>\n",
       "  </thead>\n",
       "  <tbody>\n",
       "    <tr>\n",
       "      <th>806</th>\n",
       "      <td>https://firebasestorage.googleapis.com/v0/b/mi...</td>\n",
       "      <td>Montréal, Canada</td>\n",
       "      <td>1521</td>\n",
       "      <td>2020-12-25 00:00:00+00:00</td>\n",
       "      <td>12</td>\n",
       "      <td>26</td>\n",
       "      <td>45.51</td>\n",
       "      <td>-73.55</td>\n",
       "      <td>20201225</td>\n",
       "      <td>4.86</td>\n",
       "      <td>5.05</td>\n",
       "      <td>16.56</td>\n",
       "      <td>0</td>\n",
       "      <td>97613</td>\n",
       "      <td>Montréal, Canada</td>\n",
       "      <td>11183.91</td>\n",
       "      <td>46</td>\n",
       "      <td>-74</td>\n",
       "    </tr>\n",
       "    <tr>\n",
       "      <th>807</th>\n",
       "      <td>https://firebasestorage.googleapis.com/v0/b/mi...</td>\n",
       "      <td>Montréal, Canada</td>\n",
       "      <td>1522</td>\n",
       "      <td>2020-12-26 00:00:00+00:00</td>\n",
       "      <td>23</td>\n",
       "      <td>57</td>\n",
       "      <td>45.51</td>\n",
       "      <td>-73.55</td>\n",
       "      <td>20201226</td>\n",
       "      <td>-4.55</td>\n",
       "      <td>6.49</td>\n",
       "      <td>1.34</td>\n",
       "      <td>0</td>\n",
       "      <td>97613</td>\n",
       "      <td>Montréal, Canada</td>\n",
       "      <td>11183.91</td>\n",
       "      <td>46</td>\n",
       "      <td>-74</td>\n",
       "    </tr>\n",
       "    <tr>\n",
       "      <th>808</th>\n",
       "      <td>https://firebasestorage.googleapis.com/v0/b/mi...</td>\n",
       "      <td>Montréal, Canada</td>\n",
       "      <td>1523</td>\n",
       "      <td>2020-12-27 00:00:00+00:00</td>\n",
       "      <td>11</td>\n",
       "      <td>51</td>\n",
       "      <td>45.51</td>\n",
       "      <td>-73.55</td>\n",
       "      <td>20201227</td>\n",
       "      <td>-8.27</td>\n",
       "      <td>3.14</td>\n",
       "      <td>0.09</td>\n",
       "      <td>0</td>\n",
       "      <td>97613</td>\n",
       "      <td>Montréal, Canada</td>\n",
       "      <td>11183.91</td>\n",
       "      <td>46</td>\n",
       "      <td>-74</td>\n",
       "    </tr>\n",
       "  </tbody>\n",
       "</table>\n",
       "</div>"
      ],
      "text/plain": [
       "                                            displayUrl          location  \\\n",
       "806  https://firebasestorage.googleapis.com/v0/b/mi...  Montréal, Canada   \n",
       "807  https://firebasestorage.googleapis.com/v0/b/mi...  Montréal, Canada   \n",
       "808  https://firebasestorage.googleapis.com/v0/b/mi...  Montréal, Canada   \n",
       "\n",
       "     moment                       date  hour  minute    lat    lng  date_nasa  \\\n",
       "806    1521  2020-12-25 00:00:00+00:00    12      26  45.51 -73.55   20201225   \n",
       "807    1522  2020-12-26 00:00:00+00:00    23      57  45.51 -73.55   20201226   \n",
       "808    1523  2020-12-27 00:00:00+00:00    11      51  45.51 -73.55   20201227   \n",
       "\n",
       "     temp_2m  wind_10m  precipitation  distance  distance_cum  \\\n",
       "806     4.86      5.05          16.56         0         97613   \n",
       "807    -4.55      6.49           1.34         0         97613   \n",
       "808    -8.27      3.14           0.09         0         97613   \n",
       "\n",
       "    location_previous  carbon_footprint lat_previous lng_previous  \n",
       "806  Montréal, Canada          11183.91           46          -74  \n",
       "807  Montréal, Canada          11183.91           46          -74  \n",
       "808  Montréal, Canada          11183.91           46          -74  "
      ]
     },
     "execution_count": 76,
     "metadata": {},
     "output_type": "execute_result"
    }
   ],
   "source": [
    "djw.tail(3)"
   ]
  },
  {
   "cell_type": "code",
   "execution_count": 77,
   "metadata": {},
   "outputs": [],
   "source": [
    "# Save data\n",
    "djw.to_csv('data/minutiae_djw_clean_all.csv')"
   ]
  },
  {
   "cell_type": "markdown",
   "metadata": {},
   "source": [
    "# Load Data"
   ]
  },
  {
   "cell_type": "code",
   "execution_count": 44,
   "metadata": {},
   "outputs": [
    {
     "data": {
      "text/html": [
       "<div>\n",
       "<style scoped>\n",
       "    .dataframe tbody tr th:only-of-type {\n",
       "        vertical-align: middle;\n",
       "    }\n",
       "\n",
       "    .dataframe tbody tr th {\n",
       "        vertical-align: top;\n",
       "    }\n",
       "\n",
       "    .dataframe thead th {\n",
       "        text-align: right;\n",
       "    }\n",
       "</style>\n",
       "<table border=\"1\" class=\"dataframe\">\n",
       "  <thead>\n",
       "    <tr style=\"text-align: right;\">\n",
       "      <th></th>\n",
       "      <th>displayUrl</th>\n",
       "      <th>location</th>\n",
       "      <th>moment</th>\n",
       "      <th>date</th>\n",
       "      <th>hour</th>\n",
       "      <th>minute</th>\n",
       "      <th>lat</th>\n",
       "      <th>lng</th>\n",
       "      <th>date_nasa</th>\n",
       "      <th>temp_2m</th>\n",
       "      <th>wind_10m</th>\n",
       "      <th>precipitation</th>\n",
       "      <th>distance</th>\n",
       "      <th>distance_cum</th>\n",
       "      <th>location_previous</th>\n",
       "      <th>carbon_footprint</th>\n",
       "      <th>lat_previous</th>\n",
       "      <th>lng_previous</th>\n",
       "    </tr>\n",
       "  </thead>\n",
       "  <tbody>\n",
       "    <tr>\n",
       "      <th>0</th>\n",
       "      <td>https://firebasestorage.googleapis.com/v0/b/mi...</td>\n",
       "      <td>Toronto, Canada</td>\n",
       "      <td>86</td>\n",
       "      <td>2017-01-20 00:00:00+00:00</td>\n",
       "      <td>2</td>\n",
       "      <td>18</td>\n",
       "      <td>43.65</td>\n",
       "      <td>-79.38</td>\n",
       "      <td>20170120</td>\n",
       "      <td>1.82</td>\n",
       "      <td>3.85</td>\n",
       "      <td>0.59</td>\n",
       "      <td>0</td>\n",
       "      <td>0</td>\n",
       "      <td>NaN</td>\n",
       "      <td>0.0</td>\n",
       "      <td>NaN</td>\n",
       "      <td>NaN</td>\n",
       "    </tr>\n",
       "    <tr>\n",
       "      <th>1</th>\n",
       "      <td>https://firebasestorage.googleapis.com/v0/b/mi...</td>\n",
       "      <td>Toronto, Canada</td>\n",
       "      <td>87</td>\n",
       "      <td>2017-01-21 00:00:00+00:00</td>\n",
       "      <td>17</td>\n",
       "      <td>55</td>\n",
       "      <td>43.65</td>\n",
       "      <td>-79.38</td>\n",
       "      <td>20170121</td>\n",
       "      <td>20.32</td>\n",
       "      <td>1.79</td>\n",
       "      <td>0.00</td>\n",
       "      <td>0</td>\n",
       "      <td>0</td>\n",
       "      <td>Toronto, Canada</td>\n",
       "      <td>0.0</td>\n",
       "      <td>43.65</td>\n",
       "      <td>-79.38</td>\n",
       "    </tr>\n",
       "    <tr>\n",
       "      <th>2</th>\n",
       "      <td>https://firebasestorage.googleapis.com/v0/b/mi...</td>\n",
       "      <td>Toronto, Canada</td>\n",
       "      <td>89</td>\n",
       "      <td>2017-01-23 00:00:00+00:00</td>\n",
       "      <td>2</td>\n",
       "      <td>36</td>\n",
       "      <td>43.65</td>\n",
       "      <td>-79.38</td>\n",
       "      <td>20170123</td>\n",
       "      <td>1.96</td>\n",
       "      <td>8.04</td>\n",
       "      <td>0.53</td>\n",
       "      <td>0</td>\n",
       "      <td>0</td>\n",
       "      <td>Toronto, Canada</td>\n",
       "      <td>0.0</td>\n",
       "      <td>43.65</td>\n",
       "      <td>-79.38</td>\n",
       "    </tr>\n",
       "    <tr>\n",
       "      <th>3</th>\n",
       "      <td>https://firebasestorage.googleapis.com/v0/b/mi...</td>\n",
       "      <td>Toronto, Canada</td>\n",
       "      <td>90</td>\n",
       "      <td>2017-01-24 00:00:00+00:00</td>\n",
       "      <td>10</td>\n",
       "      <td>0</td>\n",
       "      <td>43.65</td>\n",
       "      <td>-79.38</td>\n",
       "      <td>20170124</td>\n",
       "      <td>-0.35</td>\n",
       "      <td>4.38</td>\n",
       "      <td>0.91</td>\n",
       "      <td>0</td>\n",
       "      <td>0</td>\n",
       "      <td>Toronto, Canada</td>\n",
       "      <td>0.0</td>\n",
       "      <td>43.65</td>\n",
       "      <td>-79.38</td>\n",
       "    </tr>\n",
       "    <tr>\n",
       "      <th>4</th>\n",
       "      <td>https://firebasestorage.googleapis.com/v0/b/mi...</td>\n",
       "      <td>Toronto, Canada</td>\n",
       "      <td>91</td>\n",
       "      <td>2017-01-25 00:00:00+00:00</td>\n",
       "      <td>14</td>\n",
       "      <td>30</td>\n",
       "      <td>43.65</td>\n",
       "      <td>-79.38</td>\n",
       "      <td>20170125</td>\n",
       "      <td>1.19</td>\n",
       "      <td>4.48</td>\n",
       "      <td>1.61</td>\n",
       "      <td>0</td>\n",
       "      <td>0</td>\n",
       "      <td>Toronto, Canada</td>\n",
       "      <td>0.0</td>\n",
       "      <td>43.65</td>\n",
       "      <td>-79.38</td>\n",
       "    </tr>\n",
       "  </tbody>\n",
       "</table>\n",
       "</div>"
      ],
      "text/plain": [
       "                                          displayUrl         location  moment  \\\n",
       "0  https://firebasestorage.googleapis.com/v0/b/mi...  Toronto, Canada      86   \n",
       "1  https://firebasestorage.googleapis.com/v0/b/mi...  Toronto, Canada      87   \n",
       "2  https://firebasestorage.googleapis.com/v0/b/mi...  Toronto, Canada      89   \n",
       "3  https://firebasestorage.googleapis.com/v0/b/mi...  Toronto, Canada      90   \n",
       "4  https://firebasestorage.googleapis.com/v0/b/mi...  Toronto, Canada      91   \n",
       "\n",
       "                        date  hour  minute    lat    lng  date_nasa  temp_2m  \\\n",
       "0  2017-01-20 00:00:00+00:00     2      18  43.65 -79.38   20170120     1.82   \n",
       "1  2017-01-21 00:00:00+00:00    17      55  43.65 -79.38   20170121    20.32   \n",
       "2  2017-01-23 00:00:00+00:00     2      36  43.65 -79.38   20170123     1.96   \n",
       "3  2017-01-24 00:00:00+00:00    10       0  43.65 -79.38   20170124    -0.35   \n",
       "4  2017-01-25 00:00:00+00:00    14      30  43.65 -79.38   20170125     1.19   \n",
       "\n",
       "   wind_10m  precipitation  distance  distance_cum location_previous  \\\n",
       "0      3.85           0.59         0             0               NaN   \n",
       "1      1.79           0.00         0             0   Toronto, Canada   \n",
       "2      8.04           0.53         0             0   Toronto, Canada   \n",
       "3      4.38           0.91         0             0   Toronto, Canada   \n",
       "4      4.48           1.61         0             0   Toronto, Canada   \n",
       "\n",
       "   carbon_footprint  lat_previous  lng_previous  \n",
       "0               0.0           NaN           NaN  \n",
       "1               0.0         43.65        -79.38  \n",
       "2               0.0         43.65        -79.38  \n",
       "3               0.0         43.65        -79.38  \n",
       "4               0.0         43.65        -79.38  "
      ]
     },
     "execution_count": 44,
     "metadata": {},
     "output_type": "execute_result"
    }
   ],
   "source": [
    "djw = pd.read_csv('data/minutiae_djw_clean_all.csv', index_col=0)\n",
    "djw.head(5)"
   ]
  },
  {
   "cell_type": "code",
   "execution_count": 60,
   "metadata": {},
   "outputs": [
    {
     "data": {
      "text/plain": [
       "782    https://firebasestorage.googleapis.com/v0/b/mi...\n",
       "Name: displayUrl, dtype: object"
      ]
     },
     "execution_count": 60,
     "metadata": {},
     "output_type": "execute_result"
    }
   ],
   "source": [
    "djw.loc[djw.moment==1459].displayUrl"
   ]
  },
  {
   "cell_type": "markdown",
   "metadata": {},
   "source": [
    "# Mapping"
   ]
  },
  {
   "cell_type": "markdown",
   "metadata": {},
   "source": [
    "## locations w/ Frequency `Plotly`"
   ]
  },
  {
   "cell_type": "code",
   "execution_count": 92,
   "metadata": {},
   "outputs": [],
   "source": [
    "# create location count dataframe\n",
    "location_count = djw.location.value_counts().reset_index()\n",
    "location_count.rename(columns={\"index\": \"location\", \"location\": \"count\"}, inplace=True)\n",
    "locations = location_count.merge(djw, how='left', on='location')"
   ]
  },
  {
   "cell_type": "code",
   "execution_count": 67,
   "metadata": {},
   "outputs": [],
   "source": [
    "import matplotlib.pyplot as plt\n",
    "import seaborn as sns \n",
    "\n",
    "import descartes\n",
    "import geopandas as gpd\n",
    "from shapely.geometry import Point, Polygon\n",
    "\n",
    "%matplotlib inline"
   ]
  },
  {
   "cell_type": "code",
   "execution_count": 69,
   "metadata": {},
   "outputs": [
    {
     "data": {
      "application/vnd.plotly.v1+json": {
       "config": {
        "plotlyServerURL": "https://plot.ly"
       },
       "data": [
        {
         "lat": [
          43.651893,
          43.651893,
          43.651893,
          43.651893,
          43.651893,
          43.651893,
          43.651893,
          43.651893,
          43.651893,
          43.651893,
          43.651893,
          43.651893,
          43.651893,
          43.651893,
          43.651893,
          43.651893,
          43.651893,
          43.651893,
          43.651893,
          43.651893,
          43.651893,
          43.651893,
          43.651893,
          43.651893,
          43.651893,
          43.651893,
          43.651893,
          43.651893,
          43.651893,
          43.651893,
          43.651893,
          43.651893,
          43.651893,
          43.651893,
          43.651893,
          43.651893,
          43.651893,
          43.651893,
          43.651893,
          43.651893,
          43.651893,
          43.651893,
          43.651893,
          43.651893,
          43.651893,
          43.651893,
          43.651893,
          43.651893,
          43.651893,
          43.651893,
          43.651893,
          43.651893,
          43.651893,
          43.651893,
          43.651893,
          43.651893,
          43.651893,
          43.651893,
          43.651893,
          43.651893,
          43.651893,
          43.651893,
          43.651893,
          43.651893,
          43.651893,
          43.651893,
          43.651893,
          43.651893,
          43.651893,
          43.651893,
          43.651893,
          43.651893,
          43.651893,
          43.651893,
          43.651893,
          43.651893,
          43.651893,
          43.651893,
          43.651893,
          43.651893,
          43.651893,
          43.651893,
          43.651893,
          43.651893,
          43.651893,
          43.651893,
          43.651893,
          43.651893,
          43.651893,
          43.651893,
          43.651893,
          43.651893,
          43.651893,
          43.651893,
          43.651893,
          43.651893,
          43.651893,
          43.651893,
          43.651893,
          43.651893,
          43.651893,
          43.651893,
          43.651893,
          43.651893,
          43.651893,
          43.651893,
          43.651893,
          43.651893,
          43.651893,
          43.651893,
          43.651893,
          43.651893,
          43.651893,
          43.651893,
          43.651893,
          43.651893,
          43.651893,
          43.651893,
          43.651893,
          43.651893,
          43.651893,
          43.651893,
          43.651893,
          43.651893,
          43.651893,
          43.651893,
          43.651893,
          43.651893,
          43.651893,
          43.651893,
          43.651893,
          43.651893,
          43.651893,
          43.651893,
          43.651893,
          43.651893,
          43.651893,
          43.651893,
          43.651893,
          43.651893,
          43.651893,
          43.651893,
          43.651893,
          43.651893,
          43.651893,
          43.651893,
          43.651893,
          43.651893,
          43.651893,
          43.651893,
          43.651893,
          43.651893,
          43.651893,
          43.651893,
          43.651893,
          43.651893,
          43.651893,
          43.651893,
          43.651893,
          43.651893,
          43.651893,
          43.651893,
          43.651893,
          43.651893,
          43.651893,
          43.651893,
          43.651893,
          43.651893,
          43.651893,
          43.651893,
          43.651893,
          43.651893,
          43.651893,
          43.651893,
          43.651893,
          43.651893,
          43.651893,
          43.651893,
          43.651893,
          43.651893,
          43.651893,
          43.651893,
          43.651893,
          43.651893,
          43.651893,
          43.651893,
          43.651893,
          43.651893,
          43.651893,
          43.651893,
          43.651893,
          43.651893,
          43.651893,
          43.651893,
          43.651893,
          43.651893,
          43.651893,
          43.651893,
          43.651893,
          43.651893,
          43.651893,
          43.651893,
          43.651893,
          43.651893,
          43.651893,
          43.651893,
          43.651893,
          43.651893,
          43.651893,
          43.651893,
          43.651893,
          43.651893,
          43.651893,
          43.651893,
          43.651893,
          43.651893,
          43.651893,
          43.651893,
          43.651893,
          43.651893,
          43.651893,
          43.651893,
          43.651893,
          43.651893,
          43.651893,
          43.651893,
          43.651893,
          43.651893,
          43.651893,
          43.651893,
          43.651893,
          43.651893,
          43.651893,
          43.651893,
          43.651893,
          43.651893,
          43.651893,
          43.651893,
          43.651893,
          43.651893,
          43.651893,
          43.651893,
          43.651893,
          43.651893,
          43.651893,
          43.651893,
          43.651893,
          43.651893,
          43.651893,
          43.651893,
          43.651893,
          43.651893,
          43.651893,
          43.651893,
          43.651893,
          43.651893,
          43.651893,
          43.651893,
          43.651893,
          43.651893,
          43.651893,
          43.651893,
          43.651893,
          43.651893,
          43.651893,
          43.651893,
          43.651893,
          43.651893,
          43.651893,
          43.651893,
          43.651893,
          43.651893,
          43.651893,
          43.651893,
          43.651893,
          43.651893,
          43.651893,
          43.651893,
          43.651893,
          43.651893,
          43.651893,
          43.651893,
          43.651893,
          43.651893,
          43.651893,
          43.651893,
          43.651893,
          43.651893,
          43.651893,
          43.651893,
          43.651893,
          43.651893,
          43.651893,
          43.651893,
          43.651893,
          43.651893,
          43.651893,
          43.651893,
          43.651893,
          43.651893,
          43.651893,
          43.651893,
          43.651893,
          43.651893,
          43.651893,
          43.651893,
          43.651893,
          43.651893,
          43.651893,
          43.651893,
          43.651893,
          43.651893,
          43.651893,
          43.651893,
          43.651893,
          43.651893,
          43.651893,
          43.651893,
          43.651893,
          43.651893,
          43.651893,
          43.651893,
          43.651893,
          43.651893,
          43.651893,
          43.651893,
          43.651893,
          43.651893,
          43.651893,
          43.651893,
          43.651893,
          43.651893,
          43.651893,
          43.651893,
          43.651893,
          43.651893,
          43.651893,
          43.651893,
          43.651893,
          43.651893,
          43.651893,
          43.651893,
          43.651893,
          43.651893,
          43.651893,
          43.651893,
          43.651893,
          43.651893,
          43.651893,
          43.651893,
          43.651893,
          43.651893,
          43.651893,
          43.651893,
          43.651893,
          43.651893,
          43.651893,
          43.651893,
          43.651893,
          43.651893,
          43.651893,
          43.651893,
          43.651893,
          43.651893,
          43.651893,
          43.651893,
          43.651893,
          43.651893,
          43.651893,
          43.651893,
          43.651893,
          43.651893,
          43.651893,
          43.651893,
          43.651893,
          43.651893,
          43.651893,
          43.651893,
          43.651893,
          43.651893,
          43.651893,
          43.651893,
          43.651893,
          43.651893,
          43.651893,
          43.651893,
          43.651893,
          43.651893,
          43.651893,
          43.651893,
          43.651893,
          43.651893,
          43.651893,
          43.651893,
          43.651893,
          43.651893,
          43.651893,
          43.651893,
          43.651893,
          43.651893,
          43.651893,
          43.651893,
          43.651893,
          43.651893,
          43.651893,
          43.651893,
          43.651893,
          43.651893,
          43.651893,
          43.651893,
          43.651893,
          43.651893,
          43.651893,
          43.651893,
          43.651893,
          43.651893,
          43.651893,
          43.651893,
          43.651893,
          43.651893,
          43.651893,
          43.651893,
          43.651893,
          43.651893,
          43.651893,
          43.651893,
          43.651893,
          43.651893,
          43.651893,
          43.651893,
          43.651893,
          43.651893,
          43.651893,
          43.651893,
          43.651893,
          43.651893,
          43.651893,
          43.651893,
          43.651893,
          43.651893,
          43.651893,
          43.651893,
          43.651893,
          43.651893,
          43.651893,
          43.651893,
          43.651893,
          43.651893,
          43.651893,
          43.651893,
          43.651893,
          43.651893,
          43.651893,
          43.651893,
          43.651893,
          43.651893,
          43.651893,
          43.651893,
          43.651893,
          43.651893,
          43.651893,
          43.651893,
          43.651893,
          43.651893,
          43.651893,
          43.651893,
          43.651893,
          43.651893,
          43.651893,
          43.651893,
          43.651893,
          43.651893,
          43.651893,
          43.651893,
          43.651893,
          43.651893,
          43.651893,
          43.651893,
          43.651893,
          43.651893,
          43.651893,
          43.651893,
          43.651893,
          43.651893,
          43.651893,
          43.651893,
          43.651893,
          43.651893,
          43.651893,
          43.651893,
          43.651893,
          43.651893,
          43.651893,
          43.651893,
          43.651893,
          43.651893,
          43.651893,
          43.651893,
          43.651893,
          43.651893,
          43.651893,
          43.651893,
          43.651893,
          43.651893,
          43.651893,
          43.651893,
          43.651893,
          43.700936,
          43.700936,
          43.700936,
          43.700936,
          43.700936,
          43.700936,
          43.700936,
          43.700936,
          43.700936,
          43.700936,
          43.700936,
          43.700936,
          43.700936,
          43.700936,
          43.700936,
          43.700936,
          43.700936,
          43.700936,
          43.700936,
          43.700936,
          43.700936,
          43.700936,
          43.700936,
          43.700936,
          43.700936,
          43.700936,
          43.700936,
          43.700936,
          43.700936,
          43.700936,
          43.700936,
          43.700936,
          43.700936,
          43.700936,
          43.700936,
          43.700936,
          43.700936,
          43.700936,
          43.700936,
          43.700936,
          43.700936,
          43.700936,
          43.700936,
          43.700936,
          43.700936,
          43.700936,
          43.700936,
          43.700936,
          43.700936,
          43.700936,
          43.700936,
          43.700936,
          43.700936,
          43.700936,
          43.700936,
          43.700936,
          43.700936,
          43.700936,
          43.700936,
          43.700936,
          43.700936,
          43.700936,
          43.700936,
          43.700936,
          43.700936,
          43.700936,
          43.700936,
          43.700936,
          43.700936,
          43.700936,
          43.700936,
          43.700936,
          43.700936,
          43.700936,
          43.700936,
          43.700936,
          43.700936,
          43.700936,
          43.700936,
          43.700936,
          43.700936,
          43.700936,
          43.700936,
          43.700936,
          43.700936,
          43.700936,
          43.700936,
          43.700936,
          43.700936,
          43.700936,
          43.700936,
          48.856506,
          48.856506,
          48.856506,
          48.856506,
          48.856506,
          48.856506,
          48.856506,
          48.856506,
          48.856506,
          48.856506,
          48.856506,
          48.856506,
          48.856506,
          48.856506,
          48.856506,
          48.856506,
          48.856506,
          48.856506,
          48.856506,
          48.856506,
          48.856506,
          48.856506,
          48.856506,
          48.856506,
          48.856506,
          48.856506,
          48.856506,
          48.856506,
          48.856506,
          48.856506,
          48.856506,
          48.856506,
          48.856506,
          48.856506,
          48.856506,
          48.856506,
          48.856506,
          34.052238,
          34.052238,
          34.052238,
          34.052238,
          34.052238,
          34.052238,
          34.052238,
          34.052238,
          34.052238,
          34.052238,
          34.052238,
          34.052238,
          34.052238,
          34.052238,
          34.052238,
          34.052238,
          34.052238,
          34.052238,
          34.052238,
          34.052238,
          34.052238,
          34.052238,
          34.052238,
          45.509062,
          45.509062,
          45.509062,
          45.509062,
          45.509062,
          45.509062,
          45.509062,
          45.509062,
          45.509062,
          45.509062,
          45.509062,
          45.509062,
          45.509062,
          45.509062,
          45.509062,
          45.509062,
          45.509062,
          45.509062,
          45.509062,
          45.509062,
          45.509062,
          45.509062,
          39.951060999999996,
          39.951060999999996,
          39.951060999999996,
          39.951060999999996,
          39.951060999999996,
          39.951060999999996,
          39.951060999999996,
          39.951060999999996,
          39.951060999999996,
          39.951060999999996,
          39.951060999999996,
          39.951060999999996,
          39.951060999999996,
          39.951060999999996,
          39.951060999999996,
          39.951060999999996,
          39.951060999999996,
          39.951060999999996,
          39.951060999999996,
          39.951060999999996,
          39.951060999999996,
          40.713054,
          40.713054,
          40.713054,
          40.713054,
          40.713054,
          40.713054,
          40.713054,
          40.713054,
          40.713054,
          40.713054,
          40.713054,
          40.713054,
          40.713054,
          40.713054,
          40.713054,
          40.713054,
          40.713054,
          40.713054,
          40.713054,
          43.858599,
          43.858599,
          43.858599,
          43.858599,
          43.858599,
          43.858599,
          43.858599,
          43.858599,
          43.858599,
          43.858599,
          43.858599,
          43.858599,
          43.858599,
          43.858599,
          43.858599,
          43.325990999999995,
          43.325990999999995,
          43.325990999999995,
          43.325990999999995,
          43.325990999999995,
          43.325990999999995,
          43.325990999999995,
          43.325990999999995,
          43.213035999999995,
          43.213035999999995,
          43.213035999999995,
          43.213035999999995,
          43.213035999999995,
          43.213035999999995,
          43.213035999999995,
          34.010932000000004,
          34.010932000000004,
          34.010932000000004,
          34.010932000000004,
          34.010932000000004,
          46.869043,
          46.869043,
          46.869043,
          46.869043,
          46.869043,
          34.432827,
          34.432827,
          34.432827,
          34.432827,
          38.046356,
          38.046356,
          38.046356,
          38.046356,
          42.358894,
          42.358894,
          42.358894,
          42.358894,
          41.424834999999995,
          41.424834999999995,
          41.424834999999995,
          45.45515200000001,
          45.45515200000001,
          45.45515200000001,
          45.909238,
          45.909238,
          42.895208000000004,
          42.895208000000004,
          43.586162,
          43.586162,
          45.688586,
          41.111329,
          43.790001000000004,
          43.551208,
          45.47483,
          40.738702,
          43.834205,
          43.66901,
          43.728892,
          34.126919,
          42.350856,
          34.594532,
          44.646244,
          45.445439,
          43.723857,
          42.10536,
          42.870938,
          44.038175,
          42.929756,
          44.190151,
          40.802735999999996,
          40.731507,
          44.980563000000004,
          43.214036,
          45.525211
         ],
         "lon": [
          -79.381713,
          -79.381713,
          -79.381713,
          -79.381713,
          -79.381713,
          -79.381713,
          -79.381713,
          -79.381713,
          -79.381713,
          -79.381713,
          -79.381713,
          -79.381713,
          -79.381713,
          -79.381713,
          -79.381713,
          -79.381713,
          -79.381713,
          -79.381713,
          -79.381713,
          -79.381713,
          -79.381713,
          -79.381713,
          -79.381713,
          -79.381713,
          -79.381713,
          -79.381713,
          -79.381713,
          -79.381713,
          -79.381713,
          -79.381713,
          -79.381713,
          -79.381713,
          -79.381713,
          -79.381713,
          -79.381713,
          -79.381713,
          -79.381713,
          -79.381713,
          -79.381713,
          -79.381713,
          -79.381713,
          -79.381713,
          -79.381713,
          -79.381713,
          -79.381713,
          -79.381713,
          -79.381713,
          -79.381713,
          -79.381713,
          -79.381713,
          -79.381713,
          -79.381713,
          -79.381713,
          -79.381713,
          -79.381713,
          -79.381713,
          -79.381713,
          -79.381713,
          -79.381713,
          -79.381713,
          -79.381713,
          -79.381713,
          -79.381713,
          -79.381713,
          -79.381713,
          -79.381713,
          -79.381713,
          -79.381713,
          -79.381713,
          -79.381713,
          -79.381713,
          -79.381713,
          -79.381713,
          -79.381713,
          -79.381713,
          -79.381713,
          -79.381713,
          -79.381713,
          -79.381713,
          -79.381713,
          -79.381713,
          -79.381713,
          -79.381713,
          -79.381713,
          -79.381713,
          -79.381713,
          -79.381713,
          -79.381713,
          -79.381713,
          -79.381713,
          -79.381713,
          -79.381713,
          -79.381713,
          -79.381713,
          -79.381713,
          -79.381713,
          -79.381713,
          -79.381713,
          -79.381713,
          -79.381713,
          -79.381713,
          -79.381713,
          -79.381713,
          -79.381713,
          -79.381713,
          -79.381713,
          -79.381713,
          -79.381713,
          -79.381713,
          -79.381713,
          -79.381713,
          -79.381713,
          -79.381713,
          -79.381713,
          -79.381713,
          -79.381713,
          -79.381713,
          -79.381713,
          -79.381713,
          -79.381713,
          -79.381713,
          -79.381713,
          -79.381713,
          -79.381713,
          -79.381713,
          -79.381713,
          -79.381713,
          -79.381713,
          -79.381713,
          -79.381713,
          -79.381713,
          -79.381713,
          -79.381713,
          -79.381713,
          -79.381713,
          -79.381713,
          -79.381713,
          -79.381713,
          -79.381713,
          -79.381713,
          -79.381713,
          -79.381713,
          -79.381713,
          -79.381713,
          -79.381713,
          -79.381713,
          -79.381713,
          -79.381713,
          -79.381713,
          -79.381713,
          -79.381713,
          -79.381713,
          -79.381713,
          -79.381713,
          -79.381713,
          -79.381713,
          -79.381713,
          -79.381713,
          -79.381713,
          -79.381713,
          -79.381713,
          -79.381713,
          -79.381713,
          -79.381713,
          -79.381713,
          -79.381713,
          -79.381713,
          -79.381713,
          -79.381713,
          -79.381713,
          -79.381713,
          -79.381713,
          -79.381713,
          -79.381713,
          -79.381713,
          -79.381713,
          -79.381713,
          -79.381713,
          -79.381713,
          -79.381713,
          -79.381713,
          -79.381713,
          -79.381713,
          -79.381713,
          -79.381713,
          -79.381713,
          -79.381713,
          -79.381713,
          -79.381713,
          -79.381713,
          -79.381713,
          -79.381713,
          -79.381713,
          -79.381713,
          -79.381713,
          -79.381713,
          -79.381713,
          -79.381713,
          -79.381713,
          -79.381713,
          -79.381713,
          -79.381713,
          -79.381713,
          -79.381713,
          -79.381713,
          -79.381713,
          -79.381713,
          -79.381713,
          -79.381713,
          -79.381713,
          -79.381713,
          -79.381713,
          -79.381713,
          -79.381713,
          -79.381713,
          -79.381713,
          -79.381713,
          -79.381713,
          -79.381713,
          -79.381713,
          -79.381713,
          -79.381713,
          -79.381713,
          -79.381713,
          -79.381713,
          -79.381713,
          -79.381713,
          -79.381713,
          -79.381713,
          -79.381713,
          -79.381713,
          -79.381713,
          -79.381713,
          -79.381713,
          -79.381713,
          -79.381713,
          -79.381713,
          -79.381713,
          -79.381713,
          -79.381713,
          -79.381713,
          -79.381713,
          -79.381713,
          -79.381713,
          -79.381713,
          -79.381713,
          -79.381713,
          -79.381713,
          -79.381713,
          -79.381713,
          -79.381713,
          -79.381713,
          -79.381713,
          -79.381713,
          -79.381713,
          -79.381713,
          -79.381713,
          -79.381713,
          -79.381713,
          -79.381713,
          -79.381713,
          -79.381713,
          -79.381713,
          -79.381713,
          -79.381713,
          -79.381713,
          -79.381713,
          -79.381713,
          -79.381713,
          -79.381713,
          -79.381713,
          -79.381713,
          -79.381713,
          -79.381713,
          -79.381713,
          -79.381713,
          -79.381713,
          -79.381713,
          -79.381713,
          -79.381713,
          -79.381713,
          -79.381713,
          -79.381713,
          -79.381713,
          -79.381713,
          -79.381713,
          -79.381713,
          -79.381713,
          -79.381713,
          -79.381713,
          -79.381713,
          -79.381713,
          -79.381713,
          -79.381713,
          -79.381713,
          -79.381713,
          -79.381713,
          -79.381713,
          -79.381713,
          -79.381713,
          -79.381713,
          -79.381713,
          -79.381713,
          -79.381713,
          -79.381713,
          -79.381713,
          -79.381713,
          -79.381713,
          -79.381713,
          -79.381713,
          -79.381713,
          -79.381713,
          -79.381713,
          -79.381713,
          -79.381713,
          -79.381713,
          -79.381713,
          -79.381713,
          -79.381713,
          -79.381713,
          -79.381713,
          -79.381713,
          -79.381713,
          -79.381713,
          -79.381713,
          -79.381713,
          -79.381713,
          -79.381713,
          -79.381713,
          -79.381713,
          -79.381713,
          -79.381713,
          -79.381713,
          -79.381713,
          -79.381713,
          -79.381713,
          -79.381713,
          -79.381713,
          -79.381713,
          -79.381713,
          -79.381713,
          -79.381713,
          -79.381713,
          -79.381713,
          -79.381713,
          -79.381713,
          -79.381713,
          -79.381713,
          -79.381713,
          -79.381713,
          -79.381713,
          -79.381713,
          -79.381713,
          -79.381713,
          -79.381713,
          -79.381713,
          -79.381713,
          -79.381713,
          -79.381713,
          -79.381713,
          -79.381713,
          -79.381713,
          -79.381713,
          -79.381713,
          -79.381713,
          -79.381713,
          -79.381713,
          -79.381713,
          -79.381713,
          -79.381713,
          -79.381713,
          -79.381713,
          -79.381713,
          -79.381713,
          -79.381713,
          -79.381713,
          -79.381713,
          -79.381713,
          -79.381713,
          -79.381713,
          -79.381713,
          -79.381713,
          -79.381713,
          -79.381713,
          -79.381713,
          -79.381713,
          -79.381713,
          -79.381713,
          -79.381713,
          -79.381713,
          -79.381713,
          -79.381713,
          -79.381713,
          -79.381713,
          -79.381713,
          -79.381713,
          -79.381713,
          -79.381713,
          -79.381713,
          -79.381713,
          -79.381713,
          -79.381713,
          -79.381713,
          -79.381713,
          -79.381713,
          -79.381713,
          -79.381713,
          -79.381713,
          -79.381713,
          -79.381713,
          -79.381713,
          -79.381713,
          -79.381713,
          -79.381713,
          -79.381713,
          -79.381713,
          -79.381713,
          -79.381713,
          -79.381713,
          -79.381713,
          -79.381713,
          -79.381713,
          -79.381713,
          -79.381713,
          -79.381713,
          -79.381713,
          -79.381713,
          -79.381713,
          -79.381713,
          -79.381713,
          -79.381713,
          -79.381713,
          -79.381713,
          -79.381713,
          -79.381713,
          -79.381713,
          -79.381713,
          -79.381713,
          -79.381713,
          -79.381713,
          -79.381713,
          -79.381713,
          -79.381713,
          -79.381713,
          -79.381713,
          -79.381713,
          -79.381713,
          -79.381713,
          -79.381713,
          -79.381713,
          -79.381713,
          -79.381713,
          -79.381713,
          -79.381713,
          -79.381713,
          -79.381713,
          -79.381713,
          -79.381713,
          -79.381713,
          -79.381713,
          -79.381713,
          -79.381713,
          -79.381713,
          -79.381713,
          -79.381713,
          -79.381713,
          -79.381713,
          -79.381713,
          -79.381713,
          -79.381713,
          -79.381713,
          -79.381713,
          -79.381713,
          -79.381713,
          -79.381713,
          -79.381713,
          -79.381713,
          -79.381713,
          -79.381713,
          -79.381713,
          -79.381713,
          -79.381713,
          -79.381713,
          -79.381713,
          -79.381713,
          -79.381713,
          -79.381713,
          -79.381713,
          -79.381713,
          -79.381713,
          -79.381713,
          -79.381713,
          -79.381713,
          -79.381713,
          -79.381713,
          -79.381713,
          -79.381713,
          -79.381713,
          -79.381713,
          -79.381713,
          -79.381713,
          -79.381713,
          -79.381713,
          -79.381713,
          -79.381713,
          -79.381713,
          -79.381713,
          7.268391,
          7.268391,
          7.268391,
          7.268391,
          7.268391,
          7.268391,
          7.268391,
          7.268391,
          7.268391,
          7.268391,
          7.268391,
          7.268391,
          7.268391,
          7.268391,
          7.268391,
          7.268391,
          7.268391,
          7.268391,
          7.268391,
          7.268391,
          7.268391,
          7.268391,
          7.268391,
          7.268391,
          7.268391,
          7.268391,
          7.268391,
          7.268391,
          7.268391,
          7.268391,
          7.268391,
          7.268391,
          7.268391,
          7.268391,
          7.268391,
          7.268391,
          7.268391,
          7.268391,
          7.268391,
          7.268391,
          7.268391,
          7.268391,
          7.268391,
          7.268391,
          7.268391,
          7.268391,
          7.268391,
          7.268391,
          7.268391,
          7.268391,
          7.268391,
          7.268391,
          7.268391,
          7.268391,
          7.268391,
          7.268391,
          7.268391,
          7.268391,
          7.268391,
          7.268391,
          7.268391,
          7.268391,
          7.268391,
          7.268391,
          7.268391,
          7.268391,
          7.268391,
          7.268391,
          7.268391,
          7.268391,
          7.268391,
          7.268391,
          7.268391,
          7.268391,
          7.268391,
          7.268391,
          7.268391,
          7.268391,
          7.268391,
          7.268391,
          7.268391,
          7.268391,
          7.268391,
          7.268391,
          7.268391,
          7.268391,
          7.268391,
          7.268391,
          7.268391,
          7.268391,
          7.268391,
          2.3521330000000003,
          2.3521330000000003,
          2.3521330000000003,
          2.3521330000000003,
          2.3521330000000003,
          2.3521330000000003,
          2.3521330000000003,
          2.3521330000000003,
          2.3521330000000003,
          2.3521330000000003,
          2.3521330000000003,
          2.3521330000000003,
          2.3521330000000003,
          2.3521330000000003,
          2.3521330000000003,
          2.3521330000000003,
          2.3521330000000003,
          2.3521330000000003,
          2.3521330000000003,
          2.3521330000000003,
          2.3521330000000003,
          2.3521330000000003,
          2.3521330000000003,
          2.3521330000000003,
          2.3521330000000003,
          2.3521330000000003,
          2.3521330000000003,
          2.3521330000000003,
          2.3521330000000003,
          2.3521330000000003,
          2.3521330000000003,
          2.3521330000000003,
          2.3521330000000003,
          2.3521330000000003,
          2.3521330000000003,
          2.3521330000000003,
          2.3521330000000003,
          -118.243344,
          -118.243344,
          -118.243344,
          -118.243344,
          -118.243344,
          -118.243344,
          -118.243344,
          -118.243344,
          -118.243344,
          -118.243344,
          -118.243344,
          -118.243344,
          -118.243344,
          -118.243344,
          -118.243344,
          -118.243344,
          -118.243344,
          -118.243344,
          -118.243344,
          -118.243344,
          -118.243344,
          -118.243344,
          -118.243344,
          -73.553363,
          -73.553363,
          -73.553363,
          -73.553363,
          -73.553363,
          -73.553363,
          -73.553363,
          -73.553363,
          -73.553363,
          -73.553363,
          -73.553363,
          -73.553363,
          -73.553363,
          -73.553363,
          -73.553363,
          -73.553363,
          -73.553363,
          -73.553363,
          -73.553363,
          -73.553363,
          -73.553363,
          -73.553363,
          -75.16561999999998,
          -75.16561999999998,
          -75.16561999999998,
          -75.16561999999998,
          -75.16561999999998,
          -75.16561999999998,
          -75.16561999999998,
          -75.16561999999998,
          -75.16561999999998,
          -75.16561999999998,
          -75.16561999999998,
          -75.16561999999998,
          -75.16561999999998,
          -75.16561999999998,
          -75.16561999999998,
          -75.16561999999998,
          -75.16561999999998,
          -75.16561999999998,
          -75.16561999999998,
          -75.16561999999998,
          -75.16561999999998,
          -74.007228,
          -74.007228,
          -74.007228,
          -74.007228,
          -74.007228,
          -74.007228,
          -74.007228,
          -74.007228,
          -74.007228,
          -74.007228,
          -74.007228,
          -74.007228,
          -74.007228,
          -74.007228,
          -74.007228,
          -74.007228,
          -74.007228,
          -74.007228,
          -74.007228,
          5.701425,
          5.701425,
          5.701425,
          5.701425,
          5.701425,
          5.701425,
          5.701425,
          5.701425,
          5.701425,
          5.701425,
          5.701425,
          5.701425,
          5.701425,
          5.701425,
          5.701425,
          -79.798296,
          -79.798296,
          -79.798296,
          -79.798296,
          -79.798296,
          -79.798296,
          -79.798296,
          -79.798296,
          2.349107,
          2.349107,
          2.349107,
          2.349107,
          2.349107,
          2.349107,
          2.349107,
          -118.49151200000001,
          -118.49151200000001,
          -118.49151200000001,
          -118.49151200000001,
          -118.49151200000001,
          4.573556,
          4.573556,
          4.573556,
          4.573556,
          4.573556,
          -119.856844,
          -119.856844,
          -119.856844,
          -119.856844,
          -84.49702099999998,
          -84.49702099999998,
          -84.49702099999998,
          -84.49702099999998,
          -71.056742,
          -71.056742,
          -71.056742,
          -71.056742,
          -73.945829,
          -73.945829,
          -73.945829,
          6.694201,
          6.694201,
          6.694201,
          6.2225550000000025,
          6.2225550000000025,
          -77.43495899999998,
          -77.43495899999998,
          -79.646215,
          -79.646215,
          5.9146529999999995,
          -75.520888,
          -94.9944,
          7.012695,
          4.509805,
          -85.171491,
          7.355696000000001,
          7.190697,
          7.362071,
          -116.315127,
          -73.80355,
          -112.33640700000001,
          -63.57356600000001,
          4.386292,
          7.112377,
          -71.55148,
          -90.351781,
          5.62967,
          -78.918901,
          -72.82441800000002,
          -74.122862,
          -74.17438800000002,
          -76.934039,
          5.539632,
          4.874784
         ],
         "marker": {
          "color": [
           507,
           507,
           507,
           507,
           507,
           507,
           507,
           507,
           507,
           507,
           507,
           507,
           507,
           507,
           507,
           507,
           507,
           507,
           507,
           507,
           507,
           507,
           507,
           507,
           507,
           507,
           507,
           507,
           507,
           507,
           507,
           507,
           507,
           507,
           507,
           507,
           507,
           507,
           507,
           507,
           507,
           507,
           507,
           507,
           507,
           507,
           507,
           507,
           507,
           507,
           507,
           507,
           507,
           507,
           507,
           507,
           507,
           507,
           507,
           507,
           507,
           507,
           507,
           507,
           507,
           507,
           507,
           507,
           507,
           507,
           507,
           507,
           507,
           507,
           507,
           507,
           507,
           507,
           507,
           507,
           507,
           507,
           507,
           507,
           507,
           507,
           507,
           507,
           507,
           507,
           507,
           507,
           507,
           507,
           507,
           507,
           507,
           507,
           507,
           507,
           507,
           507,
           507,
           507,
           507,
           507,
           507,
           507,
           507,
           507,
           507,
           507,
           507,
           507,
           507,
           507,
           507,
           507,
           507,
           507,
           507,
           507,
           507,
           507,
           507,
           507,
           507,
           507,
           507,
           507,
           507,
           507,
           507,
           507,
           507,
           507,
           507,
           507,
           507,
           507,
           507,
           507,
           507,
           507,
           507,
           507,
           507,
           507,
           507,
           507,
           507,
           507,
           507,
           507,
           507,
           507,
           507,
           507,
           507,
           507,
           507,
           507,
           507,
           507,
           507,
           507,
           507,
           507,
           507,
           507,
           507,
           507,
           507,
           507,
           507,
           507,
           507,
           507,
           507,
           507,
           507,
           507,
           507,
           507,
           507,
           507,
           507,
           507,
           507,
           507,
           507,
           507,
           507,
           507,
           507,
           507,
           507,
           507,
           507,
           507,
           507,
           507,
           507,
           507,
           507,
           507,
           507,
           507,
           507,
           507,
           507,
           507,
           507,
           507,
           507,
           507,
           507,
           507,
           507,
           507,
           507,
           507,
           507,
           507,
           507,
           507,
           507,
           507,
           507,
           507,
           507,
           507,
           507,
           507,
           507,
           507,
           507,
           507,
           507,
           507,
           507,
           507,
           507,
           507,
           507,
           507,
           507,
           507,
           507,
           507,
           507,
           507,
           507,
           507,
           507,
           507,
           507,
           507,
           507,
           507,
           507,
           507,
           507,
           507,
           507,
           507,
           507,
           507,
           507,
           507,
           507,
           507,
           507,
           507,
           507,
           507,
           507,
           507,
           507,
           507,
           507,
           507,
           507,
           507,
           507,
           507,
           507,
           507,
           507,
           507,
           507,
           507,
           507,
           507,
           507,
           507,
           507,
           507,
           507,
           507,
           507,
           507,
           507,
           507,
           507,
           507,
           507,
           507,
           507,
           507,
           507,
           507,
           507,
           507,
           507,
           507,
           507,
           507,
           507,
           507,
           507,
           507,
           507,
           507,
           507,
           507,
           507,
           507,
           507,
           507,
           507,
           507,
           507,
           507,
           507,
           507,
           507,
           507,
           507,
           507,
           507,
           507,
           507,
           507,
           507,
           507,
           507,
           507,
           507,
           507,
           507,
           507,
           507,
           507,
           507,
           507,
           507,
           507,
           507,
           507,
           507,
           507,
           507,
           507,
           507,
           507,
           507,
           507,
           507,
           507,
           507,
           507,
           507,
           507,
           507,
           507,
           507,
           507,
           507,
           507,
           507,
           507,
           507,
           507,
           507,
           507,
           507,
           507,
           507,
           507,
           507,
           507,
           507,
           507,
           507,
           507,
           507,
           507,
           507,
           507,
           507,
           507,
           507,
           507,
           507,
           507,
           507,
           507,
           507,
           507,
           507,
           507,
           507,
           507,
           507,
           507,
           507,
           507,
           507,
           507,
           507,
           507,
           507,
           507,
           507,
           507,
           507,
           507,
           507,
           507,
           507,
           507,
           507,
           507,
           507,
           507,
           507,
           507,
           507,
           507,
           507,
           507,
           507,
           507,
           507,
           507,
           507,
           507,
           507,
           507,
           507,
           507,
           507,
           507,
           507,
           507,
           507,
           507,
           507,
           507,
           507,
           507,
           507,
           507,
           507,
           507,
           507,
           507,
           507,
           507,
           507,
           507,
           507,
           507,
           507,
           507,
           507,
           507,
           507,
           507,
           507,
           507,
           507,
           507,
           507,
           507,
           507,
           507,
           507,
           507,
           507,
           507,
           507,
           507,
           507,
           507,
           507,
           507,
           507,
           507,
           507,
           507,
           507,
           507,
           507,
           507,
           507,
           91,
           91,
           91,
           91,
           91,
           91,
           91,
           91,
           91,
           91,
           91,
           91,
           91,
           91,
           91,
           91,
           91,
           91,
           91,
           91,
           91,
           91,
           91,
           91,
           91,
           91,
           91,
           91,
           91,
           91,
           91,
           91,
           91,
           91,
           91,
           91,
           91,
           91,
           91,
           91,
           91,
           91,
           91,
           91,
           91,
           91,
           91,
           91,
           91,
           91,
           91,
           91,
           91,
           91,
           91,
           91,
           91,
           91,
           91,
           91,
           91,
           91,
           91,
           91,
           91,
           91,
           91,
           91,
           91,
           91,
           91,
           91,
           91,
           91,
           91,
           91,
           91,
           91,
           91,
           91,
           91,
           91,
           91,
           91,
           91,
           91,
           91,
           91,
           91,
           91,
           91,
           37,
           37,
           37,
           37,
           37,
           37,
           37,
           37,
           37,
           37,
           37,
           37,
           37,
           37,
           37,
           37,
           37,
           37,
           37,
           37,
           37,
           37,
           37,
           37,
           37,
           37,
           37,
           37,
           37,
           37,
           37,
           37,
           37,
           37,
           37,
           37,
           37,
           23,
           23,
           23,
           23,
           23,
           23,
           23,
           23,
           23,
           23,
           23,
           23,
           23,
           23,
           23,
           23,
           23,
           23,
           23,
           23,
           23,
           23,
           23,
           22,
           22,
           22,
           22,
           22,
           22,
           22,
           22,
           22,
           22,
           22,
           22,
           22,
           22,
           22,
           22,
           22,
           22,
           22,
           22,
           22,
           22,
           21,
           21,
           21,
           21,
           21,
           21,
           21,
           21,
           21,
           21,
           21,
           21,
           21,
           21,
           21,
           21,
           21,
           21,
           21,
           21,
           21,
           19,
           19,
           19,
           19,
           19,
           19,
           19,
           19,
           19,
           19,
           19,
           19,
           19,
           19,
           19,
           19,
           19,
           19,
           19,
           15,
           15,
           15,
           15,
           15,
           15,
           15,
           15,
           15,
           15,
           15,
           15,
           15,
           15,
           15,
           8,
           8,
           8,
           8,
           8,
           8,
           8,
           8,
           7,
           7,
           7,
           7,
           7,
           7,
           7,
           5,
           5,
           5,
           5,
           5,
           5,
           5,
           5,
           5,
           5,
           4,
           4,
           4,
           4,
           4,
           4,
           4,
           4,
           4,
           4,
           4,
           4,
           3,
           3,
           3,
           3,
           3,
           3,
           2,
           2,
           2,
           2,
           2,
           2,
           1,
           1,
           1,
           1,
           1,
           1,
           1,
           1,
           1,
           1,
           1,
           1,
           1,
           1,
           1,
           1,
           1,
           1,
           1,
           1,
           1,
           1,
           1,
           1,
           1
          ],
          "size": [
           507,
           507,
           507,
           507,
           507,
           507,
           507,
           507,
           507,
           507,
           507,
           507,
           507,
           507,
           507,
           507,
           507,
           507,
           507,
           507,
           507,
           507,
           507,
           507,
           507,
           507,
           507,
           507,
           507,
           507,
           507,
           507,
           507,
           507,
           507,
           507,
           507,
           507,
           507,
           507,
           507,
           507,
           507,
           507,
           507,
           507,
           507,
           507,
           507,
           507,
           507,
           507,
           507,
           507,
           507,
           507,
           507,
           507,
           507,
           507,
           507,
           507,
           507,
           507,
           507,
           507,
           507,
           507,
           507,
           507,
           507,
           507,
           507,
           507,
           507,
           507,
           507,
           507,
           507,
           507,
           507,
           507,
           507,
           507,
           507,
           507,
           507,
           507,
           507,
           507,
           507,
           507,
           507,
           507,
           507,
           507,
           507,
           507,
           507,
           507,
           507,
           507,
           507,
           507,
           507,
           507,
           507,
           507,
           507,
           507,
           507,
           507,
           507,
           507,
           507,
           507,
           507,
           507,
           507,
           507,
           507,
           507,
           507,
           507,
           507,
           507,
           507,
           507,
           507,
           507,
           507,
           507,
           507,
           507,
           507,
           507,
           507,
           507,
           507,
           507,
           507,
           507,
           507,
           507,
           507,
           507,
           507,
           507,
           507,
           507,
           507,
           507,
           507,
           507,
           507,
           507,
           507,
           507,
           507,
           507,
           507,
           507,
           507,
           507,
           507,
           507,
           507,
           507,
           507,
           507,
           507,
           507,
           507,
           507,
           507,
           507,
           507,
           507,
           507,
           507,
           507,
           507,
           507,
           507,
           507,
           507,
           507,
           507,
           507,
           507,
           507,
           507,
           507,
           507,
           507,
           507,
           507,
           507,
           507,
           507,
           507,
           507,
           507,
           507,
           507,
           507,
           507,
           507,
           507,
           507,
           507,
           507,
           507,
           507,
           507,
           507,
           507,
           507,
           507,
           507,
           507,
           507,
           507,
           507,
           507,
           507,
           507,
           507,
           507,
           507,
           507,
           507,
           507,
           507,
           507,
           507,
           507,
           507,
           507,
           507,
           507,
           507,
           507,
           507,
           507,
           507,
           507,
           507,
           507,
           507,
           507,
           507,
           507,
           507,
           507,
           507,
           507,
           507,
           507,
           507,
           507,
           507,
           507,
           507,
           507,
           507,
           507,
           507,
           507,
           507,
           507,
           507,
           507,
           507,
           507,
           507,
           507,
           507,
           507,
           507,
           507,
           507,
           507,
           507,
           507,
           507,
           507,
           507,
           507,
           507,
           507,
           507,
           507,
           507,
           507,
           507,
           507,
           507,
           507,
           507,
           507,
           507,
           507,
           507,
           507,
           507,
           507,
           507,
           507,
           507,
           507,
           507,
           507,
           507,
           507,
           507,
           507,
           507,
           507,
           507,
           507,
           507,
           507,
           507,
           507,
           507,
           507,
           507,
           507,
           507,
           507,
           507,
           507,
           507,
           507,
           507,
           507,
           507,
           507,
           507,
           507,
           507,
           507,
           507,
           507,
           507,
           507,
           507,
           507,
           507,
           507,
           507,
           507,
           507,
           507,
           507,
           507,
           507,
           507,
           507,
           507,
           507,
           507,
           507,
           507,
           507,
           507,
           507,
           507,
           507,
           507,
           507,
           507,
           507,
           507,
           507,
           507,
           507,
           507,
           507,
           507,
           507,
           507,
           507,
           507,
           507,
           507,
           507,
           507,
           507,
           507,
           507,
           507,
           507,
           507,
           507,
           507,
           507,
           507,
           507,
           507,
           507,
           507,
           507,
           507,
           507,
           507,
           507,
           507,
           507,
           507,
           507,
           507,
           507,
           507,
           507,
           507,
           507,
           507,
           507,
           507,
           507,
           507,
           507,
           507,
           507,
           507,
           507,
           507,
           507,
           507,
           507,
           507,
           507,
           507,
           507,
           507,
           507,
           507,
           507,
           507,
           507,
           507,
           507,
           507,
           507,
           507,
           507,
           507,
           507,
           507,
           507,
           507,
           507,
           507,
           507,
           507,
           507,
           507,
           507,
           507,
           507,
           507,
           507,
           507,
           507,
           507,
           507,
           507,
           507,
           507,
           507,
           507,
           507,
           507,
           507,
           507,
           507,
           507,
           507,
           507,
           507,
           507,
           507,
           507,
           507,
           507,
           507,
           507,
           507,
           507,
           507,
           507,
           507,
           507,
           507,
           507,
           507,
           507,
           507,
           507,
           507,
           507,
           507,
           507,
           507,
           507,
           91,
           91,
           91,
           91,
           91,
           91,
           91,
           91,
           91,
           91,
           91,
           91,
           91,
           91,
           91,
           91,
           91,
           91,
           91,
           91,
           91,
           91,
           91,
           91,
           91,
           91,
           91,
           91,
           91,
           91,
           91,
           91,
           91,
           91,
           91,
           91,
           91,
           91,
           91,
           91,
           91,
           91,
           91,
           91,
           91,
           91,
           91,
           91,
           91,
           91,
           91,
           91,
           91,
           91,
           91,
           91,
           91,
           91,
           91,
           91,
           91,
           91,
           91,
           91,
           91,
           91,
           91,
           91,
           91,
           91,
           91,
           91,
           91,
           91,
           91,
           91,
           91,
           91,
           91,
           91,
           91,
           91,
           91,
           91,
           91,
           91,
           91,
           91,
           91,
           91,
           91,
           37,
           37,
           37,
           37,
           37,
           37,
           37,
           37,
           37,
           37,
           37,
           37,
           37,
           37,
           37,
           37,
           37,
           37,
           37,
           37,
           37,
           37,
           37,
           37,
           37,
           37,
           37,
           37,
           37,
           37,
           37,
           37,
           37,
           37,
           37,
           37,
           37,
           23,
           23,
           23,
           23,
           23,
           23,
           23,
           23,
           23,
           23,
           23,
           23,
           23,
           23,
           23,
           23,
           23,
           23,
           23,
           23,
           23,
           23,
           23,
           22,
           22,
           22,
           22,
           22,
           22,
           22,
           22,
           22,
           22,
           22,
           22,
           22,
           22,
           22,
           22,
           22,
           22,
           22,
           22,
           22,
           22,
           21,
           21,
           21,
           21,
           21,
           21,
           21,
           21,
           21,
           21,
           21,
           21,
           21,
           21,
           21,
           21,
           21,
           21,
           21,
           21,
           21,
           19,
           19,
           19,
           19,
           19,
           19,
           19,
           19,
           19,
           19,
           19,
           19,
           19,
           19,
           19,
           19,
           19,
           19,
           19,
           15,
           15,
           15,
           15,
           15,
           15,
           15,
           15,
           15,
           15,
           15,
           15,
           15,
           15,
           15,
           8,
           8,
           8,
           8,
           8,
           8,
           8,
           8,
           7,
           7,
           7,
           7,
           7,
           7,
           7,
           5,
           5,
           5,
           5,
           5,
           5,
           5,
           5,
           5,
           5,
           4,
           4,
           4,
           4,
           4,
           4,
           4,
           4,
           4,
           4,
           4,
           4,
           3,
           3,
           3,
           3,
           3,
           3,
           2,
           2,
           2,
           2,
           2,
           2,
           1,
           1,
           1,
           1,
           1,
           1,
           1,
           1,
           1,
           1,
           1,
           1,
           1,
           1,
           1,
           1,
           1,
           1,
           1,
           1,
           1,
           1,
           1,
           1,
           1
          ],
          "sizemode": "area"
         },
         "mode": "markers",
         "text": [
          "Toronto, Canada",
          "Toronto, Canada",
          "Toronto, Canada",
          "Toronto, Canada",
          "Toronto, Canada",
          "Toronto, Canada",
          "Toronto, Canada",
          "Toronto, Canada",
          "Toronto, Canada",
          "Toronto, Canada",
          "Toronto, Canada",
          "Toronto, Canada",
          "Toronto, Canada",
          "Toronto, Canada",
          "Toronto, Canada",
          "Toronto, Canada",
          "Toronto, Canada",
          "Toronto, Canada",
          "Toronto, Canada",
          "Toronto, Canada",
          "Toronto, Canada",
          "Toronto, Canada",
          "Toronto, Canada",
          "Toronto, Canada",
          "Toronto, Canada",
          "Toronto, Canada",
          "Toronto, Canada",
          "Toronto, Canada",
          "Toronto, Canada",
          "Toronto, Canada",
          "Toronto, Canada",
          "Toronto, Canada",
          "Toronto, Canada",
          "Toronto, Canada",
          "Toronto, Canada",
          "Toronto, Canada",
          "Toronto, Canada",
          "Toronto, Canada",
          "Toronto, Canada",
          "Toronto, Canada",
          "Toronto, Canada",
          "Toronto, Canada",
          "Toronto, Canada",
          "Toronto, Canada",
          "Toronto, Canada",
          "Toronto, Canada",
          "Toronto, Canada",
          "Toronto, Canada",
          "Toronto, Canada",
          "Toronto, Canada",
          "Toronto, Canada",
          "Toronto, Canada",
          "Toronto, Canada",
          "Toronto, Canada",
          "Toronto, Canada",
          "Toronto, Canada",
          "Toronto, Canada",
          "Toronto, Canada",
          "Toronto, Canada",
          "Toronto, Canada",
          "Toronto, Canada",
          "Toronto, Canada",
          "Toronto, Canada",
          "Toronto, Canada",
          "Toronto, Canada",
          "Toronto, Canada",
          "Toronto, Canada",
          "Toronto, Canada",
          "Toronto, Canada",
          "Toronto, Canada",
          "Toronto, Canada",
          "Toronto, Canada",
          "Toronto, Canada",
          "Toronto, Canada",
          "Toronto, Canada",
          "Toronto, Canada",
          "Toronto, Canada",
          "Toronto, Canada",
          "Toronto, Canada",
          "Toronto, Canada",
          "Toronto, Canada",
          "Toronto, Canada",
          "Toronto, Canada",
          "Toronto, Canada",
          "Toronto, Canada",
          "Toronto, Canada",
          "Toronto, Canada",
          "Toronto, Canada",
          "Toronto, Canada",
          "Toronto, Canada",
          "Toronto, Canada",
          "Toronto, Canada",
          "Toronto, Canada",
          "Toronto, Canada",
          "Toronto, Canada",
          "Toronto, Canada",
          "Toronto, Canada",
          "Toronto, Canada",
          "Toronto, Canada",
          "Toronto, Canada",
          "Toronto, Canada",
          "Toronto, Canada",
          "Toronto, Canada",
          "Toronto, Canada",
          "Toronto, Canada",
          "Toronto, Canada",
          "Toronto, Canada",
          "Toronto, Canada",
          "Toronto, Canada",
          "Toronto, Canada",
          "Toronto, Canada",
          "Toronto, Canada",
          "Toronto, Canada",
          "Toronto, Canada",
          "Toronto, Canada",
          "Toronto, Canada",
          "Toronto, Canada",
          "Toronto, Canada",
          "Toronto, Canada",
          "Toronto, Canada",
          "Toronto, Canada",
          "Toronto, Canada",
          "Toronto, Canada",
          "Toronto, Canada",
          "Toronto, Canada",
          "Toronto, Canada",
          "Toronto, Canada",
          "Toronto, Canada",
          "Toronto, Canada",
          "Toronto, Canada",
          "Toronto, Canada",
          "Toronto, Canada",
          "Toronto, Canada",
          "Toronto, Canada",
          "Toronto, Canada",
          "Toronto, Canada",
          "Toronto, Canada",
          "Toronto, Canada",
          "Toronto, Canada",
          "Toronto, Canada",
          "Toronto, Canada",
          "Toronto, Canada",
          "Toronto, Canada",
          "Toronto, Canada",
          "Toronto, Canada",
          "Toronto, Canada",
          "Toronto, Canada",
          "Toronto, Canada",
          "Toronto, Canada",
          "Toronto, Canada",
          "Toronto, Canada",
          "Toronto, Canada",
          "Toronto, Canada",
          "Toronto, Canada",
          "Toronto, Canada",
          "Toronto, Canada",
          "Toronto, Canada",
          "Toronto, Canada",
          "Toronto, Canada",
          "Toronto, Canada",
          "Toronto, Canada",
          "Toronto, Canada",
          "Toronto, Canada",
          "Toronto, Canada",
          "Toronto, Canada",
          "Toronto, Canada",
          "Toronto, Canada",
          "Toronto, Canada",
          "Toronto, Canada",
          "Toronto, Canada",
          "Toronto, Canada",
          "Toronto, Canada",
          "Toronto, Canada",
          "Toronto, Canada",
          "Toronto, Canada",
          "Toronto, Canada",
          "Toronto, Canada",
          "Toronto, Canada",
          "Toronto, Canada",
          "Toronto, Canada",
          "Toronto, Canada",
          "Toronto, Canada",
          "Toronto, Canada",
          "Toronto, Canada",
          "Toronto, Canada",
          "Toronto, Canada",
          "Toronto, Canada",
          "Toronto, Canada",
          "Toronto, Canada",
          "Toronto, Canada",
          "Toronto, Canada",
          "Toronto, Canada",
          "Toronto, Canada",
          "Toronto, Canada",
          "Toronto, Canada",
          "Toronto, Canada",
          "Toronto, Canada",
          "Toronto, Canada",
          "Toronto, Canada",
          "Toronto, Canada",
          "Toronto, Canada",
          "Toronto, Canada",
          "Toronto, Canada",
          "Toronto, Canada",
          "Toronto, Canada",
          "Toronto, Canada",
          "Toronto, Canada",
          "Toronto, Canada",
          "Toronto, Canada",
          "Toronto, Canada",
          "Toronto, Canada",
          "Toronto, Canada",
          "Toronto, Canada",
          "Toronto, Canada",
          "Toronto, Canada",
          "Toronto, Canada",
          "Toronto, Canada",
          "Toronto, Canada",
          "Toronto, Canada",
          "Toronto, Canada",
          "Toronto, Canada",
          "Toronto, Canada",
          "Toronto, Canada",
          "Toronto, Canada",
          "Toronto, Canada",
          "Toronto, Canada",
          "Toronto, Canada",
          "Toronto, Canada",
          "Toronto, Canada",
          "Toronto, Canada",
          "Toronto, Canada",
          "Toronto, Canada",
          "Toronto, Canada",
          "Toronto, Canada",
          "Toronto, Canada",
          "Toronto, Canada",
          "Toronto, Canada",
          "Toronto, Canada",
          "Toronto, Canada",
          "Toronto, Canada",
          "Toronto, Canada",
          "Toronto, Canada",
          "Toronto, Canada",
          "Toronto, Canada",
          "Toronto, Canada",
          "Toronto, Canada",
          "Toronto, Canada",
          "Toronto, Canada",
          "Toronto, Canada",
          "Toronto, Canada",
          "Toronto, Canada",
          "Toronto, Canada",
          "Toronto, Canada",
          "Toronto, Canada",
          "Toronto, Canada",
          "Toronto, Canada",
          "Toronto, Canada",
          "Toronto, Canada",
          "Toronto, Canada",
          "Toronto, Canada",
          "Toronto, Canada",
          "Toronto, Canada",
          "Toronto, Canada",
          "Toronto, Canada",
          "Toronto, Canada",
          "Toronto, Canada",
          "Toronto, Canada",
          "Toronto, Canada",
          "Toronto, Canada",
          "Toronto, Canada",
          "Toronto, Canada",
          "Toronto, Canada",
          "Toronto, Canada",
          "Toronto, Canada",
          "Toronto, Canada",
          "Toronto, Canada",
          "Toronto, Canada",
          "Toronto, Canada",
          "Toronto, Canada",
          "Toronto, Canada",
          "Toronto, Canada",
          "Toronto, Canada",
          "Toronto, Canada",
          "Toronto, Canada",
          "Toronto, Canada",
          "Toronto, Canada",
          "Toronto, Canada",
          "Toronto, Canada",
          "Toronto, Canada",
          "Toronto, Canada",
          "Toronto, Canada",
          "Toronto, Canada",
          "Toronto, Canada",
          "Toronto, Canada",
          "Toronto, Canada",
          "Toronto, Canada",
          "Toronto, Canada",
          "Toronto, Canada",
          "Toronto, Canada",
          "Toronto, Canada",
          "Toronto, Canada",
          "Toronto, Canada",
          "Toronto, Canada",
          "Toronto, Canada",
          "Toronto, Canada",
          "Toronto, Canada",
          "Toronto, Canada",
          "Toronto, Canada",
          "Toronto, Canada",
          "Toronto, Canada",
          "Toronto, Canada",
          "Toronto, Canada",
          "Toronto, Canada",
          "Toronto, Canada",
          "Toronto, Canada",
          "Toronto, Canada",
          "Toronto, Canada",
          "Toronto, Canada",
          "Toronto, Canada",
          "Toronto, Canada",
          "Toronto, Canada",
          "Toronto, Canada",
          "Toronto, Canada",
          "Toronto, Canada",
          "Toronto, Canada",
          "Toronto, Canada",
          "Toronto, Canada",
          "Toronto, Canada",
          "Toronto, Canada",
          "Toronto, Canada",
          "Toronto, Canada",
          "Toronto, Canada",
          "Toronto, Canada",
          "Toronto, Canada",
          "Toronto, Canada",
          "Toronto, Canada",
          "Toronto, Canada",
          "Toronto, Canada",
          "Toronto, Canada",
          "Toronto, Canada",
          "Toronto, Canada",
          "Toronto, Canada",
          "Toronto, Canada",
          "Toronto, Canada",
          "Toronto, Canada",
          "Toronto, Canada",
          "Toronto, Canada",
          "Toronto, Canada",
          "Toronto, Canada",
          "Toronto, Canada",
          "Toronto, Canada",
          "Toronto, Canada",
          "Toronto, Canada",
          "Toronto, Canada",
          "Toronto, Canada",
          "Toronto, Canada",
          "Toronto, Canada",
          "Toronto, Canada",
          "Toronto, Canada",
          "Toronto, Canada",
          "Toronto, Canada",
          "Toronto, Canada",
          "Toronto, Canada",
          "Toronto, Canada",
          "Toronto, Canada",
          "Toronto, Canada",
          "Toronto, Canada",
          "Toronto, Canada",
          "Toronto, Canada",
          "Toronto, Canada",
          "Toronto, Canada",
          "Toronto, Canada",
          "Toronto, Canada",
          "Toronto, Canada",
          "Toronto, Canada",
          "Toronto, Canada",
          "Toronto, Canada",
          "Toronto, Canada",
          "Toronto, Canada",
          "Toronto, Canada",
          "Toronto, Canada",
          "Toronto, Canada",
          "Toronto, Canada",
          "Toronto, Canada",
          "Toronto, Canada",
          "Toronto, Canada",
          "Toronto, Canada",
          "Toronto, Canada",
          "Toronto, Canada",
          "Toronto, Canada",
          "Toronto, Canada",
          "Toronto, Canada",
          "Toronto, Canada",
          "Toronto, Canada",
          "Toronto, Canada",
          "Toronto, Canada",
          "Toronto, Canada",
          "Toronto, Canada",
          "Toronto, Canada",
          "Toronto, Canada",
          "Toronto, Canada",
          "Toronto, Canada",
          "Toronto, Canada",
          "Toronto, Canada",
          "Toronto, Canada",
          "Toronto, Canada",
          "Toronto, Canada",
          "Toronto, Canada",
          "Toronto, Canada",
          "Toronto, Canada",
          "Toronto, Canada",
          "Toronto, Canada",
          "Toronto, Canada",
          "Toronto, Canada",
          "Toronto, Canada",
          "Toronto, Canada",
          "Toronto, Canada",
          "Toronto, Canada",
          "Toronto, Canada",
          "Toronto, Canada",
          "Toronto, Canada",
          "Toronto, Canada",
          "Toronto, Canada",
          "Toronto, Canada",
          "Toronto, Canada",
          "Toronto, Canada",
          "Toronto, Canada",
          "Toronto, Canada",
          "Toronto, Canada",
          "Toronto, Canada",
          "Toronto, Canada",
          "Toronto, Canada",
          "Toronto, Canada",
          "Toronto, Canada",
          "Toronto, Canada",
          "Toronto, Canada",
          "Toronto, Canada",
          "Toronto, Canada",
          "Toronto, Canada",
          "Toronto, Canada",
          "Toronto, Canada",
          "Toronto, Canada",
          "Toronto, Canada",
          "Toronto, Canada",
          "Toronto, Canada",
          "Toronto, Canada",
          "Toronto, Canada",
          "Toronto, Canada",
          "Toronto, Canada",
          "Toronto, Canada",
          "Toronto, Canada",
          "Toronto, Canada",
          "Toronto, Canada",
          "Toronto, Canada",
          "Toronto, Canada",
          "Toronto, Canada",
          "Toronto, Canada",
          "Toronto, Canada",
          "Toronto, Canada",
          "Toronto, Canada",
          "Toronto, Canada",
          "Toronto, Canada",
          "Toronto, Canada",
          "Toronto, Canada",
          "Toronto, Canada",
          "Toronto, Canada",
          "Toronto, Canada",
          "Toronto, Canada",
          "Toronto, Canada",
          "Toronto, Canada",
          "Toronto, Canada",
          "Toronto, Canada",
          "Toronto, Canada",
          "Toronto, Canada",
          "Toronto, Canada",
          "Toronto, Canada",
          "Toronto, Canada",
          "Toronto, Canada",
          "Toronto, Canada",
          "Toronto, Canada",
          "Toronto, Canada",
          "Toronto, Canada",
          "Toronto, Canada",
          "Toronto, Canada",
          "Toronto, Canada",
          "Toronto, Canada",
          "Toronto, Canada",
          "Toronto, Canada",
          "Toronto, Canada",
          "Toronto, Canada",
          "Toronto, Canada",
          "Toronto, Canada",
          "Toronto, Canada",
          "Toronto, Canada",
          "Toronto, Canada",
          "Toronto, Canada",
          "Toronto, Canada",
          "Toronto, Canada",
          "Toronto, Canada",
          "Toronto, Canada",
          "Toronto, Canada",
          "Toronto, Canada",
          "Toronto, Canada",
          "Toronto, Canada",
          "Toronto, Canada",
          "Toronto, Canada",
          "Toronto, Canada",
          "Nice, France",
          "Nice, France",
          "Nice, France",
          "Nice, France",
          "Nice, France",
          "Nice, France",
          "Nice, France",
          "Nice, France",
          "Nice, France",
          "Nice, France",
          "Nice, France",
          "Nice, France",
          "Nice, France",
          "Nice, France",
          "Nice, France",
          "Nice, France",
          "Nice, France",
          "Nice, France",
          "Nice, France",
          "Nice, France",
          "Nice, France",
          "Nice, France",
          "Nice, France",
          "Nice, France",
          "Nice, France",
          "Nice, France",
          "Nice, France",
          "Nice, France",
          "Nice, France",
          "Nice, France",
          "Nice, France",
          "Nice, France",
          "Nice, France",
          "Nice, France",
          "Nice, France",
          "Nice, France",
          "Nice, France",
          "Nice, France",
          "Nice, France",
          "Nice, France",
          "Nice, France",
          "Nice, France",
          "Nice, France",
          "Nice, France",
          "Nice, France",
          "Nice, France",
          "Nice, France",
          "Nice, France",
          "Nice, France",
          "Nice, France",
          "Nice, France",
          "Nice, France",
          "Nice, France",
          "Nice, France",
          "Nice, France",
          "Nice, France",
          "Nice, France",
          "Nice, France",
          "Nice, France",
          "Nice, France",
          "Nice, France",
          "Nice, France",
          "Nice, France",
          "Nice, France",
          "Nice, France",
          "Nice, France",
          "Nice, France",
          "Nice, France",
          "Nice, France",
          "Nice, France",
          "Nice, France",
          "Nice, France",
          "Nice, France",
          "Nice, France",
          "Nice, France",
          "Nice, France",
          "Nice, France",
          "Nice, France",
          "Nice, France",
          "Nice, France",
          "Nice, France",
          "Nice, France",
          "Nice, France",
          "Nice, France",
          "Nice, France",
          "Nice, France",
          "Nice, France",
          "Nice, France",
          "Nice, France",
          "Nice, France",
          "Nice, France",
          "Paris, France",
          "Paris, France",
          "Paris, France",
          "Paris, France",
          "Paris, France",
          "Paris, France",
          "Paris, France",
          "Paris, France",
          "Paris, France",
          "Paris, France",
          "Paris, France",
          "Paris, France",
          "Paris, France",
          "Paris, France",
          "Paris, France",
          "Paris, France",
          "Paris, France",
          "Paris, France",
          "Paris, France",
          "Paris, France",
          "Paris, France",
          "Paris, France",
          "Paris, France",
          "Paris, France",
          "Paris, France",
          "Paris, France",
          "Paris, France",
          "Paris, France",
          "Paris, France",
          "Paris, France",
          "Paris, France",
          "Paris, France",
          "Paris, France",
          "Paris, France",
          "Paris, France",
          "Paris, France",
          "Paris, France",
          "Los Angeles, United States",
          "Los Angeles, United States",
          "Los Angeles, United States",
          "Los Angeles, United States",
          "Los Angeles, United States",
          "Los Angeles, United States",
          "Los Angeles, United States",
          "Los Angeles, United States",
          "Los Angeles, United States",
          "Los Angeles, United States",
          "Los Angeles, United States",
          "Los Angeles, United States",
          "Los Angeles, United States",
          "Los Angeles, United States",
          "Los Angeles, United States",
          "Los Angeles, United States",
          "Los Angeles, United States",
          "Los Angeles, United States",
          "Los Angeles, United States",
          "Los Angeles, United States",
          "Los Angeles, United States",
          "Los Angeles, United States",
          "Los Angeles, United States",
          "Montréal, Canada",
          "Montréal, Canada",
          "Montréal, Canada",
          "Montréal, Canada",
          "Montréal, Canada",
          "Montréal, Canada",
          "Montréal, Canada",
          "Montréal, Canada",
          "Montréal, Canada",
          "Montréal, Canada",
          "Montréal, Canada",
          "Montréal, Canada",
          "Montréal, Canada",
          "Montréal, Canada",
          "Montréal, Canada",
          "Montréal, Canada",
          "Montréal, Canada",
          "Montréal, Canada",
          "Montréal, Canada",
          "Montréal, Canada",
          "Montréal, Canada",
          "Montréal, Canada",
          "Philadelphia, United States",
          "Philadelphia, United States",
          "Philadelphia, United States",
          "Philadelphia, United States",
          "Philadelphia, United States",
          "Philadelphia, United States",
          "Philadelphia, United States",
          "Philadelphia, United States",
          "Philadelphia, United States",
          "Philadelphia, United States",
          "Philadelphia, United States",
          "Philadelphia, United States",
          "Philadelphia, United States",
          "Philadelphia, United States",
          "Philadelphia, United States",
          "Philadelphia, United States",
          "Philadelphia, United States",
          "Philadelphia, United States",
          "Philadelphia, United States",
          "Philadelphia, United States",
          "Philadelphia, United States",
          "New York, United States",
          "New York, United States",
          "New York, United States",
          "New York, United States",
          "New York, United States",
          "New York, United States",
          "New York, United States",
          "New York, United States",
          "New York, United States",
          "New York, United States",
          "New York, United States",
          "New York, United States",
          "New York, United States",
          "New York, United States",
          "New York, United States",
          "New York, United States",
          "New York, United States",
          "New York, United States",
          "New York, United States",
          "Villemus, France",
          "Villemus, France",
          "Villemus, France",
          "Villemus, France",
          "Villemus, France",
          "Villemus, France",
          "Villemus, France",
          "Villemus, France",
          "Villemus, France",
          "Villemus, France",
          "Villemus, France",
          "Villemus, France",
          "Villemus, France",
          "Villemus, France",
          "Villemus, France",
          "Burlington, Canada",
          "Burlington, Canada",
          "Burlington, Canada",
          "Burlington, Canada",
          "Burlington, Canada",
          "Burlington, Canada",
          "Burlington, Canada",
          "Burlington, Canada",
          "Carcassonne, France",
          "Carcassonne, France",
          "Carcassonne, France",
          "Carcassonne, France",
          "Carcassonne, France",
          "Carcassonne, France",
          "Carcassonne, France",
          "Santa Monica, United States",
          "Santa Monica, United States",
          "Santa Monica, United States",
          "Santa Monica, United States",
          "Santa Monica, United States",
          "Couches, France",
          "Couches, France",
          "Couches, France",
          "Couches, France",
          "Couches, France",
          "Goleta, United States",
          "Goleta, United States",
          "Goleta, United States",
          "Goleta, United States",
          "Lexington, United States",
          "Lexington, United States",
          "Lexington, United States",
          "Lexington, United States",
          "Boston, United States",
          "Boston, United States",
          "Boston, United States",
          "Boston, United States",
          "Philipstown, United States",
          "Philipstown, United States",
          "Philipstown, United States",
          "Champagny-en-Vanoise, France",
          "Champagny-en-Vanoise, France",
          "Champagny-en-Vanoise, France",
          "Dingy-Saint-Clair, France",
          "Dingy-Saint-Clair, France",
          "East Bloomfield, United States",
          "East Bloomfield, United States",
          "Mississauga, Canada",
          "Mississauga, Canada",
          "Aix-les-Bains, France",
          "Tobyhanna, United States",
          "Bergen, United States",
          "Cannes, France",
          "Saint-Chamond, France",
          "Bluffton, United States",
          "L'Escarène, France",
          "Saint-Laurent-du-Var, France",
          "Èze, France",
          "Joshua Tree, United States",
          "Coxsackie, United States",
          "Prescott Valley, United States",
          "Halifax, Canada",
          "Saint-Étienne, France",
          "Vence, France",
          "Mendon, United States",
          "Mifflin, United States",
          "Banon, France",
          "Fort Erie, Canada",
          "Waitsfield, United States",
          "Lyndhurst, United States",
          "Newark, United States",
          "North Frontenac, Canada",
          "Cassis, France",
          "Vienne, France"
         ],
         "type": "scattergeo"
        }
       ],
       "layout": {
        "autosize": true,
        "geo": {
         "center": {
          "lat": 1.3168916810811155,
          "lon": 2.285041296421376
         },
         "projection": {
          "rotation": {
           "lon": 2.285041296421376
          },
          "scale": 1.0660267588578116
         },
         "scope": "world"
        },
        "template": {
         "data": {
          "bar": [
           {
            "error_x": {
             "color": "#2a3f5f"
            },
            "error_y": {
             "color": "#2a3f5f"
            },
            "marker": {
             "line": {
              "color": "#E5ECF6",
              "width": 0.5
             }
            },
            "type": "bar"
           }
          ],
          "barpolar": [
           {
            "marker": {
             "line": {
              "color": "#E5ECF6",
              "width": 0.5
             }
            },
            "type": "barpolar"
           }
          ],
          "carpet": [
           {
            "aaxis": {
             "endlinecolor": "#2a3f5f",
             "gridcolor": "white",
             "linecolor": "white",
             "minorgridcolor": "white",
             "startlinecolor": "#2a3f5f"
            },
            "baxis": {
             "endlinecolor": "#2a3f5f",
             "gridcolor": "white",
             "linecolor": "white",
             "minorgridcolor": "white",
             "startlinecolor": "#2a3f5f"
            },
            "type": "carpet"
           }
          ],
          "choropleth": [
           {
            "colorbar": {
             "outlinewidth": 0,
             "ticks": ""
            },
            "type": "choropleth"
           }
          ],
          "contour": [
           {
            "colorbar": {
             "outlinewidth": 0,
             "ticks": ""
            },
            "colorscale": [
             [
              0,
              "#0d0887"
             ],
             [
              0.1111111111111111,
              "#46039f"
             ],
             [
              0.2222222222222222,
              "#7201a8"
             ],
             [
              0.3333333333333333,
              "#9c179e"
             ],
             [
              0.4444444444444444,
              "#bd3786"
             ],
             [
              0.5555555555555556,
              "#d8576b"
             ],
             [
              0.6666666666666666,
              "#ed7953"
             ],
             [
              0.7777777777777778,
              "#fb9f3a"
             ],
             [
              0.8888888888888888,
              "#fdca26"
             ],
             [
              1,
              "#f0f921"
             ]
            ],
            "type": "contour"
           }
          ],
          "contourcarpet": [
           {
            "colorbar": {
             "outlinewidth": 0,
             "ticks": ""
            },
            "type": "contourcarpet"
           }
          ],
          "heatmap": [
           {
            "colorbar": {
             "outlinewidth": 0,
             "ticks": ""
            },
            "colorscale": [
             [
              0,
              "#0d0887"
             ],
             [
              0.1111111111111111,
              "#46039f"
             ],
             [
              0.2222222222222222,
              "#7201a8"
             ],
             [
              0.3333333333333333,
              "#9c179e"
             ],
             [
              0.4444444444444444,
              "#bd3786"
             ],
             [
              0.5555555555555556,
              "#d8576b"
             ],
             [
              0.6666666666666666,
              "#ed7953"
             ],
             [
              0.7777777777777778,
              "#fb9f3a"
             ],
             [
              0.8888888888888888,
              "#fdca26"
             ],
             [
              1,
              "#f0f921"
             ]
            ],
            "type": "heatmap"
           }
          ],
          "heatmapgl": [
           {
            "colorbar": {
             "outlinewidth": 0,
             "ticks": ""
            },
            "colorscale": [
             [
              0,
              "#0d0887"
             ],
             [
              0.1111111111111111,
              "#46039f"
             ],
             [
              0.2222222222222222,
              "#7201a8"
             ],
             [
              0.3333333333333333,
              "#9c179e"
             ],
             [
              0.4444444444444444,
              "#bd3786"
             ],
             [
              0.5555555555555556,
              "#d8576b"
             ],
             [
              0.6666666666666666,
              "#ed7953"
             ],
             [
              0.7777777777777778,
              "#fb9f3a"
             ],
             [
              0.8888888888888888,
              "#fdca26"
             ],
             [
              1,
              "#f0f921"
             ]
            ],
            "type": "heatmapgl"
           }
          ],
          "histogram": [
           {
            "marker": {
             "colorbar": {
              "outlinewidth": 0,
              "ticks": ""
             }
            },
            "type": "histogram"
           }
          ],
          "histogram2d": [
           {
            "colorbar": {
             "outlinewidth": 0,
             "ticks": ""
            },
            "colorscale": [
             [
              0,
              "#0d0887"
             ],
             [
              0.1111111111111111,
              "#46039f"
             ],
             [
              0.2222222222222222,
              "#7201a8"
             ],
             [
              0.3333333333333333,
              "#9c179e"
             ],
             [
              0.4444444444444444,
              "#bd3786"
             ],
             [
              0.5555555555555556,
              "#d8576b"
             ],
             [
              0.6666666666666666,
              "#ed7953"
             ],
             [
              0.7777777777777778,
              "#fb9f3a"
             ],
             [
              0.8888888888888888,
              "#fdca26"
             ],
             [
              1,
              "#f0f921"
             ]
            ],
            "type": "histogram2d"
           }
          ],
          "histogram2dcontour": [
           {
            "colorbar": {
             "outlinewidth": 0,
             "ticks": ""
            },
            "colorscale": [
             [
              0,
              "#0d0887"
             ],
             [
              0.1111111111111111,
              "#46039f"
             ],
             [
              0.2222222222222222,
              "#7201a8"
             ],
             [
              0.3333333333333333,
              "#9c179e"
             ],
             [
              0.4444444444444444,
              "#bd3786"
             ],
             [
              0.5555555555555556,
              "#d8576b"
             ],
             [
              0.6666666666666666,
              "#ed7953"
             ],
             [
              0.7777777777777778,
              "#fb9f3a"
             ],
             [
              0.8888888888888888,
              "#fdca26"
             ],
             [
              1,
              "#f0f921"
             ]
            ],
            "type": "histogram2dcontour"
           }
          ],
          "mesh3d": [
           {
            "colorbar": {
             "outlinewidth": 0,
             "ticks": ""
            },
            "type": "mesh3d"
           }
          ],
          "parcoords": [
           {
            "line": {
             "colorbar": {
              "outlinewidth": 0,
              "ticks": ""
             }
            },
            "type": "parcoords"
           }
          ],
          "pie": [
           {
            "automargin": true,
            "type": "pie"
           }
          ],
          "scatter": [
           {
            "marker": {
             "colorbar": {
              "outlinewidth": 0,
              "ticks": ""
             }
            },
            "type": "scatter"
           }
          ],
          "scatter3d": [
           {
            "line": {
             "colorbar": {
              "outlinewidth": 0,
              "ticks": ""
             }
            },
            "marker": {
             "colorbar": {
              "outlinewidth": 0,
              "ticks": ""
             }
            },
            "type": "scatter3d"
           }
          ],
          "scattercarpet": [
           {
            "marker": {
             "colorbar": {
              "outlinewidth": 0,
              "ticks": ""
             }
            },
            "type": "scattercarpet"
           }
          ],
          "scattergeo": [
           {
            "marker": {
             "colorbar": {
              "outlinewidth": 0,
              "ticks": ""
             }
            },
            "type": "scattergeo"
           }
          ],
          "scattergl": [
           {
            "marker": {
             "colorbar": {
              "outlinewidth": 0,
              "ticks": ""
             }
            },
            "type": "scattergl"
           }
          ],
          "scattermapbox": [
           {
            "marker": {
             "colorbar": {
              "outlinewidth": 0,
              "ticks": ""
             }
            },
            "type": "scattermapbox"
           }
          ],
          "scatterpolar": [
           {
            "marker": {
             "colorbar": {
              "outlinewidth": 0,
              "ticks": ""
             }
            },
            "type": "scatterpolar"
           }
          ],
          "scatterpolargl": [
           {
            "marker": {
             "colorbar": {
              "outlinewidth": 0,
              "ticks": ""
             }
            },
            "type": "scatterpolargl"
           }
          ],
          "scatterternary": [
           {
            "marker": {
             "colorbar": {
              "outlinewidth": 0,
              "ticks": ""
             }
            },
            "type": "scatterternary"
           }
          ],
          "surface": [
           {
            "colorbar": {
             "outlinewidth": 0,
             "ticks": ""
            },
            "colorscale": [
             [
              0,
              "#0d0887"
             ],
             [
              0.1111111111111111,
              "#46039f"
             ],
             [
              0.2222222222222222,
              "#7201a8"
             ],
             [
              0.3333333333333333,
              "#9c179e"
             ],
             [
              0.4444444444444444,
              "#bd3786"
             ],
             [
              0.5555555555555556,
              "#d8576b"
             ],
             [
              0.6666666666666666,
              "#ed7953"
             ],
             [
              0.7777777777777778,
              "#fb9f3a"
             ],
             [
              0.8888888888888888,
              "#fdca26"
             ],
             [
              1,
              "#f0f921"
             ]
            ],
            "type": "surface"
           }
          ],
          "table": [
           {
            "cells": {
             "fill": {
              "color": "#EBF0F8"
             },
             "line": {
              "color": "white"
             }
            },
            "header": {
             "fill": {
              "color": "#C8D4E3"
             },
             "line": {
              "color": "white"
             }
            },
            "type": "table"
           }
          ]
         },
         "layout": {
          "annotationdefaults": {
           "arrowcolor": "#2a3f5f",
           "arrowhead": 0,
           "arrowwidth": 1
          },
          "coloraxis": {
           "colorbar": {
            "outlinewidth": 0,
            "ticks": ""
           }
          },
          "colorscale": {
           "diverging": [
            [
             0,
             "#8e0152"
            ],
            [
             0.1,
             "#c51b7d"
            ],
            [
             0.2,
             "#de77ae"
            ],
            [
             0.3,
             "#f1b6da"
            ],
            [
             0.4,
             "#fde0ef"
            ],
            [
             0.5,
             "#f7f7f7"
            ],
            [
             0.6,
             "#e6f5d0"
            ],
            [
             0.7,
             "#b8e186"
            ],
            [
             0.8,
             "#7fbc41"
            ],
            [
             0.9,
             "#4d9221"
            ],
            [
             1,
             "#276419"
            ]
           ],
           "sequential": [
            [
             0,
             "#0d0887"
            ],
            [
             0.1111111111111111,
             "#46039f"
            ],
            [
             0.2222222222222222,
             "#7201a8"
            ],
            [
             0.3333333333333333,
             "#9c179e"
            ],
            [
             0.4444444444444444,
             "#bd3786"
            ],
            [
             0.5555555555555556,
             "#d8576b"
            ],
            [
             0.6666666666666666,
             "#ed7953"
            ],
            [
             0.7777777777777778,
             "#fb9f3a"
            ],
            [
             0.8888888888888888,
             "#fdca26"
            ],
            [
             1,
             "#f0f921"
            ]
           ],
           "sequentialminus": [
            [
             0,
             "#0d0887"
            ],
            [
             0.1111111111111111,
             "#46039f"
            ],
            [
             0.2222222222222222,
             "#7201a8"
            ],
            [
             0.3333333333333333,
             "#9c179e"
            ],
            [
             0.4444444444444444,
             "#bd3786"
            ],
            [
             0.5555555555555556,
             "#d8576b"
            ],
            [
             0.6666666666666666,
             "#ed7953"
            ],
            [
             0.7777777777777778,
             "#fb9f3a"
            ],
            [
             0.8888888888888888,
             "#fdca26"
            ],
            [
             1,
             "#f0f921"
            ]
           ]
          },
          "colorway": [
           "#636efa",
           "#EF553B",
           "#00cc96",
           "#ab63fa",
           "#FFA15A",
           "#19d3f3",
           "#FF6692",
           "#B6E880",
           "#FF97FF",
           "#FECB52"
          ],
          "font": {
           "color": "#2a3f5f"
          },
          "geo": {
           "bgcolor": "white",
           "lakecolor": "white",
           "landcolor": "#E5ECF6",
           "showlakes": true,
           "showland": true,
           "subunitcolor": "white"
          },
          "hoverlabel": {
           "align": "left"
          },
          "hovermode": "closest",
          "mapbox": {
           "style": "light"
          },
          "paper_bgcolor": "white",
          "plot_bgcolor": "#E5ECF6",
          "polar": {
           "angularaxis": {
            "gridcolor": "white",
            "linecolor": "white",
            "ticks": ""
           },
           "bgcolor": "#E5ECF6",
           "radialaxis": {
            "gridcolor": "white",
            "linecolor": "white",
            "ticks": ""
           }
          },
          "scene": {
           "xaxis": {
            "backgroundcolor": "#E5ECF6",
            "gridcolor": "white",
            "gridwidth": 2,
            "linecolor": "white",
            "showbackground": true,
            "ticks": "",
            "zerolinecolor": "white"
           },
           "yaxis": {
            "backgroundcolor": "#E5ECF6",
            "gridcolor": "white",
            "gridwidth": 2,
            "linecolor": "white",
            "showbackground": true,
            "ticks": "",
            "zerolinecolor": "white"
           },
           "zaxis": {
            "backgroundcolor": "#E5ECF6",
            "gridcolor": "white",
            "gridwidth": 2,
            "linecolor": "white",
            "showbackground": true,
            "ticks": "",
            "zerolinecolor": "white"
           }
          },
          "shapedefaults": {
           "line": {
            "color": "#2a3f5f"
           }
          },
          "ternary": {
           "aaxis": {
            "gridcolor": "white",
            "linecolor": "white",
            "ticks": ""
           },
           "baxis": {
            "gridcolor": "white",
            "linecolor": "white",
            "ticks": ""
           },
           "bgcolor": "#E5ECF6",
           "caxis": {
            "gridcolor": "white",
            "linecolor": "white",
            "ticks": ""
           }
          },
          "title": {
           "x": 0.05
          },
          "xaxis": {
           "automargin": true,
           "gridcolor": "white",
           "linecolor": "white",
           "ticks": "",
           "title": {
            "standoff": 15
           },
           "zerolinecolor": "white",
           "zerolinewidth": 2
          },
          "yaxis": {
           "automargin": true,
           "gridcolor": "white",
           "linecolor": "white",
           "ticks": "",
           "title": {
            "standoff": 15
           },
           "zerolinecolor": "white",
           "zerolinewidth": 2
          }
         }
        },
        "title": {
         "text": "minutiae cycle locations<br>(Hover for location names)"
        }
       }
      },
      "image/png": "[encoded data removed]",
      "text/html": [
       "<div>\n",
       "        \n",
       "        \n",
       "            <div id=\"2357003d-900f-4a6c-8c79-ec913e082128\" class=\"plotly-graph-div\" style=\"height:700px; width:100%;\"></div>\n",
       "            <script type=\"text/javascript\">\n",
       "                require([\"plotly\"], function(Plotly) {\n",
       "                    window.PLOTLYENV=window.PLOTLYENV || {};\n",
       "                    \n",
       "                if (document.getElementById(\"2357003d-900f-4a6c-8c79-ec913e082128\")) {\n",
       "                    Plotly.newPlot(\n",
       "                        '2357003d-900f-4a6c-8c79-ec913e082128',\n",
       "                        [{\"lat\": [43.651893, 43.651893, 43.651893, 43.651893, 43.651893, 43.651893, 43.651893, 43.651893, 43.651893, 43.651893, 43.651893, 43.651893, 43.651893, 43.651893, 43.651893, 43.651893, 43.651893, 43.651893, 43.651893, 43.651893, 43.651893, 43.651893, 43.651893, 43.651893, 43.651893, 43.651893, 43.651893, 43.651893, 43.651893, 43.651893, 43.651893, 43.651893, 43.651893, 43.651893, 43.651893, 43.651893, 43.651893, 43.651893, 43.651893, 43.651893, 43.651893, 43.651893, 43.651893, 43.651893, 43.651893, 43.651893, 43.651893, 43.651893, 43.651893, 43.651893, 43.651893, 43.651893, 43.651893, 43.651893, 43.651893, 43.651893, 43.651893, 43.651893, 43.651893, 43.651893, 43.651893, 43.651893, 43.651893, 43.651893, 43.651893, 43.651893, 43.651893, 43.651893, 43.651893, 43.651893, 43.651893, 43.651893, 43.651893, 43.651893, 43.651893, 43.651893, 43.651893, 43.651893, 43.651893, 43.651893, 43.651893, 43.651893, 43.651893, 43.651893, 43.651893, 43.651893, 43.651893, 43.651893, 43.651893, 43.651893, 43.651893, 43.651893, 43.651893, 43.651893, 43.651893, 43.651893, 43.651893, 43.651893, 43.651893, 43.651893, 43.651893, 43.651893, 43.651893, 43.651893, 43.651893, 43.651893, 43.651893, 43.651893, 43.651893, 43.651893, 43.651893, 43.651893, 43.651893, 43.651893, 43.651893, 43.651893, 43.651893, 43.651893, 43.651893, 43.651893, 43.651893, 43.651893, 43.651893, 43.651893, 43.651893, 43.651893, 43.651893, 43.651893, 43.651893, 43.651893, 43.651893, 43.651893, 43.651893, 43.651893, 43.651893, 43.651893, 43.651893, 43.651893, 43.651893, 43.651893, 43.651893, 43.651893, 43.651893, 43.651893, 43.651893, 43.651893, 43.651893, 43.651893, 43.651893, 43.651893, 43.651893, 43.651893, 43.651893, 43.651893, 43.651893, 43.651893, 43.651893, 43.651893, 43.651893, 43.651893, 43.651893, 43.651893, 43.651893, 43.651893, 43.651893, 43.651893, 43.651893, 43.651893, 43.651893, 43.651893, 43.651893, 43.651893, 43.651893, 43.651893, 43.651893, 43.651893, 43.651893, 43.651893, 43.651893, 43.651893, 43.651893, 43.651893, 43.651893, 43.651893, 43.651893, 43.651893, 43.651893, 43.651893, 43.651893, 43.651893, 43.651893, 43.651893, 43.651893, 43.651893, 43.651893, 43.651893, 43.651893, 43.651893, 43.651893, 43.651893, 43.651893, 43.651893, 43.651893, 43.651893, 43.651893, 43.651893, 43.651893, 43.651893, 43.651893, 43.651893, 43.651893, 43.651893, 43.651893, 43.651893, 43.651893, 43.651893, 43.651893, 43.651893, 43.651893, 43.651893, 43.651893, 43.651893, 43.651893, 43.651893, 43.651893, 43.651893, 43.651893, 43.651893, 43.651893, 43.651893, 43.651893, 43.651893, 43.651893, 43.651893, 43.651893, 43.651893, 43.651893, 43.651893, 43.651893, 43.651893, 43.651893, 43.651893, 43.651893, 43.651893, 43.651893, 43.651893, 43.651893, 43.651893, 43.651893, 43.651893, 43.651893, 43.651893, 43.651893, 43.651893, 43.651893, 43.651893, 43.651893, 43.651893, 43.651893, 43.651893, 43.651893, 43.651893, 43.651893, 43.651893, 43.651893, 43.651893, 43.651893, 43.651893, 43.651893, 43.651893, 43.651893, 43.651893, 43.651893, 43.651893, 43.651893, 43.651893, 43.651893, 43.651893, 43.651893, 43.651893, 43.651893, 43.651893, 43.651893, 43.651893, 43.651893, 43.651893, 43.651893, 43.651893, 43.651893, 43.651893, 43.651893, 43.651893, 43.651893, 43.651893, 43.651893, 43.651893, 43.651893, 43.651893, 43.651893, 43.651893, 43.651893, 43.651893, 43.651893, 43.651893, 43.651893, 43.651893, 43.651893, 43.651893, 43.651893, 43.651893, 43.651893, 43.651893, 43.651893, 43.651893, 43.651893, 43.651893, 43.651893, 43.651893, 43.651893, 43.651893, 43.651893, 43.651893, 43.651893, 43.651893, 43.651893, 43.651893, 43.651893, 43.651893, 43.651893, 43.651893, 43.651893, 43.651893, 43.651893, 43.651893, 43.651893, 43.651893, 43.651893, 43.651893, 43.651893, 43.651893, 43.651893, 43.651893, 43.651893, 43.651893, 43.651893, 43.651893, 43.651893, 43.651893, 43.651893, 43.651893, 43.651893, 43.651893, 43.651893, 43.651893, 43.651893, 43.651893, 43.651893, 43.651893, 43.651893, 43.651893, 43.651893, 43.651893, 43.651893, 43.651893, 43.651893, 43.651893, 43.651893, 43.651893, 43.651893, 43.651893, 43.651893, 43.651893, 43.651893, 43.651893, 43.651893, 43.651893, 43.651893, 43.651893, 43.651893, 43.651893, 43.651893, 43.651893, 43.651893, 43.651893, 43.651893, 43.651893, 43.651893, 43.651893, 43.651893, 43.651893, 43.651893, 43.651893, 43.651893, 43.651893, 43.651893, 43.651893, 43.651893, 43.651893, 43.651893, 43.651893, 43.651893, 43.651893, 43.651893, 43.651893, 43.651893, 43.651893, 43.651893, 43.651893, 43.651893, 43.651893, 43.651893, 43.651893, 43.651893, 43.651893, 43.651893, 43.651893, 43.651893, 43.651893, 43.651893, 43.651893, 43.651893, 43.651893, 43.651893, 43.651893, 43.651893, 43.651893, 43.651893, 43.651893, 43.651893, 43.651893, 43.651893, 43.651893, 43.651893, 43.651893, 43.651893, 43.651893, 43.651893, 43.651893, 43.651893, 43.651893, 43.651893, 43.651893, 43.651893, 43.651893, 43.651893, 43.651893, 43.651893, 43.651893, 43.651893, 43.651893, 43.651893, 43.651893, 43.651893, 43.651893, 43.651893, 43.651893, 43.651893, 43.651893, 43.651893, 43.651893, 43.651893, 43.651893, 43.651893, 43.651893, 43.651893, 43.651893, 43.651893, 43.651893, 43.651893, 43.651893, 43.651893, 43.651893, 43.651893, 43.651893, 43.651893, 43.651893, 43.651893, 43.651893, 43.651893, 43.651893, 43.651893, 43.651893, 43.651893, 43.651893, 43.651893, 43.651893, 43.651893, 43.651893, 43.651893, 43.651893, 43.651893, 43.651893, 43.651893, 43.651893, 43.651893, 43.651893, 43.651893, 43.651893, 43.651893, 43.651893, 43.651893, 43.651893, 43.651893, 43.651893, 43.651893, 43.651893, 43.651893, 43.700936, 43.700936, 43.700936, 43.700936, 43.700936, 43.700936, 43.700936, 43.700936, 43.700936, 43.700936, 43.700936, 43.700936, 43.700936, 43.700936, 43.700936, 43.700936, 43.700936, 43.700936, 43.700936, 43.700936, 43.700936, 43.700936, 43.700936, 43.700936, 43.700936, 43.700936, 43.700936, 43.700936, 43.700936, 43.700936, 43.700936, 43.700936, 43.700936, 43.700936, 43.700936, 43.700936, 43.700936, 43.700936, 43.700936, 43.700936, 43.700936, 43.700936, 43.700936, 43.700936, 43.700936, 43.700936, 43.700936, 43.700936, 43.700936, 43.700936, 43.700936, 43.700936, 43.700936, 43.700936, 43.700936, 43.700936, 43.700936, 43.700936, 43.700936, 43.700936, 43.700936, 43.700936, 43.700936, 43.700936, 43.700936, 43.700936, 43.700936, 43.700936, 43.700936, 43.700936, 43.700936, 43.700936, 43.700936, 43.700936, 43.700936, 43.700936, 43.700936, 43.700936, 43.700936, 43.700936, 43.700936, 43.700936, 43.700936, 43.700936, 43.700936, 43.700936, 43.700936, 43.700936, 43.700936, 43.700936, 43.700936, 48.856506, 48.856506, 48.856506, 48.856506, 48.856506, 48.856506, 48.856506, 48.856506, 48.856506, 48.856506, 48.856506, 48.856506, 48.856506, 48.856506, 48.856506, 48.856506, 48.856506, 48.856506, 48.856506, 48.856506, 48.856506, 48.856506, 48.856506, 48.856506, 48.856506, 48.856506, 48.856506, 48.856506, 48.856506, 48.856506, 48.856506, 48.856506, 48.856506, 48.856506, 48.856506, 48.856506, 48.856506, 34.052238, 34.052238, 34.052238, 34.052238, 34.052238, 34.052238, 34.052238, 34.052238, 34.052238, 34.052238, 34.052238, 34.052238, 34.052238, 34.052238, 34.052238, 34.052238, 34.052238, 34.052238, 34.052238, 34.052238, 34.052238, 34.052238, 34.052238, 45.509062, 45.509062, 45.509062, 45.509062, 45.509062, 45.509062, 45.509062, 45.509062, 45.509062, 45.509062, 45.509062, 45.509062, 45.509062, 45.509062, 45.509062, 45.509062, 45.509062, 45.509062, 45.509062, 45.509062, 45.509062, 45.509062, 39.951060999999996, 39.951060999999996, 39.951060999999996, 39.951060999999996, 39.951060999999996, 39.951060999999996, 39.951060999999996, 39.951060999999996, 39.951060999999996, 39.951060999999996, 39.951060999999996, 39.951060999999996, 39.951060999999996, 39.951060999999996, 39.951060999999996, 39.951060999999996, 39.951060999999996, 39.951060999999996, 39.951060999999996, 39.951060999999996, 39.951060999999996, 40.713054, 40.713054, 40.713054, 40.713054, 40.713054, 40.713054, 40.713054, 40.713054, 40.713054, 40.713054, 40.713054, 40.713054, 40.713054, 40.713054, 40.713054, 40.713054, 40.713054, 40.713054, 40.713054, 43.858599, 43.858599, 43.858599, 43.858599, 43.858599, 43.858599, 43.858599, 43.858599, 43.858599, 43.858599, 43.858599, 43.858599, 43.858599, 43.858599, 43.858599, 43.325990999999995, 43.325990999999995, 43.325990999999995, 43.325990999999995, 43.325990999999995, 43.325990999999995, 43.325990999999995, 43.325990999999995, 43.213035999999995, 43.213035999999995, 43.213035999999995, 43.213035999999995, 43.213035999999995, 43.213035999999995, 43.213035999999995, 34.010932000000004, 34.010932000000004, 34.010932000000004, 34.010932000000004, 34.010932000000004, 46.869043, 46.869043, 46.869043, 46.869043, 46.869043, 34.432827, 34.432827, 34.432827, 34.432827, 38.046356, 38.046356, 38.046356, 38.046356, 42.358894, 42.358894, 42.358894, 42.358894, 41.424834999999995, 41.424834999999995, 41.424834999999995, 45.45515200000001, 45.45515200000001, 45.45515200000001, 45.909238, 45.909238, 42.895208000000004, 42.895208000000004, 43.586162, 43.586162, 45.688586, 41.111329, 43.790001000000004, 43.551208, 45.47483, 40.738702, 43.834205, 43.66901, 43.728892, 34.126919, 42.350856, 34.594532, 44.646244, 45.445439, 43.723857, 42.10536, 42.870938, 44.038175, 42.929756, 44.190151, 40.802735999999996, 40.731507, 44.980563000000004, 43.214036, 45.525211], \"lon\": [-79.381713, -79.381713, -79.381713, -79.381713, -79.381713, -79.381713, -79.381713, -79.381713, -79.381713, -79.381713, -79.381713, -79.381713, -79.381713, -79.381713, -79.381713, -79.381713, -79.381713, -79.381713, -79.381713, -79.381713, -79.381713, -79.381713, -79.381713, -79.381713, -79.381713, -79.381713, -79.381713, -79.381713, -79.381713, -79.381713, -79.381713, -79.381713, -79.381713, -79.381713, -79.381713, -79.381713, -79.381713, -79.381713, -79.381713, -79.381713, -79.381713, -79.381713, -79.381713, -79.381713, -79.381713, -79.381713, -79.381713, -79.381713, -79.381713, -79.381713, -79.381713, -79.381713, -79.381713, -79.381713, -79.381713, -79.381713, -79.381713, -79.381713, -79.381713, -79.381713, -79.381713, -79.381713, -79.381713, -79.381713, -79.381713, -79.381713, -79.381713, -79.381713, -79.381713, -79.381713, -79.381713, -79.381713, -79.381713, -79.381713, -79.381713, -79.381713, -79.381713, -79.381713, -79.381713, -79.381713, -79.381713, -79.381713, -79.381713, -79.381713, -79.381713, -79.381713, -79.381713, -79.381713, -79.381713, -79.381713, -79.381713, -79.381713, -79.381713, -79.381713, -79.381713, -79.381713, -79.381713, -79.381713, -79.381713, -79.381713, -79.381713, -79.381713, -79.381713, -79.381713, -79.381713, -79.381713, -79.381713, -79.381713, -79.381713, -79.381713, -79.381713, -79.381713, -79.381713, -79.381713, -79.381713, -79.381713, -79.381713, -79.381713, -79.381713, -79.381713, -79.381713, -79.381713, -79.381713, -79.381713, -79.381713, -79.381713, -79.381713, -79.381713, -79.381713, -79.381713, -79.381713, -79.381713, -79.381713, -79.381713, -79.381713, -79.381713, -79.381713, -79.381713, -79.381713, -79.381713, -79.381713, -79.381713, -79.381713, -79.381713, -79.381713, -79.381713, -79.381713, -79.381713, -79.381713, -79.381713, -79.381713, -79.381713, -79.381713, -79.381713, -79.381713, -79.381713, -79.381713, -79.381713, -79.381713, -79.381713, -79.381713, -79.381713, -79.381713, -79.381713, -79.381713, -79.381713, -79.381713, -79.381713, -79.381713, -79.381713, -79.381713, -79.381713, -79.381713, -79.381713, -79.381713, -79.381713, -79.381713, -79.381713, -79.381713, -79.381713, -79.381713, -79.381713, -79.381713, -79.381713, -79.381713, -79.381713, -79.381713, -79.381713, -79.381713, -79.381713, -79.381713, -79.381713, -79.381713, -79.381713, -79.381713, -79.381713, -79.381713, -79.381713, -79.381713, -79.381713, -79.381713, -79.381713, -79.381713, -79.381713, -79.381713, -79.381713, -79.381713, -79.381713, -79.381713, -79.381713, -79.381713, -79.381713, -79.381713, -79.381713, -79.381713, -79.381713, -79.381713, -79.381713, -79.381713, -79.381713, -79.381713, -79.381713, -79.381713, -79.381713, -79.381713, -79.381713, -79.381713, -79.381713, -79.381713, -79.381713, -79.381713, -79.381713, -79.381713, -79.381713, -79.381713, -79.381713, -79.381713, -79.381713, -79.381713, -79.381713, -79.381713, -79.381713, -79.381713, -79.381713, -79.381713, -79.381713, -79.381713, -79.381713, -79.381713, -79.381713, -79.381713, -79.381713, -79.381713, -79.381713, -79.381713, -79.381713, -79.381713, -79.381713, -79.381713, -79.381713, -79.381713, -79.381713, -79.381713, -79.381713, -79.381713, -79.381713, -79.381713, -79.381713, -79.381713, -79.381713, -79.381713, -79.381713, -79.381713, -79.381713, -79.381713, -79.381713, -79.381713, -79.381713, -79.381713, -79.381713, -79.381713, -79.381713, -79.381713, -79.381713, -79.381713, -79.381713, -79.381713, -79.381713, -79.381713, -79.381713, -79.381713, -79.381713, -79.381713, -79.381713, -79.381713, -79.381713, -79.381713, -79.381713, -79.381713, -79.381713, -79.381713, -79.381713, -79.381713, -79.381713, -79.381713, -79.381713, -79.381713, -79.381713, -79.381713, -79.381713, -79.381713, -79.381713, -79.381713, -79.381713, -79.381713, -79.381713, -79.381713, -79.381713, -79.381713, -79.381713, -79.381713, -79.381713, -79.381713, -79.381713, -79.381713, -79.381713, -79.381713, -79.381713, -79.381713, -79.381713, -79.381713, -79.381713, -79.381713, -79.381713, -79.381713, -79.381713, -79.381713, -79.381713, -79.381713, -79.381713, -79.381713, -79.381713, -79.381713, -79.381713, -79.381713, -79.381713, -79.381713, -79.381713, -79.381713, -79.381713, -79.381713, -79.381713, -79.381713, -79.381713, -79.381713, -79.381713, -79.381713, -79.381713, -79.381713, -79.381713, -79.381713, -79.381713, -79.381713, -79.381713, -79.381713, -79.381713, -79.381713, -79.381713, -79.381713, -79.381713, -79.381713, -79.381713, -79.381713, -79.381713, -79.381713, -79.381713, -79.381713, -79.381713, -79.381713, -79.381713, -79.381713, -79.381713, -79.381713, -79.381713, -79.381713, -79.381713, -79.381713, -79.381713, -79.381713, -79.381713, -79.381713, -79.381713, -79.381713, -79.381713, -79.381713, -79.381713, -79.381713, -79.381713, -79.381713, -79.381713, -79.381713, -79.381713, -79.381713, -79.381713, -79.381713, -79.381713, -79.381713, -79.381713, -79.381713, -79.381713, -79.381713, -79.381713, -79.381713, -79.381713, -79.381713, -79.381713, -79.381713, -79.381713, -79.381713, -79.381713, -79.381713, -79.381713, -79.381713, -79.381713, -79.381713, -79.381713, -79.381713, -79.381713, -79.381713, -79.381713, -79.381713, -79.381713, -79.381713, -79.381713, -79.381713, -79.381713, -79.381713, -79.381713, -79.381713, -79.381713, -79.381713, -79.381713, -79.381713, -79.381713, -79.381713, -79.381713, -79.381713, -79.381713, -79.381713, -79.381713, -79.381713, -79.381713, -79.381713, -79.381713, -79.381713, -79.381713, -79.381713, -79.381713, -79.381713, -79.381713, -79.381713, -79.381713, -79.381713, -79.381713, -79.381713, -79.381713, -79.381713, -79.381713, -79.381713, -79.381713, -79.381713, -79.381713, -79.381713, -79.381713, -79.381713, -79.381713, -79.381713, -79.381713, -79.381713, -79.381713, -79.381713, -79.381713, -79.381713, -79.381713, -79.381713, -79.381713, -79.381713, -79.381713, -79.381713, -79.381713, -79.381713, -79.381713, -79.381713, -79.381713, -79.381713, -79.381713, -79.381713, -79.381713, -79.381713, -79.381713, -79.381713, -79.381713, -79.381713, -79.381713, -79.381713, -79.381713, -79.381713, 7.268391, 7.268391, 7.268391, 7.268391, 7.268391, 7.268391, 7.268391, 7.268391, 7.268391, 7.268391, 7.268391, 7.268391, 7.268391, 7.268391, 7.268391, 7.268391, 7.268391, 7.268391, 7.268391, 7.268391, 7.268391, 7.268391, 7.268391, 7.268391, 7.268391, 7.268391, 7.268391, 7.268391, 7.268391, 7.268391, 7.268391, 7.268391, 7.268391, 7.268391, 7.268391, 7.268391, 7.268391, 7.268391, 7.268391, 7.268391, 7.268391, 7.268391, 7.268391, 7.268391, 7.268391, 7.268391, 7.268391, 7.268391, 7.268391, 7.268391, 7.268391, 7.268391, 7.268391, 7.268391, 7.268391, 7.268391, 7.268391, 7.268391, 7.268391, 7.268391, 7.268391, 7.268391, 7.268391, 7.268391, 7.268391, 7.268391, 7.268391, 7.268391, 7.268391, 7.268391, 7.268391, 7.268391, 7.268391, 7.268391, 7.268391, 7.268391, 7.268391, 7.268391, 7.268391, 7.268391, 7.268391, 7.268391, 7.268391, 7.268391, 7.268391, 7.268391, 7.268391, 7.268391, 7.268391, 7.268391, 7.268391, 2.3521330000000003, 2.3521330000000003, 2.3521330000000003, 2.3521330000000003, 2.3521330000000003, 2.3521330000000003, 2.3521330000000003, 2.3521330000000003, 2.3521330000000003, 2.3521330000000003, 2.3521330000000003, 2.3521330000000003, 2.3521330000000003, 2.3521330000000003, 2.3521330000000003, 2.3521330000000003, 2.3521330000000003, 2.3521330000000003, 2.3521330000000003, 2.3521330000000003, 2.3521330000000003, 2.3521330000000003, 2.3521330000000003, 2.3521330000000003, 2.3521330000000003, 2.3521330000000003, 2.3521330000000003, 2.3521330000000003, 2.3521330000000003, 2.3521330000000003, 2.3521330000000003, 2.3521330000000003, 2.3521330000000003, 2.3521330000000003, 2.3521330000000003, 2.3521330000000003, 2.3521330000000003, -118.243344, -118.243344, -118.243344, -118.243344, -118.243344, -118.243344, -118.243344, -118.243344, -118.243344, -118.243344, -118.243344, -118.243344, -118.243344, -118.243344, -118.243344, -118.243344, -118.243344, -118.243344, -118.243344, -118.243344, -118.243344, -118.243344, -118.243344, -73.553363, -73.553363, -73.553363, -73.553363, -73.553363, -73.553363, -73.553363, -73.553363, -73.553363, -73.553363, -73.553363, -73.553363, -73.553363, -73.553363, -73.553363, -73.553363, -73.553363, -73.553363, -73.553363, -73.553363, -73.553363, -73.553363, -75.16561999999998, -75.16561999999998, -75.16561999999998, -75.16561999999998, -75.16561999999998, -75.16561999999998, -75.16561999999998, -75.16561999999998, -75.16561999999998, -75.16561999999998, -75.16561999999998, -75.16561999999998, -75.16561999999998, -75.16561999999998, -75.16561999999998, -75.16561999999998, -75.16561999999998, -75.16561999999998, -75.16561999999998, -75.16561999999998, -75.16561999999998, -74.007228, -74.007228, -74.007228, -74.007228, -74.007228, -74.007228, -74.007228, -74.007228, -74.007228, -74.007228, -74.007228, -74.007228, -74.007228, -74.007228, -74.007228, -74.007228, -74.007228, -74.007228, -74.007228, 5.701425, 5.701425, 5.701425, 5.701425, 5.701425, 5.701425, 5.701425, 5.701425, 5.701425, 5.701425, 5.701425, 5.701425, 5.701425, 5.701425, 5.701425, -79.798296, -79.798296, -79.798296, -79.798296, -79.798296, -79.798296, -79.798296, -79.798296, 2.349107, 2.349107, 2.349107, 2.349107, 2.349107, 2.349107, 2.349107, -118.49151200000001, -118.49151200000001, -118.49151200000001, -118.49151200000001, -118.49151200000001, 4.573556, 4.573556, 4.573556, 4.573556, 4.573556, -119.856844, -119.856844, -119.856844, -119.856844, -84.49702099999998, -84.49702099999998, -84.49702099999998, -84.49702099999998, -71.056742, -71.056742, -71.056742, -71.056742, -73.945829, -73.945829, -73.945829, 6.694201, 6.694201, 6.694201, 6.2225550000000025, 6.2225550000000025, -77.43495899999998, -77.43495899999998, -79.646215, -79.646215, 5.9146529999999995, -75.520888, -94.9944, 7.012695, 4.509805, -85.171491, 7.355696000000001, 7.190697, 7.362071, -116.315127, -73.80355, -112.33640700000001, -63.57356600000001, 4.386292, 7.112377, -71.55148, -90.351781, 5.62967, -78.918901, -72.82441800000002, -74.122862, -74.17438800000002, -76.934039, 5.539632, 4.874784], \"marker\": {\"color\": [507, 507, 507, 507, 507, 507, 507, 507, 507, 507, 507, 507, 507, 507, 507, 507, 507, 507, 507, 507, 507, 507, 507, 507, 507, 507, 507, 507, 507, 507, 507, 507, 507, 507, 507, 507, 507, 507, 507, 507, 507, 507, 507, 507, 507, 507, 507, 507, 507, 507, 507, 507, 507, 507, 507, 507, 507, 507, 507, 507, 507, 507, 507, 507, 507, 507, 507, 507, 507, 507, 507, 507, 507, 507, 507, 507, 507, 507, 507, 507, 507, 507, 507, 507, 507, 507, 507, 507, 507, 507, 507, 507, 507, 507, 507, 507, 507, 507, 507, 507, 507, 507, 507, 507, 507, 507, 507, 507, 507, 507, 507, 507, 507, 507, 507, 507, 507, 507, 507, 507, 507, 507, 507, 507, 507, 507, 507, 507, 507, 507, 507, 507, 507, 507, 507, 507, 507, 507, 507, 507, 507, 507, 507, 507, 507, 507, 507, 507, 507, 507, 507, 507, 507, 507, 507, 507, 507, 507, 507, 507, 507, 507, 507, 507, 507, 507, 507, 507, 507, 507, 507, 507, 507, 507, 507, 507, 507, 507, 507, 507, 507, 507, 507, 507, 507, 507, 507, 507, 507, 507, 507, 507, 507, 507, 507, 507, 507, 507, 507, 507, 507, 507, 507, 507, 507, 507, 507, 507, 507, 507, 507, 507, 507, 507, 507, 507, 507, 507, 507, 507, 507, 507, 507, 507, 507, 507, 507, 507, 507, 507, 507, 507, 507, 507, 507, 507, 507, 507, 507, 507, 507, 507, 507, 507, 507, 507, 507, 507, 507, 507, 507, 507, 507, 507, 507, 507, 507, 507, 507, 507, 507, 507, 507, 507, 507, 507, 507, 507, 507, 507, 507, 507, 507, 507, 507, 507, 507, 507, 507, 507, 507, 507, 507, 507, 507, 507, 507, 507, 507, 507, 507, 507, 507, 507, 507, 507, 507, 507, 507, 507, 507, 507, 507, 507, 507, 507, 507, 507, 507, 507, 507, 507, 507, 507, 507, 507, 507, 507, 507, 507, 507, 507, 507, 507, 507, 507, 507, 507, 507, 507, 507, 507, 507, 507, 507, 507, 507, 507, 507, 507, 507, 507, 507, 507, 507, 507, 507, 507, 507, 507, 507, 507, 507, 507, 507, 507, 507, 507, 507, 507, 507, 507, 507, 507, 507, 507, 507, 507, 507, 507, 507, 507, 507, 507, 507, 507, 507, 507, 507, 507, 507, 507, 507, 507, 507, 507, 507, 507, 507, 507, 507, 507, 507, 507, 507, 507, 507, 507, 507, 507, 507, 507, 507, 507, 507, 507, 507, 507, 507, 507, 507, 507, 507, 507, 507, 507, 507, 507, 507, 507, 507, 507, 507, 507, 507, 507, 507, 507, 507, 507, 507, 507, 507, 507, 507, 507, 507, 507, 507, 507, 507, 507, 507, 507, 507, 507, 507, 507, 507, 507, 507, 507, 507, 507, 507, 507, 507, 507, 507, 507, 507, 507, 507, 507, 507, 507, 507, 507, 507, 507, 507, 507, 507, 507, 507, 507, 507, 507, 507, 507, 507, 507, 507, 507, 507, 507, 507, 507, 507, 507, 507, 507, 507, 507, 507, 507, 507, 507, 507, 507, 507, 507, 507, 507, 507, 507, 507, 91, 91, 91, 91, 91, 91, 91, 91, 91, 91, 91, 91, 91, 91, 91, 91, 91, 91, 91, 91, 91, 91, 91, 91, 91, 91, 91, 91, 91, 91, 91, 91, 91, 91, 91, 91, 91, 91, 91, 91, 91, 91, 91, 91, 91, 91, 91, 91, 91, 91, 91, 91, 91, 91, 91, 91, 91, 91, 91, 91, 91, 91, 91, 91, 91, 91, 91, 91, 91, 91, 91, 91, 91, 91, 91, 91, 91, 91, 91, 91, 91, 91, 91, 91, 91, 91, 91, 91, 91, 91, 91, 37, 37, 37, 37, 37, 37, 37, 37, 37, 37, 37, 37, 37, 37, 37, 37, 37, 37, 37, 37, 37, 37, 37, 37, 37, 37, 37, 37, 37, 37, 37, 37, 37, 37, 37, 37, 37, 23, 23, 23, 23, 23, 23, 23, 23, 23, 23, 23, 23, 23, 23, 23, 23, 23, 23, 23, 23, 23, 23, 23, 22, 22, 22, 22, 22, 22, 22, 22, 22, 22, 22, 22, 22, 22, 22, 22, 22, 22, 22, 22, 22, 22, 21, 21, 21, 21, 21, 21, 21, 21, 21, 21, 21, 21, 21, 21, 21, 21, 21, 21, 21, 21, 21, 19, 19, 19, 19, 19, 19, 19, 19, 19, 19, 19, 19, 19, 19, 19, 19, 19, 19, 19, 15, 15, 15, 15, 15, 15, 15, 15, 15, 15, 15, 15, 15, 15, 15, 8, 8, 8, 8, 8, 8, 8, 8, 7, 7, 7, 7, 7, 7, 7, 5, 5, 5, 5, 5, 5, 5, 5, 5, 5, 4, 4, 4, 4, 4, 4, 4, 4, 4, 4, 4, 4, 3, 3, 3, 3, 3, 3, 2, 2, 2, 2, 2, 2, 1, 1, 1, 1, 1, 1, 1, 1, 1, 1, 1, 1, 1, 1, 1, 1, 1, 1, 1, 1, 1, 1, 1, 1, 1], \"size\": [507, 507, 507, 507, 507, 507, 507, 507, 507, 507, 507, 507, 507, 507, 507, 507, 507, 507, 507, 507, 507, 507, 507, 507, 507, 507, 507, 507, 507, 507, 507, 507, 507, 507, 507, 507, 507, 507, 507, 507, 507, 507, 507, 507, 507, 507, 507, 507, 507, 507, 507, 507, 507, 507, 507, 507, 507, 507, 507, 507, 507, 507, 507, 507, 507, 507, 507, 507, 507, 507, 507, 507, 507, 507, 507, 507, 507, 507, 507, 507, 507, 507, 507, 507, 507, 507, 507, 507, 507, 507, 507, 507, 507, 507, 507, 507, 507, 507, 507, 507, 507, 507, 507, 507, 507, 507, 507, 507, 507, 507, 507, 507, 507, 507, 507, 507, 507, 507, 507, 507, 507, 507, 507, 507, 507, 507, 507, 507, 507, 507, 507, 507, 507, 507, 507, 507, 507, 507, 507, 507, 507, 507, 507, 507, 507, 507, 507, 507, 507, 507, 507, 507, 507, 507, 507, 507, 507, 507, 507, 507, 507, 507, 507, 507, 507, 507, 507, 507, 507, 507, 507, 507, 507, 507, 507, 507, 507, 507, 507, 507, 507, 507, 507, 507, 507, 507, 507, 507, 507, 507, 507, 507, 507, 507, 507, 507, 507, 507, 507, 507, 507, 507, 507, 507, 507, 507, 507, 507, 507, 507, 507, 507, 507, 507, 507, 507, 507, 507, 507, 507, 507, 507, 507, 507, 507, 507, 507, 507, 507, 507, 507, 507, 507, 507, 507, 507, 507, 507, 507, 507, 507, 507, 507, 507, 507, 507, 507, 507, 507, 507, 507, 507, 507, 507, 507, 507, 507, 507, 507, 507, 507, 507, 507, 507, 507, 507, 507, 507, 507, 507, 507, 507, 507, 507, 507, 507, 507, 507, 507, 507, 507, 507, 507, 507, 507, 507, 507, 507, 507, 507, 507, 507, 507, 507, 507, 507, 507, 507, 507, 507, 507, 507, 507, 507, 507, 507, 507, 507, 507, 507, 507, 507, 507, 507, 507, 507, 507, 507, 507, 507, 507, 507, 507, 507, 507, 507, 507, 507, 507, 507, 507, 507, 507, 507, 507, 507, 507, 507, 507, 507, 507, 507, 507, 507, 507, 507, 507, 507, 507, 507, 507, 507, 507, 507, 507, 507, 507, 507, 507, 507, 507, 507, 507, 507, 507, 507, 507, 507, 507, 507, 507, 507, 507, 507, 507, 507, 507, 507, 507, 507, 507, 507, 507, 507, 507, 507, 507, 507, 507, 507, 507, 507, 507, 507, 507, 507, 507, 507, 507, 507, 507, 507, 507, 507, 507, 507, 507, 507, 507, 507, 507, 507, 507, 507, 507, 507, 507, 507, 507, 507, 507, 507, 507, 507, 507, 507, 507, 507, 507, 507, 507, 507, 507, 507, 507, 507, 507, 507, 507, 507, 507, 507, 507, 507, 507, 507, 507, 507, 507, 507, 507, 507, 507, 507, 507, 507, 507, 507, 507, 507, 507, 507, 507, 507, 507, 507, 507, 507, 507, 507, 507, 507, 507, 507, 507, 507, 507, 507, 507, 507, 507, 507, 507, 507, 507, 507, 507, 507, 507, 507, 507, 507, 507, 507, 507, 507, 507, 507, 507, 507, 507, 507, 507, 507, 507, 507, 507, 91, 91, 91, 91, 91, 91, 91, 91, 91, 91, 91, 91, 91, 91, 91, 91, 91, 91, 91, 91, 91, 91, 91, 91, 91, 91, 91, 91, 91, 91, 91, 91, 91, 91, 91, 91, 91, 91, 91, 91, 91, 91, 91, 91, 91, 91, 91, 91, 91, 91, 91, 91, 91, 91, 91, 91, 91, 91, 91, 91, 91, 91, 91, 91, 91, 91, 91, 91, 91, 91, 91, 91, 91, 91, 91, 91, 91, 91, 91, 91, 91, 91, 91, 91, 91, 91, 91, 91, 91, 91, 91, 37, 37, 37, 37, 37, 37, 37, 37, 37, 37, 37, 37, 37, 37, 37, 37, 37, 37, 37, 37, 37, 37, 37, 37, 37, 37, 37, 37, 37, 37, 37, 37, 37, 37, 37, 37, 37, 23, 23, 23, 23, 23, 23, 23, 23, 23, 23, 23, 23, 23, 23, 23, 23, 23, 23, 23, 23, 23, 23, 23, 22, 22, 22, 22, 22, 22, 22, 22, 22, 22, 22, 22, 22, 22, 22, 22, 22, 22, 22, 22, 22, 22, 21, 21, 21, 21, 21, 21, 21, 21, 21, 21, 21, 21, 21, 21, 21, 21, 21, 21, 21, 21, 21, 19, 19, 19, 19, 19, 19, 19, 19, 19, 19, 19, 19, 19, 19, 19, 19, 19, 19, 19, 15, 15, 15, 15, 15, 15, 15, 15, 15, 15, 15, 15, 15, 15, 15, 8, 8, 8, 8, 8, 8, 8, 8, 7, 7, 7, 7, 7, 7, 7, 5, 5, 5, 5, 5, 5, 5, 5, 5, 5, 4, 4, 4, 4, 4, 4, 4, 4, 4, 4, 4, 4, 3, 3, 3, 3, 3, 3, 2, 2, 2, 2, 2, 2, 1, 1, 1, 1, 1, 1, 1, 1, 1, 1, 1, 1, 1, 1, 1, 1, 1, 1, 1, 1, 1, 1, 1, 1, 1], \"sizemode\": \"area\"}, \"mode\": \"markers\", \"text\": [\"Toronto, Canada\", \"Toronto, Canada\", \"Toronto, Canada\", \"Toronto, Canada\", \"Toronto, Canada\", \"Toronto, Canada\", \"Toronto, Canada\", \"Toronto, Canada\", \"Toronto, Canada\", \"Toronto, Canada\", \"Toronto, Canada\", \"Toronto, Canada\", \"Toronto, Canada\", \"Toronto, Canada\", \"Toronto, Canada\", \"Toronto, Canada\", \"Toronto, Canada\", \"Toronto, Canada\", \"Toronto, Canada\", \"Toronto, Canada\", \"Toronto, Canada\", \"Toronto, Canada\", \"Toronto, Canada\", \"Toronto, Canada\", \"Toronto, Canada\", \"Toronto, Canada\", \"Toronto, Canada\", \"Toronto, Canada\", \"Toronto, Canada\", \"Toronto, Canada\", \"Toronto, Canada\", \"Toronto, Canada\", \"Toronto, Canada\", \"Toronto, Canada\", \"Toronto, Canada\", \"Toronto, Canada\", \"Toronto, Canada\", \"Toronto, Canada\", \"Toronto, Canada\", \"Toronto, Canada\", \"Toronto, Canada\", \"Toronto, Canada\", \"Toronto, Canada\", \"Toronto, Canada\", \"Toronto, Canada\", \"Toronto, Canada\", \"Toronto, Canada\", \"Toronto, Canada\", \"Toronto, Canada\", \"Toronto, Canada\", \"Toronto, Canada\", \"Toronto, Canada\", \"Toronto, Canada\", \"Toronto, Canada\", \"Toronto, Canada\", \"Toronto, Canada\", \"Toronto, Canada\", \"Toronto, Canada\", \"Toronto, Canada\", \"Toronto, Canada\", \"Toronto, Canada\", \"Toronto, Canada\", \"Toronto, Canada\", \"Toronto, Canada\", \"Toronto, Canada\", \"Toronto, Canada\", \"Toronto, Canada\", \"Toronto, Canada\", \"Toronto, Canada\", \"Toronto, Canada\", \"Toronto, Canada\", \"Toronto, Canada\", \"Toronto, Canada\", \"Toronto, Canada\", \"Toronto, Canada\", \"Toronto, Canada\", \"Toronto, Canada\", \"Toronto, Canada\", \"Toronto, Canada\", \"Toronto, Canada\", \"Toronto, Canada\", \"Toronto, Canada\", \"Toronto, Canada\", \"Toronto, Canada\", \"Toronto, Canada\", \"Toronto, Canada\", \"Toronto, Canada\", \"Toronto, Canada\", \"Toronto, Canada\", \"Toronto, Canada\", \"Toronto, Canada\", \"Toronto, Canada\", \"Toronto, Canada\", \"Toronto, Canada\", \"Toronto, Canada\", \"Toronto, Canada\", \"Toronto, Canada\", \"Toronto, Canada\", \"Toronto, Canada\", \"Toronto, Canada\", \"Toronto, Canada\", \"Toronto, Canada\", \"Toronto, Canada\", \"Toronto, Canada\", \"Toronto, Canada\", \"Toronto, Canada\", \"Toronto, Canada\", \"Toronto, Canada\", \"Toronto, Canada\", \"Toronto, Canada\", \"Toronto, Canada\", \"Toronto, Canada\", \"Toronto, Canada\", \"Toronto, Canada\", \"Toronto, Canada\", \"Toronto, Canada\", \"Toronto, Canada\", \"Toronto, Canada\", \"Toronto, Canada\", \"Toronto, Canada\", \"Toronto, Canada\", \"Toronto, Canada\", \"Toronto, Canada\", \"Toronto, Canada\", \"Toronto, Canada\", \"Toronto, Canada\", \"Toronto, Canada\", \"Toronto, Canada\", \"Toronto, Canada\", \"Toronto, Canada\", \"Toronto, Canada\", \"Toronto, Canada\", \"Toronto, Canada\", \"Toronto, Canada\", \"Toronto, Canada\", \"Toronto, Canada\", \"Toronto, Canada\", \"Toronto, Canada\", \"Toronto, Canada\", \"Toronto, Canada\", \"Toronto, Canada\", \"Toronto, Canada\", \"Toronto, Canada\", \"Toronto, Canada\", \"Toronto, Canada\", \"Toronto, Canada\", \"Toronto, Canada\", \"Toronto, Canada\", \"Toronto, Canada\", \"Toronto, Canada\", \"Toronto, Canada\", \"Toronto, Canada\", \"Toronto, Canada\", \"Toronto, Canada\", \"Toronto, Canada\", \"Toronto, Canada\", \"Toronto, Canada\", \"Toronto, Canada\", \"Toronto, Canada\", \"Toronto, Canada\", \"Toronto, Canada\", \"Toronto, Canada\", \"Toronto, Canada\", \"Toronto, Canada\", \"Toronto, Canada\", \"Toronto, Canada\", \"Toronto, Canada\", \"Toronto, Canada\", \"Toronto, Canada\", \"Toronto, Canada\", \"Toronto, Canada\", \"Toronto, Canada\", \"Toronto, Canada\", \"Toronto, Canada\", \"Toronto, Canada\", \"Toronto, Canada\", \"Toronto, Canada\", \"Toronto, Canada\", \"Toronto, Canada\", \"Toronto, Canada\", \"Toronto, Canada\", \"Toronto, Canada\", \"Toronto, Canada\", \"Toronto, Canada\", \"Toronto, Canada\", \"Toronto, Canada\", \"Toronto, Canada\", \"Toronto, Canada\", \"Toronto, Canada\", \"Toronto, Canada\", \"Toronto, Canada\", \"Toronto, Canada\", \"Toronto, Canada\", \"Toronto, Canada\", \"Toronto, Canada\", \"Toronto, Canada\", \"Toronto, Canada\", \"Toronto, Canada\", \"Toronto, Canada\", \"Toronto, Canada\", \"Toronto, Canada\", \"Toronto, Canada\", \"Toronto, Canada\", \"Toronto, Canada\", \"Toronto, Canada\", \"Toronto, Canada\", \"Toronto, Canada\", \"Toronto, Canada\", \"Toronto, Canada\", \"Toronto, Canada\", \"Toronto, Canada\", \"Toronto, Canada\", \"Toronto, Canada\", \"Toronto, Canada\", \"Toronto, Canada\", \"Toronto, Canada\", \"Toronto, Canada\", \"Toronto, Canada\", \"Toronto, Canada\", \"Toronto, Canada\", \"Toronto, Canada\", \"Toronto, Canada\", \"Toronto, Canada\", \"Toronto, Canada\", \"Toronto, Canada\", \"Toronto, Canada\", \"Toronto, Canada\", \"Toronto, Canada\", \"Toronto, Canada\", \"Toronto, Canada\", \"Toronto, Canada\", \"Toronto, Canada\", \"Toronto, Canada\", \"Toronto, Canada\", \"Toronto, Canada\", \"Toronto, Canada\", \"Toronto, Canada\", \"Toronto, Canada\", \"Toronto, Canada\", \"Toronto, Canada\", \"Toronto, Canada\", \"Toronto, Canada\", \"Toronto, Canada\", \"Toronto, Canada\", \"Toronto, Canada\", \"Toronto, Canada\", \"Toronto, Canada\", \"Toronto, Canada\", \"Toronto, Canada\", \"Toronto, Canada\", \"Toronto, Canada\", \"Toronto, Canada\", \"Toronto, Canada\", \"Toronto, Canada\", \"Toronto, Canada\", \"Toronto, Canada\", \"Toronto, Canada\", \"Toronto, Canada\", \"Toronto, Canada\", \"Toronto, Canada\", \"Toronto, Canada\", \"Toronto, Canada\", \"Toronto, Canada\", \"Toronto, Canada\", \"Toronto, Canada\", \"Toronto, Canada\", \"Toronto, Canada\", \"Toronto, Canada\", \"Toronto, Canada\", \"Toronto, Canada\", \"Toronto, Canada\", \"Toronto, Canada\", \"Toronto, Canada\", \"Toronto, Canada\", \"Toronto, Canada\", \"Toronto, Canada\", \"Toronto, Canada\", \"Toronto, Canada\", \"Toronto, Canada\", \"Toronto, Canada\", \"Toronto, Canada\", \"Toronto, Canada\", \"Toronto, Canada\", \"Toronto, Canada\", \"Toronto, Canada\", \"Toronto, Canada\", \"Toronto, Canada\", \"Toronto, Canada\", \"Toronto, Canada\", \"Toronto, Canada\", \"Toronto, Canada\", \"Toronto, Canada\", \"Toronto, Canada\", \"Toronto, Canada\", \"Toronto, Canada\", \"Toronto, Canada\", \"Toronto, Canada\", \"Toronto, Canada\", \"Toronto, Canada\", \"Toronto, Canada\", \"Toronto, Canada\", \"Toronto, Canada\", \"Toronto, Canada\", \"Toronto, Canada\", \"Toronto, Canada\", \"Toronto, Canada\", \"Toronto, Canada\", \"Toronto, Canada\", \"Toronto, Canada\", \"Toronto, Canada\", \"Toronto, Canada\", \"Toronto, Canada\", \"Toronto, Canada\", \"Toronto, Canada\", \"Toronto, Canada\", \"Toronto, Canada\", \"Toronto, Canada\", \"Toronto, Canada\", \"Toronto, Canada\", \"Toronto, Canada\", \"Toronto, Canada\", \"Toronto, Canada\", \"Toronto, Canada\", \"Toronto, Canada\", \"Toronto, Canada\", \"Toronto, Canada\", \"Toronto, Canada\", \"Toronto, Canada\", \"Toronto, Canada\", \"Toronto, Canada\", \"Toronto, Canada\", \"Toronto, Canada\", \"Toronto, Canada\", \"Toronto, Canada\", \"Toronto, Canada\", \"Toronto, Canada\", \"Toronto, Canada\", \"Toronto, Canada\", \"Toronto, Canada\", \"Toronto, Canada\", \"Toronto, Canada\", \"Toronto, Canada\", \"Toronto, Canada\", \"Toronto, Canada\", \"Toronto, Canada\", \"Toronto, Canada\", \"Toronto, Canada\", \"Toronto, Canada\", \"Toronto, Canada\", \"Toronto, Canada\", \"Toronto, Canada\", \"Toronto, Canada\", \"Toronto, Canada\", \"Toronto, Canada\", \"Toronto, Canada\", \"Toronto, Canada\", \"Toronto, Canada\", \"Toronto, Canada\", \"Toronto, Canada\", \"Toronto, Canada\", \"Toronto, Canada\", \"Toronto, Canada\", \"Toronto, Canada\", \"Toronto, Canada\", \"Toronto, Canada\", \"Toronto, Canada\", \"Toronto, Canada\", \"Toronto, Canada\", \"Toronto, Canada\", \"Toronto, Canada\", \"Toronto, Canada\", \"Toronto, Canada\", \"Toronto, Canada\", \"Toronto, Canada\", \"Toronto, Canada\", \"Toronto, Canada\", \"Toronto, Canada\", \"Toronto, Canada\", \"Toronto, Canada\", \"Toronto, Canada\", \"Toronto, Canada\", \"Toronto, Canada\", \"Toronto, Canada\", \"Toronto, Canada\", \"Toronto, Canada\", \"Toronto, Canada\", \"Toronto, Canada\", \"Toronto, Canada\", \"Toronto, Canada\", \"Toronto, Canada\", \"Toronto, Canada\", \"Toronto, Canada\", \"Toronto, Canada\", \"Toronto, Canada\", \"Toronto, Canada\", \"Toronto, Canada\", \"Toronto, Canada\", \"Toronto, Canada\", \"Toronto, Canada\", \"Toronto, Canada\", \"Toronto, Canada\", \"Toronto, Canada\", \"Toronto, Canada\", \"Toronto, Canada\", \"Toronto, Canada\", \"Toronto, Canada\", \"Toronto, Canada\", \"Toronto, Canada\", \"Toronto, Canada\", \"Toronto, Canada\", \"Toronto, Canada\", \"Toronto, Canada\", \"Toronto, Canada\", \"Toronto, Canada\", \"Toronto, Canada\", \"Toronto, Canada\", \"Toronto, Canada\", \"Toronto, Canada\", \"Toronto, Canada\", \"Toronto, Canada\", \"Toronto, Canada\", \"Toronto, Canada\", \"Toronto, Canada\", \"Toronto, Canada\", \"Toronto, Canada\", \"Toronto, Canada\", \"Toronto, Canada\", \"Toronto, Canada\", \"Toronto, Canada\", \"Toronto, Canada\", \"Toronto, Canada\", \"Toronto, Canada\", \"Toronto, Canada\", \"Toronto, Canada\", \"Toronto, Canada\", \"Toronto, Canada\", \"Toronto, Canada\", \"Toronto, Canada\", \"Toronto, Canada\", \"Toronto, Canada\", \"Toronto, Canada\", \"Toronto, Canada\", \"Toronto, Canada\", \"Toronto, Canada\", \"Toronto, Canada\", \"Toronto, Canada\", \"Toronto, Canada\", \"Toronto, Canada\", \"Toronto, Canada\", \"Toronto, Canada\", \"Toronto, Canada\", \"Toronto, Canada\", \"Toronto, Canada\", \"Toronto, Canada\", \"Toronto, Canada\", \"Toronto, Canada\", \"Toronto, Canada\", \"Toronto, Canada\", \"Toronto, Canada\", \"Toronto, Canada\", \"Toronto, Canada\", \"Toronto, Canada\", \"Toronto, Canada\", \"Toronto, Canada\", \"Toronto, Canada\", \"Toronto, Canada\", \"Toronto, Canada\", \"Toronto, Canada\", \"Toronto, Canada\", \"Toronto, Canada\", \"Toronto, Canada\", \"Toronto, Canada\", \"Toronto, Canada\", \"Toronto, Canada\", \"Toronto, Canada\", \"Toronto, Canada\", \"Toronto, Canada\", \"Toronto, Canada\", \"Toronto, Canada\", \"Toronto, Canada\", \"Toronto, Canada\", \"Toronto, Canada\", \"Toronto, Canada\", \"Toronto, Canada\", \"Toronto, Canada\", \"Toronto, Canada\", \"Toronto, Canada\", \"Toronto, Canada\", \"Toronto, Canada\", \"Toronto, Canada\", \"Toronto, Canada\", \"Toronto, Canada\", \"Toronto, Canada\", \"Toronto, Canada\", \"Toronto, Canada\", \"Toronto, Canada\", \"Toronto, Canada\", \"Toronto, Canada\", \"Toronto, Canada\", \"Toronto, Canada\", \"Toronto, Canada\", \"Toronto, Canada\", \"Toronto, Canada\", \"Toronto, Canada\", \"Toronto, Canada\", \"Toronto, Canada\", \"Toronto, Canada\", \"Nice, France\", \"Nice, France\", \"Nice, France\", \"Nice, France\", \"Nice, France\", \"Nice, France\", \"Nice, France\", \"Nice, France\", \"Nice, France\", \"Nice, France\", \"Nice, France\", \"Nice, France\", \"Nice, France\", \"Nice, France\", \"Nice, France\", \"Nice, France\", \"Nice, France\", \"Nice, France\", \"Nice, France\", \"Nice, France\", \"Nice, France\", \"Nice, France\", \"Nice, France\", \"Nice, France\", \"Nice, France\", \"Nice, France\", \"Nice, France\", \"Nice, France\", \"Nice, France\", \"Nice, France\", \"Nice, France\", \"Nice, France\", \"Nice, France\", \"Nice, France\", \"Nice, France\", \"Nice, France\", \"Nice, France\", \"Nice, France\", \"Nice, France\", \"Nice, France\", \"Nice, France\", \"Nice, France\", \"Nice, France\", \"Nice, France\", \"Nice, France\", \"Nice, France\", \"Nice, France\", \"Nice, France\", \"Nice, France\", \"Nice, France\", \"Nice, France\", \"Nice, France\", \"Nice, France\", \"Nice, France\", \"Nice, France\", \"Nice, France\", \"Nice, France\", \"Nice, France\", \"Nice, France\", \"Nice, France\", \"Nice, France\", \"Nice, France\", \"Nice, France\", \"Nice, France\", \"Nice, France\", \"Nice, France\", \"Nice, France\", \"Nice, France\", \"Nice, France\", \"Nice, France\", \"Nice, France\", \"Nice, France\", \"Nice, France\", \"Nice, France\", \"Nice, France\", \"Nice, France\", \"Nice, France\", \"Nice, France\", \"Nice, France\", \"Nice, France\", \"Nice, France\", \"Nice, France\", \"Nice, France\", \"Nice, France\", \"Nice, France\", \"Nice, France\", \"Nice, France\", \"Nice, France\", \"Nice, France\", \"Nice, France\", \"Nice, France\", \"Paris, France\", \"Paris, France\", \"Paris, France\", \"Paris, France\", \"Paris, France\", \"Paris, France\", \"Paris, France\", \"Paris, France\", \"Paris, France\", \"Paris, France\", \"Paris, France\", \"Paris, France\", \"Paris, France\", \"Paris, France\", \"Paris, France\", \"Paris, France\", \"Paris, France\", \"Paris, France\", \"Paris, France\", \"Paris, France\", \"Paris, France\", \"Paris, France\", \"Paris, France\", \"Paris, France\", \"Paris, France\", \"Paris, France\", \"Paris, France\", \"Paris, France\", \"Paris, France\", \"Paris, France\", \"Paris, France\", \"Paris, France\", \"Paris, France\", \"Paris, France\", \"Paris, France\", \"Paris, France\", \"Paris, France\", \"Los Angeles, United States\", \"Los Angeles, United States\", \"Los Angeles, United States\", \"Los Angeles, United States\", \"Los Angeles, United States\", \"Los Angeles, United States\", \"Los Angeles, United States\", \"Los Angeles, United States\", \"Los Angeles, United States\", \"Los Angeles, United States\", \"Los Angeles, United States\", \"Los Angeles, United States\", \"Los Angeles, United States\", \"Los Angeles, United States\", \"Los Angeles, United States\", \"Los Angeles, United States\", \"Los Angeles, United States\", \"Los Angeles, United States\", \"Los Angeles, United States\", \"Los Angeles, United States\", \"Los Angeles, United States\", \"Los Angeles, United States\", \"Los Angeles, United States\", \"Montr\\u00e9al, Canada\", \"Montr\\u00e9al, Canada\", \"Montr\\u00e9al, Canada\", \"Montr\\u00e9al, Canada\", \"Montr\\u00e9al, Canada\", \"Montr\\u00e9al, Canada\", \"Montr\\u00e9al, Canada\", \"Montr\\u00e9al, Canada\", \"Montr\\u00e9al, Canada\", \"Montr\\u00e9al, Canada\", \"Montr\\u00e9al, Canada\", \"Montr\\u00e9al, Canada\", \"Montr\\u00e9al, Canada\", \"Montr\\u00e9al, Canada\", \"Montr\\u00e9al, Canada\", \"Montr\\u00e9al, Canada\", \"Montr\\u00e9al, Canada\", \"Montr\\u00e9al, Canada\", \"Montr\\u00e9al, Canada\", \"Montr\\u00e9al, Canada\", \"Montr\\u00e9al, Canada\", \"Montr\\u00e9al, Canada\", \"Philadelphia, United States\", \"Philadelphia, United States\", \"Philadelphia, United States\", \"Philadelphia, United States\", \"Philadelphia, United States\", \"Philadelphia, United States\", \"Philadelphia, United States\", \"Philadelphia, United States\", \"Philadelphia, United States\", \"Philadelphia, United States\", \"Philadelphia, United States\", \"Philadelphia, United States\", \"Philadelphia, United States\", \"Philadelphia, United States\", \"Philadelphia, United States\", \"Philadelphia, United States\", \"Philadelphia, United States\", \"Philadelphia, United States\", \"Philadelphia, United States\", \"Philadelphia, United States\", \"Philadelphia, United States\", \"New York, United States\", \"New York, United States\", \"New York, United States\", \"New York, United States\", \"New York, United States\", \"New York, United States\", \"New York, United States\", \"New York, United States\", \"New York, United States\", \"New York, United States\", \"New York, United States\", \"New York, United States\", \"New York, United States\", \"New York, United States\", \"New York, United States\", \"New York, United States\", \"New York, United States\", \"New York, United States\", \"New York, United States\", \"Villemus, France\", \"Villemus, France\", \"Villemus, France\", \"Villemus, France\", \"Villemus, France\", \"Villemus, France\", \"Villemus, France\", \"Villemus, France\", \"Villemus, France\", \"Villemus, France\", \"Villemus, France\", \"Villemus, France\", \"Villemus, France\", \"Villemus, France\", \"Villemus, France\", \"Burlington, Canada\", \"Burlington, Canada\", \"Burlington, Canada\", \"Burlington, Canada\", \"Burlington, Canada\", \"Burlington, Canada\", \"Burlington, Canada\", \"Burlington, Canada\", \"Carcassonne, France\", \"Carcassonne, France\", \"Carcassonne, France\", \"Carcassonne, France\", \"Carcassonne, France\", \"Carcassonne, France\", \"Carcassonne, France\", \"Santa Monica, United States\", \"Santa Monica, United States\", \"Santa Monica, United States\", \"Santa Monica, United States\", \"Santa Monica, United States\", \"Couches, France\", \"Couches, France\", \"Couches, France\", \"Couches, France\", \"Couches, France\", \"Goleta, United States\", \"Goleta, United States\", \"Goleta, United States\", \"Goleta, United States\", \"Lexington, United States\", \"Lexington, United States\", \"Lexington, United States\", \"Lexington, United States\", \"Boston, United States\", \"Boston, United States\", \"Boston, United States\", \"Boston, United States\", \"Philipstown, United States\", \"Philipstown, United States\", \"Philipstown, United States\", \"Champagny-en-Vanoise, France\", \"Champagny-en-Vanoise, France\", \"Champagny-en-Vanoise, France\", \"Dingy-Saint-Clair, France\", \"Dingy-Saint-Clair, France\", \"East Bloomfield, United States\", \"East Bloomfield, United States\", \"Mississauga, Canada\", \"Mississauga, Canada\", \"Aix-les-Bains, France\", \"Tobyhanna, United States\", \"Bergen, United States\", \"Cannes, France\", \"Saint-Chamond, France\", \"Bluffton, United States\", \"L'Escar\\u00e8ne, France\", \"Saint-Laurent-du-Var, France\", \"\\u00c8ze, France\", \"Joshua Tree, United States\", \"Coxsackie, United States\", \"Prescott Valley, United States\", \"Halifax, Canada\", \"Saint-\\u00c9tienne, France\", \"Vence, France\", \"Mendon, United States\", \"Mifflin, United States\", \"Banon, France\", \"Fort Erie, Canada\", \"Waitsfield, United States\", \"Lyndhurst, United States\", \"Newark, United States\", \"North Frontenac, Canada\", \"Cassis, France\", \"Vienne, France\"], \"type\": \"scattergeo\"}],\n",
       "                        {\"geo\": {\"scope\": \"world\"}, \"height\": 700, \"template\": {\"data\": {\"bar\": [{\"error_x\": {\"color\": \"#2a3f5f\"}, \"error_y\": {\"color\": \"#2a3f5f\"}, \"marker\": {\"line\": {\"color\": \"#E5ECF6\", \"width\": 0.5}}, \"type\": \"bar\"}], \"barpolar\": [{\"marker\": {\"line\": {\"color\": \"#E5ECF6\", \"width\": 0.5}}, \"type\": \"barpolar\"}], \"carpet\": [{\"aaxis\": {\"endlinecolor\": \"#2a3f5f\", \"gridcolor\": \"white\", \"linecolor\": \"white\", \"minorgridcolor\": \"white\", \"startlinecolor\": \"#2a3f5f\"}, \"baxis\": {\"endlinecolor\": \"#2a3f5f\", \"gridcolor\": \"white\", \"linecolor\": \"white\", \"minorgridcolor\": \"white\", \"startlinecolor\": \"#2a3f5f\"}, \"type\": \"carpet\"}], \"choropleth\": [{\"colorbar\": {\"outlinewidth\": 0, \"ticks\": \"\"}, \"type\": \"choropleth\"}], \"contour\": [{\"colorbar\": {\"outlinewidth\": 0, \"ticks\": \"\"}, \"colorscale\": [[0.0, \"#0d0887\"], [0.1111111111111111, \"#46039f\"], [0.2222222222222222, \"#7201a8\"], [0.3333333333333333, \"#9c179e\"], [0.4444444444444444, \"#bd3786\"], [0.5555555555555556, \"#d8576b\"], [0.6666666666666666, \"#ed7953\"], [0.7777777777777778, \"#fb9f3a\"], [0.8888888888888888, \"#fdca26\"], [1.0, \"#f0f921\"]], \"type\": \"contour\"}], \"contourcarpet\": [{\"colorbar\": {\"outlinewidth\": 0, \"ticks\": \"\"}, \"type\": \"contourcarpet\"}], \"heatmap\": [{\"colorbar\": {\"outlinewidth\": 0, \"ticks\": \"\"}, \"colorscale\": [[0.0, \"#0d0887\"], [0.1111111111111111, \"#46039f\"], [0.2222222222222222, \"#7201a8\"], [0.3333333333333333, \"#9c179e\"], [0.4444444444444444, \"#bd3786\"], [0.5555555555555556, \"#d8576b\"], [0.6666666666666666, \"#ed7953\"], [0.7777777777777778, \"#fb9f3a\"], [0.8888888888888888, \"#fdca26\"], [1.0, \"#f0f921\"]], \"type\": \"heatmap\"}], \"heatmapgl\": [{\"colorbar\": {\"outlinewidth\": 0, \"ticks\": \"\"}, \"colorscale\": [[0.0, \"#0d0887\"], [0.1111111111111111, \"#46039f\"], [0.2222222222222222, \"#7201a8\"], [0.3333333333333333, \"#9c179e\"], [0.4444444444444444, \"#bd3786\"], [0.5555555555555556, \"#d8576b\"], [0.6666666666666666, \"#ed7953\"], [0.7777777777777778, \"#fb9f3a\"], [0.8888888888888888, \"#fdca26\"], [1.0, \"#f0f921\"]], \"type\": \"heatmapgl\"}], \"histogram\": [{\"marker\": {\"colorbar\": {\"outlinewidth\": 0, \"ticks\": \"\"}}, \"type\": \"histogram\"}], \"histogram2d\": [{\"colorbar\": {\"outlinewidth\": 0, \"ticks\": \"\"}, \"colorscale\": [[0.0, \"#0d0887\"], [0.1111111111111111, \"#46039f\"], [0.2222222222222222, \"#7201a8\"], [0.3333333333333333, \"#9c179e\"], [0.4444444444444444, \"#bd3786\"], [0.5555555555555556, \"#d8576b\"], [0.6666666666666666, \"#ed7953\"], [0.7777777777777778, \"#fb9f3a\"], [0.8888888888888888, \"#fdca26\"], [1.0, \"#f0f921\"]], \"type\": \"histogram2d\"}], \"histogram2dcontour\": [{\"colorbar\": {\"outlinewidth\": 0, \"ticks\": \"\"}, \"colorscale\": [[0.0, \"#0d0887\"], [0.1111111111111111, \"#46039f\"], [0.2222222222222222, \"#7201a8\"], [0.3333333333333333, \"#9c179e\"], [0.4444444444444444, \"#bd3786\"], [0.5555555555555556, \"#d8576b\"], [0.6666666666666666, \"#ed7953\"], [0.7777777777777778, \"#fb9f3a\"], [0.8888888888888888, \"#fdca26\"], [1.0, \"#f0f921\"]], \"type\": \"histogram2dcontour\"}], \"mesh3d\": [{\"colorbar\": {\"outlinewidth\": 0, \"ticks\": \"\"}, \"type\": \"mesh3d\"}], \"parcoords\": [{\"line\": {\"colorbar\": {\"outlinewidth\": 0, \"ticks\": \"\"}}, \"type\": \"parcoords\"}], \"pie\": [{\"automargin\": true, \"type\": \"pie\"}], \"scatter\": [{\"marker\": {\"colorbar\": {\"outlinewidth\": 0, \"ticks\": \"\"}}, \"type\": \"scatter\"}], \"scatter3d\": [{\"line\": {\"colorbar\": {\"outlinewidth\": 0, \"ticks\": \"\"}}, \"marker\": {\"colorbar\": {\"outlinewidth\": 0, \"ticks\": \"\"}}, \"type\": \"scatter3d\"}], \"scattercarpet\": [{\"marker\": {\"colorbar\": {\"outlinewidth\": 0, \"ticks\": \"\"}}, \"type\": \"scattercarpet\"}], \"scattergeo\": [{\"marker\": {\"colorbar\": {\"outlinewidth\": 0, \"ticks\": \"\"}}, \"type\": \"scattergeo\"}], \"scattergl\": [{\"marker\": {\"colorbar\": {\"outlinewidth\": 0, \"ticks\": \"\"}}, \"type\": \"scattergl\"}], \"scattermapbox\": [{\"marker\": {\"colorbar\": {\"outlinewidth\": 0, \"ticks\": \"\"}}, \"type\": \"scattermapbox\"}], \"scatterpolar\": [{\"marker\": {\"colorbar\": {\"outlinewidth\": 0, \"ticks\": \"\"}}, \"type\": \"scatterpolar\"}], \"scatterpolargl\": [{\"marker\": {\"colorbar\": {\"outlinewidth\": 0, \"ticks\": \"\"}}, \"type\": \"scatterpolargl\"}], \"scatterternary\": [{\"marker\": {\"colorbar\": {\"outlinewidth\": 0, \"ticks\": \"\"}}, \"type\": \"scatterternary\"}], \"surface\": [{\"colorbar\": {\"outlinewidth\": 0, \"ticks\": \"\"}, \"colorscale\": [[0.0, \"#0d0887\"], [0.1111111111111111, \"#46039f\"], [0.2222222222222222, \"#7201a8\"], [0.3333333333333333, \"#9c179e\"], [0.4444444444444444, \"#bd3786\"], [0.5555555555555556, \"#d8576b\"], [0.6666666666666666, \"#ed7953\"], [0.7777777777777778, \"#fb9f3a\"], [0.8888888888888888, \"#fdca26\"], [1.0, \"#f0f921\"]], \"type\": \"surface\"}], \"table\": [{\"cells\": {\"fill\": {\"color\": \"#EBF0F8\"}, \"line\": {\"color\": \"white\"}}, \"header\": {\"fill\": {\"color\": \"#C8D4E3\"}, \"line\": {\"color\": \"white\"}}, \"type\": \"table\"}]}, \"layout\": {\"annotationdefaults\": {\"arrowcolor\": \"#2a3f5f\", \"arrowhead\": 0, \"arrowwidth\": 1}, \"coloraxis\": {\"colorbar\": {\"outlinewidth\": 0, \"ticks\": \"\"}}, \"colorscale\": {\"diverging\": [[0, \"#8e0152\"], [0.1, \"#c51b7d\"], [0.2, \"#de77ae\"], [0.3, \"#f1b6da\"], [0.4, \"#fde0ef\"], [0.5, \"#f7f7f7\"], [0.6, \"#e6f5d0\"], [0.7, \"#b8e186\"], [0.8, \"#7fbc41\"], [0.9, \"#4d9221\"], [1, \"#276419\"]], \"sequential\": [[0.0, \"#0d0887\"], [0.1111111111111111, \"#46039f\"], [0.2222222222222222, \"#7201a8\"], [0.3333333333333333, \"#9c179e\"], [0.4444444444444444, \"#bd3786\"], [0.5555555555555556, \"#d8576b\"], [0.6666666666666666, \"#ed7953\"], [0.7777777777777778, \"#fb9f3a\"], [0.8888888888888888, \"#fdca26\"], [1.0, \"#f0f921\"]], \"sequentialminus\": [[0.0, \"#0d0887\"], [0.1111111111111111, \"#46039f\"], [0.2222222222222222, \"#7201a8\"], [0.3333333333333333, \"#9c179e\"], [0.4444444444444444, \"#bd3786\"], [0.5555555555555556, \"#d8576b\"], [0.6666666666666666, \"#ed7953\"], [0.7777777777777778, \"#fb9f3a\"], [0.8888888888888888, \"#fdca26\"], [1.0, \"#f0f921\"]]}, \"colorway\": [\"#636efa\", \"#EF553B\", \"#00cc96\", \"#ab63fa\", \"#FFA15A\", \"#19d3f3\", \"#FF6692\", \"#B6E880\", \"#FF97FF\", \"#FECB52\"], \"font\": {\"color\": \"#2a3f5f\"}, \"geo\": {\"bgcolor\": \"white\", \"lakecolor\": \"white\", \"landcolor\": \"#E5ECF6\", \"showlakes\": true, \"showland\": true, \"subunitcolor\": \"white\"}, \"hoverlabel\": {\"align\": \"left\"}, \"hovermode\": \"closest\", \"mapbox\": {\"style\": \"light\"}, \"paper_bgcolor\": \"white\", \"plot_bgcolor\": \"#E5ECF6\", \"polar\": {\"angularaxis\": {\"gridcolor\": \"white\", \"linecolor\": \"white\", \"ticks\": \"\"}, \"bgcolor\": \"#E5ECF6\", \"radialaxis\": {\"gridcolor\": \"white\", \"linecolor\": \"white\", \"ticks\": \"\"}}, \"scene\": {\"xaxis\": {\"backgroundcolor\": \"#E5ECF6\", \"gridcolor\": \"white\", \"gridwidth\": 2, \"linecolor\": \"white\", \"showbackground\": true, \"ticks\": \"\", \"zerolinecolor\": \"white\"}, \"yaxis\": {\"backgroundcolor\": \"#E5ECF6\", \"gridcolor\": \"white\", \"gridwidth\": 2, \"linecolor\": \"white\", \"showbackground\": true, \"ticks\": \"\", \"zerolinecolor\": \"white\"}, \"zaxis\": {\"backgroundcolor\": \"#E5ECF6\", \"gridcolor\": \"white\", \"gridwidth\": 2, \"linecolor\": \"white\", \"showbackground\": true, \"ticks\": \"\", \"zerolinecolor\": \"white\"}}, \"shapedefaults\": {\"line\": {\"color\": \"#2a3f5f\"}}, \"ternary\": {\"aaxis\": {\"gridcolor\": \"white\", \"linecolor\": \"white\", \"ticks\": \"\"}, \"baxis\": {\"gridcolor\": \"white\", \"linecolor\": \"white\", \"ticks\": \"\"}, \"bgcolor\": \"#E5ECF6\", \"caxis\": {\"gridcolor\": \"white\", \"linecolor\": \"white\", \"ticks\": \"\"}}, \"title\": {\"x\": 0.05}, \"xaxis\": {\"automargin\": true, \"gridcolor\": \"white\", \"linecolor\": \"white\", \"ticks\": \"\", \"title\": {\"standoff\": 15}, \"zerolinecolor\": \"white\", \"zerolinewidth\": 2}, \"yaxis\": {\"automargin\": true, \"gridcolor\": \"white\", \"linecolor\": \"white\", \"ticks\": \"\", \"title\": {\"standoff\": 15}, \"zerolinecolor\": \"white\", \"zerolinewidth\": 2}}}, \"title\": {\"text\": \"minutiae cycle locations<br>(Hover for location names)\"}},\n",
       "                        {\"responsive\": true}\n",
       "                    ).then(function(){\n",
       "                            \n",
       "var gd = document.getElementById('2357003d-900f-4a6c-8c79-ec913e082128');\n",
       "var x = new MutationObserver(function (mutations, observer) {{\n",
       "        var display = window.getComputedStyle(gd).display;\n",
       "        if (!display || display === 'none') {{\n",
       "            console.log([gd, 'removed!']);\n",
       "            Plotly.purge(gd);\n",
       "            observer.disconnect();\n",
       "        }}\n",
       "}});\n",
       "\n",
       "// Listen for the removal of the full notebook cells\n",
       "var notebookContainer = gd.closest('#notebook-container');\n",
       "if (notebookContainer) {{\n",
       "    x.observe(notebookContainer, {childList: true});\n",
       "}}\n",
       "\n",
       "// Listen for the clearing of the current output cell\n",
       "var outputEl = gd.closest('.output');\n",
       "if (outputEl) {{\n",
       "    x.observe(outputEl, {childList: true});\n",
       "}}\n",
       "\n",
       "                        })\n",
       "                };\n",
       "                });\n",
       "            </script>\n",
       "        </div>"
      ]
     },
     "metadata": {},
     "output_type": "display_data"
    }
   ],
   "source": [
    "import plotly.graph_objects as go\n",
    "\n",
    "fig = go.Figure(data=go.Scattergeo(\n",
    "        lon = locations['lng'],\n",
    "        lat = locations['lat'],\n",
    "        text = locations['location'],\n",
    "        mode = 'markers',\n",
    "        marker = dict(\n",
    "            size = locations['count'],\n",
    "            #color = colors[i],\n",
    "            #line_color='rgb(40,40,40)',\n",
    "            #line_width=0.5,\n",
    "            sizemode = 'area'\n",
    "        ),\n",
    "        marker_color = locations['count'],\n",
    "        ))\n",
    "\n",
    "# fig.update_geos(projection_type=\"orthographic\")\n",
    "\n",
    "fig.update_layout(\n",
    "        title = 'minutiae cycle locations<br>(Hover for location names)',\n",
    "        geo_scope='world',\n",
    "        height=700,\n",
    "    )\n",
    "fig.show()"
   ]
  },
  {
   "cell_type": "markdown",
   "metadata": {},
   "source": [
    "## Locations w/ Frequency `GeoPandas`"
   ]
  },
  {
   "cell_type": "code",
   "execution_count": 25,
   "metadata": {},
   "outputs": [],
   "source": [
    "#https://hub.arcgis.com/datasets/a21fdb46d23e4ef896f31475217cbb08_1\n",
    "world_map = gpd.read_file('data/Longitude_Graticules_and_World_Countries_Boundaries-shp/99bfd9e7-bb42-4728-87b5-07f8c8ac631c2020328-1-1vef4ev.lu5nk.shp')"
   ]
  },
  {
   "cell_type": "code",
   "execution_count": 26,
   "metadata": {},
   "outputs": [],
   "source": [
    "# convert coordinate reference system\n",
    "world_map = world_map.to_crs(\"EPSG:4326\")"
   ]
  },
  {
   "cell_type": "code",
   "execution_count": 32,
   "metadata": {},
   "outputs": [
    {
     "data": {
      "text/plain": [
       "34.010932000000004"
      ]
     },
     "execution_count": 32,
     "metadata": {},
     "output_type": "execute_result"
    }
   ],
   "source": [
    "djw.lat.min()"
   ]
  },
  {
   "cell_type": "code",
   "execution_count": 30,
   "metadata": {},
   "outputs": [
    {
     "data": {
      "text/plain": [
       "array([-180.        ,  -90.        ,  180.        ,   83.62359619])"
      ]
     },
     "execution_count": 30,
     "metadata": {},
     "output_type": "execute_result"
    }
   ],
   "source": [
    "world_map.total_bounds"
   ]
  },
  {
   "cell_type": "code",
   "execution_count": 33,
   "metadata": {},
   "outputs": [
    {
     "name": "stderr",
     "output_type": "stream",
     "text": [
      "/Users/djw/opt/miniconda3/envs/thesis_env/lib/python3.8/site-packages/geopandas/geodataframe.py:167: UserWarning: Pandas doesn't allow columns to be created via a new attribute name - see https://pandas.pydata.org/pandas-docs/stable/indexing.html#attribute-access\n",
      "  super(GeoDataFrame, self).__setattr__(attr, val)\n"
     ]
    },
    {
     "ename": "AttributeError",
     "evalue": "can't set attribute",
     "output_type": "error",
     "traceback": [
      "\u001b[0;31m---------------------------------------------------------------------------\u001b[0m",
      "\u001b[0;31mAttributeError\u001b[0m                            Traceback (most recent call last)",
      "\u001b[0;32m~/opt/miniconda3/envs/thesis_env/lib/python3.8/site-packages/pandas/core/generic.py\u001b[0m in \u001b[0;36m__setattr__\u001b[0;34m(self, name, value)\u001b[0m\n\u001b[1;32m   5304\u001b[0m                 \u001b[0;32melse\u001b[0m\u001b[0;34m:\u001b[0m\u001b[0;34m\u001b[0m\u001b[0;34m\u001b[0m\u001b[0m\n\u001b[0;32m-> 5305\u001b[0;31m                     \u001b[0mobject\u001b[0m\u001b[0;34m.\u001b[0m\u001b[0m__setattr__\u001b[0m\u001b[0;34m(\u001b[0m\u001b[0mself\u001b[0m\u001b[0;34m,\u001b[0m \u001b[0mname\u001b[0m\u001b[0;34m,\u001b[0m \u001b[0mvalue\u001b[0m\u001b[0;34m)\u001b[0m\u001b[0;34m\u001b[0m\u001b[0;34m\u001b[0m\u001b[0m\n\u001b[0m\u001b[1;32m   5306\u001b[0m             \u001b[0;32mexcept\u001b[0m \u001b[0;34m(\u001b[0m\u001b[0mAttributeError\u001b[0m\u001b[0;34m,\u001b[0m \u001b[0mTypeError\u001b[0m\u001b[0;34m)\u001b[0m\u001b[0;34m:\u001b[0m\u001b[0;34m\u001b[0m\u001b[0;34m\u001b[0m\u001b[0m\n",
      "\u001b[0;31mAttributeError\u001b[0m: can't set attribute",
      "\nDuring handling of the above exception, another exception occurred:\n",
      "\u001b[0;31mAttributeError\u001b[0m                            Traceback (most recent call last)",
      "\u001b[0;32m<ipython-input-33-3aafc47852d7>\u001b[0m in \u001b[0;36m<module>\u001b[0;34m\u001b[0m\n\u001b[0;32m----> 1\u001b[0;31m \u001b[0mworld_map\u001b[0m\u001b[0;34m.\u001b[0m\u001b[0mtotal_bounds\u001b[0m \u001b[0;34m=\u001b[0m \u001b[0;34m[\u001b[0m\u001b[0mdjw\u001b[0m\u001b[0;34m.\u001b[0m\u001b[0mlng\u001b[0m\u001b[0;34m.\u001b[0m\u001b[0mmin\u001b[0m\u001b[0;34m(\u001b[0m\u001b[0;34m)\u001b[0m \u001b[0;34m-\u001b[0m\u001b[0;36m5\u001b[0m\u001b[0;34m,\u001b[0m \u001b[0mdjw\u001b[0m\u001b[0;34m.\u001b[0m\u001b[0mlat\u001b[0m\u001b[0;34m.\u001b[0m\u001b[0mmin\u001b[0m\u001b[0;34m(\u001b[0m\u001b[0;34m)\u001b[0m \u001b[0;34m-\u001b[0m\u001b[0;36m5\u001b[0m\u001b[0;34m,\u001b[0m \u001b[0mdjw\u001b[0m\u001b[0;34m.\u001b[0m\u001b[0mlng\u001b[0m\u001b[0;34m.\u001b[0m\u001b[0mmax\u001b[0m\u001b[0;34m(\u001b[0m\u001b[0;34m)\u001b[0m \u001b[0;34m+\u001b[0m\u001b[0;36m5\u001b[0m\u001b[0;34m,\u001b[0m \u001b[0mdjw\u001b[0m\u001b[0;34m.\u001b[0m\u001b[0mlat\u001b[0m\u001b[0;34m.\u001b[0m\u001b[0mmax\u001b[0m\u001b[0;34m(\u001b[0m\u001b[0;34m)\u001b[0m \u001b[0;34m+\u001b[0m\u001b[0;36m5\u001b[0m\u001b[0;34m]\u001b[0m\u001b[0;34m\u001b[0m\u001b[0;34m\u001b[0m\u001b[0m\n\u001b[0m",
      "\u001b[0;32m~/opt/miniconda3/envs/thesis_env/lib/python3.8/site-packages/geopandas/geodataframe.py\u001b[0m in \u001b[0;36m__setattr__\u001b[0;34m(self, attr, val)\u001b[0m\n\u001b[1;32m    165\u001b[0m             \u001b[0mobject\u001b[0m\u001b[0;34m.\u001b[0m\u001b[0m__setattr__\u001b[0m\u001b[0;34m(\u001b[0m\u001b[0mself\u001b[0m\u001b[0;34m,\u001b[0m \u001b[0mattr\u001b[0m\u001b[0;34m,\u001b[0m \u001b[0mval\u001b[0m\u001b[0;34m)\u001b[0m\u001b[0;34m\u001b[0m\u001b[0;34m\u001b[0m\u001b[0m\n\u001b[1;32m    166\u001b[0m         \u001b[0;32melse\u001b[0m\u001b[0;34m:\u001b[0m\u001b[0;34m\u001b[0m\u001b[0;34m\u001b[0m\u001b[0m\n\u001b[0;32m--> 167\u001b[0;31m             \u001b[0msuper\u001b[0m\u001b[0;34m(\u001b[0m\u001b[0mGeoDataFrame\u001b[0m\u001b[0;34m,\u001b[0m \u001b[0mself\u001b[0m\u001b[0;34m)\u001b[0m\u001b[0;34m.\u001b[0m\u001b[0m__setattr__\u001b[0m\u001b[0;34m(\u001b[0m\u001b[0mattr\u001b[0m\u001b[0;34m,\u001b[0m \u001b[0mval\u001b[0m\u001b[0;34m)\u001b[0m\u001b[0;34m\u001b[0m\u001b[0;34m\u001b[0m\u001b[0m\n\u001b[0m\u001b[1;32m    168\u001b[0m \u001b[0;34m\u001b[0m\u001b[0m\n\u001b[1;32m    169\u001b[0m     \u001b[0;32mdef\u001b[0m \u001b[0m_get_geometry\u001b[0m\u001b[0;34m(\u001b[0m\u001b[0mself\u001b[0m\u001b[0;34m)\u001b[0m\u001b[0;34m:\u001b[0m\u001b[0;34m\u001b[0m\u001b[0;34m\u001b[0m\u001b[0m\n",
      "\u001b[0;32m~/opt/miniconda3/envs/thesis_env/lib/python3.8/site-packages/pandas/core/generic.py\u001b[0m in \u001b[0;36m__setattr__\u001b[0;34m(self, name, value)\u001b[0m\n\u001b[1;32m   5313\u001b[0m                         \u001b[0mstacklevel\u001b[0m\u001b[0;34m=\u001b[0m\u001b[0;36m2\u001b[0m\u001b[0;34m,\u001b[0m\u001b[0;34m\u001b[0m\u001b[0;34m\u001b[0m\u001b[0m\n\u001b[1;32m   5314\u001b[0m                     )\n\u001b[0;32m-> 5315\u001b[0;31m                 \u001b[0mobject\u001b[0m\u001b[0;34m.\u001b[0m\u001b[0m__setattr__\u001b[0m\u001b[0;34m(\u001b[0m\u001b[0mself\u001b[0m\u001b[0;34m,\u001b[0m \u001b[0mname\u001b[0m\u001b[0;34m,\u001b[0m \u001b[0mvalue\u001b[0m\u001b[0;34m)\u001b[0m\u001b[0;34m\u001b[0m\u001b[0;34m\u001b[0m\u001b[0m\n\u001b[0m\u001b[1;32m   5316\u001b[0m \u001b[0;34m\u001b[0m\u001b[0m\n\u001b[1;32m   5317\u001b[0m     \u001b[0;32mdef\u001b[0m \u001b[0m_dir_additions\u001b[0m\u001b[0;34m(\u001b[0m\u001b[0mself\u001b[0m\u001b[0;34m)\u001b[0m\u001b[0;34m:\u001b[0m\u001b[0;34m\u001b[0m\u001b[0;34m\u001b[0m\u001b[0m\n",
      "\u001b[0;31mAttributeError\u001b[0m: can't set attribute"
     ]
    }
   ],
   "source": [
    "world_map.total_bounds = [djw.lng.min() -5, djw.lat.min() -5, djw.lng.max() +5, djw.lat.max() +5]"
   ]
  },
  {
   "cell_type": "code",
   "execution_count": 27,
   "metadata": {},
   "outputs": [],
   "source": [
    "geometry = [Point(xy) for xy in zip(djw.lng, djw.lat)]"
   ]
  },
  {
   "cell_type": "code",
   "execution_count": 73,
   "metadata": {},
   "outputs": [],
   "source": [
    "# specify coordinate reference system\n",
    "crs = {'init': \"EPSG:4326\"}"
   ]
  },
  {
   "cell_type": "code",
   "execution_count": 75,
   "metadata": {},
   "outputs": [
    {
     "name": "stderr",
     "output_type": "stream",
     "text": [
      "/Users/djw/opt/miniconda3/envs/thesis_env/lib/python3.8/site-packages/pyproj/crs/crs.py:53: FutureWarning: '+init=<authority>:<code>' syntax is deprecated. '<authority>:<code>' is the preferred initialization method. When making the change, be mindful of axis order changes: https://pyproj4.github.io/pyproj/stable/gotchas.html#axis-order-changes-in-proj-6\n",
      "  return _prepare_from_string(\" \".join(pjargs))\n"
     ]
    }
   ],
   "source": [
    "geo_df = gpd.GeoDataFrame(djw,\n",
    "                         crs = crs,\n",
    "                         geometry = geometry)"
   ]
  },
  {
   "cell_type": "code",
   "execution_count": 81,
   "metadata": {},
   "outputs": [
    {
     "data": {
      "text/plain": [
       "<matplotlib.legend.Legend at 0x11c7df700>"
      ]
     },
     "execution_count": 81,
     "metadata": {},
     "output_type": "execute_result"
    },
    {
     "data": {
      "image/png": "[encoded data removed]",
      "text/plain": [
       "<Figure size 1080x1080 with 1 Axes>"
      ]
     },
     "metadata": {
      "needs_background": "light"
     },
     "output_type": "display_data"
    }
   ],
   "source": [
    "fig,ax = plt.subplots(figsize = (15,15))\n",
    "world_map.plot(ax = ax, alpha = 0.4, color = 'grey')\n",
    "geo_df.plot(ax = ax, markersize = djw['count'], color = 'black', marker = 'o', label = \"Locations\")\n",
    "plt.legend(prop={'size': 15})"
   ]
  },
  {
   "cell_type": "markdown",
   "metadata": {},
   "source": [
    "## Lines between locations\n",
    "\n",
    "From [plotly tutorial](https://plotly.com/python/lines-on-maps/)"
   ]
  },
  {
   "cell_type": "code",
   "execution_count": 7,
   "metadata": {},
   "outputs": [],
   "source": [
    "import plotly.graph_objects as go\n",
    "import pandas as pd"
   ]
  },
  {
   "cell_type": "code",
   "execution_count": 11,
   "metadata": {},
   "outputs": [],
   "source": [
    "# create location count dataframe\n",
    "location_count = djw.location.value_counts().reset_index()\n",
    "location_count.rename(columns={\"index\": \"location\", \"location\": \"count\"}, inplace=True)\n",
    "locations = location_count.merge(djw, how='left', on='location')"
   ]
  },
  {
   "cell_type": "code",
   "execution_count": 8,
   "metadata": {},
   "outputs": [
    {
     "data": {
      "text/html": [
       "<div>\n",
       "<style scoped>\n",
       "    .dataframe tbody tr th:only-of-type {\n",
       "        vertical-align: middle;\n",
       "    }\n",
       "\n",
       "    .dataframe tbody tr th {\n",
       "        vertical-align: top;\n",
       "    }\n",
       "\n",
       "    .dataframe thead th {\n",
       "        text-align: right;\n",
       "    }\n",
       "</style>\n",
       "<table border=\"1\" class=\"dataframe\">\n",
       "  <thead>\n",
       "    <tr style=\"text-align: right;\">\n",
       "      <th></th>\n",
       "      <th>displayUrl</th>\n",
       "      <th>location</th>\n",
       "      <th>moment</th>\n",
       "      <th>date</th>\n",
       "      <th>hour</th>\n",
       "      <th>minute</th>\n",
       "      <th>lat</th>\n",
       "      <th>lng</th>\n",
       "      <th>date_nasa</th>\n",
       "      <th>temp_2m</th>\n",
       "      <th>wind_10m</th>\n",
       "      <th>precipitation</th>\n",
       "      <th>distance</th>\n",
       "      <th>distance_cum</th>\n",
       "      <th>location_previous</th>\n",
       "      <th>carbon_footprint</th>\n",
       "      <th>lat_previous</th>\n",
       "      <th>lng_previous</th>\n",
       "    </tr>\n",
       "  </thead>\n",
       "  <tbody>\n",
       "    <tr>\n",
       "      <th>0</th>\n",
       "      <td>https://firebasestorage.googleapis.com/v0/b/mi...</td>\n",
       "      <td>Toronto, Canada</td>\n",
       "      <td>86</td>\n",
       "      <td>2017-01-20 00:00:00+00:00</td>\n",
       "      <td>2</td>\n",
       "      <td>18</td>\n",
       "      <td>43.65</td>\n",
       "      <td>-79.38</td>\n",
       "      <td>20170120</td>\n",
       "      <td>1.82</td>\n",
       "      <td>3.85</td>\n",
       "      <td>0.59</td>\n",
       "      <td>0</td>\n",
       "      <td>0</td>\n",
       "      <td>NaN</td>\n",
       "      <td>0.0</td>\n",
       "      <td>NaN</td>\n",
       "      <td>NaN</td>\n",
       "    </tr>\n",
       "    <tr>\n",
       "      <th>1</th>\n",
       "      <td>https://firebasestorage.googleapis.com/v0/b/mi...</td>\n",
       "      <td>Toronto, Canada</td>\n",
       "      <td>87</td>\n",
       "      <td>2017-01-21 00:00:00+00:00</td>\n",
       "      <td>17</td>\n",
       "      <td>55</td>\n",
       "      <td>43.65</td>\n",
       "      <td>-79.38</td>\n",
       "      <td>20170121</td>\n",
       "      <td>20.32</td>\n",
       "      <td>1.79</td>\n",
       "      <td>0.00</td>\n",
       "      <td>0</td>\n",
       "      <td>0</td>\n",
       "      <td>Toronto, Canada</td>\n",
       "      <td>0.0</td>\n",
       "      <td>43.65</td>\n",
       "      <td>-79.38</td>\n",
       "    </tr>\n",
       "  </tbody>\n",
       "</table>\n",
       "</div>"
      ],
      "text/plain": [
       "                                          displayUrl         location  moment  \\\n",
       "0  https://firebasestorage.googleapis.com/v0/b/mi...  Toronto, Canada      86   \n",
       "1  https://firebasestorage.googleapis.com/v0/b/mi...  Toronto, Canada      87   \n",
       "\n",
       "                        date  hour  minute    lat    lng  date_nasa  temp_2m  \\\n",
       "0  2017-01-20 00:00:00+00:00     2      18  43.65 -79.38   20170120     1.82   \n",
       "1  2017-01-21 00:00:00+00:00    17      55  43.65 -79.38   20170121    20.32   \n",
       "\n",
       "   wind_10m  precipitation  distance  distance_cum location_previous  \\\n",
       "0      3.85           0.59         0             0               NaN   \n",
       "1      1.79           0.00         0             0   Toronto, Canada   \n",
       "\n",
       "   carbon_footprint  lat_previous  lng_previous  \n",
       "0               0.0           NaN           NaN  \n",
       "1               0.0         43.65        -79.38  "
      ]
     },
     "execution_count": 8,
     "metadata": {},
     "output_type": "execute_result"
    }
   ],
   "source": [
    "djw.head(2)"
   ]
  },
  {
   "cell_type": "code",
   "execution_count": 12,
   "metadata": {},
   "outputs": [
    {
     "data": {
      "text/html": [
       "<div>\n",
       "<style scoped>\n",
       "    .dataframe tbody tr th:only-of-type {\n",
       "        vertical-align: middle;\n",
       "    }\n",
       "\n",
       "    .dataframe tbody tr th {\n",
       "        vertical-align: top;\n",
       "    }\n",
       "\n",
       "    .dataframe thead th {\n",
       "        text-align: right;\n",
       "    }\n",
       "</style>\n",
       "<table border=\"1\" class=\"dataframe\">\n",
       "  <thead>\n",
       "    <tr style=\"text-align: right;\">\n",
       "      <th></th>\n",
       "      <th>displayUrl</th>\n",
       "      <th>location</th>\n",
       "      <th>moment</th>\n",
       "      <th>date</th>\n",
       "      <th>hour</th>\n",
       "      <th>minute</th>\n",
       "      <th>lat</th>\n",
       "      <th>lng</th>\n",
       "      <th>date_nasa</th>\n",
       "      <th>temp_2m</th>\n",
       "      <th>wind_10m</th>\n",
       "      <th>precipitation</th>\n",
       "      <th>distance</th>\n",
       "      <th>distance_cum</th>\n",
       "      <th>location_previous</th>\n",
       "      <th>carbon_footprint</th>\n",
       "      <th>lat_previous</th>\n",
       "      <th>lng_previous</th>\n",
       "    </tr>\n",
       "  </thead>\n",
       "  <tbody>\n",
       "    <tr>\n",
       "      <th>0</th>\n",
       "      <td>https://firebasestorage.googleapis.com/v0/b/mi...</td>\n",
       "      <td>Los Angeles, United States</td>\n",
       "      <td>120</td>\n",
       "      <td>2017-02-23 00:00:00+00:00</td>\n",
       "      <td>14</td>\n",
       "      <td>45</td>\n",
       "      <td>34.05</td>\n",
       "      <td>-118.24</td>\n",
       "      <td>20170223</td>\n",
       "      <td>5.00</td>\n",
       "      <td>4.90</td>\n",
       "      <td>0.07</td>\n",
       "      <td>3494</td>\n",
       "      <td>3494</td>\n",
       "      <td>Toronto, Canada</td>\n",
       "      <td>400.32</td>\n",
       "      <td>43.65</td>\n",
       "      <td>-79.38</td>\n",
       "    </tr>\n",
       "    <tr>\n",
       "      <th>1</th>\n",
       "      <td>https://firebasestorage.googleapis.com/v0/b/mi...</td>\n",
       "      <td>Toronto, Canada</td>\n",
       "      <td>125</td>\n",
       "      <td>2017-02-28 00:00:00+00:00</td>\n",
       "      <td>21</td>\n",
       "      <td>56</td>\n",
       "      <td>43.65</td>\n",
       "      <td>-79.38</td>\n",
       "      <td>20170228</td>\n",
       "      <td>4.59</td>\n",
       "      <td>4.67</td>\n",
       "      <td>1.55</td>\n",
       "      <td>3494</td>\n",
       "      <td>6988</td>\n",
       "      <td>Los Angeles, United States</td>\n",
       "      <td>800.64</td>\n",
       "      <td>34.05</td>\n",
       "      <td>-118.24</td>\n",
       "    </tr>\n",
       "    <tr>\n",
       "      <th>2</th>\n",
       "      <td>https://firebasestorage.googleapis.com/v0/b/mi...</td>\n",
       "      <td>Mississauga, Canada</td>\n",
       "      <td>132</td>\n",
       "      <td>2017-03-07 00:00:00+00:00</td>\n",
       "      <td>4</td>\n",
       "      <td>54</td>\n",
       "      <td>43.59</td>\n",
       "      <td>-79.65</td>\n",
       "      <td>20170307</td>\n",
       "      <td>6.96</td>\n",
       "      <td>7.69</td>\n",
       "      <td>7.38</td>\n",
       "      <td>22</td>\n",
       "      <td>7010</td>\n",
       "      <td>Toronto, Canada</td>\n",
       "      <td>803.16</td>\n",
       "      <td>43.65</td>\n",
       "      <td>-79.38</td>\n",
       "    </tr>\n",
       "  </tbody>\n",
       "</table>\n",
       "</div>"
      ],
      "text/plain": [
       "                                          displayUrl  \\\n",
       "0  https://firebasestorage.googleapis.com/v0/b/mi...   \n",
       "1  https://firebasestorage.googleapis.com/v0/b/mi...   \n",
       "2  https://firebasestorage.googleapis.com/v0/b/mi...   \n",
       "\n",
       "                     location  moment                       date  hour  \\\n",
       "0  Los Angeles, United States     120  2017-02-23 00:00:00+00:00    14   \n",
       "1             Toronto, Canada     125  2017-02-28 00:00:00+00:00    21   \n",
       "2         Mississauga, Canada     132  2017-03-07 00:00:00+00:00     4   \n",
       "\n",
       "   minute    lat     lng  date_nasa  temp_2m  wind_10m  precipitation  \\\n",
       "0      45  34.05 -118.24   20170223     5.00      4.90           0.07   \n",
       "1      56  43.65  -79.38   20170228     4.59      4.67           1.55   \n",
       "2      54  43.59  -79.65   20170307     6.96      7.69           7.38   \n",
       "\n",
       "   distance  distance_cum           location_previous  carbon_footprint  \\\n",
       "0      3494          3494             Toronto, Canada            400.32   \n",
       "1      3494          6988  Los Angeles, United States            800.64   \n",
       "2        22          7010             Toronto, Canada            803.16   \n",
       "\n",
       "   lat_previous  lng_previous  \n",
       "0         43.65        -79.38  \n",
       "1         34.05       -118.24  \n",
       "2         43.65        -79.38  "
      ]
     },
     "execution_count": 12,
     "metadata": {},
     "output_type": "execute_result"
    }
   ],
   "source": [
    "# lets get rid of rows without travel\n",
    "travel = djw.loc[djw.location!=djw.location_previous,:]\n",
    "\n",
    "# remove first row (NaN value)\n",
    "travel = travel.loc[1:,:].reset_index(drop=True)\n",
    "travel.head(3)"
   ]
  },
  {
   "cell_type": "code",
   "execution_count": 13,
   "metadata": {},
   "outputs": [],
   "source": [
    "# make dataframe where only one row for each location\n",
    "location_single = locations.drop_duplicates(subset=['location'])"
   ]
  },
  {
   "cell_type": "code",
   "execution_count": 95,
   "metadata": {},
   "outputs": [
    {
     "data": {
      "application/vnd.plotly.v1+json": {
       "config": {
        "plotlyServerURL": "https://plot.ly"
       },
       "data": [
        {
         "hoverinfo": "text",
         "lat": [
          43.651893,
          34.052238
         ],
         "line": {
          "color": "red",
          "width": 1
         },
         "lon": [
          -79.381713,
          -118.243344
         ],
         "mode": "lines",
         "text": "Toronto to Los Angeles",
         "type": "scattergeo"
        },
        {
         "hoverinfo": "text",
         "lat": [
          34.052238,
          43.651893
         ],
         "line": {
          "color": "red",
          "width": 1
         },
         "lon": [
          -118.243344,
          -79.381713
         ],
         "mode": "lines",
         "text": "Los Angeles to Toronto",
         "type": "scattergeo"
        },
        {
         "hoverinfo": "text",
         "lat": [
          43.651893,
          43.586162
         ],
         "line": {
          "color": "red",
          "width": 1
         },
         "lon": [
          -79.381713,
          -79.646215
         ],
         "mode": "lines",
         "text": "Toronto to Mississauga",
         "type": "scattergeo"
        },
        {
         "hoverinfo": "text",
         "lat": [
          43.586162,
          43.651893
         ],
         "line": {
          "color": "red",
          "width": 1
         },
         "lon": [
          -79.646215,
          -79.381713
         ],
         "mode": "lines",
         "text": "Mississauga to Toronto",
         "type": "scattergeo"
        },
        {
         "hoverinfo": "text",
         "lat": [
          43.651893,
          42.870938
         ],
         "line": {
          "color": "red",
          "width": 1
         },
         "lon": [
          -79.381713,
          -90.351781
         ],
         "mode": "lines",
         "text": "Toronto to Mifflin",
         "type": "scattergeo"
        },
        {
         "hoverinfo": "text",
         "lat": [
          42.870938,
          42.929756
         ],
         "line": {
          "color": "red",
          "width": 1
         },
         "lon": [
          -90.351781,
          -78.918901
         ],
         "mode": "lines",
         "text": "Mifflin to Fort Erie",
         "type": "scattergeo"
        },
        {
         "hoverinfo": "text",
         "lat": [
          42.929756,
          43.651893
         ],
         "line": {
          "color": "red",
          "width": 1
         },
         "lon": [
          -78.918901,
          -79.381713
         ],
         "mode": "lines",
         "text": "Fort Erie to Toronto",
         "type": "scattergeo"
        },
        {
         "hoverinfo": "text",
         "lat": [
          43.651893,
          42.358894
         ],
         "line": {
          "color": "red",
          "width": 1
         },
         "lon": [
          -79.381713,
          -71.056742
         ],
         "mode": "lines",
         "text": "Toronto to Boston",
         "type": "scattergeo"
        },
        {
         "hoverinfo": "text",
         "lat": [
          42.358894,
          43.651893
         ],
         "line": {
          "color": "red",
          "width": 1
         },
         "lon": [
          -71.056742,
          -79.381713
         ],
         "mode": "lines",
         "text": "Boston to Toronto",
         "type": "scattergeo"
        },
        {
         "hoverinfo": "text",
         "lat": [
          43.651893,
          42.10536
         ],
         "line": {
          "color": "red",
          "width": 1
         },
         "lon": [
          -79.381713,
          -71.55148
         ],
         "mode": "lines",
         "text": "Toronto to Mendon",
         "type": "scattergeo"
        },
        {
         "hoverinfo": "text",
         "lat": [
          42.10536,
          42.895208
         ],
         "line": {
          "color": "red",
          "width": 1
         },
         "lon": [
          -71.55148,
          -77.43495899999998
         ],
         "mode": "lines",
         "text": "Mendon to East Bloomfield",
         "type": "scattergeo"
        },
        {
         "hoverinfo": "text",
         "lat": [
          42.895208,
          43.651893
         ],
         "line": {
          "color": "red",
          "width": 1
         },
         "lon": [
          -77.43495899999998,
          -79.381713
         ],
         "mode": "lines",
         "text": "East Bloomfield to Toronto",
         "type": "scattergeo"
        },
        {
         "hoverinfo": "text",
         "lat": [
          43.651893,
          44.980563
         ],
         "line": {
          "color": "red",
          "width": 1
         },
         "lon": [
          -79.381713,
          -76.934039
         ],
         "mode": "lines",
         "text": "Toronto to North Frontenac",
         "type": "scattergeo"
        },
        {
         "hoverinfo": "text",
         "lat": [
          44.980563,
          43.651893
         ],
         "line": {
          "color": "red",
          "width": 1
         },
         "lon": [
          -76.934039,
          -79.381713
         ],
         "mode": "lines",
         "text": "North Frontenac to Toronto",
         "type": "scattergeo"
        },
        {
         "hoverinfo": "text",
         "lat": [
          43.651893,
          40.713054
         ],
         "line": {
          "color": "red",
          "width": 1
         },
         "lon": [
          -79.381713,
          -74.007228
         ],
         "mode": "lines",
         "text": "Toronto to New York",
         "type": "scattergeo"
        },
        {
         "hoverinfo": "text",
         "lat": [
          40.713054,
          41.424835
         ],
         "line": {
          "color": "red",
          "width": 1
         },
         "lon": [
          -74.007228,
          -73.945829
         ],
         "mode": "lines",
         "text": "New York to Philipstown",
         "type": "scattergeo"
        },
        {
         "hoverinfo": "text",
         "lat": [
          41.424835,
          43.651893
         ],
         "line": {
          "color": "red",
          "width": 1
         },
         "lon": [
          -73.945829,
          -79.381713
         ],
         "mode": "lines",
         "text": "Philipstown to Toronto",
         "type": "scattergeo"
        },
        {
         "hoverinfo": "text",
         "lat": [
          43.651893,
          34.010932000000004
         ],
         "line": {
          "color": "red",
          "width": 1
         },
         "lon": [
          -79.381713,
          -118.491512
         ],
         "mode": "lines",
         "text": "Toronto to Santa Monica",
         "type": "scattergeo"
        },
        {
         "hoverinfo": "text",
         "lat": [
          34.010932000000004,
          34.052238
         ],
         "line": {
          "color": "red",
          "width": 1
         },
         "lon": [
          -118.491512,
          -118.243344
         ],
         "mode": "lines",
         "text": "Santa Monica to Los Angeles",
         "type": "scattergeo"
        },
        {
         "hoverinfo": "text",
         "lat": [
          34.052238,
          43.651893
         ],
         "line": {
          "color": "red",
          "width": 1
         },
         "lon": [
          -118.243344,
          -79.381713
         ],
         "mode": "lines",
         "text": "Los Angeles to Toronto",
         "type": "scattergeo"
        },
        {
         "hoverinfo": "text",
         "lat": [
          43.651893,
          43.586162
         ],
         "line": {
          "color": "red",
          "width": 1
         },
         "lon": [
          -79.381713,
          -79.646215
         ],
         "mode": "lines",
         "text": "Toronto to Mississauga",
         "type": "scattergeo"
        },
        {
         "hoverinfo": "text",
         "lat": [
          43.586162,
          40.738702
         ],
         "line": {
          "color": "red",
          "width": 1
         },
         "lon": [
          -79.646215,
          -85.171491
         ],
         "mode": "lines",
         "text": "Mississauga to Bluffton",
         "type": "scattergeo"
        },
        {
         "hoverinfo": "text",
         "lat": [
          40.738702,
          43.651893
         ],
         "line": {
          "color": "red",
          "width": 1
         },
         "lon": [
          -85.171491,
          -79.381713
         ],
         "mode": "lines",
         "text": "Bluffton to Toronto",
         "type": "scattergeo"
        },
        {
         "hoverinfo": "text",
         "lat": [
          43.651893,
          34.052238
         ],
         "line": {
          "color": "red",
          "width": 1
         },
         "lon": [
          -79.381713,
          -118.243344
         ],
         "mode": "lines",
         "text": "Toronto to Los Angeles",
         "type": "scattergeo"
        },
        {
         "hoverinfo": "text",
         "lat": [
          34.052238,
          34.010932000000004
         ],
         "line": {
          "color": "red",
          "width": 1
         },
         "lon": [
          -118.243344,
          -118.491512
         ],
         "mode": "lines",
         "text": "Los Angeles to Santa Monica",
         "type": "scattergeo"
        },
        {
         "hoverinfo": "text",
         "lat": [
          34.010932000000004,
          39.951061
         ],
         "line": {
          "color": "red",
          "width": 1
         },
         "lon": [
          -118.491512,
          -75.16561999999998
         ],
         "mode": "lines",
         "text": "Santa Monica to Philadelphia",
         "type": "scattergeo"
        },
        {
         "hoverinfo": "text",
         "lat": [
          39.951061,
          43.651893
         ],
         "line": {
          "color": "red",
          "width": 1
         },
         "lon": [
          -75.16561999999998,
          -79.381713
         ],
         "mode": "lines",
         "text": "Philadelphia to Toronto",
         "type": "scattergeo"
        },
        {
         "hoverinfo": "text",
         "lat": [
          43.651893,
          41.111329
         ],
         "line": {
          "color": "red",
          "width": 1
         },
         "lon": [
          -79.381713,
          -75.520888
         ],
         "mode": "lines",
         "text": "Toronto to Tobyhanna",
         "type": "scattergeo"
        },
        {
         "hoverinfo": "text",
         "lat": [
          41.111329,
          40.713054
         ],
         "line": {
          "color": "red",
          "width": 1
         },
         "lon": [
          -75.520888,
          -74.007228
         ],
         "mode": "lines",
         "text": "Tobyhanna to New York",
         "type": "scattergeo"
        },
        {
         "hoverinfo": "text",
         "lat": [
          40.713054,
          39.951061
         ],
         "line": {
          "color": "red",
          "width": 1
         },
         "lon": [
          -74.007228,
          -75.16561999999998
         ],
         "mode": "lines",
         "text": "New York to Philadelphia",
         "type": "scattergeo"
        },
        {
         "hoverinfo": "text",
         "lat": [
          39.951061,
          40.713054
         ],
         "line": {
          "color": "red",
          "width": 1
         },
         "lon": [
          -75.16561999999998,
          -74.007228
         ],
         "mode": "lines",
         "text": "Philadelphia to New York",
         "type": "scattergeo"
        },
        {
         "hoverinfo": "text",
         "lat": [
          40.713054,
          39.951061
         ],
         "line": {
          "color": "red",
          "width": 1
         },
         "lon": [
          -74.007228,
          -75.16561999999998
         ],
         "mode": "lines",
         "text": "New York to Philadelphia",
         "type": "scattergeo"
        },
        {
         "hoverinfo": "text",
         "lat": [
          39.951061,
          40.731507
         ],
         "line": {
          "color": "red",
          "width": 1
         },
         "lon": [
          -75.16561999999998,
          -74.17438800000002
         ],
         "mode": "lines",
         "text": "Philadelphia to Newark",
         "type": "scattergeo"
        },
        {
         "hoverinfo": "text",
         "lat": [
          40.731507,
          43.651893
         ],
         "line": {
          "color": "red",
          "width": 1
         },
         "lon": [
          -74.17438800000002,
          -79.381713
         ],
         "mode": "lines",
         "text": "Newark to Toronto",
         "type": "scattergeo"
        },
        {
         "hoverinfo": "text",
         "lat": [
          43.651893,
          43.325991
         ],
         "line": {
          "color": "red",
          "width": 1
         },
         "lon": [
          -79.381713,
          -79.798296
         ],
         "mode": "lines",
         "text": "Toronto to Burlington",
         "type": "scattergeo"
        },
        {
         "hoverinfo": "text",
         "lat": [
          43.325991,
          43.790001
         ],
         "line": {
          "color": "red",
          "width": 1
         },
         "lon": [
          -79.798296,
          -94.9944
         ],
         "mode": "lines",
         "text": "Burlington to Bergen",
         "type": "scattergeo"
        },
        {
         "hoverinfo": "text",
         "lat": [
          43.790001,
          43.651893
         ],
         "line": {
          "color": "red",
          "width": 1
         },
         "lon": [
          -94.9944,
          -79.381713
         ],
         "mode": "lines",
         "text": "Bergen to Toronto",
         "type": "scattergeo"
        },
        {
         "hoverinfo": "text",
         "lat": [
          43.651893,
          45.688586
         ],
         "line": {
          "color": "red",
          "width": 1
         },
         "lon": [
          -79.381713,
          5.914653
         ],
         "mode": "lines",
         "text": "Toronto to Aix-les-Bains",
         "type": "scattergeo"
        },
        {
         "hoverinfo": "text",
         "lat": [
          45.688586,
          45.909238
         ],
         "line": {
          "color": "red",
          "width": 1
         },
         "lon": [
          5.914653,
          6.2225550000000025
         ],
         "mode": "lines",
         "text": "Aix-les-Bains to Dingy-Saint-Clair",
         "type": "scattergeo"
        },
        {
         "hoverinfo": "text",
         "lat": [
          45.909238,
          46.869043
         ],
         "line": {
          "color": "red",
          "width": 1
         },
         "lon": [
          6.2225550000000025,
          4.573556
         ],
         "mode": "lines",
         "text": "Dingy-Saint-Clair to Couches",
         "type": "scattergeo"
        },
        {
         "hoverinfo": "text",
         "lat": [
          46.869043,
          43.213036
         ],
         "line": {
          "color": "red",
          "width": 1
         },
         "lon": [
          4.573556,
          2.349107
         ],
         "mode": "lines",
         "text": "Couches to Carcassonne",
         "type": "scattergeo"
        },
        {
         "hoverinfo": "text",
         "lat": [
          43.213036,
          43.651893
         ],
         "line": {
          "color": "red",
          "width": 1
         },
         "lon": [
          2.349107,
          -79.381713
         ],
         "mode": "lines",
         "text": "Carcassonne to Toronto",
         "type": "scattergeo"
        },
        {
         "hoverinfo": "text",
         "lat": [
          43.651893,
          44.190151
         ],
         "line": {
          "color": "red",
          "width": 1
         },
         "lon": [
          -79.381713,
          -72.82441800000002
         ],
         "mode": "lines",
         "text": "Toronto to Waitsfield",
         "type": "scattergeo"
        },
        {
         "hoverinfo": "text",
         "lat": [
          44.190151,
          43.651893
         ],
         "line": {
          "color": "red",
          "width": 1
         },
         "lon": [
          -72.82441800000002,
          -79.381713
         ],
         "mode": "lines",
         "text": "Waitsfield to Toronto",
         "type": "scattergeo"
        },
        {
         "hoverinfo": "text",
         "lat": [
          43.651893,
          39.951061
         ],
         "line": {
          "color": "red",
          "width": 1
         },
         "lon": [
          -79.381713,
          -75.16561999999998
         ],
         "mode": "lines",
         "text": "Toronto to Philadelphia",
         "type": "scattergeo"
        },
        {
         "hoverinfo": "text",
         "lat": [
          39.951061,
          43.651893
         ],
         "line": {
          "color": "red",
          "width": 1
         },
         "lon": [
          -75.16561999999998,
          -79.381713
         ],
         "mode": "lines",
         "text": "Philadelphia to Toronto",
         "type": "scattergeo"
        },
        {
         "hoverinfo": "text",
         "lat": [
          43.651893,
          34.052238
         ],
         "line": {
          "color": "red",
          "width": 1
         },
         "lon": [
          -79.381713,
          -118.243344
         ],
         "mode": "lines",
         "text": "Toronto to Los Angeles",
         "type": "scattergeo"
        },
        {
         "hoverinfo": "text",
         "lat": [
          34.052238,
          34.010932000000004
         ],
         "line": {
          "color": "red",
          "width": 1
         },
         "lon": [
          -118.243344,
          -118.491512
         ],
         "mode": "lines",
         "text": "Los Angeles to Santa Monica",
         "type": "scattergeo"
        },
        {
         "hoverinfo": "text",
         "lat": [
          34.010932000000004,
          43.651893
         ],
         "line": {
          "color": "red",
          "width": 1
         },
         "lon": [
          -118.491512,
          -79.381713
         ],
         "mode": "lines",
         "text": "Santa Monica to Toronto",
         "type": "scattergeo"
        },
        {
         "hoverinfo": "text",
         "lat": [
          43.651893,
          45.509062
         ],
         "line": {
          "color": "red",
          "width": 1
         },
         "lon": [
          -79.381713,
          -73.553363
         ],
         "mode": "lines",
         "text": "Toronto to Montréal",
         "type": "scattergeo"
        },
        {
         "hoverinfo": "text",
         "lat": [
          45.509062,
          34.052238
         ],
         "line": {
          "color": "red",
          "width": 1
         },
         "lon": [
          -73.553363,
          -118.243344
         ],
         "mode": "lines",
         "text": "Montréal to Los Angeles",
         "type": "scattergeo"
        },
        {
         "hoverinfo": "text",
         "lat": [
          34.052238,
          34.010932000000004
         ],
         "line": {
          "color": "red",
          "width": 1
         },
         "lon": [
          -118.243344,
          -118.491512
         ],
         "mode": "lines",
         "text": "Los Angeles to Santa Monica",
         "type": "scattergeo"
        },
        {
         "hoverinfo": "text",
         "lat": [
          34.010932000000004,
          34.052238
         ],
         "line": {
          "color": "red",
          "width": 1
         },
         "lon": [
          -118.491512,
          -118.243344
         ],
         "mode": "lines",
         "text": "Santa Monica to Los Angeles",
         "type": "scattergeo"
        },
        {
         "hoverinfo": "text",
         "lat": [
          34.052238,
          34.126919
         ],
         "line": {
          "color": "red",
          "width": 1
         },
         "lon": [
          -118.243344,
          -116.315127
         ],
         "mode": "lines",
         "text": "Los Angeles to Joshua Tree",
         "type": "scattergeo"
        },
        {
         "hoverinfo": "text",
         "lat": [
          34.126919,
          34.052238
         ],
         "line": {
          "color": "red",
          "width": 1
         },
         "lon": [
          -116.315127,
          -118.243344
         ],
         "mode": "lines",
         "text": "Joshua Tree to Los Angeles",
         "type": "scattergeo"
        },
        {
         "hoverinfo": "text",
         "lat": [
          34.052238,
          43.651893
         ],
         "line": {
          "color": "red",
          "width": 1
         },
         "lon": [
          -118.243344,
          -79.381713
         ],
         "mode": "lines",
         "text": "Los Angeles to Toronto",
         "type": "scattergeo"
        },
        {
         "hoverinfo": "text",
         "lat": [
          43.651893,
          40.802736
         ],
         "line": {
          "color": "red",
          "width": 1
         },
         "lon": [
          -79.381713,
          -74.122862
         ],
         "mode": "lines",
         "text": "Toronto to Lyndhurst",
         "type": "scattergeo"
        },
        {
         "hoverinfo": "text",
         "lat": [
          40.802736,
          43.651893
         ],
         "line": {
          "color": "red",
          "width": 1
         },
         "lon": [
          -74.122862,
          -79.381713
         ],
         "mode": "lines",
         "text": "Lyndhurst to Toronto",
         "type": "scattergeo"
        },
        {
         "hoverinfo": "text",
         "lat": [
          43.651893,
          42.358894
         ],
         "line": {
          "color": "red",
          "width": 1
         },
         "lon": [
          -79.381713,
          -71.056742
         ],
         "mode": "lines",
         "text": "Toronto to Boston",
         "type": "scattergeo"
        },
        {
         "hoverinfo": "text",
         "lat": [
          42.358894,
          39.951061
         ],
         "line": {
          "color": "red",
          "width": 1
         },
         "lon": [
          -71.056742,
          -75.16561999999998
         ],
         "mode": "lines",
         "text": "Boston to Philadelphia",
         "type": "scattergeo"
        },
        {
         "hoverinfo": "text",
         "lat": [
          39.951061,
          42.350856
         ],
         "line": {
          "color": "red",
          "width": 1
         },
         "lon": [
          -75.16561999999998,
          -73.80355
         ],
         "mode": "lines",
         "text": "Philadelphia to Coxsackie",
         "type": "scattergeo"
        },
        {
         "hoverinfo": "text",
         "lat": [
          42.350856,
          39.951061
         ],
         "line": {
          "color": "red",
          "width": 1
         },
         "lon": [
          -73.80355,
          -75.16561999999998
         ],
         "mode": "lines",
         "text": "Coxsackie to Philadelphia",
         "type": "scattergeo"
        },
        {
         "hoverinfo": "text",
         "lat": [
          39.951061,
          43.651893
         ],
         "line": {
          "color": "red",
          "width": 1
         },
         "lon": [
          -75.16561999999998,
          -79.381713
         ],
         "mode": "lines",
         "text": "Philadelphia to Toronto",
         "type": "scattergeo"
        },
        {
         "hoverinfo": "text",
         "lat": [
          43.651893,
          38.046356
         ],
         "line": {
          "color": "red",
          "width": 1
         },
         "lon": [
          -79.381713,
          -84.49702099999998
         ],
         "mode": "lines",
         "text": "Toronto to Lexington",
         "type": "scattergeo"
        },
        {
         "hoverinfo": "text",
         "lat": [
          38.046356,
          34.052238
         ],
         "line": {
          "color": "red",
          "width": 1
         },
         "lon": [
          -84.49702099999998,
          -118.243344
         ],
         "mode": "lines",
         "text": "Lexington to Los Angeles",
         "type": "scattergeo"
        },
        {
         "hoverinfo": "text",
         "lat": [
          34.052238,
          43.651893
         ],
         "line": {
          "color": "red",
          "width": 1
         },
         "lon": [
          -118.243344,
          -79.381713
         ],
         "mode": "lines",
         "text": "Los Angeles to Toronto",
         "type": "scattergeo"
        },
        {
         "hoverinfo": "text",
         "lat": [
          43.651893,
          34.594532
         ],
         "line": {
          "color": "red",
          "width": 1
         },
         "lon": [
          -79.381713,
          -112.336407
         ],
         "mode": "lines",
         "text": "Toronto to Prescott Valley",
         "type": "scattergeo"
        },
        {
         "hoverinfo": "text",
         "lat": [
          34.594532,
          34.432827
         ],
         "line": {
          "color": "red",
          "width": 1
         },
         "lon": [
          -112.336407,
          -119.856844
         ],
         "mode": "lines",
         "text": "Prescott Valley to Goleta",
         "type": "scattergeo"
        },
        {
         "hoverinfo": "text",
         "lat": [
          34.432827,
          43.651893
         ],
         "line": {
          "color": "red",
          "width": 1
         },
         "lon": [
          -119.856844,
          -79.381713
         ],
         "mode": "lines",
         "text": "Goleta to Toronto",
         "type": "scattergeo"
        },
        {
         "hoverinfo": "text",
         "lat": [
          43.651893,
          40.713054
         ],
         "line": {
          "color": "red",
          "width": 1
         },
         "lon": [
          -79.381713,
          -74.007228
         ],
         "mode": "lines",
         "text": "Toronto to New York",
         "type": "scattergeo"
        },
        {
         "hoverinfo": "text",
         "lat": [
          40.713054,
          44.646244
         ],
         "line": {
          "color": "red",
          "width": 1
         },
         "lon": [
          -74.007228,
          -63.57356600000001
         ],
         "mode": "lines",
         "text": "New York to Halifax",
         "type": "scattergeo"
        },
        {
         "hoverinfo": "text",
         "lat": [
          44.646244,
          48.856506
         ],
         "line": {
          "color": "red",
          "width": 1
         },
         "lon": [
          -63.57356600000001,
          2.3521330000000003
         ],
         "mode": "lines",
         "text": "Halifax to Paris",
         "type": "scattergeo"
        },
        {
         "hoverinfo": "text",
         "lat": [
          48.856506,
          43.858599
         ],
         "line": {
          "color": "red",
          "width": 1
         },
         "lon": [
          2.3521330000000003,
          5.701425
         ],
         "mode": "lines",
         "text": "Paris to Villemus",
         "type": "scattergeo"
        },
        {
         "hoverinfo": "text",
         "lat": [
          43.858599,
          44.038175
         ],
         "line": {
          "color": "red",
          "width": 1
         },
         "lon": [
          5.701425,
          5.62967
         ],
         "mode": "lines",
         "text": "Villemus to Banon",
         "type": "scattergeo"
        },
        {
         "hoverinfo": "text",
         "lat": [
          44.038175,
          43.858599
         ],
         "line": {
          "color": "red",
          "width": 1
         },
         "lon": [
          5.62967,
          5.701425
         ],
         "mode": "lines",
         "text": "Banon to Villemus",
         "type": "scattergeo"
        },
        {
         "hoverinfo": "text",
         "lat": [
          43.858599,
          43.214036
         ],
         "line": {
          "color": "red",
          "width": 1
         },
         "lon": [
          5.701425,
          5.539632
         ],
         "mode": "lines",
         "text": "Villemus to Cassis",
         "type": "scattergeo"
        },
        {
         "hoverinfo": "text",
         "lat": [
          43.214036,
          43.858599
         ],
         "line": {
          "color": "red",
          "width": 1
         },
         "lon": [
          5.539632,
          5.701425
         ],
         "mode": "lines",
         "text": "Cassis to Villemus",
         "type": "scattergeo"
        },
        {
         "hoverinfo": "text",
         "lat": [
          43.858599,
          43.551208
         ],
         "line": {
          "color": "red",
          "width": 1
         },
         "lon": [
          5.701425,
          7.012695
         ],
         "mode": "lines",
         "text": "Villemus to Cannes",
         "type": "scattergeo"
        },
        {
         "hoverinfo": "text",
         "lat": [
          43.551208,
          43.700936
         ],
         "line": {
          "color": "red",
          "width": 1
         },
         "lon": [
          7.012695,
          7.268391
         ],
         "mode": "lines",
         "text": "Cannes to Nice",
         "type": "scattergeo"
        },
        {
         "hoverinfo": "text",
         "lat": [
          43.700936,
          43.723857
         ],
         "line": {
          "color": "red",
          "width": 1
         },
         "lon": [
          7.268391,
          7.112377
         ],
         "mode": "lines",
         "text": "Nice to Vence",
         "type": "scattergeo"
        },
        {
         "hoverinfo": "text",
         "lat": [
          43.723857,
          43.700936
         ],
         "line": {
          "color": "red",
          "width": 1
         },
         "lon": [
          7.112377,
          7.268391
         ],
         "mode": "lines",
         "text": "Vence to Nice",
         "type": "scattergeo"
        },
        {
         "hoverinfo": "text",
         "lat": [
          43.700936,
          45.45515200000001
         ],
         "line": {
          "color": "red",
          "width": 1
         },
         "lon": [
          7.268391,
          6.694201
         ],
         "mode": "lines",
         "text": "Nice to Champagny-en-Vanoise",
         "type": "scattergeo"
        },
        {
         "hoverinfo": "text",
         "lat": [
          45.45515200000001,
          45.525211
         ],
         "line": {
          "color": "red",
          "width": 1
         },
         "lon": [
          6.694201,
          4.874784
         ],
         "mode": "lines",
         "text": "Champagny-en-Vanoise to Vienne",
         "type": "scattergeo"
        },
        {
         "hoverinfo": "text",
         "lat": [
          45.525211,
          45.445439
         ],
         "line": {
          "color": "red",
          "width": 1
         },
         "lon": [
          4.874784,
          4.386292
         ],
         "mode": "lines",
         "text": "Vienne to Saint-Étienne",
         "type": "scattergeo"
        },
        {
         "hoverinfo": "text",
         "lat": [
          45.445439,
          45.47483
         ],
         "line": {
          "color": "red",
          "width": 1
         },
         "lon": [
          4.386292,
          4.509805
         ],
         "mode": "lines",
         "text": "Saint-Étienne to Saint-Chamond",
         "type": "scattergeo"
        },
        {
         "hoverinfo": "text",
         "lat": [
          45.47483,
          43.700936
         ],
         "line": {
          "color": "red",
          "width": 1
         },
         "lon": [
          4.509805,
          7.268391
         ],
         "mode": "lines",
         "text": "Saint-Chamond to Nice",
         "type": "scattergeo"
        },
        {
         "hoverinfo": "text",
         "lat": [
          43.700936,
          43.66901
         ],
         "line": {
          "color": "red",
          "width": 1
         },
         "lon": [
          7.268391,
          7.190697
         ],
         "mode": "lines",
         "text": "Nice to Saint-Laurent-du-Var",
         "type": "scattergeo"
        },
        {
         "hoverinfo": "text",
         "lat": [
          43.66901,
          43.700936
         ],
         "line": {
          "color": "red",
          "width": 1
         },
         "lon": [
          7.190697,
          7.268391
         ],
         "mode": "lines",
         "text": "Saint-Laurent-du-Var to Nice",
         "type": "scattergeo"
        },
        {
         "hoverinfo": "text",
         "lat": [
          43.700936,
          43.834205
         ],
         "line": {
          "color": "red",
          "width": 1
         },
         "lon": [
          7.268391,
          7.355696000000001
         ],
         "mode": "lines",
         "text": "Nice to L'Escarène",
         "type": "scattergeo"
        },
        {
         "hoverinfo": "text",
         "lat": [
          43.834205,
          43.700936
         ],
         "line": {
          "color": "red",
          "width": 1
         },
         "lon": [
          7.355696000000001,
          7.268391
         ],
         "mode": "lines",
         "text": "L'Escarène to Nice",
         "type": "scattergeo"
        },
        {
         "hoverinfo": "text",
         "lat": [
          43.700936,
          43.728892
         ],
         "line": {
          "color": "red",
          "width": 1
         },
         "lon": [
          7.268391,
          7.362071
         ],
         "mode": "lines",
         "text": "Nice to Èze",
         "type": "scattergeo"
        },
        {
         "hoverinfo": "text",
         "lat": [
          43.728892,
          43.651893
         ],
         "line": {
          "color": "red",
          "width": 1
         },
         "lon": [
          7.362071,
          -79.381713
         ],
         "mode": "lines",
         "text": "Èze to Toronto",
         "type": "scattergeo"
        },
        {
         "hoverinfo": "text",
         "lat": [
          43.651893,
          43.325991
         ],
         "line": {
          "color": "red",
          "width": 1
         },
         "lon": [
          -79.381713,
          -79.798296
         ],
         "mode": "lines",
         "text": "Toronto to Burlington",
         "type": "scattergeo"
        },
        {
         "hoverinfo": "text",
         "lat": [
          43.325991,
          43.651893
         ],
         "line": {
          "color": "red",
          "width": 1
         },
         "lon": [
          -79.798296,
          -79.381713
         ],
         "mode": "lines",
         "text": "Burlington to Toronto",
         "type": "scattergeo"
        },
        {
         "hoverinfo": "text",
         "lat": [
          43.651893,
          45.509062
         ],
         "line": {
          "color": "red",
          "width": 1
         },
         "lon": [
          -79.381713,
          -73.553363
         ],
         "mode": "lines",
         "text": "Toronto to Montréal",
         "type": "scattergeo"
        },
        {
         "hoverinfo": "text",
         "lat": [
          43.651893,
          43.700936,
          48.856506,
          34.052238,
          45.509062,
          39.951061,
          40.713054,
          43.858599,
          43.325991,
          43.213036,
          34.010932000000004,
          46.869043,
          42.358894,
          38.046356,
          34.432827,
          45.45515200000001,
          41.424835,
          45.909238,
          43.586162,
          42.895208,
          41.111329,
          40.738702,
          44.980563,
          34.126919,
          34.594532,
          45.688586,
          43.728892,
          43.790001,
          40.731507,
          45.445439,
          43.214036,
          43.551208,
          40.802736,
          45.47483,
          42.929756,
          42.350856,
          44.038175,
          45.525211,
          42.10536,
          43.66901,
          43.834205,
          44.190151,
          44.646244,
          43.723857,
          42.870938
         ],
         "lon": [
          -79.381713,
          7.268391,
          2.3521330000000003,
          -118.243344,
          -73.553363,
          -75.16561999999998,
          -74.007228,
          5.701425,
          -79.798296,
          2.349107,
          -118.491512,
          4.573556,
          -71.056742,
          -84.49702099999998,
          -119.856844,
          6.694201,
          -73.945829,
          6.2225550000000025,
          -79.646215,
          -77.43495899999998,
          -75.520888,
          -85.171491,
          -76.934039,
          -116.315127,
          -112.336407,
          5.914653,
          7.362071,
          -94.9944,
          -74.17438800000002,
          4.386292,
          5.539632,
          7.012695,
          -74.122862,
          4.509805,
          -78.918901,
          -73.80355,
          5.62967,
          4.874784,
          -71.55148,
          7.190697,
          7.355696000000001,
          -72.82441800000002,
          -63.57356600000001,
          7.112377,
          -90.351781
         ],
         "marker": {
          "color": [
           507,
           91,
           37,
           23,
           22,
           21,
           19,
           15,
           8,
           7,
           5,
           5,
           4,
           4,
           4,
           3,
           3,
           2,
           2,
           2,
           1,
           1,
           1,
           1,
           1,
           1,
           1,
           1,
           1,
           1,
           1,
           1,
           1,
           1,
           1,
           1,
           1,
           1,
           1,
           1,
           1,
           1,
           1,
           1,
           1
          ],
          "size": [
           507,
           91,
           37,
           23,
           22,
           21,
           19,
           15,
           8,
           7,
           5,
           5,
           4,
           4,
           4,
           3,
           3,
           2,
           2,
           2,
           1,
           1,
           1,
           1,
           1,
           1,
           1,
           1,
           1,
           1,
           1,
           1,
           1,
           1,
           1,
           1,
           1,
           1,
           1,
           1,
           1,
           1,
           1,
           1,
           1
          ],
          "sizemode": "area"
         },
         "mode": "markers",
         "text": [
          "Toronto, Canada",
          "Nice, France",
          "Paris, France",
          "Los Angeles, United States",
          "Montréal, Canada",
          "Philadelphia, United States",
          "New York, United States",
          "Villemus, France",
          "Burlington, Canada",
          "Carcassonne, France",
          "Santa Monica, United States",
          "Couches, France",
          "Boston, United States",
          "Lexington, United States",
          "Goleta, United States",
          "Champagny-en-Vanoise, France",
          "Philipstown, United States",
          "Dingy-Saint-Clair, France",
          "Mississauga, Canada",
          "East Bloomfield, United States",
          "Tobyhanna, United States",
          "Bluffton, United States",
          "North Frontenac, Canada",
          "Joshua Tree, United States",
          "Prescott Valley, United States",
          "Aix-les-Bains, France",
          "Èze, France",
          "Bergen, United States",
          "Newark, United States",
          "Saint-Étienne, France",
          "Cassis, France",
          "Cannes, France",
          "Lyndhurst, United States",
          "Saint-Chamond, France",
          "Fort Erie, Canada",
          "Coxsackie, United States",
          "Banon, France",
          "Vienne, France",
          "Mendon, United States",
          "Saint-Laurent-du-Var, France",
          "L'Escarène, France",
          "Waitsfield, United States",
          "Halifax, Canada",
          "Vence, France",
          "Mifflin, United States"
         ],
         "type": "scattergeo"
        }
       ],
       "layout": {
        "autosize": true,
        "geo": {
         "countrycolor": "rgb(204, 204, 204)",
         "landcolor": "rgb(243, 243, 243)",
         "lataxis": {
          "range": [
           14.010932000000004,
           68.856506
          ]
         },
         "lonaxis": {
          "range": [
           -139.856844,
           27.362071
          ]
         },
         "projection": {
          "type": "natural earth"
         },
         "scope": "world",
         "showland": true
        },
        "showlegend": false,
        "template": {
         "data": {
          "bar": [
           {
            "error_x": {
             "color": "#2a3f5f"
            },
            "error_y": {
             "color": "#2a3f5f"
            },
            "marker": {
             "line": {
              "color": "#E5ECF6",
              "width": 0.5
             }
            },
            "type": "bar"
           }
          ],
          "barpolar": [
           {
            "marker": {
             "line": {
              "color": "#E5ECF6",
              "width": 0.5
             }
            },
            "type": "barpolar"
           }
          ],
          "carpet": [
           {
            "aaxis": {
             "endlinecolor": "#2a3f5f",
             "gridcolor": "white",
             "linecolor": "white",
             "minorgridcolor": "white",
             "startlinecolor": "#2a3f5f"
            },
            "baxis": {
             "endlinecolor": "#2a3f5f",
             "gridcolor": "white",
             "linecolor": "white",
             "minorgridcolor": "white",
             "startlinecolor": "#2a3f5f"
            },
            "type": "carpet"
           }
          ],
          "choropleth": [
           {
            "colorbar": {
             "outlinewidth": 0,
             "ticks": ""
            },
            "type": "choropleth"
           }
          ],
          "contour": [
           {
            "colorbar": {
             "outlinewidth": 0,
             "ticks": ""
            },
            "colorscale": [
             [
              0,
              "#0d0887"
             ],
             [
              0.1111111111111111,
              "#46039f"
             ],
             [
              0.2222222222222222,
              "#7201a8"
             ],
             [
              0.3333333333333333,
              "#9c179e"
             ],
             [
              0.4444444444444444,
              "#bd3786"
             ],
             [
              0.5555555555555556,
              "#d8576b"
             ],
             [
              0.6666666666666666,
              "#ed7953"
             ],
             [
              0.7777777777777778,
              "#fb9f3a"
             ],
             [
              0.8888888888888888,
              "#fdca26"
             ],
             [
              1,
              "#f0f921"
             ]
            ],
            "type": "contour"
           }
          ],
          "contourcarpet": [
           {
            "colorbar": {
             "outlinewidth": 0,
             "ticks": ""
            },
            "type": "contourcarpet"
           }
          ],
          "heatmap": [
           {
            "colorbar": {
             "outlinewidth": 0,
             "ticks": ""
            },
            "colorscale": [
             [
              0,
              "#0d0887"
             ],
             [
              0.1111111111111111,
              "#46039f"
             ],
             [
              0.2222222222222222,
              "#7201a8"
             ],
             [
              0.3333333333333333,
              "#9c179e"
             ],
             [
              0.4444444444444444,
              "#bd3786"
             ],
             [
              0.5555555555555556,
              "#d8576b"
             ],
             [
              0.6666666666666666,
              "#ed7953"
             ],
             [
              0.7777777777777778,
              "#fb9f3a"
             ],
             [
              0.8888888888888888,
              "#fdca26"
             ],
             [
              1,
              "#f0f921"
             ]
            ],
            "type": "heatmap"
           }
          ],
          "heatmapgl": [
           {
            "colorbar": {
             "outlinewidth": 0,
             "ticks": ""
            },
            "colorscale": [
             [
              0,
              "#0d0887"
             ],
             [
              0.1111111111111111,
              "#46039f"
             ],
             [
              0.2222222222222222,
              "#7201a8"
             ],
             [
              0.3333333333333333,
              "#9c179e"
             ],
             [
              0.4444444444444444,
              "#bd3786"
             ],
             [
              0.5555555555555556,
              "#d8576b"
             ],
             [
              0.6666666666666666,
              "#ed7953"
             ],
             [
              0.7777777777777778,
              "#fb9f3a"
             ],
             [
              0.8888888888888888,
              "#fdca26"
             ],
             [
              1,
              "#f0f921"
             ]
            ],
            "type": "heatmapgl"
           }
          ],
          "histogram": [
           {
            "marker": {
             "colorbar": {
              "outlinewidth": 0,
              "ticks": ""
             }
            },
            "type": "histogram"
           }
          ],
          "histogram2d": [
           {
            "colorbar": {
             "outlinewidth": 0,
             "ticks": ""
            },
            "colorscale": [
             [
              0,
              "#0d0887"
             ],
             [
              0.1111111111111111,
              "#46039f"
             ],
             [
              0.2222222222222222,
              "#7201a8"
             ],
             [
              0.3333333333333333,
              "#9c179e"
             ],
             [
              0.4444444444444444,
              "#bd3786"
             ],
             [
              0.5555555555555556,
              "#d8576b"
             ],
             [
              0.6666666666666666,
              "#ed7953"
             ],
             [
              0.7777777777777778,
              "#fb9f3a"
             ],
             [
              0.8888888888888888,
              "#fdca26"
             ],
             [
              1,
              "#f0f921"
             ]
            ],
            "type": "histogram2d"
           }
          ],
          "histogram2dcontour": [
           {
            "colorbar": {
             "outlinewidth": 0,
             "ticks": ""
            },
            "colorscale": [
             [
              0,
              "#0d0887"
             ],
             [
              0.1111111111111111,
              "#46039f"
             ],
             [
              0.2222222222222222,
              "#7201a8"
             ],
             [
              0.3333333333333333,
              "#9c179e"
             ],
             [
              0.4444444444444444,
              "#bd3786"
             ],
             [
              0.5555555555555556,
              "#d8576b"
             ],
             [
              0.6666666666666666,
              "#ed7953"
             ],
             [
              0.7777777777777778,
              "#fb9f3a"
             ],
             [
              0.8888888888888888,
              "#fdca26"
             ],
             [
              1,
              "#f0f921"
             ]
            ],
            "type": "histogram2dcontour"
           }
          ],
          "mesh3d": [
           {
            "colorbar": {
             "outlinewidth": 0,
             "ticks": ""
            },
            "type": "mesh3d"
           }
          ],
          "parcoords": [
           {
            "line": {
             "colorbar": {
              "outlinewidth": 0,
              "ticks": ""
             }
            },
            "type": "parcoords"
           }
          ],
          "pie": [
           {
            "automargin": true,
            "type": "pie"
           }
          ],
          "scatter": [
           {
            "marker": {
             "colorbar": {
              "outlinewidth": 0,
              "ticks": ""
             }
            },
            "type": "scatter"
           }
          ],
          "scatter3d": [
           {
            "line": {
             "colorbar": {
              "outlinewidth": 0,
              "ticks": ""
             }
            },
            "marker": {
             "colorbar": {
              "outlinewidth": 0,
              "ticks": ""
             }
            },
            "type": "scatter3d"
           }
          ],
          "scattercarpet": [
           {
            "marker": {
             "colorbar": {
              "outlinewidth": 0,
              "ticks": ""
             }
            },
            "type": "scattercarpet"
           }
          ],
          "scattergeo": [
           {
            "marker": {
             "colorbar": {
              "outlinewidth": 0,
              "ticks": ""
             }
            },
            "type": "scattergeo"
           }
          ],
          "scattergl": [
           {
            "marker": {
             "colorbar": {
              "outlinewidth": 0,
              "ticks": ""
             }
            },
            "type": "scattergl"
           }
          ],
          "scattermapbox": [
           {
            "marker": {
             "colorbar": {
              "outlinewidth": 0,
              "ticks": ""
             }
            },
            "type": "scattermapbox"
           }
          ],
          "scatterpolar": [
           {
            "marker": {
             "colorbar": {
              "outlinewidth": 0,
              "ticks": ""
             }
            },
            "type": "scatterpolar"
           }
          ],
          "scatterpolargl": [
           {
            "marker": {
             "colorbar": {
              "outlinewidth": 0,
              "ticks": ""
             }
            },
            "type": "scatterpolargl"
           }
          ],
          "scatterternary": [
           {
            "marker": {
             "colorbar": {
              "outlinewidth": 0,
              "ticks": ""
             }
            },
            "type": "scatterternary"
           }
          ],
          "surface": [
           {
            "colorbar": {
             "outlinewidth": 0,
             "ticks": ""
            },
            "colorscale": [
             [
              0,
              "#0d0887"
             ],
             [
              0.1111111111111111,
              "#46039f"
             ],
             [
              0.2222222222222222,
              "#7201a8"
             ],
             [
              0.3333333333333333,
              "#9c179e"
             ],
             [
              0.4444444444444444,
              "#bd3786"
             ],
             [
              0.5555555555555556,
              "#d8576b"
             ],
             [
              0.6666666666666666,
              "#ed7953"
             ],
             [
              0.7777777777777778,
              "#fb9f3a"
             ],
             [
              0.8888888888888888,
              "#fdca26"
             ],
             [
              1,
              "#f0f921"
             ]
            ],
            "type": "surface"
           }
          ],
          "table": [
           {
            "cells": {
             "fill": {
              "color": "#EBF0F8"
             },
             "line": {
              "color": "white"
             }
            },
            "header": {
             "fill": {
              "color": "#C8D4E3"
             },
             "line": {
              "color": "white"
             }
            },
            "type": "table"
           }
          ]
         },
         "layout": {
          "annotationdefaults": {
           "arrowcolor": "#2a3f5f",
           "arrowhead": 0,
           "arrowwidth": 1
          },
          "coloraxis": {
           "colorbar": {
            "outlinewidth": 0,
            "ticks": ""
           }
          },
          "colorscale": {
           "diverging": [
            [
             0,
             "#8e0152"
            ],
            [
             0.1,
             "#c51b7d"
            ],
            [
             0.2,
             "#de77ae"
            ],
            [
             0.3,
             "#f1b6da"
            ],
            [
             0.4,
             "#fde0ef"
            ],
            [
             0.5,
             "#f7f7f7"
            ],
            [
             0.6,
             "#e6f5d0"
            ],
            [
             0.7,
             "#b8e186"
            ],
            [
             0.8,
             "#7fbc41"
            ],
            [
             0.9,
             "#4d9221"
            ],
            [
             1,
             "#276419"
            ]
           ],
           "sequential": [
            [
             0,
             "#0d0887"
            ],
            [
             0.1111111111111111,
             "#46039f"
            ],
            [
             0.2222222222222222,
             "#7201a8"
            ],
            [
             0.3333333333333333,
             "#9c179e"
            ],
            [
             0.4444444444444444,
             "#bd3786"
            ],
            [
             0.5555555555555556,
             "#d8576b"
            ],
            [
             0.6666666666666666,
             "#ed7953"
            ],
            [
             0.7777777777777778,
             "#fb9f3a"
            ],
            [
             0.8888888888888888,
             "#fdca26"
            ],
            [
             1,
             "#f0f921"
            ]
           ],
           "sequentialminus": [
            [
             0,
             "#0d0887"
            ],
            [
             0.1111111111111111,
             "#46039f"
            ],
            [
             0.2222222222222222,
             "#7201a8"
            ],
            [
             0.3333333333333333,
             "#9c179e"
            ],
            [
             0.4444444444444444,
             "#bd3786"
            ],
            [
             0.5555555555555556,
             "#d8576b"
            ],
            [
             0.6666666666666666,
             "#ed7953"
            ],
            [
             0.7777777777777778,
             "#fb9f3a"
            ],
            [
             0.8888888888888888,
             "#fdca26"
            ],
            [
             1,
             "#f0f921"
            ]
           ]
          },
          "colorway": [
           "#636efa",
           "#EF553B",
           "#00cc96",
           "#ab63fa",
           "#FFA15A",
           "#19d3f3",
           "#FF6692",
           "#B6E880",
           "#FF97FF",
           "#FECB52"
          ],
          "font": {
           "color": "#2a3f5f"
          },
          "geo": {
           "bgcolor": "white",
           "lakecolor": "white",
           "landcolor": "#E5ECF6",
           "showlakes": true,
           "showland": true,
           "subunitcolor": "white"
          },
          "hoverlabel": {
           "align": "left"
          },
          "hovermode": "closest",
          "mapbox": {
           "style": "light"
          },
          "paper_bgcolor": "white",
          "plot_bgcolor": "#E5ECF6",
          "polar": {
           "angularaxis": {
            "gridcolor": "white",
            "linecolor": "white",
            "ticks": ""
           },
           "bgcolor": "#E5ECF6",
           "radialaxis": {
            "gridcolor": "white",
            "linecolor": "white",
            "ticks": ""
           }
          },
          "scene": {
           "xaxis": {
            "backgroundcolor": "#E5ECF6",
            "gridcolor": "white",
            "gridwidth": 2,
            "linecolor": "white",
            "showbackground": true,
            "ticks": "",
            "zerolinecolor": "white"
           },
           "yaxis": {
            "backgroundcolor": "#E5ECF6",
            "gridcolor": "white",
            "gridwidth": 2,
            "linecolor": "white",
            "showbackground": true,
            "ticks": "",
            "zerolinecolor": "white"
           },
           "zaxis": {
            "backgroundcolor": "#E5ECF6",
            "gridcolor": "white",
            "gridwidth": 2,
            "linecolor": "white",
            "showbackground": true,
            "ticks": "",
            "zerolinecolor": "white"
           }
          },
          "shapedefaults": {
           "line": {
            "color": "#2a3f5f"
           }
          },
          "ternary": {
           "aaxis": {
            "gridcolor": "white",
            "linecolor": "white",
            "ticks": ""
           },
           "baxis": {
            "gridcolor": "white",
            "linecolor": "white",
            "ticks": ""
           },
           "bgcolor": "#E5ECF6",
           "caxis": {
            "gridcolor": "white",
            "linecolor": "white",
            "ticks": ""
           }
          },
          "title": {
           "x": 0.05
          },
          "xaxis": {
           "automargin": true,
           "gridcolor": "white",
           "linecolor": "white",
           "ticks": "",
           "title": {
            "standoff": 15
           },
           "zerolinecolor": "white",
           "zerolinewidth": 2
          },
          "yaxis": {
           "automargin": true,
           "gridcolor": "white",
           "linecolor": "white",
           "ticks": "",
           "title": {
            "standoff": 15
           },
           "zerolinecolor": "white",
           "zerolinewidth": 2
          }
         }
        },
        "title": {
         "text": "minutiae cycle travel"
        }
       }
      },
      "image/png": "[encoded data removed]",
      "text/html": [
       "<div>\n",
       "        \n",
       "        \n",
       "            <div id=\"bdcb8603-d54d-4312-aca0-040f827d5d98\" class=\"plotly-graph-div\" style=\"height:900px; width:100%;\"></div>\n",
       "            <script type=\"text/javascript\">\n",
       "                require([\"plotly\"], function(Plotly) {\n",
       "                    window.PLOTLYENV=window.PLOTLYENV || {};\n",
       "                    \n",
       "                if (document.getElementById(\"bdcb8603-d54d-4312-aca0-040f827d5d98\")) {\n",
       "                    Plotly.newPlot(\n",
       "                        'bdcb8603-d54d-4312-aca0-040f827d5d98',\n",
       "                        [{\"hoverinfo\": \"text\", \"lat\": [43.651893, 34.052238], \"line\": {\"color\": \"red\", \"width\": 1}, \"lon\": [-79.381713, -118.243344], \"mode\": \"lines\", \"text\": \"Toronto to Los Angeles\", \"type\": \"scattergeo\"}, {\"hoverinfo\": \"text\", \"lat\": [34.052238, 43.651893], \"line\": {\"color\": \"red\", \"width\": 1}, \"lon\": [-118.243344, -79.381713], \"mode\": \"lines\", \"text\": \"Los Angeles to Toronto\", \"type\": \"scattergeo\"}, {\"hoverinfo\": \"text\", \"lat\": [43.651893, 43.586162], \"line\": {\"color\": \"red\", \"width\": 1}, \"lon\": [-79.381713, -79.646215], \"mode\": \"lines\", \"text\": \"Toronto to Mississauga\", \"type\": \"scattergeo\"}, {\"hoverinfo\": \"text\", \"lat\": [43.586162, 43.651893], \"line\": {\"color\": \"red\", \"width\": 1}, \"lon\": [-79.646215, -79.381713], \"mode\": \"lines\", \"text\": \"Mississauga to Toronto\", \"type\": \"scattergeo\"}, {\"hoverinfo\": \"text\", \"lat\": [43.651893, 42.870938], \"line\": {\"color\": \"red\", \"width\": 1}, \"lon\": [-79.381713, -90.351781], \"mode\": \"lines\", \"text\": \"Toronto to Mifflin\", \"type\": \"scattergeo\"}, {\"hoverinfo\": \"text\", \"lat\": [42.870938, 42.929756], \"line\": {\"color\": \"red\", \"width\": 1}, \"lon\": [-90.351781, -78.918901], \"mode\": \"lines\", \"text\": \"Mifflin to Fort Erie\", \"type\": \"scattergeo\"}, {\"hoverinfo\": \"text\", \"lat\": [42.929756, 43.651893], \"line\": {\"color\": \"red\", \"width\": 1}, \"lon\": [-78.918901, -79.381713], \"mode\": \"lines\", \"text\": \"Fort Erie to Toronto\", \"type\": \"scattergeo\"}, {\"hoverinfo\": \"text\", \"lat\": [43.651893, 42.358894], \"line\": {\"color\": \"red\", \"width\": 1}, \"lon\": [-79.381713, -71.056742], \"mode\": \"lines\", \"text\": \"Toronto to Boston\", \"type\": \"scattergeo\"}, {\"hoverinfo\": \"text\", \"lat\": [42.358894, 43.651893], \"line\": {\"color\": \"red\", \"width\": 1}, \"lon\": [-71.056742, -79.381713], \"mode\": \"lines\", \"text\": \"Boston to Toronto\", \"type\": \"scattergeo\"}, {\"hoverinfo\": \"text\", \"lat\": [43.651893, 42.10536], \"line\": {\"color\": \"red\", \"width\": 1}, \"lon\": [-79.381713, -71.55148], \"mode\": \"lines\", \"text\": \"Toronto to Mendon\", \"type\": \"scattergeo\"}, {\"hoverinfo\": \"text\", \"lat\": [42.10536, 42.895208], \"line\": {\"color\": \"red\", \"width\": 1}, \"lon\": [-71.55148, -77.43495899999998], \"mode\": \"lines\", \"text\": \"Mendon to East Bloomfield\", \"type\": \"scattergeo\"}, {\"hoverinfo\": \"text\", \"lat\": [42.895208, 43.651893], \"line\": {\"color\": \"red\", \"width\": 1}, \"lon\": [-77.43495899999998, -79.381713], \"mode\": \"lines\", \"text\": \"East Bloomfield to Toronto\", \"type\": \"scattergeo\"}, {\"hoverinfo\": \"text\", \"lat\": [43.651893, 44.980563], \"line\": {\"color\": \"red\", \"width\": 1}, \"lon\": [-79.381713, -76.934039], \"mode\": \"lines\", \"text\": \"Toronto to North Frontenac\", \"type\": \"scattergeo\"}, {\"hoverinfo\": \"text\", \"lat\": [44.980563, 43.651893], \"line\": {\"color\": \"red\", \"width\": 1}, \"lon\": [-76.934039, -79.381713], \"mode\": \"lines\", \"text\": \"North Frontenac to Toronto\", \"type\": \"scattergeo\"}, {\"hoverinfo\": \"text\", \"lat\": [43.651893, 40.713054], \"line\": {\"color\": \"red\", \"width\": 1}, \"lon\": [-79.381713, -74.007228], \"mode\": \"lines\", \"text\": \"Toronto to New York\", \"type\": \"scattergeo\"}, {\"hoverinfo\": \"text\", \"lat\": [40.713054, 41.424835], \"line\": {\"color\": \"red\", \"width\": 1}, \"lon\": [-74.007228, -73.945829], \"mode\": \"lines\", \"text\": \"New York to Philipstown\", \"type\": \"scattergeo\"}, {\"hoverinfo\": \"text\", \"lat\": [41.424835, 43.651893], \"line\": {\"color\": \"red\", \"width\": 1}, \"lon\": [-73.945829, -79.381713], \"mode\": \"lines\", \"text\": \"Philipstown to Toronto\", \"type\": \"scattergeo\"}, {\"hoverinfo\": \"text\", \"lat\": [43.651893, 34.010932000000004], \"line\": {\"color\": \"red\", \"width\": 1}, \"lon\": [-79.381713, -118.491512], \"mode\": \"lines\", \"text\": \"Toronto to Santa Monica\", \"type\": \"scattergeo\"}, {\"hoverinfo\": \"text\", \"lat\": [34.010932000000004, 34.052238], \"line\": {\"color\": \"red\", \"width\": 1}, \"lon\": [-118.491512, -118.243344], \"mode\": \"lines\", \"text\": \"Santa Monica to Los Angeles\", \"type\": \"scattergeo\"}, {\"hoverinfo\": \"text\", \"lat\": [34.052238, 43.651893], \"line\": {\"color\": \"red\", \"width\": 1}, \"lon\": [-118.243344, -79.381713], \"mode\": \"lines\", \"text\": \"Los Angeles to Toronto\", \"type\": \"scattergeo\"}, {\"hoverinfo\": \"text\", \"lat\": [43.651893, 43.586162], \"line\": {\"color\": \"red\", \"width\": 1}, \"lon\": [-79.381713, -79.646215], \"mode\": \"lines\", \"text\": \"Toronto to Mississauga\", \"type\": \"scattergeo\"}, {\"hoverinfo\": \"text\", \"lat\": [43.586162, 40.738702], \"line\": {\"color\": \"red\", \"width\": 1}, \"lon\": [-79.646215, -85.171491], \"mode\": \"lines\", \"text\": \"Mississauga to Bluffton\", \"type\": \"scattergeo\"}, {\"hoverinfo\": \"text\", \"lat\": [40.738702, 43.651893], \"line\": {\"color\": \"red\", \"width\": 1}, \"lon\": [-85.171491, -79.381713], \"mode\": \"lines\", \"text\": \"Bluffton to Toronto\", \"type\": \"scattergeo\"}, {\"hoverinfo\": \"text\", \"lat\": [43.651893, 34.052238], \"line\": {\"color\": \"red\", \"width\": 1}, \"lon\": [-79.381713, -118.243344], \"mode\": \"lines\", \"text\": \"Toronto to Los Angeles\", \"type\": \"scattergeo\"}, {\"hoverinfo\": \"text\", \"lat\": [34.052238, 34.010932000000004], \"line\": {\"color\": \"red\", \"width\": 1}, \"lon\": [-118.243344, -118.491512], \"mode\": \"lines\", \"text\": \"Los Angeles to Santa Monica\", \"type\": \"scattergeo\"}, {\"hoverinfo\": \"text\", \"lat\": [34.010932000000004, 39.951061], \"line\": {\"color\": \"red\", \"width\": 1}, \"lon\": [-118.491512, -75.16561999999998], \"mode\": \"lines\", \"text\": \"Santa Monica to Philadelphia\", \"type\": \"scattergeo\"}, {\"hoverinfo\": \"text\", \"lat\": [39.951061, 43.651893], \"line\": {\"color\": \"red\", \"width\": 1}, \"lon\": [-75.16561999999998, -79.381713], \"mode\": \"lines\", \"text\": \"Philadelphia to Toronto\", \"type\": \"scattergeo\"}, {\"hoverinfo\": \"text\", \"lat\": [43.651893, 41.111329], \"line\": {\"color\": \"red\", \"width\": 1}, \"lon\": [-79.381713, -75.520888], \"mode\": \"lines\", \"text\": \"Toronto to Tobyhanna\", \"type\": \"scattergeo\"}, {\"hoverinfo\": \"text\", \"lat\": [41.111329, 40.713054], \"line\": {\"color\": \"red\", \"width\": 1}, \"lon\": [-75.520888, -74.007228], \"mode\": \"lines\", \"text\": \"Tobyhanna to New York\", \"type\": \"scattergeo\"}, {\"hoverinfo\": \"text\", \"lat\": [40.713054, 39.951061], \"line\": {\"color\": \"red\", \"width\": 1}, \"lon\": [-74.007228, -75.16561999999998], \"mode\": \"lines\", \"text\": \"New York to Philadelphia\", \"type\": \"scattergeo\"}, {\"hoverinfo\": \"text\", \"lat\": [39.951061, 40.713054], \"line\": {\"color\": \"red\", \"width\": 1}, \"lon\": [-75.16561999999998, -74.007228], \"mode\": \"lines\", \"text\": \"Philadelphia to New York\", \"type\": \"scattergeo\"}, {\"hoverinfo\": \"text\", \"lat\": [40.713054, 39.951061], \"line\": {\"color\": \"red\", \"width\": 1}, \"lon\": [-74.007228, -75.16561999999998], \"mode\": \"lines\", \"text\": \"New York to Philadelphia\", \"type\": \"scattergeo\"}, {\"hoverinfo\": \"text\", \"lat\": [39.951061, 40.731507], \"line\": {\"color\": \"red\", \"width\": 1}, \"lon\": [-75.16561999999998, -74.17438800000002], \"mode\": \"lines\", \"text\": \"Philadelphia to Newark\", \"type\": \"scattergeo\"}, {\"hoverinfo\": \"text\", \"lat\": [40.731507, 43.651893], \"line\": {\"color\": \"red\", \"width\": 1}, \"lon\": [-74.17438800000002, -79.381713], \"mode\": \"lines\", \"text\": \"Newark to Toronto\", \"type\": \"scattergeo\"}, {\"hoverinfo\": \"text\", \"lat\": [43.651893, 43.325991], \"line\": {\"color\": \"red\", \"width\": 1}, \"lon\": [-79.381713, -79.798296], \"mode\": \"lines\", \"text\": \"Toronto to Burlington\", \"type\": \"scattergeo\"}, {\"hoverinfo\": \"text\", \"lat\": [43.325991, 43.790001], \"line\": {\"color\": \"red\", \"width\": 1}, \"lon\": [-79.798296, -94.9944], \"mode\": \"lines\", \"text\": \"Burlington to Bergen\", \"type\": \"scattergeo\"}, {\"hoverinfo\": \"text\", \"lat\": [43.790001, 43.651893], \"line\": {\"color\": \"red\", \"width\": 1}, \"lon\": [-94.9944, -79.381713], \"mode\": \"lines\", \"text\": \"Bergen to Toronto\", \"type\": \"scattergeo\"}, {\"hoverinfo\": \"text\", \"lat\": [43.651893, 45.688586], \"line\": {\"color\": \"red\", \"width\": 1}, \"lon\": [-79.381713, 5.914653], \"mode\": \"lines\", \"text\": \"Toronto to Aix-les-Bains\", \"type\": \"scattergeo\"}, {\"hoverinfo\": \"text\", \"lat\": [45.688586, 45.909238], \"line\": {\"color\": \"red\", \"width\": 1}, \"lon\": [5.914653, 6.2225550000000025], \"mode\": \"lines\", \"text\": \"Aix-les-Bains to Dingy-Saint-Clair\", \"type\": \"scattergeo\"}, {\"hoverinfo\": \"text\", \"lat\": [45.909238, 46.869043], \"line\": {\"color\": \"red\", \"width\": 1}, \"lon\": [6.2225550000000025, 4.573556], \"mode\": \"lines\", \"text\": \"Dingy-Saint-Clair to Couches\", \"type\": \"scattergeo\"}, {\"hoverinfo\": \"text\", \"lat\": [46.869043, 43.213036], \"line\": {\"color\": \"red\", \"width\": 1}, \"lon\": [4.573556, 2.349107], \"mode\": \"lines\", \"text\": \"Couches to Carcassonne\", \"type\": \"scattergeo\"}, {\"hoverinfo\": \"text\", \"lat\": [43.213036, 43.651893], \"line\": {\"color\": \"red\", \"width\": 1}, \"lon\": [2.349107, -79.381713], \"mode\": \"lines\", \"text\": \"Carcassonne to Toronto\", \"type\": \"scattergeo\"}, {\"hoverinfo\": \"text\", \"lat\": [43.651893, 44.190151], \"line\": {\"color\": \"red\", \"width\": 1}, \"lon\": [-79.381713, -72.82441800000002], \"mode\": \"lines\", \"text\": \"Toronto to Waitsfield\", \"type\": \"scattergeo\"}, {\"hoverinfo\": \"text\", \"lat\": [44.190151, 43.651893], \"line\": {\"color\": \"red\", \"width\": 1}, \"lon\": [-72.82441800000002, -79.381713], \"mode\": \"lines\", \"text\": \"Waitsfield to Toronto\", \"type\": \"scattergeo\"}, {\"hoverinfo\": \"text\", \"lat\": [43.651893, 39.951061], \"line\": {\"color\": \"red\", \"width\": 1}, \"lon\": [-79.381713, -75.16561999999998], \"mode\": \"lines\", \"text\": \"Toronto to Philadelphia\", \"type\": \"scattergeo\"}, {\"hoverinfo\": \"text\", \"lat\": [39.951061, 43.651893], \"line\": {\"color\": \"red\", \"width\": 1}, \"lon\": [-75.16561999999998, -79.381713], \"mode\": \"lines\", \"text\": \"Philadelphia to Toronto\", \"type\": \"scattergeo\"}, {\"hoverinfo\": \"text\", \"lat\": [43.651893, 34.052238], \"line\": {\"color\": \"red\", \"width\": 1}, \"lon\": [-79.381713, -118.243344], \"mode\": \"lines\", \"text\": \"Toronto to Los Angeles\", \"type\": \"scattergeo\"}, {\"hoverinfo\": \"text\", \"lat\": [34.052238, 34.010932000000004], \"line\": {\"color\": \"red\", \"width\": 1}, \"lon\": [-118.243344, -118.491512], \"mode\": \"lines\", \"text\": \"Los Angeles to Santa Monica\", \"type\": \"scattergeo\"}, {\"hoverinfo\": \"text\", \"lat\": [34.010932000000004, 43.651893], \"line\": {\"color\": \"red\", \"width\": 1}, \"lon\": [-118.491512, -79.381713], \"mode\": \"lines\", \"text\": \"Santa Monica to Toronto\", \"type\": \"scattergeo\"}, {\"hoverinfo\": \"text\", \"lat\": [43.651893, 45.509062], \"line\": {\"color\": \"red\", \"width\": 1}, \"lon\": [-79.381713, -73.553363], \"mode\": \"lines\", \"text\": \"Toronto to Montr\\u00e9al\", \"type\": \"scattergeo\"}, {\"hoverinfo\": \"text\", \"lat\": [45.509062, 34.052238], \"line\": {\"color\": \"red\", \"width\": 1}, \"lon\": [-73.553363, -118.243344], \"mode\": \"lines\", \"text\": \"Montr\\u00e9al to Los Angeles\", \"type\": \"scattergeo\"}, {\"hoverinfo\": \"text\", \"lat\": [34.052238, 34.010932000000004], \"line\": {\"color\": \"red\", \"width\": 1}, \"lon\": [-118.243344, -118.491512], \"mode\": \"lines\", \"text\": \"Los Angeles to Santa Monica\", \"type\": \"scattergeo\"}, {\"hoverinfo\": \"text\", \"lat\": [34.010932000000004, 34.052238], \"line\": {\"color\": \"red\", \"width\": 1}, \"lon\": [-118.491512, -118.243344], \"mode\": \"lines\", \"text\": \"Santa Monica to Los Angeles\", \"type\": \"scattergeo\"}, {\"hoverinfo\": \"text\", \"lat\": [34.052238, 34.126919], \"line\": {\"color\": \"red\", \"width\": 1}, \"lon\": [-118.243344, -116.315127], \"mode\": \"lines\", \"text\": \"Los Angeles to Joshua Tree\", \"type\": \"scattergeo\"}, {\"hoverinfo\": \"text\", \"lat\": [34.126919, 34.052238], \"line\": {\"color\": \"red\", \"width\": 1}, \"lon\": [-116.315127, -118.243344], \"mode\": \"lines\", \"text\": \"Joshua Tree to Los Angeles\", \"type\": \"scattergeo\"}, {\"hoverinfo\": \"text\", \"lat\": [34.052238, 43.651893], \"line\": {\"color\": \"red\", \"width\": 1}, \"lon\": [-118.243344, -79.381713], \"mode\": \"lines\", \"text\": \"Los Angeles to Toronto\", \"type\": \"scattergeo\"}, {\"hoverinfo\": \"text\", \"lat\": [43.651893, 40.802736], \"line\": {\"color\": \"red\", \"width\": 1}, \"lon\": [-79.381713, -74.122862], \"mode\": \"lines\", \"text\": \"Toronto to Lyndhurst\", \"type\": \"scattergeo\"}, {\"hoverinfo\": \"text\", \"lat\": [40.802736, 43.651893], \"line\": {\"color\": \"red\", \"width\": 1}, \"lon\": [-74.122862, -79.381713], \"mode\": \"lines\", \"text\": \"Lyndhurst to Toronto\", \"type\": \"scattergeo\"}, {\"hoverinfo\": \"text\", \"lat\": [43.651893, 42.358894], \"line\": {\"color\": \"red\", \"width\": 1}, \"lon\": [-79.381713, -71.056742], \"mode\": \"lines\", \"text\": \"Toronto to Boston\", \"type\": \"scattergeo\"}, {\"hoverinfo\": \"text\", \"lat\": [42.358894, 39.951061], \"line\": {\"color\": \"red\", \"width\": 1}, \"lon\": [-71.056742, -75.16561999999998], \"mode\": \"lines\", \"text\": \"Boston to Philadelphia\", \"type\": \"scattergeo\"}, {\"hoverinfo\": \"text\", \"lat\": [39.951061, 42.350856], \"line\": {\"color\": \"red\", \"width\": 1}, \"lon\": [-75.16561999999998, -73.80355], \"mode\": \"lines\", \"text\": \"Philadelphia to Coxsackie\", \"type\": \"scattergeo\"}, {\"hoverinfo\": \"text\", \"lat\": [42.350856, 39.951061], \"line\": {\"color\": \"red\", \"width\": 1}, \"lon\": [-73.80355, -75.16561999999998], \"mode\": \"lines\", \"text\": \"Coxsackie to Philadelphia\", \"type\": \"scattergeo\"}, {\"hoverinfo\": \"text\", \"lat\": [39.951061, 43.651893], \"line\": {\"color\": \"red\", \"width\": 1}, \"lon\": [-75.16561999999998, -79.381713], \"mode\": \"lines\", \"text\": \"Philadelphia to Toronto\", \"type\": \"scattergeo\"}, {\"hoverinfo\": \"text\", \"lat\": [43.651893, 38.046356], \"line\": {\"color\": \"red\", \"width\": 1}, \"lon\": [-79.381713, -84.49702099999998], \"mode\": \"lines\", \"text\": \"Toronto to Lexington\", \"type\": \"scattergeo\"}, {\"hoverinfo\": \"text\", \"lat\": [38.046356, 34.052238], \"line\": {\"color\": \"red\", \"width\": 1}, \"lon\": [-84.49702099999998, -118.243344], \"mode\": \"lines\", \"text\": \"Lexington to Los Angeles\", \"type\": \"scattergeo\"}, {\"hoverinfo\": \"text\", \"lat\": [34.052238, 43.651893], \"line\": {\"color\": \"red\", \"width\": 1}, \"lon\": [-118.243344, -79.381713], \"mode\": \"lines\", \"text\": \"Los Angeles to Toronto\", \"type\": \"scattergeo\"}, {\"hoverinfo\": \"text\", \"lat\": [43.651893, 34.594532], \"line\": {\"color\": \"red\", \"width\": 1}, \"lon\": [-79.381713, -112.336407], \"mode\": \"lines\", \"text\": \"Toronto to Prescott Valley\", \"type\": \"scattergeo\"}, {\"hoverinfo\": \"text\", \"lat\": [34.594532, 34.432827], \"line\": {\"color\": \"red\", \"width\": 1}, \"lon\": [-112.336407, -119.856844], \"mode\": \"lines\", \"text\": \"Prescott Valley to Goleta\", \"type\": \"scattergeo\"}, {\"hoverinfo\": \"text\", \"lat\": [34.432827, 43.651893], \"line\": {\"color\": \"red\", \"width\": 1}, \"lon\": [-119.856844, -79.381713], \"mode\": \"lines\", \"text\": \"Goleta to Toronto\", \"type\": \"scattergeo\"}, {\"hoverinfo\": \"text\", \"lat\": [43.651893, 40.713054], \"line\": {\"color\": \"red\", \"width\": 1}, \"lon\": [-79.381713, -74.007228], \"mode\": \"lines\", \"text\": \"Toronto to New York\", \"type\": \"scattergeo\"}, {\"hoverinfo\": \"text\", \"lat\": [40.713054, 44.646244], \"line\": {\"color\": \"red\", \"width\": 1}, \"lon\": [-74.007228, -63.57356600000001], \"mode\": \"lines\", \"text\": \"New York to Halifax\", \"type\": \"scattergeo\"}, {\"hoverinfo\": \"text\", \"lat\": [44.646244, 48.856506], \"line\": {\"color\": \"red\", \"width\": 1}, \"lon\": [-63.57356600000001, 2.3521330000000003], \"mode\": \"lines\", \"text\": \"Halifax to Paris\", \"type\": \"scattergeo\"}, {\"hoverinfo\": \"text\", \"lat\": [48.856506, 43.858599], \"line\": {\"color\": \"red\", \"width\": 1}, \"lon\": [2.3521330000000003, 5.701425], \"mode\": \"lines\", \"text\": \"Paris to Villemus\", \"type\": \"scattergeo\"}, {\"hoverinfo\": \"text\", \"lat\": [43.858599, 44.038175], \"line\": {\"color\": \"red\", \"width\": 1}, \"lon\": [5.701425, 5.62967], \"mode\": \"lines\", \"text\": \"Villemus to Banon\", \"type\": \"scattergeo\"}, {\"hoverinfo\": \"text\", \"lat\": [44.038175, 43.858599], \"line\": {\"color\": \"red\", \"width\": 1}, \"lon\": [5.62967, 5.701425], \"mode\": \"lines\", \"text\": \"Banon to Villemus\", \"type\": \"scattergeo\"}, {\"hoverinfo\": \"text\", \"lat\": [43.858599, 43.214036], \"line\": {\"color\": \"red\", \"width\": 1}, \"lon\": [5.701425, 5.539632], \"mode\": \"lines\", \"text\": \"Villemus to Cassis\", \"type\": \"scattergeo\"}, {\"hoverinfo\": \"text\", \"lat\": [43.214036, 43.858599], \"line\": {\"color\": \"red\", \"width\": 1}, \"lon\": [5.539632, 5.701425], \"mode\": \"lines\", \"text\": \"Cassis to Villemus\", \"type\": \"scattergeo\"}, {\"hoverinfo\": \"text\", \"lat\": [43.858599, 43.551208], \"line\": {\"color\": \"red\", \"width\": 1}, \"lon\": [5.701425, 7.012695], \"mode\": \"lines\", \"text\": \"Villemus to Cannes\", \"type\": \"scattergeo\"}, {\"hoverinfo\": \"text\", \"lat\": [43.551208, 43.700936], \"line\": {\"color\": \"red\", \"width\": 1}, \"lon\": [7.012695, 7.268391], \"mode\": \"lines\", \"text\": \"Cannes to Nice\", \"type\": \"scattergeo\"}, {\"hoverinfo\": \"text\", \"lat\": [43.700936, 43.723857], \"line\": {\"color\": \"red\", \"width\": 1}, \"lon\": [7.268391, 7.112377], \"mode\": \"lines\", \"text\": \"Nice to Vence\", \"type\": \"scattergeo\"}, {\"hoverinfo\": \"text\", \"lat\": [43.723857, 43.700936], \"line\": {\"color\": \"red\", \"width\": 1}, \"lon\": [7.112377, 7.268391], \"mode\": \"lines\", \"text\": \"Vence to Nice\", \"type\": \"scattergeo\"}, {\"hoverinfo\": \"text\", \"lat\": [43.700936, 45.45515200000001], \"line\": {\"color\": \"red\", \"width\": 1}, \"lon\": [7.268391, 6.694201], \"mode\": \"lines\", \"text\": \"Nice to Champagny-en-Vanoise\", \"type\": \"scattergeo\"}, {\"hoverinfo\": \"text\", \"lat\": [45.45515200000001, 45.525211], \"line\": {\"color\": \"red\", \"width\": 1}, \"lon\": [6.694201, 4.874784], \"mode\": \"lines\", \"text\": \"Champagny-en-Vanoise to Vienne\", \"type\": \"scattergeo\"}, {\"hoverinfo\": \"text\", \"lat\": [45.525211, 45.445439], \"line\": {\"color\": \"red\", \"width\": 1}, \"lon\": [4.874784, 4.386292], \"mode\": \"lines\", \"text\": \"Vienne to Saint-\\u00c9tienne\", \"type\": \"scattergeo\"}, {\"hoverinfo\": \"text\", \"lat\": [45.445439, 45.47483], \"line\": {\"color\": \"red\", \"width\": 1}, \"lon\": [4.386292, 4.509805], \"mode\": \"lines\", \"text\": \"Saint-\\u00c9tienne to Saint-Chamond\", \"type\": \"scattergeo\"}, {\"hoverinfo\": \"text\", \"lat\": [45.47483, 43.700936], \"line\": {\"color\": \"red\", \"width\": 1}, \"lon\": [4.509805, 7.268391], \"mode\": \"lines\", \"text\": \"Saint-Chamond to Nice\", \"type\": \"scattergeo\"}, {\"hoverinfo\": \"text\", \"lat\": [43.700936, 43.66901], \"line\": {\"color\": \"red\", \"width\": 1}, \"lon\": [7.268391, 7.190697], \"mode\": \"lines\", \"text\": \"Nice to Saint-Laurent-du-Var\", \"type\": \"scattergeo\"}, {\"hoverinfo\": \"text\", \"lat\": [43.66901, 43.700936], \"line\": {\"color\": \"red\", \"width\": 1}, \"lon\": [7.190697, 7.268391], \"mode\": \"lines\", \"text\": \"Saint-Laurent-du-Var to Nice\", \"type\": \"scattergeo\"}, {\"hoverinfo\": \"text\", \"lat\": [43.700936, 43.834205], \"line\": {\"color\": \"red\", \"width\": 1}, \"lon\": [7.268391, 7.355696000000001], \"mode\": \"lines\", \"text\": \"Nice to L'Escar\\u00e8ne\", \"type\": \"scattergeo\"}, {\"hoverinfo\": \"text\", \"lat\": [43.834205, 43.700936], \"line\": {\"color\": \"red\", \"width\": 1}, \"lon\": [7.355696000000001, 7.268391], \"mode\": \"lines\", \"text\": \"L'Escar\\u00e8ne to Nice\", \"type\": \"scattergeo\"}, {\"hoverinfo\": \"text\", \"lat\": [43.700936, 43.728892], \"line\": {\"color\": \"red\", \"width\": 1}, \"lon\": [7.268391, 7.362071], \"mode\": \"lines\", \"text\": \"Nice to \\u00c8ze\", \"type\": \"scattergeo\"}, {\"hoverinfo\": \"text\", \"lat\": [43.728892, 43.651893], \"line\": {\"color\": \"red\", \"width\": 1}, \"lon\": [7.362071, -79.381713], \"mode\": \"lines\", \"text\": \"\\u00c8ze to Toronto\", \"type\": \"scattergeo\"}, {\"hoverinfo\": \"text\", \"lat\": [43.651893, 43.325991], \"line\": {\"color\": \"red\", \"width\": 1}, \"lon\": [-79.381713, -79.798296], \"mode\": \"lines\", \"text\": \"Toronto to Burlington\", \"type\": \"scattergeo\"}, {\"hoverinfo\": \"text\", \"lat\": [43.325991, 43.651893], \"line\": {\"color\": \"red\", \"width\": 1}, \"lon\": [-79.798296, -79.381713], \"mode\": \"lines\", \"text\": \"Burlington to Toronto\", \"type\": \"scattergeo\"}, {\"hoverinfo\": \"text\", \"lat\": [43.651893, 45.509062], \"line\": {\"color\": \"red\", \"width\": 1}, \"lon\": [-79.381713, -73.553363], \"mode\": \"lines\", \"text\": \"Toronto to Montr\\u00e9al\", \"type\": \"scattergeo\"}, {\"hoverinfo\": \"text\", \"lat\": [43.651893, 43.700936, 48.856506, 34.052238, 45.509062, 39.951061, 40.713054, 43.858599, 43.325991, 43.213036, 34.010932000000004, 46.869043, 42.358894, 38.046356, 34.432827, 45.45515200000001, 41.424835, 45.909238, 43.586162, 42.895208, 41.111329, 40.738702, 44.980563, 34.126919, 34.594532, 45.688586, 43.728892, 43.790001, 40.731507, 45.445439, 43.214036, 43.551208, 40.802736, 45.47483, 42.929756, 42.350856, 44.038175, 45.525211, 42.10536, 43.66901, 43.834205, 44.190151, 44.646244, 43.723857, 42.870938], \"lon\": [-79.381713, 7.268391, 2.3521330000000003, -118.243344, -73.553363, -75.16561999999998, -74.007228, 5.701425, -79.798296, 2.349107, -118.491512, 4.573556, -71.056742, -84.49702099999998, -119.856844, 6.694201, -73.945829, 6.2225550000000025, -79.646215, -77.43495899999998, -75.520888, -85.171491, -76.934039, -116.315127, -112.336407, 5.914653, 7.362071, -94.9944, -74.17438800000002, 4.386292, 5.539632, 7.012695, -74.122862, 4.509805, -78.918901, -73.80355, 5.62967, 4.874784, -71.55148, 7.190697, 7.355696000000001, -72.82441800000002, -63.57356600000001, 7.112377, -90.351781], \"marker\": {\"color\": [507, 91, 37, 23, 22, 21, 19, 15, 8, 7, 5, 5, 4, 4, 4, 3, 3, 2, 2, 2, 1, 1, 1, 1, 1, 1, 1, 1, 1, 1, 1, 1, 1, 1, 1, 1, 1, 1, 1, 1, 1, 1, 1, 1, 1], \"size\": [507, 91, 37, 23, 22, 21, 19, 15, 8, 7, 5, 5, 4, 4, 4, 3, 3, 2, 2, 2, 1, 1, 1, 1, 1, 1, 1, 1, 1, 1, 1, 1, 1, 1, 1, 1, 1, 1, 1, 1, 1, 1, 1, 1, 1], \"sizemode\": \"area\"}, \"mode\": \"markers\", \"text\": [\"Toronto, Canada\", \"Nice, France\", \"Paris, France\", \"Los Angeles, United States\", \"Montr\\u00e9al, Canada\", \"Philadelphia, United States\", \"New York, United States\", \"Villemus, France\", \"Burlington, Canada\", \"Carcassonne, France\", \"Santa Monica, United States\", \"Couches, France\", \"Boston, United States\", \"Lexington, United States\", \"Goleta, United States\", \"Champagny-en-Vanoise, France\", \"Philipstown, United States\", \"Dingy-Saint-Clair, France\", \"Mississauga, Canada\", \"East Bloomfield, United States\", \"Tobyhanna, United States\", \"Bluffton, United States\", \"North Frontenac, Canada\", \"Joshua Tree, United States\", \"Prescott Valley, United States\", \"Aix-les-Bains, France\", \"\\u00c8ze, France\", \"Bergen, United States\", \"Newark, United States\", \"Saint-\\u00c9tienne, France\", \"Cassis, France\", \"Cannes, France\", \"Lyndhurst, United States\", \"Saint-Chamond, France\", \"Fort Erie, Canada\", \"Coxsackie, United States\", \"Banon, France\", \"Vienne, France\", \"Mendon, United States\", \"Saint-Laurent-du-Var, France\", \"L'Escar\\u00e8ne, France\", \"Waitsfield, United States\", \"Halifax, Canada\", \"Vence, France\", \"Mifflin, United States\"], \"type\": \"scattergeo\"}],\n",
       "                        {\"geo\": {\"countrycolor\": \"rgb(204, 204, 204)\", \"landcolor\": \"rgb(243, 243, 243)\", \"lataxis\": {\"range\": [14.010932000000004, 68.856506]}, \"lonaxis\": {\"range\": [-139.856844, 27.362071]}, \"projection\": {\"type\": \"natural earth\"}, \"scope\": \"world\", \"showland\": true}, \"height\": 900, \"showlegend\": false, \"template\": {\"data\": {\"bar\": [{\"error_x\": {\"color\": \"#2a3f5f\"}, \"error_y\": {\"color\": \"#2a3f5f\"}, \"marker\": {\"line\": {\"color\": \"#E5ECF6\", \"width\": 0.5}}, \"type\": \"bar\"}], \"barpolar\": [{\"marker\": {\"line\": {\"color\": \"#E5ECF6\", \"width\": 0.5}}, \"type\": \"barpolar\"}], \"carpet\": [{\"aaxis\": {\"endlinecolor\": \"#2a3f5f\", \"gridcolor\": \"white\", \"linecolor\": \"white\", \"minorgridcolor\": \"white\", \"startlinecolor\": \"#2a3f5f\"}, \"baxis\": {\"endlinecolor\": \"#2a3f5f\", \"gridcolor\": \"white\", \"linecolor\": \"white\", \"minorgridcolor\": \"white\", \"startlinecolor\": \"#2a3f5f\"}, \"type\": \"carpet\"}], \"choropleth\": [{\"colorbar\": {\"outlinewidth\": 0, \"ticks\": \"\"}, \"type\": \"choropleth\"}], \"contour\": [{\"colorbar\": {\"outlinewidth\": 0, \"ticks\": \"\"}, \"colorscale\": [[0.0, \"#0d0887\"], [0.1111111111111111, \"#46039f\"], [0.2222222222222222, \"#7201a8\"], [0.3333333333333333, \"#9c179e\"], [0.4444444444444444, \"#bd3786\"], [0.5555555555555556, \"#d8576b\"], [0.6666666666666666, \"#ed7953\"], [0.7777777777777778, \"#fb9f3a\"], [0.8888888888888888, \"#fdca26\"], [1.0, \"#f0f921\"]], \"type\": \"contour\"}], \"contourcarpet\": [{\"colorbar\": {\"outlinewidth\": 0, \"ticks\": \"\"}, \"type\": \"contourcarpet\"}], \"heatmap\": [{\"colorbar\": {\"outlinewidth\": 0, \"ticks\": \"\"}, \"colorscale\": [[0.0, \"#0d0887\"], [0.1111111111111111, \"#46039f\"], [0.2222222222222222, \"#7201a8\"], [0.3333333333333333, \"#9c179e\"], [0.4444444444444444, \"#bd3786\"], [0.5555555555555556, \"#d8576b\"], [0.6666666666666666, \"#ed7953\"], [0.7777777777777778, \"#fb9f3a\"], [0.8888888888888888, \"#fdca26\"], [1.0, \"#f0f921\"]], \"type\": \"heatmap\"}], \"heatmapgl\": [{\"colorbar\": {\"outlinewidth\": 0, \"ticks\": \"\"}, \"colorscale\": [[0.0, \"#0d0887\"], [0.1111111111111111, \"#46039f\"], [0.2222222222222222, \"#7201a8\"], [0.3333333333333333, \"#9c179e\"], [0.4444444444444444, \"#bd3786\"], [0.5555555555555556, \"#d8576b\"], [0.6666666666666666, \"#ed7953\"], [0.7777777777777778, \"#fb9f3a\"], [0.8888888888888888, \"#fdca26\"], [1.0, \"#f0f921\"]], \"type\": \"heatmapgl\"}], \"histogram\": [{\"marker\": {\"colorbar\": {\"outlinewidth\": 0, \"ticks\": \"\"}}, \"type\": \"histogram\"}], \"histogram2d\": [{\"colorbar\": {\"outlinewidth\": 0, \"ticks\": \"\"}, \"colorscale\": [[0.0, \"#0d0887\"], [0.1111111111111111, \"#46039f\"], [0.2222222222222222, \"#7201a8\"], [0.3333333333333333, \"#9c179e\"], [0.4444444444444444, \"#bd3786\"], [0.5555555555555556, \"#d8576b\"], [0.6666666666666666, \"#ed7953\"], [0.7777777777777778, \"#fb9f3a\"], [0.8888888888888888, \"#fdca26\"], [1.0, \"#f0f921\"]], \"type\": \"histogram2d\"}], \"histogram2dcontour\": [{\"colorbar\": {\"outlinewidth\": 0, \"ticks\": \"\"}, \"colorscale\": [[0.0, \"#0d0887\"], [0.1111111111111111, \"#46039f\"], [0.2222222222222222, \"#7201a8\"], [0.3333333333333333, \"#9c179e\"], [0.4444444444444444, \"#bd3786\"], [0.5555555555555556, \"#d8576b\"], [0.6666666666666666, \"#ed7953\"], [0.7777777777777778, \"#fb9f3a\"], [0.8888888888888888, \"#fdca26\"], [1.0, \"#f0f921\"]], \"type\": \"histogram2dcontour\"}], \"mesh3d\": [{\"colorbar\": {\"outlinewidth\": 0, \"ticks\": \"\"}, \"type\": \"mesh3d\"}], \"parcoords\": [{\"line\": {\"colorbar\": {\"outlinewidth\": 0, \"ticks\": \"\"}}, \"type\": \"parcoords\"}], \"pie\": [{\"automargin\": true, \"type\": \"pie\"}], \"scatter\": [{\"marker\": {\"colorbar\": {\"outlinewidth\": 0, \"ticks\": \"\"}}, \"type\": \"scatter\"}], \"scatter3d\": [{\"line\": {\"colorbar\": {\"outlinewidth\": 0, \"ticks\": \"\"}}, \"marker\": {\"colorbar\": {\"outlinewidth\": 0, \"ticks\": \"\"}}, \"type\": \"scatter3d\"}], \"scattercarpet\": [{\"marker\": {\"colorbar\": {\"outlinewidth\": 0, \"ticks\": \"\"}}, \"type\": \"scattercarpet\"}], \"scattergeo\": [{\"marker\": {\"colorbar\": {\"outlinewidth\": 0, \"ticks\": \"\"}}, \"type\": \"scattergeo\"}], \"scattergl\": [{\"marker\": {\"colorbar\": {\"outlinewidth\": 0, \"ticks\": \"\"}}, \"type\": \"scattergl\"}], \"scattermapbox\": [{\"marker\": {\"colorbar\": {\"outlinewidth\": 0, \"ticks\": \"\"}}, \"type\": \"scattermapbox\"}], \"scatterpolar\": [{\"marker\": {\"colorbar\": {\"outlinewidth\": 0, \"ticks\": \"\"}}, \"type\": \"scatterpolar\"}], \"scatterpolargl\": [{\"marker\": {\"colorbar\": {\"outlinewidth\": 0, \"ticks\": \"\"}}, \"type\": \"scatterpolargl\"}], \"scatterternary\": [{\"marker\": {\"colorbar\": {\"outlinewidth\": 0, \"ticks\": \"\"}}, \"type\": \"scatterternary\"}], \"surface\": [{\"colorbar\": {\"outlinewidth\": 0, \"ticks\": \"\"}, \"colorscale\": [[0.0, \"#0d0887\"], [0.1111111111111111, \"#46039f\"], [0.2222222222222222, \"#7201a8\"], [0.3333333333333333, \"#9c179e\"], [0.4444444444444444, \"#bd3786\"], [0.5555555555555556, \"#d8576b\"], [0.6666666666666666, \"#ed7953\"], [0.7777777777777778, \"#fb9f3a\"], [0.8888888888888888, \"#fdca26\"], [1.0, \"#f0f921\"]], \"type\": \"surface\"}], \"table\": [{\"cells\": {\"fill\": {\"color\": \"#EBF0F8\"}, \"line\": {\"color\": \"white\"}}, \"header\": {\"fill\": {\"color\": \"#C8D4E3\"}, \"line\": {\"color\": \"white\"}}, \"type\": \"table\"}]}, \"layout\": {\"annotationdefaults\": {\"arrowcolor\": \"#2a3f5f\", \"arrowhead\": 0, \"arrowwidth\": 1}, \"coloraxis\": {\"colorbar\": {\"outlinewidth\": 0, \"ticks\": \"\"}}, \"colorscale\": {\"diverging\": [[0, \"#8e0152\"], [0.1, \"#c51b7d\"], [0.2, \"#de77ae\"], [0.3, \"#f1b6da\"], [0.4, \"#fde0ef\"], [0.5, \"#f7f7f7\"], [0.6, \"#e6f5d0\"], [0.7, \"#b8e186\"], [0.8, \"#7fbc41\"], [0.9, \"#4d9221\"], [1, \"#276419\"]], \"sequential\": [[0.0, \"#0d0887\"], [0.1111111111111111, \"#46039f\"], [0.2222222222222222, \"#7201a8\"], [0.3333333333333333, \"#9c179e\"], [0.4444444444444444, \"#bd3786\"], [0.5555555555555556, \"#d8576b\"], [0.6666666666666666, \"#ed7953\"], [0.7777777777777778, \"#fb9f3a\"], [0.8888888888888888, \"#fdca26\"], [1.0, \"#f0f921\"]], \"sequentialminus\": [[0.0, \"#0d0887\"], [0.1111111111111111, \"#46039f\"], [0.2222222222222222, \"#7201a8\"], [0.3333333333333333, \"#9c179e\"], [0.4444444444444444, \"#bd3786\"], [0.5555555555555556, \"#d8576b\"], [0.6666666666666666, \"#ed7953\"], [0.7777777777777778, \"#fb9f3a\"], [0.8888888888888888, \"#fdca26\"], [1.0, \"#f0f921\"]]}, \"colorway\": [\"#636efa\", \"#EF553B\", \"#00cc96\", \"#ab63fa\", \"#FFA15A\", \"#19d3f3\", \"#FF6692\", \"#B6E880\", \"#FF97FF\", \"#FECB52\"], \"font\": {\"color\": \"#2a3f5f\"}, \"geo\": {\"bgcolor\": \"white\", \"lakecolor\": \"white\", \"landcolor\": \"#E5ECF6\", \"showlakes\": true, \"showland\": true, \"subunitcolor\": \"white\"}, \"hoverlabel\": {\"align\": \"left\"}, \"hovermode\": \"closest\", \"mapbox\": {\"style\": \"light\"}, \"paper_bgcolor\": \"white\", \"plot_bgcolor\": \"#E5ECF6\", \"polar\": {\"angularaxis\": {\"gridcolor\": \"white\", \"linecolor\": \"white\", \"ticks\": \"\"}, \"bgcolor\": \"#E5ECF6\", \"radialaxis\": {\"gridcolor\": \"white\", \"linecolor\": \"white\", \"ticks\": \"\"}}, \"scene\": {\"xaxis\": {\"backgroundcolor\": \"#E5ECF6\", \"gridcolor\": \"white\", \"gridwidth\": 2, \"linecolor\": \"white\", \"showbackground\": true, \"ticks\": \"\", \"zerolinecolor\": \"white\"}, \"yaxis\": {\"backgroundcolor\": \"#E5ECF6\", \"gridcolor\": \"white\", \"gridwidth\": 2, \"linecolor\": \"white\", \"showbackground\": true, \"ticks\": \"\", \"zerolinecolor\": \"white\"}, \"zaxis\": {\"backgroundcolor\": \"#E5ECF6\", \"gridcolor\": \"white\", \"gridwidth\": 2, \"linecolor\": \"white\", \"showbackground\": true, \"ticks\": \"\", \"zerolinecolor\": \"white\"}}, \"shapedefaults\": {\"line\": {\"color\": \"#2a3f5f\"}}, \"ternary\": {\"aaxis\": {\"gridcolor\": \"white\", \"linecolor\": \"white\", \"ticks\": \"\"}, \"baxis\": {\"gridcolor\": \"white\", \"linecolor\": \"white\", \"ticks\": \"\"}, \"bgcolor\": \"#E5ECF6\", \"caxis\": {\"gridcolor\": \"white\", \"linecolor\": \"white\", \"ticks\": \"\"}}, \"title\": {\"x\": 0.05}, \"xaxis\": {\"automargin\": true, \"gridcolor\": \"white\", \"linecolor\": \"white\", \"ticks\": \"\", \"title\": {\"standoff\": 15}, \"zerolinecolor\": \"white\", \"zerolinewidth\": 2}, \"yaxis\": {\"automargin\": true, \"gridcolor\": \"white\", \"linecolor\": \"white\", \"ticks\": \"\", \"title\": {\"standoff\": 15}, \"zerolinecolor\": \"white\", \"zerolinewidth\": 2}}}, \"title\": {\"text\": \"minutiae cycle travel\"}},\n",
       "                        {\"responsive\": true}\n",
       "                    ).then(function(){\n",
       "                            \n",
       "var gd = document.getElementById('bdcb8603-d54d-4312-aca0-040f827d5d98');\n",
       "var x = new MutationObserver(function (mutations, observer) {{\n",
       "        var display = window.getComputedStyle(gd).display;\n",
       "        if (!display || display === 'none') {{\n",
       "            console.log([gd, 'removed!']);\n",
       "            Plotly.purge(gd);\n",
       "            observer.disconnect();\n",
       "        }}\n",
       "}});\n",
       "\n",
       "// Listen for the removal of the full notebook cells\n",
       "var notebookContainer = gd.closest('#notebook-container');\n",
       "if (notebookContainer) {{\n",
       "    x.observe(notebookContainer, {childList: true});\n",
       "}}\n",
       "\n",
       "// Listen for the clearing of the current output cell\n",
       "var outputEl = gd.closest('.output');\n",
       "if (outputEl) {{\n",
       "    x.observe(outputEl, {childList: true});\n",
       "}}\n",
       "\n",
       "                        })\n",
       "                };\n",
       "                });\n",
       "            </script>\n",
       "        </div>"
      ]
     },
     "metadata": {},
     "output_type": "display_data"
    }
   ],
   "source": [
    "fig = go.Figure()\n",
    "#fig.write_html('first_figure.html', auto_open=True)\n",
    "\n",
    "\n",
    "\n",
    "flight_paths = []\n",
    "for i in range(len(travel)):\n",
    "    fig.add_trace(\n",
    "        go.Scattergeo(\n",
    "            #locationmode = 'USA-states',\n",
    "            text = travel['location_previous'][i].split(',')[0] + ' to ' + travel['location'][i].split(',')[0],\n",
    "            hoverinfo = 'text',\n",
    "            lon = [travel['lng_previous'][i], travel['lng'][i]],\n",
    "            lat = [travel['lat_previous'][i], travel['lat'][i]],\n",
    "            mode = 'lines',\n",
    "            line = dict(width = 1,color = 'red'),\n",
    "            #opacity = float(travel['cnt'][i]) / float(travel['cnt'].max()),\n",
    "        )\n",
    "    )\n",
    "\n",
    "fig.add_trace(go.Scattergeo(\n",
    "    #locationmode = 'USA-states',\n",
    "    lon = location_single['lng'],\n",
    "    lat = location_single['lat'],\n",
    "    hoverinfo = 'text',\n",
    "    text = location_single['location'],\n",
    "    mode = 'markers',\n",
    "    marker = dict(\n",
    "            size = location_single['count'],\n",
    "            #color = colors[i],\n",
    "            #line_color='rgb(40,40,40)',\n",
    "            #line_width=0.5,\n",
    "            sizemode = 'area'\n",
    "        ),\n",
    "        marker_color = location_single['count']\n",
    "#     marker = dict(\n",
    "#         size = 2,\n",
    "#         color = 'rgb(255, 0, 0)',\n",
    "#         line = dict(\n",
    "#             width = 3,\n",
    "#             color = 'rgba(68, 68, 68, 0)'\n",
    "#             )\n",
    "#         )\n",
    "    ))\n",
    "\n",
    "fig.update_layout(\n",
    "    title_text = 'minutiae cycle travel',\n",
    "    showlegend = False,\n",
    "    geo = dict(\n",
    "        scope = 'world',\n",
    "        projection_type = \"natural earth\",\n",
    "        #projection_type = 'azimuthal equal area',\n",
    "        showland = True,\n",
    "        landcolor = 'rgb(243, 243, 243)',\n",
    "        countrycolor = 'rgb(204, 204, 204)',\n",
    "        lataxis_range=[travel.lat.min()-20,travel.lat.max()+20], lonaxis_range=[travel.lng.min()-20, travel.lng.max()+20],\n",
    "    ),\n",
    "    height=900,\n",
    ")\n",
    "\n",
    "fig.show()"
   ]
  },
  {
   "cell_type": "markdown",
   "metadata": {},
   "source": [
    "---\n",
    "# Download all pics\n",
    "\n",
    "---\n",
    "\n",
    "[This](https://betterprogramming.pub/building-an-imagedownloader-with-multiprocessing-in-python-44aee36e0424) is a few functions that use multithreading to download a batch of images. \n",
    "- Script saved as `image_downloader.py`\n",
    "- Takes an image-list `.txt` file as input\n",
    "\n",
    "**Usage**\n",
    "```bash\n",
    "python3 image_downloader.py cats.txt\n",
    "```\n",
    "\n",
    "---"
   ]
  },
  {
   "cell_type": "markdown",
   "metadata": {},
   "source": [
    "There is a column (`displayUrl`) with all of the filenames in the original dataframe"
   ]
  },
  {
   "cell_type": "code",
   "execution_count": 37,
   "metadata": {},
   "outputs": [
    {
     "data": {
      "text/plain": [
       "'https://firebasestorage.googleapis.com/v0/b/minutiae-production.appspot.com/o/production%2Fmoments%2FjXtvmUtPb4aRNmVJ9ZcsO0eD8dA3%2Fdisplay%2F86.jpeg?alt=media&token=6b784973-9d23-44be-b8d9-bae5d349e986'"
      ]
     },
     "execution_count": 37,
     "metadata": {},
     "output_type": "execute_result"
    }
   ],
   "source": [
    "# note these are the display quality images (not full res)\n",
    "djw.displayUrl[0]"
   ]
  },
  {
   "cell_type": "code",
   "execution_count": 38,
   "metadata": {},
   "outputs": [],
   "source": [
    "# save txt file with all image urls\n",
    "np.savetxt('image_filelist.txt', djw.displayUrl, fmt='%s')"
   ]
  },
  {
   "cell_type": "code",
   "execution_count": 40,
   "metadata": {},
   "outputs": [
    {
     "data": {
      "text/plain": [
       "True"
      ]
     },
     "execution_count": 40,
     "metadata": {},
     "output_type": "execute_result"
    }
   ],
   "source": [
    "import webbrowser\n",
    "webbrowser.open(djw.displayUrl[0])"
   ]
  },
  {
   "cell_type": "code",
   "execution_count": 42,
   "metadata": {},
   "outputs": [],
   "source": [
    "for i in range(len(djw)):\n",
    "    webbrowser.open(djw.displayUrl[i])"
   ]
  },
  {
   "cell_type": "code",
   "execution_count": 64,
   "metadata": {},
   "outputs": [],
   "source": [
    "for i in range(785,800):\n",
    "    webbrowser.open(djw.displayUrl[i])"
   ]
  },
  {
   "cell_type": "markdown",
   "metadata": {},
   "source": [
    "# Processing"
   ]
  },
  {
   "cell_type": "code",
   "execution_count": 43,
   "metadata": {},
   "outputs": [
    {
     "data": {
      "text/plain": [
       "809"
      ]
     },
     "execution_count": 43,
     "metadata": {},
     "output_type": "execute_result"
    }
   ],
   "source": [
    "len(djw)"
   ]
  },
  {
   "cell_type": "code",
   "execution_count": null,
   "metadata": {},
   "outputs": [],
   "source": [
    "https://discourse.processing.org/t/lat-long-to-screen-coordinates-from-database/17434/2\n",
    "https://discourse.processing.org/t/how-to-get-and-install-unfolding-map-v0-9-9beta-library/7363"
   ]
  },
  {
   "cell_type": "markdown",
   "metadata": {},
   "source": [
    "# Captions"
   ]
  },
  {
   "cell_type": "markdown",
   "metadata": {},
   "source": [
    "[Colab Notebook](https://colab.research.google.com/drive/1nsWA3z_gdZsT6P9RqO2uPeNzm0yFQGvC#scrollTo=AaukH3KNjeoy)"
   ]
  },
  {
   "cell_type": "code",
   "execution_count": 82,
   "metadata": {
    "jupyter": {
     "source_hidden": true
    }
   },
   "outputs": [],
   "source": [
    "captions_1 = ['the walls and a cat',\n",
    " 'a door of a cat on a house in the day',\n",
    " 'a cat on a dirt',\n",
    " 'a cat on a leg of a house by itself on a house',\n",
    " 'a cat on a bench',\n",
    " 'a cat on an outside',\n",
    " 'a cat on the edge of a house',\n",
    " 'the more grey black cat',\n",
    " 'the cat on a house',\n",
    " 'the cat on a house',\n",
    " 'the cat on a house',\n",
    " 'the cat on a house',\n",
    " 'the other grey walking down the side of a house',\n",
    " 'the a cat on top of the <unk>',\n",
    " 'the fence and silver hand on a house on the house',\n",
    " 'the door pf a cat on a house',\n",
    " 'the cat sitting next to a house',\n",
    " 'a cat on a partially leg of a house',\n",
    " 'the from a house on a sidewalk near the plant',\n",
    " 'a cat on a vehicle',\n",
    " 'a cat on a house',\n",
    " 'a hand on a house',\n",
    " 'the walking on a house on the ground looking out of a house',\n",
    " 'a cat and cat',\n",
    " 'a cat on a house by itself on a house',\n",
    " 'the entrance of the rim of a house on a carpet',\n",
    " 'the door an outside of a house',\n",
    " 'a cat and white vehicle post the top of a lone cat looking out of a house',\n",
    " 'a head along a house on the floor',\n",
    " 'a left from a black cat down a house',\n",
    " 'a cat on a dog',\n",
    " 'the cat on the side of the sleeping cat',\n",
    " 'the cat on the floor is white cat on a house',\n",
    " 'a cat on a side of a house',\n",
    " 'a cat on a house',\n",
    " 'a house from a house on the edge of a house',\n",
    " 'a cat and sitting on a house near a house by the <unk>',\n",
    " 'the cat on the edge of a house',\n",
    " 'a cat on a house on the ground',\n",
    " 'a cat on a black and <unk> of a house',\n",
    " 'a cat are on a house',\n",
    " 'an outside a cat looking out of a house with a hand on a house on a toilet',\n",
    " 'a cat on top of a house',\n",
    " 'the cat on the side of a house',\n",
    " 'the cat standing next to a house on a floor',\n",
    " 'a house on a house on a house',\n",
    " 'an outside of a skateboarder',\n",
    " 'a cat just past a house on the edge of the <unk>',\n",
    " 'the other grey cat on top of a house',\n",
    " 'a cat on a house',\n",
    " 'the walking down on a house',\n",
    " 'a cat on a house by itself',\n",
    " 'the cat and white cat on the <unk> ground by itself in the distance',\n",
    " 'a cat and resting a microwave on the ground on a house',\n",
    " 'a cat stands on the walls',\n",
    " 'a cat sitting on a house',\n",
    " 'the word rest on a leg of a house',\n",
    " 'the cat on the ground in an empty',\n",
    " 'a cat and a cat on the floor',\n",
    " 'the cat on the edge of a house on the edge of a house',\n",
    " 'a cat looking down and white cat on the back of a house',\n",
    " 'the houses from a patio of a cat walking',\n",
    " 'the more kitten on a side of a house',\n",
    " 'a cat on another cat',\n",
    " 'the nose walk near grey bird',\n",
    " 'a cat walking on a house and white house on the side of a house',\n",
    " 'the door of a cat on the ground',\n",
    " 'a microwave on top of a house',\n",
    " 'a cat on the edge of a house',\n",
    " 'the cat on the edge of a house',\n",
    " 'the door of a motorcycle on a house',\n",
    " 'a cat',\n",
    " 'a cat on a brick floor',\n",
    " 'the word the other outside of a house',\n",
    " 'a microwave on the side of a plant',\n",
    " 'a cat on the side of a house on the house',\n",
    " 'the fence and cat by a house',\n",
    " 'the outside a cat on the <unk>',\n",
    " 'a cat on a house and white cat',\n",
    " 'a cat and cow on a house',\n",
    " 'the word along the back of a cat on the day',\n",
    " 'a cat on a side of a house',\n",
    " 'the cat on a house',\n",
    " 'a cat on the camera',\n",
    " 'a cat on a house near a hand',\n",
    " 'the word rest on a house',\n",
    " 'a cat and relaxing on a wood head side of a house',\n",
    " 'the cat sitting on a truck',\n",
    " 'the trees on a house',\n",
    " 'the cat on a house and white cat',\n",
    " 'a cat standing on the floor is pulling a house on the ground near the door near the sun',\n",
    " 'a cat and grey cat',\n",
    " 'a cat on the edge of a house',\n",
    " 'the outside of a cat on a house',\n",
    " 'the cat on a toilet',\n",
    " 'a microwave just past a cat',\n",
    " 'a cat is pulling a cat on the edge of a house',\n",
    " 'the landing on the walls',\n",
    " 'the walking down near the house',\n",
    " 'a cat on a house on a house near the house',\n",
    " 'the other outside of a cat behind it',\n",
    " 'a cat and resting her inside of a house',\n",
    " 'a cat on a house',\n",
    " 'a cat on a house',\n",
    " 'the inside of a cat in a museum',\n",
    " 'the cat on a side of a house',\n",
    " 'the word along the back of a motorized vehicle',\n",
    " 'the along a scooter on a sidewalk next to a house',\n",
    " 'the cat on the side of a house',\n",
    " 'a clock on a side of a house',\n",
    " 'a cat on the walls',\n",
    " 'the cat on a sidewalk near a house',\n",
    " 'a cat on a house',\n",
    " 'a moose on a side of a house',\n",
    " 'the cat on the edge of a home setting',\n",
    " 'a big cat on the edge of the house',\n",
    " 'the more grey cat on a house',\n",
    " 'the side on a house',\n",
    " 'the door on a house on the floor looking out of a house',\n",
    " 'the fence and white cat lying on the side of a house',\n",
    " 'a hand on a hand on the side of a house',\n",
    " 'a cat on the side of the walls',\n",
    " 'a cat on a sidewalk',\n",
    " 'a cat on the side of the day',\n",
    " 'a cat on a sidewalk',\n",
    " 'the cat on the edge of a garden of a house',\n",
    " 'a cat on a house just new wood floor',\n",
    " 'a microwave on the walls',\n",
    " 'the cat standing on top of a house',\n",
    " 'a cat on the walls',\n",
    " 'the word strolling along a cat on a house',\n",
    " 'a cat and white head down',\n",
    " 'the cat is on a inside of a house',\n",
    " 'a cat and grey cat on a house',\n",
    " 'the other looking down a door of a house in the day',\n",
    " 'the cat on the floor in the middle of a house',\n",
    " 'a hand on a side of the roof of a house',\n",
    " 'a cat on a house',\n",
    " 'the land and grey cat on a house',\n",
    " 'a cat and cat on a house',\n",
    " 'the head down to the middle of a house',\n",
    " 'the along a microwave on a house',\n",
    " 'a painting the side of a cat',\n",
    " 'the houses from the door of a house near a suburban road',\n",
    " 'the cat sitting on a sidewalk near the sun behind',\n",
    " 'a cat and microwave on a house',\n",
    " 'the fence on the side of a house',\n",
    " 'the fence and grey stands on a inside of a house',\n",
    " 'the word along a house on a wood floor',\n",
    " 'a cat on a house',\n",
    " 'a cat on the back of a house',\n",
    " 'a cat on a house',\n",
    " 'a cat on a house',\n",
    " 'a cat on a microwave',\n",
    " 'the door on a house',\n",
    " 'the brown house from a house',\n",
    " 'the woods is pulling the door to a cat on the day',\n",
    " 'a cat on a house by itself in the middle of a house',\n",
    " 'the walking down a house next to a house',\n",
    " 'the from the top of a cat on a sidewalk',\n",
    " 'a cat on a city sidewalk',\n",
    " 'the microwave on a house on',\n",
    " 'the word big cat and a cat on a house',\n",
    " 'a cat on a dog',\n",
    " 'the word rest on a white house',\n",
    " 'a cat on the edge of a house',\n",
    " 'a cat on a house on a house',\n",
    " 'a house on a sidewalk looking down',\n",
    " 'the word rest on a big house',\n",
    " 'a cat on the leg',\n",
    " 'a cat',\n",
    " 'a cat on the edge of a house',\n",
    " 'a cat on a house',\n",
    " 'the freezer by a house',\n",
    " 'the fence of a house on a <unk>',\n",
    " 'a moose on a house on a house',\n",
    " 'the fence and luggage on the floor near a house on a house',\n",
    " 'a cat and white horse on a house',\n",
    " 'a cat on the side of a house',\n",
    " 'a cat on the edge of a house',\n",
    " 'the cat stands on a house',\n",
    " 'the wood just placed on a house on a house',\n",
    " 'the house on a house',\n",
    " 'a cat looking inside of a house',\n",
    " 'the cat pulling a cat on a house on a dirty floor',\n",
    " 'a cat on the edge of a house',\n",
    " 'a cat standing on a side of a house at the house on the day',\n",
    " 'the other outside a cat on a house on the floor',\n",
    " 'a cat on a sidewalk',\n",
    " 'the cat on a house',\n",
    " 'a hand on the edge of the <unk>',\n",
    " 'a cat on the edge of a house',\n",
    " 'a cat on the <unk> of a house',\n",
    " 'this hand on a white cat on a dog',\n",
    " 'a cat on a house',\n",
    " 'the trying to a cat on a ledge',\n",
    " 'the cat on a sidewalk near a house',\n",
    " 'the cat on a side of an house',\n",
    " 'the fence and a cat on a floor of the bank',\n",
    " 'a cat on a house',\n",
    " 'a cat on a house',\n",
    " 'a cat and white on the house',\n",
    " 'a cat on the walls',\n",
    " 'a cat on a house on the ground inside of a house',\n",
    " 'a cat on a house',\n",
    " 'a cat on the edge of a black and house on the side of a house',\n",
    " 'the cat on a house',\n",
    " 'a cat on a house',\n",
    " 'a cat on a large house',\n",
    " 'a cat on a house',\n",
    " 'the cat on a house',\n",
    " 'the microwave and a cat',\n",
    " 'the cat walking on the side of a house',\n",
    " 'the fence on a house',\n",
    " 'a cat on a house',\n",
    " 'the other a cat on a tilted',\n",
    " 'a cat and dark door pf a cat on the floor',\n",
    " 'a cat walking next to an outside',\n",
    " 'a cat on a house',\n",
    " 'a cat on the side of a house',\n",
    " 'the cat on a house',\n",
    " 'a cat and white cat',\n",
    " 'the freezer sitting on the walls in the far yard',\n",
    " 'a cat on a house',\n",
    " 'a standing on a house in the sand',\n",
    " 'a cat from a person on a house on the edge of a car',\n",
    " 'the door to a cat',\n",
    " 'a cat and white cat on a house',\n",
    " 'the cat on a sidewalk',\n",
    " 'the door of an outside of a house',\n",
    " 'the head near the curb',\n",
    " 'a toaster from a dog',\n",
    " 'the fence and silver fence and white cat type of a house',\n",
    " 'a cat on a house',\n",
    " 'a cat on the <unk>',\n",
    " 'a cat on a house on the floor',\n",
    " 'a cat on a house',\n",
    " 'the walking down to the road',\n",
    " 'the cat on a leg of a house',\n",
    " 'the cat standing on a house by itself on the <unk>',\n",
    " 'a cat on top of the sun as its head on a house',\n",
    " 'the cat standing on a house',\n",
    " 'the cat on a house on the floor looking down',\n",
    " 'the word wide large cat on a house',\n",
    " 'the cat on top of the leg',\n",
    " 'a cat on the top of the walls',\n",
    " 'a cat on the walls',\n",
    " 'a cat on a house',\n",
    " 'the door of a cat on a house',\n",
    " 'a cat',\n",
    " 'the cat sitting on its side of the leg',\n",
    " 'a cat on a house',\n",
    " 'a cat on top of a house',\n",
    " 'the cat looking down into the sun',\n",
    " 'a cat on the roof',\n",
    " 'a cat on the edge of a house',\n",
    " 'the cat is pulling his head down corner of a house',\n",
    " 'a cat on the edge of a house',\n",
    " 'a cat on a house',\n",
    " 'the feeder in the middle of a house',\n",
    " 'a cat and a house on a sidewalk',\n",
    " 'the more grey cat on the day',\n",
    " 'a hand and grey cat on a house just outside',\n",
    " 'the word rest on the edge of a house',\n",
    " 'the word along the side of a hand on a side of a house',\n",
    " 'the door of a fence on a house',\n",
    " 'the cat sitting on the walls',\n",
    " 'the microwave on the side of a house',\n",
    " 'the head down to a cat on the edge of a house',\n",
    " 'the front of a black cat down',\n",
    " 'a cat on the floor with a fence on a big house',\n",
    " 'the other other other outside',\n",
    " 'a cat on a house',\n",
    " 'the microwave on the edge of a house',\n",
    " 'the cat on a stove',\n",
    " 'the stands near the house',\n",
    " 'the door and white cat is on a house on a leash',\n",
    " 'a moose on a house in the middle of a house',\n",
    " 'the cat on the side of a house',\n",
    " 'a cat on a house',\n",
    " 'the door on a house on the edge of a house',\n",
    " 'a cat on the ground next to a house',\n",
    " 'the cat on a house',\n",
    " 'a cat on the side of a house',\n",
    " 'a cat on a sidewalk near a house',\n",
    " 'a cat on a wall of a house on the floor',\n",
    " 'a silver cat and looking out of a house on a house',\n",
    " 'the stands on a house on the ground next to the door',\n",
    " 'the cat on a house and kitten on a house',\n",
    " 'a an outside a curb',\n",
    " 'a hand on a leg on a floor',\n",
    " 'a hand on a stove and white cat on a sidewalk',\n",
    " 'the cat and tongue hanging on a house',\n",
    " 'the cat on a house',\n",
    " 'a moose on the side of the walls',\n",
    " 'a cat on the side of a house',\n",
    " 'a cat on the walls',\n",
    " 'the door of an outside',\n",
    " 'a kitten on a house near the house',\n",
    " 'a door on the rim of a house',\n",
    " 'the the top of a yard on a house',\n",
    " 'a cat on the floor',\n",
    " 'the cat on a house',\n",
    " 'a cat on a house',\n",
    " 'the door on a house',\n",
    " 'the word rest of a cat on the ground next to a house',\n",
    " 'a cat sitting on a leg of a house on a house',\n",
    " 'a cat and a cat on a house',\n",
    " 'the front of a cat',\n",
    " 'a cat on a house',\n",
    " 'a cat and grey horse on a house',\n",
    " 'the house on a house',\n",
    " 'a fence and grey cat on a house and white cat',\n",
    " 'the door a',\n",
    " 'a cat on an outside',\n",
    " 'a cat on a house',\n",
    " 'a cat on a house',\n",
    " 'the just along a house',\n",
    " 'a cat on a house',\n",
    " 'a cat on a house',\n",
    " 'a cat and white cat on the ground looking out of a house',\n",
    " 'a cat on a house',\n",
    " 'a cat on the <unk>',\n",
    " 'the fence and a cat on the ground near the house',\n",
    " 'the cat stands on a wall and white cat',\n",
    " 'a cat on a house on the <unk> of a house',\n",
    " 'a looking down a house on a house',\n",
    " 'the the door look down',\n",
    " 'the walking along a microwave on the floor',\n",
    " 'the word rest is sitting on a plant',\n",
    " 'the cat on the walls',\n",
    " 'a cat on a dog',\n",
    " 'a fence and cat on a toilet',\n",
    " 'the looking inside of the <unk> by itself',\n",
    " 'the cat on a sidewalk near the door of a house',\n",
    " 'a cat on the side of the house',\n",
    " 'the the side of a brick floor',\n",
    " 'a cat on top of a house',\n",
    " 'the cat on the edge of a dog',\n",
    " 'a cat on a house',\n",
    " 'the fence on a house on a house',\n",
    " 'a looking down by itself on a toilet',\n",
    " 'a cat sitting on a house on a house on a house',\n",
    " 'a cat on a house',\n",
    " 'a walking towards the <unk> wood',\n",
    " 'a cat on a side of a house',\n",
    " 'a hand on a cement floor of a house',\n",
    " 'a house and a cat on a house',\n",
    " 'a cat',\n",
    " 'a moose on a house',\n",
    " 'the cat down',\n",
    " 'a cat grey house',\n",
    " 'the cat are walking out of a cat',\n",
    " 'a hand on the edge of a house',\n",
    " 'a cat on a leg of a house',\n",
    " 'a clock on a floor of a house',\n",
    " 'a black cat on a house',\n",
    " 'the door of a kitten on a house',\n",
    " 'the head on a sidewalk near a house',\n",
    " 'a looking down to a house on the edge of a house',\n",
    " 'a looking inside of a house on a door',\n",
    " 'the walls and white house near a house',\n",
    " 'the door of a cat on the ground',\n",
    " 'the other looking out of a hand near the houses on the floor looking down part of the yard',\n",
    " 'a cat on the side of a house',\n",
    " 'a fence near a hand on a big house',\n",
    " 'the fence and a cat on a house',\n",
    " 'a looking down to a person on a house on the ground by itself on a house',\n",
    " 'a cat on the edge of a house',\n",
    " 'the fence and grey cat on a sidewalk',\n",
    " 'a cat on a house',\n",
    " 'the cat on top of a house',\n",
    " 'the head near a cat laying down a house',\n",
    " 'a cat on a house',\n",
    " 'a cat on top of the middle of a house',\n",
    " 'the fence next to a grey house',\n",
    " 'the fence and grey cat laying down',\n",
    " 'a hand signal on the edge of a house',\n",
    " 'the word along a post on the side of a house',\n",
    " 'a cat on a house',\n",
    " 'the television from a person on a on the ground',\n",
    " 'the door of a hand on a bench',\n",
    " 'a head through a lone cat in the distance',\n",
    " 'the cat on a house',\n",
    " 'a cat on a house on the day',\n",
    " 'a along the <unk> of a a house',\n",
    " 'the door of a yard',\n",
    " 'the door near a skateboarder',\n",
    " 'the from the rim of a cat',\n",
    " 'a cat on the top of the house',\n",
    " 'the cat inside of a house near a house',\n",
    " 'a cat and white house on a house',\n",
    " 'a house on a house',\n",
    " 'the word rest in the climbing a house',\n",
    " 'the cat on the edge of a house',\n",
    " 'the freezer by a house',\n",
    " 'a moose on a house setting',\n",
    " 'a cat on a house on a house',\n",
    " 'the word along a side of a lonely street',\n",
    " 'the cat looking out of a cat',\n",
    " 'a cat on a house',\n",
    " 'a cat on the floor is cracked curb',\n",
    " 'the windows from the door walking on the ground',\n",
    " 'the cat on a house near a farm',\n",
    " 'the more grey horse',\n",
    " 'the road by the roof of a house',\n",
    " 'the word along the leg out of a window',\n",
    " 'a cat on a house',\n",
    " 'a cat were on the edge of a house',\n",
    " 'the walking down to an outside',\n",
    " 'the door of a cat on a house',\n",
    " 'the microwave on a house',\n",
    " 'the cat on a house',\n",
    " 'a cat and looking out of a curb',\n",
    " 'the head down top of a lone throws a patio out of a house',\n",
    " 'the head along the back of a house on a cushion',\n",
    " 'a house on the side of the house',\n",
    " 'the word strolling strolling along a house',\n",
    " 'the cat on the side of a house',\n",
    " 'a cat and white dog on a <unk> day',\n",
    " 'the the windows by a house',\n",
    " 'a climbing on a leg out of a house',\n",
    " 'a paw on the edge of a house',\n",
    " 'the cat on a house',\n",
    " 'a side of a head past a stone road next to a house',\n",
    " 'the word walking down',\n",
    " 'a cat stands on a big house',\n",
    " 'the door on the walls',\n",
    " 'the walking down edge of a house',\n",
    " 'the word tilted a house on a cement sidewalk',\n",
    " 'the cat on a toilet',\n",
    " 'the freezer by a house',\n",
    " 'a cat on a house',\n",
    " 'a cat and grey bull sitting on a house',\n",
    " 'the head along the ground looking as the cat on a house',\n",
    " 'the rim of a cat sitting on a house',\n",
    " 'the along the edge of a house',\n",
    " 'the cat that is on the walls',\n",
    " 'the door walk on a house on the back ground next to the leg',\n",
    " 'the walking down at the door pf a cat are sitting on a house from a plant',\n",
    " 'the door is at sunset',\n",
    " 'a cat on riding on a house',\n",
    " 'a fence on a side of a house',\n",
    " 'the door to a grey kitty on a house',\n",
    " 'the other walking down to a big house',\n",
    " 'a hand on a side of a house',\n",
    " 'the cat on a house',\n",
    " 'a cat and white cat on a bench in the sun',\n",
    " 'a looking out from a lone cat sitting on the edge of a window',\n",
    " 'a cat on a sidewalk',\n",
    " 'the cat on the walls',\n",
    " 'the cat on a house',\n",
    " 'the word rest on a side of a house',\n",
    " 'a cat on a house',\n",
    " 'a cat on a house',\n",
    " 'a cat that is sitting on a house',\n",
    " 'a fence walking on a house with the door and bird on a house from the woods',\n",
    " 'the trying to the door of a cat on a big house',\n",
    " 'a cat on toilet walls',\n",
    " 'a cat on cement near the sun and house',\n",
    " 'the cat on a house',\n",
    " 'the cat on a house',\n",
    " 'a cat on a house',\n",
    " 'a person on the edge of the leg',\n",
    " 'the more grey cat on a floor',\n",
    " 'a cat on a house',\n",
    " 'the stands on a big house on the floor with a person on a house on the floor',\n",
    " 'a cat on the leg out of a house',\n",
    " 'the word tilted a house on the floor',\n",
    " 'the cat is sitting on a house',\n",
    " 'the fence on the walls',\n",
    " 'the cat on a house',\n",
    " 'a cat on top of a house',\n",
    " 'the building next to the camera',\n",
    " 'the outside and silver cat outside of the yard',\n",
    " 'a cat near a house',\n",
    " 'the front of a microwave on a house',\n",
    " 'a along the roof of a house',\n",
    " 'a cat on the side of a house',\n",
    " 'a climbing on a brick floor looking out of a house',\n",
    " 'the fence sit on the walls',\n",
    " 'a curb from the sun sitting down a house',\n",
    " 'a hand on the edge of the back of a house',\n",
    " 'a door walking on a house',\n",
    " 'the cat on a skateboard',\n",
    " 'the word along a door of a house',\n",
    " 'the cat on a house',\n",
    " 'a cat on a house',\n",
    " 'the cat looking out of a house',\n",
    " 'the cat on the edge of a house',\n",
    " 'a cat on a house',\n",
    " 'a cat looking down on the ground in a museum',\n",
    " 'a kitten on a house',\n",
    " 'a cat on a house',\n",
    " 'a space on top of a house',\n",
    " 'the microwave and a cat on the ground',\n",
    " 'a cat on the edge of a house',\n",
    " 'the head on top of a house',\n",
    " 'the fence and relaxing on a big house',\n",
    " 'the house on the side of a house',\n",
    " 'a cat on a side of a house',\n",
    " 'a cat on a house',\n",
    " 'a hand on a house laying on the edge of a house',\n",
    " 'the head down a house on a leg of the sun',\n",
    " 'a cat on a sidewalk',\n",
    " 'a cat on a house',\n",
    " 'the head on the side of a house',\n",
    " 'a cat and peeking down to this is cracked curb',\n",
    " 'a cat and <unk> a house on a house',\n",
    " 'the hand along a big yard',\n",
    " 'the cat on a house',\n",
    " 'a cat on the edge of a house',\n",
    " 'a cat on a house',\n",
    " 'a fence and bird on a house and white cat',\n",
    " 'the cat on the edge of a house',\n",
    " 'the door a cat on a corner of a house',\n",
    " 'a cat on a house',\n",
    " 'a cat on a leg of a house',\n",
    " 'a cat on a house',\n",
    " 'a cat on the edge of a house',\n",
    " 'a moose on the walls',\n",
    " 'the walking on a brick floor',\n",
    " 'the on a house on the floor is cracked curb',\n",
    " 'a cat and a fence on a <unk>',\n",
    " 'the cat on a leg of a house',\n",
    " 'the land and grey cat on the walls',\n",
    " 'the cat on a toilet',\n",
    " 'a hand on a stove next to an approaching',\n",
    " 'a cat on a house',\n",
    " 'a cat on the back of a house',\n",
    " 'a black cat laying on a house',\n",
    " 'the door to a house',\n",
    " 'the front of a cat laying on a house',\n",
    " 'a cat on the edge of a house',\n",
    " 'the door and grey stands on a big house',\n",
    " 'a moose on a white cat looking out of a house',\n",
    " 'the word iron fence of a hydrant on a house',\n",
    " 'a cat on a house',\n",
    " 'a cat on a house',\n",
    " 'a cat on a house',\n",
    " 'a cat on a leg in the far yard',\n",
    " 'a cat standing on a house',\n",
    " 'the cat grey kitty cat',\n",
    " 'a cat on a house',\n",
    " 'a cat and white cat on a bench',\n",
    " 'the walking down a house on a house',\n",
    " 'a cat on the walls',\n",
    " 'a moose and a kitten on a big house',\n",
    " 'a cat staring at the walls and house on a house on the edge of an outside',\n",
    " 'a cat on a house',\n",
    " 'a cat on a house',\n",
    " 'the cat sitting on to another cat',\n",
    " 'a cat and a cat on a house',\n",
    " 'a cat on the side of a house',\n",
    " 'the stands on a house on a house',\n",
    " 'the painting of the left on the edge of a house',\n",
    " 'the more grey bird on a white house',\n",
    " 'a cat on a wall of a patio next to the outside',\n",
    " 'the word rest in the door of a house',\n",
    " 'a cat on a large house',\n",
    " 'the painting of a cat on the walls',\n",
    " 'a cat on a <unk>',\n",
    " 'a cat on a house',\n",
    " \"a hand on a someone's open\",\n",
    " 'the walking down to the outside',\n",
    " 'a cat on a house',\n",
    " 'a person on the walls and white cat',\n",
    " 'a cat on a bench',\n",
    " 'the cat on a <unk>',\n",
    " 'a cat on a house',\n",
    " 'a large cat on the house',\n",
    " 'a cat on the door he is trying to a cat and a tilted of a person on the side of a house',\n",
    " 'the word rest on the ground by itself on the back of a house',\n",
    " 'a black cat on the edge of a house',\n",
    " 'a hand on the edge of a house',\n",
    " 'a cat on a house',\n",
    " 'a cat on a house on the floor',\n",
    " 'the cat on a house',\n",
    " 'a microwave',\n",
    " 'a cat and a cat on a leg',\n",
    " 'the cat sitting on a house',\n",
    " 'a cat and white cat just near a house',\n",
    " 'a cat on a house',\n",
    " 'the on a house',\n",
    " 'a black cat on a house',\n",
    " 'a cat on a house',\n",
    " 'a cat on the side of a house',\n",
    " 'a toaster from a house',\n",
    " 'the word rest house sits on a white on the ground next to the leg',\n",
    " 'the door of a cat on a house',\n",
    " 'a cat on a house',\n",
    " 'a cat on a house',\n",
    " 'the word rest on a house',\n",
    " 'the word signal on the ground',\n",
    " 'a cat on a house and white cat',\n",
    " 'the cat on a house on the side',\n",
    " 'the walking down looking walls',\n",
    " 'a cat on the side of a house',\n",
    " 'a cat',\n",
    " 'a cat on the house',\n",
    " 'the word along the back of a house on the floor',\n",
    " 'a running between two big grey dog',\n",
    " 'the door of brick floor looking as a cat on the edge of a house',\n",
    " 'a cat on the walls',\n",
    " 'a cat on a house',\n",
    " 'a cat on top of the leg',\n",
    " 'a cat on a large house',\n",
    " 'the more grey stands on a house',\n",
    " 'a cat and white cat on a living room',\n",
    " 'a cat on a house',\n",
    " 'the cat on top of a house',\n",
    " 'the cat on a sidewalk near the edge of a house on the ground near the house',\n",
    " 'a cat on a house',\n",
    " 'a fence and grey cat on a house',\n",
    " 'the word signal on the side of a house',\n",
    " 'a cat on a house',\n",
    " 'a cat on a small day',\n",
    " 'a cat on a house',\n",
    " 'the cat on the edge of the door',\n",
    " 'a hand signal on a side of a house near a house',\n",
    " 'the walking along a house',\n",
    " 'a cat on a house',\n",
    " 'a fence and <unk> her cat on the edge of a house',\n",
    " 'a cat on a house',\n",
    " 'the more grey house',\n",
    " 'a black cat on a house',\n",
    " 'a cat on the side of a house',\n",
    " 'the cat is sitting on a side of a house',\n",
    " 'a cat and white cat that is laying down the walls',\n",
    " 'the other seen on the walls',\n",
    " 'a cat on a house',\n",
    " 'a cat on the back of a house',\n",
    " 'the on the edge of a house',\n",
    " 'a cat on a house',\n",
    " 'the stands on a white microwave',\n",
    " 'a house on a house',\n",
    " 'the door walking on the edge of a house',\n",
    " 'the cat sits on a sidewalk looking out of a house',\n",
    " 'the houses from a house and a cat on a house on a house',\n",
    " 'the door of a house on a house just near a house',\n",
    " 'a along a brick floor looking out of a house',\n",
    " 'the cat on a big house',\n",
    " 'the word along a house while walking down a house',\n",
    " 'the back of a cat on the walls',\n",
    " 'a cat on the walls',\n",
    " 'a cat on a house',\n",
    " 'a cat and grey cat',\n",
    " 'a cat on the edge of a house',\n",
    " 'a cat on a house on the ground next to the sun',\n",
    " 'a cat on a house',\n",
    " 'a hand walking by itself in the house',\n",
    " 'the cat on the walls',\n",
    " 'the word strolling along the side of a house',\n",
    " 'a cat and tile floor looking out of a house',\n",
    " 'a cat on the walls',\n",
    " 'the cat inside of a house',\n",
    " 'a cat on a house',\n",
    " 'the door of a house',\n",
    " 'the door near a house',\n",
    " 'a lady is on a big door leading out of a house',\n",
    " 'a door of a cat on a house',\n",
    " 'the more grey horse on a house',\n",
    " 'the cat on the edge of a house',\n",
    " 'a cat on a house',\n",
    " 'a fence on a big house',\n",
    " 'a cat on the walls',\n",
    " 'the more grey horse on a house',\n",
    " 'the cat on a house',\n",
    " 'a cat on the side of the leg in the day',\n",
    " 'a cat on a house',\n",
    " 'the fence on the edge of a house',\n",
    " 'a cat and white cat sits on a house',\n",
    " 'the walls from a house',\n",
    " 'a cat on the side of a house',\n",
    " 'the cat on a house',\n",
    " 'a fence and cat on a house',\n",
    " 'the cat and cat on a leg',\n",
    " 'a cat on a house',\n",
    " 'a cat on a sidewalk near a house',\n",
    " 'the itself on a house in the distance',\n",
    " 'the word rest on the walls',\n",
    " 'a cat on a house',\n",
    " 'a stands on a house on a house',\n",
    " 'a cat on the edge of a house',\n",
    " 'a looking down the side of the edge of a house',\n",
    " 'the other grey kitten on top of a house',\n",
    " 'the word rest on a sidewalk near a house',\n",
    " 'the door and white cat leaning against a house',\n",
    " 'a cat on a house',\n",
    " 'a cat that is laying down to the leg out of the yard',\n",
    " 'the more grey cat on a house',\n",
    " 'the the edge of a long head',\n",
    " 'a cat on a house on the floor',\n",
    " 'a black cat on the side of a house',\n",
    " 'a cat on a porch',\n",
    " 'a cat and sitting on the edge of a house',\n",
    " 'a lady on the edge of a house',\n",
    " 'a cat on a house',\n",
    " 'the cat on a sidewalk near a house',\n",
    " 'the cat standing on a house',\n",
    " 'a cat on a house',\n",
    " 'the inside of a house on the day',\n",
    " 'the other walking down a house with a house on a house',\n",
    " 'this is walking down to a grey bird',\n",
    " 'a cat on a house',\n",
    " 'a cat and grey bird',\n",
    " 'a cat on the walls',\n",
    " 'a cat on a house',\n",
    " 'the walls from a skate park',\n",
    " 'a cat on the floor',\n",
    " 'a cat on the side of a house',\n",
    " 'the word you down the floor',\n",
    " 'a cat on a house',\n",
    " 'a cat on the edge of a house',\n",
    " 'a cat on a house',\n",
    " 'the other cat and white cat on a house',\n",
    " 'a looking out of a house on the <unk>',\n",
    " 'the walking down to white cat',\n",
    " 'the walking down a house by itself',\n",
    " 'a cat on a sidewalk near the patio of a sun',\n",
    " 'the inside of a person on a leg',\n",
    " 'the cat and white cat and a patio by itself by a house',\n",
    " 'a fence outside of a house',\n",
    " 'a cat on the edge of a house',\n",
    " 'the cat on the floor with two eating out of a house',\n",
    " 'a brick fence and white cat',\n",
    " 'the word rest on toilet',\n",
    " 'the cat on and dark bird',\n",
    " 'a hand on the ground',\n",
    " 'the fence and silver fence on a house',\n",
    " 'several hand on the back of a black fence near a house',\n",
    " 'the outside on a house',\n",
    " 'the fence on the walls',\n",
    " 'a cat on a house as a microwave on a house',\n",
    " 'a cat on a house',\n",
    " 'a cat on a sidewalk',\n",
    " 'a cat on the walls',\n",
    " 'the cat on a side of a house',\n",
    " 'the cat on a house',\n",
    " 'a cat on the edge of the a house',\n",
    " 'a cat on a garbage',\n",
    " 'the cat standing on a white house',\n",
    " 'the cat on a house',\n",
    " 'the fence next to the sun',\n",
    " 'the other cat walks on a house',\n",
    " 'a house from the door <unk>',\n",
    " 'a cat on the edge of a house',\n",
    " 'a cat curb of a house',\n",
    " 'a house on a bench with a bicycle near the leg of a house',\n",
    " 'a black cat and a kitten on the edge of a house',\n",
    " 'the word along a cat on top of a house',\n",
    " 'the fence and grey bird on a house',\n",
    " 'a cat on a house',\n",
    " 'a fence and a cat behind the floor',\n",
    " 'a cat on a house stands',\n",
    " 'the cat on a house',\n",
    " 'a cat standing on a wall',\n",
    " 'a looking along a big cat key bike',\n",
    " 'a cat on a hydrant',\n",
    " 'a cat on a house',\n",
    " 'a cat on the edge of a house',\n",
    " 'a cat on a bench in the distance',\n",
    " 'the just past a cat on a house',\n",
    " 'the from the roof of a house',\n",
    " 'a cat looking down and white cat in air next to the way or dawn',\n",
    " 'a cat on a house near a house',\n",
    " 'the microwave on a door walking on the walls',\n",
    " 'a cat on a house',\n",
    " 'the word signal on a house',\n",
    " 'a cat on a house',\n",
    " 'a cat on the side of a house',\n",
    " 'a cat on a house',\n",
    " 'the cat on a house',\n",
    " 'a the door of a cat on the floor',\n",
    " 'the door on a house on a house',\n",
    " 'a cat and peeking just along a house',\n",
    " 'the word along a left on a house',\n",
    " 'a cat on a white house',\n",
    " 'a cat and a cat on its side of a house',\n",
    " 'the cat on the day',\n",
    " 'a cat on a house',\n",
    " 'the head on a sidewalk in the sand',\n",
    " 'a cat on the side of a house',\n",
    " 'the cat inside of a house',\n",
    " 'the word <unk> having a dirt along a sidewalk',\n",
    " 'a cat on a house',\n",
    " 'a cat and grey dog on the house',\n",
    " 'a cat on the side of a house',\n",
    " 'the from the edge of the door and a cat',\n",
    " 'the cat on a house',\n",
    " 'a cat on a house',\n",
    " 'the tongue has a cat on the side of the middle of the door',\n",
    " 'a cat and silver hand walking down',\n",
    " 'a cat on the walls',\n",
    " 'the cat that is sitting on a house',\n",
    " 'the cat sitting on top of a house',\n",
    " 'the more grey horse',\n",
    " 'the head down a brick floor in the day',\n",
    " 'the cat on a big house',\n",
    " 'a hand on the side of a house',\n",
    " 'a cat on a house',\n",
    " 'the word leaves from the sun is cracked curb',\n",
    " 'the windows on a house on a house',\n",
    " 'a house on a house near a house',\n",
    " 'a cat and laying down the edge of a house',\n",
    " 'a looking out of a house and grey horse with a spotted cat on the ground by itself',\n",
    " 'the kitten is laying down to a house and dark wood floor',\n",
    " 'the cat sitting on a house',\n",
    " 'the cat on a house']"
   ]
  },
  {
   "cell_type": "code",
   "execution_count": 83,
   "metadata": {},
   "outputs": [
    {
     "data": {
      "text/plain": [
       "809"
      ]
     },
     "execution_count": 83,
     "metadata": {},
     "output_type": "execute_result"
    }
   ],
   "source": [
    "len(captions_1)"
   ]
  },
  {
   "cell_type": "code",
   "execution_count": 88,
   "metadata": {
    "jupyter": {
     "source_hidden": true
    }
   },
   "outputs": [],
   "source": [
    "captions_2 = ['a refrigerator that does an umbrella',\n",
    " 'the beat warning',\n",
    " 'a refrigerator holding a beat up seaweed onto a brick wall under water',\n",
    " 'a plastic t ball',\n",
    " 'a beat warning a parking meter',\n",
    " 'a hand of beat warning four wheeled <unk>',\n",
    " 'a skateboard runs front',\n",
    " 'a beat warning running along the ground',\n",
    " 'the brick wall holding a trash can',\n",
    " 'a rock top of a trash bag of brick fire hydrant',\n",
    " 'a refrigerator with a sidewalk sniffing a sidewalk of a curb licking him off',\n",
    " 'a refrigerator with many magnets',\n",
    " 'a refrigerator with a parking meter clock',\n",
    " 'a refrigerator containing a fire hydrant',\n",
    " 'a refrigerator with the front if it',\n",
    " 'a refrigerator near a very thin wood near the computer cup with its side by a fire hydrant',\n",
    " 'a open water onto a trash sticking out onto the ground',\n",
    " 'a toilet with a trash can',\n",
    " 'a refrigerator with a book',\n",
    " 'a ball outside of a ball',\n",
    " 'a beat warning looking over a blue folding sidewalk',\n",
    " 'a large brick near a fire hydrant',\n",
    " \"a refrigerator in front of a small car's light shining on the ground\",\n",
    " 'a beat warning running reading <unk> something',\n",
    " 'the tall that does it pointing a building holding its side of a plastic bag of a sidewalk over it',\n",
    " 'a hand that has a tee ball',\n",
    " 'a tall brick near a fire hydrant',\n",
    " 'a refrigerator containing a parking meter attached to it',\n",
    " 'a beat warning running down a closed gate about to <unk> it',\n",
    " 'a tower above it',\n",
    " 'a beat warning the front if it is located in the middle of it',\n",
    " 'a refrigerator bends over a trash bag blowing it going',\n",
    " 'a rock with a cat sniffs the front',\n",
    " 'a t the ground onto a brick wall',\n",
    " 'a large stone path',\n",
    " 'the top of a brick wall with tile floor',\n",
    " \"a skateboard holding a trash licking it's face\",\n",
    " 'a lot of trash',\n",
    " 'a refrigerator with the trash sticking out black trash can',\n",
    " 'a beat warning getting ready to resemble a reflecting it',\n",
    " 'a large brick wall in black and gray fire hydrant onto its the curb',\n",
    " 'a lot of trash',\n",
    " 'a refrigerator with both sides of a cat during the fire spot looking over the top if it',\n",
    " \"a refrigerator both sides of a canal of a a fire hydrant sniffing the sidewalk near a trash bag blowing someone's legs\",\n",
    " 'a refrigerator with a fire hydrant a sidewalk having a cafe playing with a curb licking water onto a wet ground',\n",
    " 'a refrigerator containing a ledge',\n",
    " 'a refrigerator is shown sniffing stone tiles on the top of a grey brick wall under water from it onto a trash bag blowing something off the grill larger sniffing a beat shown',\n",
    " 'a refrigerator with chains it can with a sidewalk alongside a gray wall under water <unk>',\n",
    " 'a refrigerator with something on the side of a <unk> of a <unk> net to a wood floor',\n",
    " 'a refrigerator hall both sides of a <unk> of a dark curb licking it',\n",
    " 'a refrigerator and some shoes',\n",
    " 'a toilet',\n",
    " \"a beat the ground near a trash bag blowing someone's <unk>\",\n",
    " 'a refrigerator holding a beat shown',\n",
    " 'a toilet with a trash bag',\n",
    " 'a beat warning containing a garbage next to a fire hydrant',\n",
    " 'a brick wall of a sidewalk under it',\n",
    " 'a lot of trash can',\n",
    " 'a beat looking food box',\n",
    " 'it bearing grabbing the ground onto a wet sidewalk',\n",
    " 'a refrigerator holding an apartment it in a baseball',\n",
    " 'a beat up next to it is holding her cell phone',\n",
    " 'a open toilet near a fire hydrant',\n",
    " 'a refrigerator with the fire hydrant sitting in a gray cement pipe net to a brick wall',\n",
    " 'a rock with a trash bag',\n",
    " 'a cell phone onto a brick wall under the fire hydrant',\n",
    " 'a refrigerator containing a bear a dog',\n",
    " 'a water has a cat that was clip on a sidewalk',\n",
    " 'a refrigerator containing a concrete next of it that is a sidewalk',\n",
    " \"a refrigerator has its 3 someone's feet by a fire hydrant\",\n",
    " 'a refrigerator with a small sniffing the top of a different start of a lot of it',\n",
    " 'a refrigerator with a cat underneath it',\n",
    " 'a <unk> on the ground',\n",
    " 'a refrigerator for the words <unk>',\n",
    " 'a refrigerator to the outside of an old rubble next a sidewalk',\n",
    " 'a lot of trash can',\n",
    " 'brick t ball by edge of a plastic cover by a white tree net to a brick wall under stairs pulled leg on the floor of a fire hydrant',\n",
    " 'a toilet with a wall of a brick wall under water outside',\n",
    " 'a refrigerator with cement sidewalk of a trash bag it',\n",
    " 'the brick wall holding a cat nearby',\n",
    " 'a lot of garbage obama',\n",
    " 'a refrigerator next to a fire hydrant partially open',\n",
    " 'a open with a fire hydrant',\n",
    " 'a beat warning running toward a fire hydrant',\n",
    " 'a refrigerator has a suitcase',\n",
    " 'a close in a building under a fire hydrant on gray old 6',\n",
    " 'a brick t with beat up seaweed',\n",
    " 'a refrigerator near a face of a three sides',\n",
    " 'a refrigerator with the brick wall',\n",
    " 'a rock with it there',\n",
    " 'a cellphone and a trash bag of <unk>',\n",
    " 'a small boat using the <unk> the top of a brick wall under a large tree',\n",
    " 'a yard in a small oven',\n",
    " 'a large cell phone',\n",
    " 'a refrigerator in a sidewalk',\n",
    " 'a refrigerator in it',\n",
    " 'a toilet has an inflatable feet of a sidewalk',\n",
    " 'a rock ring',\n",
    " 'a beat warning with beat up seaweed in a tee for the top of a stone radio it',\n",
    " 'a refrigerator containing a yard reaching the ground dripping from its face',\n",
    " 'a refrigerator with a sidewalk',\n",
    " 'a refrigerator containing a concrete floor',\n",
    " 'some french both sides',\n",
    " 'a refrigerator leaning against a pile of arm extended and a wheeled peeling of the ground',\n",
    " 'a refrigerator has many magnets',\n",
    " 'a refrigerator and a grey brick wall',\n",
    " 'a french fries extending to a trash bag',\n",
    " 'a refrigerator by a trash bag',\n",
    " 'a refrigerator that does a frisbee',\n",
    " 'a large brick wall of a trash bag blowing it sits outside',\n",
    " 'a wet face with a gray stone tiles',\n",
    " 'a refrigerator and a trash bag',\n",
    " 'a hand is open and reads <unk>',\n",
    " 'an old <unk> has the side of a net to a fire hydrant sniffing a meter',\n",
    " 'a hand with a sidewalk of a small oven',\n",
    " 'a brick wall with a fire hydrant',\n",
    " 'the brick sidewalk along the sidewalk that it could face extending to a brick wall',\n",
    " 'a small trash can looking to a ball',\n",
    " 'this is open',\n",
    " 'a refrigerator door open',\n",
    " 'a refrigerator has many magnets',\n",
    " 'a refrigerator and analog clock extending from some shoes and a fire hydrant',\n",
    " 'a refrigerator is many wheeled toilet next to a trash bag',\n",
    " 'a wall of a street near it',\n",
    " 'a refrigerator',\n",
    " 'this is opened in the middle of a fire hydrant',\n",
    " 'a beat up both sides along a tall brick wall',\n",
    " 'a water onto a brick wall',\n",
    " 'a machine with a tee ball',\n",
    " 'a beat that does not to resemble a girl on top of a black grill',\n",
    " 'a lot of garbage that was put on a wet street besides the dark fire hydrant',\n",
    " 'a open <unk>',\n",
    " 'a top of a brick wall under it',\n",
    " 'refrigerator holding it',\n",
    " 'a toilet next to a stretch of a fire hydrant',\n",
    " 'a rock near a sidewalk',\n",
    " 'a refrigerator near a fire hydrant in a <unk>',\n",
    " 'a refrigerator next to a trash bag it',\n",
    " 'a cellphone and holding the ground close to a sidewalk',\n",
    " 'a refrigerator playing with a tree beside a tree sticking out',\n",
    " 'a refrigerator close to a sidewalk',\n",
    " 'this is a analog clock extending from the curb licking its face',\n",
    " 'a refrigerator containing a ball a fountain of a brick wall under water onto a wet sidewalk',\n",
    " 'this refrigerator does an umbrella',\n",
    " 'a refrigerator holding a concrete floor',\n",
    " 'the brick wall',\n",
    " 'the brick wall in the middle of a black grill net by a trash bag blowing it',\n",
    " 'a toilet with a fire hydrant',\n",
    " 'the water onto a rock sticking it',\n",
    " 'the tall near a trash bag blowing it on a wet cat',\n",
    " 'a ball opened to the ground',\n",
    " 'a refrigerator with a parking meter',\n",
    " 'a lot of electronics and the car',\n",
    " 'a refrigerator with the fire hydrant',\n",
    " 'a open water puddle of a black grill',\n",
    " 'a refrigerator in a plastic yard',\n",
    " 'a refrigerator used refrigerators',\n",
    " 'the brick with the outside of the top of a trash bag put a table',\n",
    " 'a ball of a brick sidewalk of a trash bag',\n",
    " 'a large brick wall',\n",
    " 'a refrigerator with',\n",
    " 'a peeling onto it',\n",
    " 'a refrigerator with a fire hydrant with its collar',\n",
    " 'a refrigerator',\n",
    " 'a refrigerator along a sidewalk',\n",
    " 'a refrigerator near a trash bag blowing someones hand',\n",
    " 'a refrigerator with many objects',\n",
    " 'a refrigerator and',\n",
    " 'a refrigerator playing with a sidewalk next to it',\n",
    " 'a refrigerator playing with a sidewalk',\n",
    " 'a refrigerator containing a trash can of a computer monitor',\n",
    " 'a refrigerator has a stack of stairs by edge of a larger mans face',\n",
    " 'a skateboard is installed for safety with the top of a stone wall',\n",
    " 'a open water looking <unk>',\n",
    " 'a fire hydrant with the bricks it',\n",
    " 'we see a garbage obama just outside',\n",
    " 'a beat warning running along the ground onto a trash bag',\n",
    " 'a refrigerator with some <unk> scale a beat shown by a fire hydrant sniffing a fire hydrant',\n",
    " 'a refrigerator with the end of a trash bag',\n",
    " 'a refrigerator near a brick wall under a fire hydrant',\n",
    " 'a book with boxes of a cat sniffs the curb near the fire',\n",
    " 'the brick with a beat shown',\n",
    " 'a large pot of a hotdog bag',\n",
    " 'a skateboard getting ready to resemble a frisbee',\n",
    " 'a refrigerator',\n",
    " 'a beat warning four wheeled box',\n",
    " 'this refrigerator is the ground next to a brick wall',\n",
    " 'a beat warning <unk> in a fire <unk> stone steps',\n",
    " 'a wood lawn by a fire hydrant sniffing a brick wall',\n",
    " 'a brick t ball with a <unk> spot could face extending to a sidewalk',\n",
    " 'a refrigerator with replica stone near the three of a concrete platform',\n",
    " 'a brick while a wet its face',\n",
    " 'a a beat warning to a brick wall',\n",
    " 'a rocks next to an old fired brick wall near a fire hydrant',\n",
    " 'a refrigerator has some grass',\n",
    " 'a skateboard holds it is shown toilet',\n",
    " 'a brick wall of a sidewalk',\n",
    " 'a refrigerator along the ground',\n",
    " 'a refrigerator with the door',\n",
    " 'a refrigerator with a trash bag that also has a wall under water onto a sidewalk under rails of it',\n",
    " 'a open and a beat these <unk> looking at a tee for looking up',\n",
    " 'a large brick road looking a roadside of a dark light hallway leading away from it',\n",
    " 'a beat warning that has a paper holder',\n",
    " 'a refrigerator walking with a shopping bag of a sidewalk near it',\n",
    " 'this simple refrigerator with a trash bag',\n",
    " 'a white refrigerator playing frisbee',\n",
    " \"a beat warning the edge of a small car's side of a stairway to a dirty covered barbecue grill\",\n",
    " 'a refrigerator with the inside them',\n",
    " 'a beat looking a tee for the <unk> it',\n",
    " 'a lot of garbage on the ground',\n",
    " 'a refrigerator',\n",
    " 'a tall stone with a trash bag blowing a warning to a brick wall under it',\n",
    " 'a refrigerator door open and staring to the a sidewalk',\n",
    " 'a lot of garbage obama just beside a black object',\n",
    " 'a refrigerator is opened to a sidewalk under it',\n",
    " 'an open the african savannah under a fire hydrant',\n",
    " 'a refrigerator planter of a wet sidewalk with a cellphone',\n",
    " 'a ball between a trash bag of garbage on the ground',\n",
    " 'the inner ground around it',\n",
    " 'a refrigerator holds a beat warning side with sunlight eating an instrument',\n",
    " 'a beat hiding showing the front if it',\n",
    " 'this is opened brick wall next to a trash bag alone',\n",
    " 'the brick ground on a sidewalk of an open ball door',\n",
    " 'a very close to a trash bag blowing a wall under it',\n",
    " 'a rock <unk> warning tiles a fire hydrant',\n",
    " 'a refrigerator and a cell phone',\n",
    " 'a hand with a ball running a fire hydrant',\n",
    " 'a <unk> underneath it',\n",
    " 'a rock near water ball',\n",
    " 'a refrigerator containing a tee ball',\n",
    " 'a <unk> with a fire hydrant',\n",
    " 'a tall is shown near a trash bag',\n",
    " 'a refrigerator talking on the ground by some wood floor by a fire hydrant sits on a toilet',\n",
    " 'a wall near a brick wall under stairs stretched out by a fire hydrant',\n",
    " 'a long stone next to the ground',\n",
    " 'a refrigerator door open',\n",
    " 'a beat warning running along a dark color might face',\n",
    " 'a skateboard by a sidewalk',\n",
    " 'a refrigerator holding a parking opening his cat',\n",
    " 'a refrigerator to the ground close to a trash bag',\n",
    " 'a refrigerator holding a black tail halfway at a fire hydrant',\n",
    " 'a refrigerator in it',\n",
    " 'a refrigerator containing a large brick pavement',\n",
    " 'the beat up seaweed on the ground',\n",
    " 'a lot of trash can a <unk> spot next to a fire hydrant',\n",
    " 'a beat warning pulls and a <unk> fountain suitcase',\n",
    " 'a tall and boxes',\n",
    " 'a refrigerator used bananas onto a wet sidewalk of a sidewalk',\n",
    " 'a refrigerator extending to a trash bag on a sidewalk',\n",
    " 'a <unk> oven',\n",
    " 'a toilet with the black grill',\n",
    " 'a ball with lots of the curb licking the <unk> it',\n",
    " 'a refrigerator with a trash can a small tree of a parking meter clock',\n",
    " 'a beat laying near a trash bag beside a black grill net',\n",
    " 'a lot of garbage on it',\n",
    " 'a refrigerator holding a cell <unk>',\n",
    " 'a tall at a sidewalk alongside of a brick wall by a sidewalk',\n",
    " 'a rock reads <unk>',\n",
    " 'the beat warning that is next to a trash bag blowing a black grill',\n",
    " 'an open toilet with a black grill net',\n",
    " 'a refrigerator with some black <unk>',\n",
    " 'a very cluttered with a curb licking its face',\n",
    " 'a refrigerator',\n",
    " 'a close to the curb',\n",
    " 'a refrigerator with a red suitcase',\n",
    " 'a refrigerator playing with a fire hydrant',\n",
    " 'a refrigerator has the trash can of a fire hydrant',\n",
    " 'a equipped with analog clock near a brick wall under pipe sticking out',\n",
    " 'a book',\n",
    " 'a refrigerator next to a statue of a brick wall',\n",
    " 'this is open',\n",
    " 'a refrigerator holding a parking meter',\n",
    " 'a beat warning many cement sidewalk',\n",
    " 'a refrigerator along a brick wall under water parking meter on a brick wall of a gate that it could face',\n",
    " 'the brick wall near the curb licking its face on it',\n",
    " 'a phone',\n",
    " 'a lot of a sidewalk underneath it',\n",
    " 'a refrigerator with a concrete sidewalk',\n",
    " 'a refrigerator raised to the ground',\n",
    " 'a beat warning a mushroom',\n",
    " 'a simple section of a fire hydrant',\n",
    " 'a t ball serve',\n",
    " 'a refrigerator with a fire hydrant',\n",
    " 'a brick <unk> by a trash bag blowing something on a wet sidewalk',\n",
    " 'a rock',\n",
    " 'a refrigerator using a beat warning',\n",
    " 'a water with a black tail halfway in a gray cat',\n",
    " 'a refrigerator with the curb licking it is staring at a fire hydrant',\n",
    " 'a large stone ground blowing the ground',\n",
    " 'a hand of a refrigerator',\n",
    " 'a beat warning <unk>',\n",
    " 'a rock',\n",
    " \"this refrigerator isn't sure to a brick wall under a fire hydrant\",\n",
    " 'a refrigerator with a black tail halfway under the ground',\n",
    " 'the tall front if it',\n",
    " 'there hand holding a cellphone and a frisbee',\n",
    " 'a refrigerator',\n",
    " 'a lot of bushes by a trash bag of a brick wall',\n",
    " 'a large stone wall of a curb licking its face',\n",
    " 'a wall by french wooden patio licking water into the curb licking it could face holding the sidewalk on the ground of a cement curb licking it',\n",
    " 'a beat warning the ground onto its side of a statue of a concrete sidewalk',\n",
    " 'a refrigerator produce section',\n",
    " 'a giraffe grazing in front of a naked <unk> it',\n",
    " 'the tall',\n",
    " 'a wall with some trees near the curb licking the ground next to it',\n",
    " 'a beat getting a basket attached to the curb licking it with a park',\n",
    " 'a t ball',\n",
    " 'a clock near a fire hydrant',\n",
    " 'a brick rocks of a brick wall under a fire hydrant',\n",
    " 'a water onto the ground onto a wet sidewalk',\n",
    " 'a beat warning the sidewalk next',\n",
    " 'a beat warning that has many magnets',\n",
    " 'a cell phone extending to a brick wall under water fountain',\n",
    " 'a refrigerator with a trash bag',\n",
    " 'a beat warning some grass near the top if it',\n",
    " 'a refrigerator raised to the ground close up to a trash bag',\n",
    " 'a open and a brick wall with the sidewalk',\n",
    " 'a rock next to a trash bag',\n",
    " 'a tower towering as he <unk> the brick oven door',\n",
    " 'a beat warning looking a paved shut',\n",
    " 'a large brick wall above it',\n",
    " 'a refrigerator with many magnets',\n",
    " 'a refrigerator leaning against a brown stone toilet sitting between a brick wall of an open plastic <unk> ball ball',\n",
    " 'a lot of garbage on the ground',\n",
    " 'a beat warning a pile of a brick wall',\n",
    " 'a lot of trash is a door open',\n",
    " 'a refrigerator has a pen and a black grill in a large beam it could <unk> near a concrete bridge door',\n",
    " 'a refrigerator with the top of a one side of a brick wall toward it appears to resemble a tennis ball',\n",
    " 'a refrigerator holding a trash can a brick wall while sniffing a sidewalk',\n",
    " 'the brick wall has some beat up seaweed',\n",
    " 'the beat warning how not both sides',\n",
    " 'a refrigerator with the ground',\n",
    " 'a refrigerator',\n",
    " 'a beat looking inside if it by a fire hydrant',\n",
    " 'a rock with a little black steps',\n",
    " 'a refrigerator with a fire hydrant',\n",
    " 'a refrigerator with a fire hydrant',\n",
    " 'a black trash can',\n",
    " 'the brick street blowing it',\n",
    " 'a refrigerator with a book',\n",
    " 'a rock has many magnets',\n",
    " 'a hand a cell approaching a trash bag blowing the ground',\n",
    " 'a rock ring <unk> running',\n",
    " 'a large brick ground by the ground dripping from ground',\n",
    " 'a brick wall with one shown by a fire hydrant',\n",
    " 'a refrigerator with a gray stone',\n",
    " 'a refrigerator opening a cell phone',\n",
    " 'a large pot of a sidewalk of the curb licking its face and some black <unk>',\n",
    " 'commode a wet cell empty of a brick wall using the ground next to a fire hydrant train plaque',\n",
    " 'a road near a fire hydrant',\n",
    " 'a large brick wall of a under a black grill',\n",
    " 'a beat warning that reads <unk> are sniffing it',\n",
    " 'a rock ring hand <unk>',\n",
    " 'a refrigerator with a brick wall of a brick wall under it',\n",
    " 'a refrigerator with a black trash can',\n",
    " 'a brick wall under it appears to resemble a wall',\n",
    " 'a rock <unk> looking toward everything',\n",
    " 'a refrigerator',\n",
    " 'a book <unk> the face of it',\n",
    " 'phone open to a trash bag',\n",
    " 'a rock ring and a cat',\n",
    " 'there hand of a opposite way down the side of an iron side of a car under rails of a a pedestrian pot',\n",
    " 'a beat warning of a <unk> onto a wet sidewalk between some sort',\n",
    " 'a refrigerator drink',\n",
    " 'open the brick wall next to a trash bag attached to it',\n",
    " 'a refrigerator with the ground onto a naked small trash can',\n",
    " 'a refrigerator throwing fountain with a cellphone',\n",
    " 'a large brick wall near the fire hydrant',\n",
    " 'a refrigerator ring <unk> by the curb licking it is staring to a trash bag blowing it',\n",
    " 'a refrigerator with a tall brick wall under it',\n",
    " 'a refrigerator containing a bench',\n",
    " 'a brick wall has a box running',\n",
    " 'a with a one another monitor',\n",
    " 'a tall on an old electric garbage can',\n",
    " 'a refrigerator with a persons feet of a black grill',\n",
    " 'a refrigerator onto a stone steps',\n",
    " 'a toilet also of a monitor',\n",
    " 'a toilet that does a little animal laying by a brick wall',\n",
    " \"a analog way 3 someone's <unk> him\",\n",
    " 'a hand that is accompanied by skateboarders feet raised',\n",
    " 'a refrigerator who is posted outside',\n",
    " 'a refrigerator along a brick wall near a fire hydrant',\n",
    " 'there hand refrigerator containing a parking meter',\n",
    " 'a lot of three holds a trash bag of <unk>',\n",
    " 'the lot of furniture',\n",
    " 'a refrigerator',\n",
    " \"a water onto four wheeled it's face\",\n",
    " 'a wet side of a dark wall by the <unk> it',\n",
    " 'advertising ball running reading a wall near a fire hydrant',\n",
    " \"a close to a cell phone along the brick wall under it's face\",\n",
    " 'a refrigerator holding a beat shown to a brick wall',\n",
    " 'a black top of a <unk> it',\n",
    " 'a hand stand by a brick wall under water onto it',\n",
    " 'a refrigerator door',\n",
    " 'the hand looking a plastic <unk> it could face',\n",
    " 'a close with a fire hydrant',\n",
    " 'a wood with a black black grill at a fire hydrant',\n",
    " 'a refrigerator holding a beat it',\n",
    " 'a hand of the ground onto a wet sidewalk',\n",
    " 'a beat warning running across a sidewalk near a fire hydrant <unk>',\n",
    " 'a beat looking a suit case',\n",
    " 'a beat warning with some buildings',\n",
    " 'a refrigerator with a fire hydrant next to a fire hydrant',\n",
    " 'a refrigerator holding a naked <unk>',\n",
    " 'a refrigerator containing a game on the ground next to a trash bag blowing it',\n",
    " 'a refrigerator opening a beat up the ground',\n",
    " 'a machine is figurine',\n",
    " 'a rock extending to a sidewalk next',\n",
    " 'a refrigerator with the red brick fire hydrant',\n",
    " 'a refrigerator containing a garbage hand',\n",
    " 'a refrigerator has a box sticking out by the fire hydrant',\n",
    " 'a beat playing running onto the outside of a <unk> cover on the ground near a trash bag',\n",
    " 'a doorway next to a trash bag of the <unk> it',\n",
    " 'a refrigerator into the curb next a pipe door it',\n",
    " 'some tall rocks by a sidewalk beside a fire hydrant',\n",
    " 'a t ball outside',\n",
    " 'a large brick wall of an open ball <unk> it',\n",
    " 'a lot of trash can',\n",
    " 'a refrigerator with various ball from a trash bag blowing a sidewalk',\n",
    " 'this refrigerator with a sidewalk near a fire',\n",
    " 'this refrigerator and garbage obama just a friend',\n",
    " 'a refrigerator a trash bag',\n",
    " 'a large brick sidewalk near a fire hydrant',\n",
    " 'a beat warning running along a brick wall',\n",
    " 'this simple refrigerator has a basket attached to a trash bag',\n",
    " 'a refrigerator with a wall toward a dog',\n",
    " 'a refrigerator with a ball',\n",
    " 'a refrigerator with the curb close up feet raised',\n",
    " 'a large brick wall near a fire hydrant',\n",
    " 'a rock has a tee ball',\n",
    " 'a tall near a trash bag outside both sides',\n",
    " 'a lot of which is located off the wall of a stone oven',\n",
    " 'a hand next to a trash bag',\n",
    " 'the brick and a tree',\n",
    " 'a refrigerator with both sides of the grill next a pipe near a fire hydrant',\n",
    " 'a refrigerator',\n",
    " 'a large stone next to it',\n",
    " 'a refrigerator ring <unk>',\n",
    " 'a t ball setup on a stone oven',\n",
    " 'a beat looking a sidewalk next to a sidewalk',\n",
    " 'this simple refrigerator with a sidewalk',\n",
    " 'a equipped with the sidewalk next to a brick wall under water fountain and a frisbee',\n",
    " 'a refrigerator by a sidewalk',\n",
    " 'a cell phone',\n",
    " 'a lot of trash is near it',\n",
    " 'an open water onto a brick wall next cart onto a sidewalk',\n",
    " 'a refrigerator that does a concrete floor',\n",
    " 'a refrigerator in front of a trash bag',\n",
    " 'a refrigerator is standing by the grill',\n",
    " 'a refrigerator with a tee ball',\n",
    " 'a refrigerator with a tee the fire hydrant',\n",
    " 'two legged after a lawn of a grill',\n",
    " 'a machine with a small pond of a ground',\n",
    " 'the refrigerator near a fire hydrant',\n",
    " 'beat warning containing a beat up seaweed on a sidewalk under it',\n",
    " 'a rock it',\n",
    " 'a refrigerator with a door',\n",
    " 'a refrigerator with both sides <unk>',\n",
    " 'a refrigerator with owner',\n",
    " 'a refrigerator with the front if it was thrown to a trash holder',\n",
    " 'a refrigerator near a trash bag',\n",
    " 'a large stone ground',\n",
    " 'a refrigerator in a tan box',\n",
    " 'a ball running alongside by it',\n",
    " 'a hand pulling t the sidewalk with a little radio onto it',\n",
    " 'a refrigerator a trash can near a fire hydrant',\n",
    " 'a refrigerator door open',\n",
    " 'a refrigerator near the top of a toilet',\n",
    " 'the refrigerator is on the top of a human hand',\n",
    " 'a skateboard has the food scale it',\n",
    " 'a tall on the side of it',\n",
    " 'a refrigerator next to a sniffing numerous feet raised by a tall brick wall',\n",
    " 'a brick wall with leash',\n",
    " 'there hand near the street by the curb',\n",
    " 'a lot of trash can',\n",
    " 'a hand of a brick wall',\n",
    " 'a refrigerator',\n",
    " 'a refrigerator',\n",
    " 'a lot of a net to a black object by a fire hydrant and a fire hydrant',\n",
    " 'a refrigerator with the ground',\n",
    " 'a <unk>',\n",
    " 'a refrigerator with a can of a curb licking it',\n",
    " 'a walk with lounge <unk> it',\n",
    " 'a door open',\n",
    " 'a mobile kitchen has a small pond of a trash bag',\n",
    " 'a reads <unk>',\n",
    " 'a rock sitting on the side of an adult oven',\n",
    " 'a hand is open with a number <unk>',\n",
    " 'there is brick t ball passes close to a street near the hood of a sidewalk',\n",
    " 'a refrigerator net to a ball',\n",
    " 'a cellphone and holding a beat up to a sidewalk',\n",
    " 'a rock it',\n",
    " 'a ball with a trash can',\n",
    " 'a refrigerator onto its ground with owner',\n",
    " 'some mosaic t <unk> spot looking to a trash bag',\n",
    " 'a refrigerator by the top if it',\n",
    " 'a refrigerator',\n",
    " 'the side of a small person that it could face extending to the ground',\n",
    " 'a t ball setup',\n",
    " 'a plain to a brick wall under water bottle',\n",
    " 'a walk near a fire hydrant',\n",
    " 'a large brick wall next to a trash bag',\n",
    " 'a toilet',\n",
    " 'a refrigerator and a trash can it holding a warning which safety shoulder showing it opened to the ground',\n",
    " 'a lot of trash can on the side of a building and sidewalk',\n",
    " 'a cell phone next to it',\n",
    " 'a beat warning many magnets',\n",
    " 'a beat warning that does an umbrella',\n",
    " 'a large stone and arm rest',\n",
    " 'an open toilet sitting on a sidewalk',\n",
    " 'this simple separate of a <unk> spot could face that is an old flowing <unk>',\n",
    " 'a large stone ground with the a wet sidewalk beside it can hold an umbrella',\n",
    " 'a lot of garbage obama under it could face tv',\n",
    " 'this is opened brick tower next to a trash bag',\n",
    " 'a brown and a beat shown',\n",
    " 'a refrigerator with a group of garbage can',\n",
    " 'a large brick wall of a black grill in the black cat on a brick wall under a sidewalk',\n",
    " 'a refrigerator opens it',\n",
    " 'a tall with some sort',\n",
    " 'this simple refrigerator is looking a rural parking',\n",
    " 'a refrigerator containing a trash can',\n",
    " 'a lot of with a trash can',\n",
    " 'a refrigerator holding a ball',\n",
    " 'open <unk> a trash bag of stairs written under it',\n",
    " 'a refrigerator stance next to the top of a dark object on a black grill',\n",
    " 'a refrigerator near a cemetery <unk>',\n",
    " 'a large stone ground next to a trash can of a plastic bottle of a brick wall under it',\n",
    " 'a large stone ground sniffing a monitor',\n",
    " 'a refrigerator holding a beat shown with both sides of a gray metal net to a sidewalk',\n",
    " 'a mobile <unk> next to the curb licking the ground',\n",
    " 'a beat hiding in a <unk> of a light beam a pile of arm of it',\n",
    " 'a t ball player containing a wall',\n",
    " 'a cell phone extending to a toilet',\n",
    " 'a rock <unk>',\n",
    " 'the tall arm of a brick wall',\n",
    " 'a <unk> looking a <unk> looking the side of a curb licking its face',\n",
    " 'a refrigerator with a small tree',\n",
    " 'a refrigerator that is playing a sidewalk',\n",
    " 'a toilet with a cat sniffs the brick wall under a black grill',\n",
    " 'two brick t the court net in it',\n",
    " \"a lot of buildings in a man leaning in a small car's top of a plastic bottle of a pipe brick wall amid the top if it\",\n",
    " 'a rock next to a trash bag of extending to a trash bag of a sidewalk next clock a brick wall of a trash can',\n",
    " 'a refrigerator dripping from a black grill',\n",
    " 'a refrigerator opens it a dog',\n",
    " 'a beat warning running beside a small tree net',\n",
    " 'a refrigerator containing a sidewalk',\n",
    " 'a wet cell phone next to a fire hydrant',\n",
    " 'a refrigerator containing a small pond',\n",
    " 'a t ball running halfway on it',\n",
    " 'a equipped with analog clock extending from one leg on a wet brick wall under a fire hydrant',\n",
    " 'a beat warning a wet edge of the dark surface tennis court eating <unk>',\n",
    " 'some rocks on the ledge of the top of a dark apple on the side of a car of a vehicle wrapped by a ball',\n",
    " 'a refrigerator sitting on the ground onto a sidewalk of a trash bag blowing it',\n",
    " 'a open',\n",
    " 'a rock ring',\n",
    " 'a brick wall with a cat sniffs the street under an instrument',\n",
    " 'a large brick wall of a black grill',\n",
    " 'this refrigerator has many post',\n",
    " 'a refrigerator with many magnets',\n",
    " 'a open and a dog',\n",
    " 'a refrigerator that it is located at a fire hydrant',\n",
    " 'a refrigerator with a fire hydrant sitting in a suit case',\n",
    " 'a rock a sidewalk close to a fire hydrant',\n",
    " 'a beat warning running beside a fire hydrant playing with the french cabinet onto a sidewalk',\n",
    " 'a large stone ground next to it',\n",
    " 'a hand of french hand under it',\n",
    " 'a refrigerator with the ground dripping from it by the curb',\n",
    " 'a refrigerator with a small pond',\n",
    " 'a large stone ground with a fire hydrant',\n",
    " 'a refrigerator next to it',\n",
    " 'a refrigerator with a small tree licking it could face extending to a trash bag',\n",
    " 'a lot of <unk> with a garbage just about to the ground',\n",
    " 'a <unk> is looking toward a fire hydrant',\n",
    " 'a beat warning that does it',\n",
    " 'a refrigerator has a bag near the front of a building',\n",
    " 'a cell phone is looking to a trash bag of garbage can',\n",
    " 'a refrigerator is near rocks',\n",
    " 'a equipped with analog <unk> it',\n",
    " 'a cell phone dripping better of a black grill',\n",
    " 'a cell phone next to it',\n",
    " 'the brick street net to a trash bag',\n",
    " 'a large brick sidewalk next',\n",
    " 'a warning side by the top of a black grill',\n",
    " 'a refrigerator',\n",
    " 'this beat warning that has <unk> placed a trash bag',\n",
    " 'a refrigerator with a brick wall with a tee ball',\n",
    " 'a hand that does not too many setting at a paved cooler onto its spot could face extending to a trash can',\n",
    " 'a cellphone and tile floor',\n",
    " 'a refrigerator holding a black tail halfway on a wet sidewalk',\n",
    " 'a pavement with a fire hydrant',\n",
    " 'a refrigerator with leash that has a suitcase',\n",
    " 'this is opened brick wall under water into the curb',\n",
    " 'a refrigerator stares at an old we both sides on a wet sidewalk of a gray stone pavement',\n",
    " 'a hand is standing near a sidewalk',\n",
    " 'french persons refrigerator and a pile of arm of a sidewalk',\n",
    " 'a refrigerator with a cat and a fire hydrant',\n",
    " 'a refrigerator and some sort of a brick wall under it',\n",
    " 'a refrigerator playing with an instrument',\n",
    " 'a refrigerator with a sidewalk under it',\n",
    " 'a rock is near a fire hydrant with a trash bag of a sidewalk',\n",
    " 'a lot of garbage can outside',\n",
    " 'we both the ground close to a fire hydrant on top of a dry grass',\n",
    " 'this unique looking model standing next to a trash bag blowing <unk> <unk>',\n",
    " 'a large stone walk way',\n",
    " 'a refrigerator with the words <unk>',\n",
    " 'a beat warning running side of a sidewalk',\n",
    " 'a cellphone is getting trash packages',\n",
    " 'we see a post beside it',\n",
    " 'a lot of a book',\n",
    " 'a toilet with water onto a trash bag of stairs',\n",
    " 'a hand both a wall reads <unk>',\n",
    " 'a refrigerator along this pipe net',\n",
    " 'a beat warning that is installed',\n",
    " 'a water that is open',\n",
    " \"a refrigerator with a wheeled it's side of a black grill net to a brown brick wall of a small tree net\",\n",
    " 'a refrigerator with a trash bag',\n",
    " 'a beat warning running by a brick wall',\n",
    " 'a refrigerator are both sides of an iron <unk> it',\n",
    " 'a refrigerator door open',\n",
    " 'a refrigerator holding a beat up seaweed',\n",
    " 'a beat looking a suit case on the ground near a fire hydrant',\n",
    " 'a brick with the front if it',\n",
    " 'a beat warning a trash can',\n",
    " 'a beat up a street next to a fire hydrant',\n",
    " 'a refrigerator while looking outside',\n",
    " 'a refrigerator with the front of a person sticking out',\n",
    " 'a refrigerator that does a <unk> <unk>',\n",
    " 'someone getting onto a box on top of a yellow apple on it',\n",
    " 'a beat up a trash can',\n",
    " 'a refrigerator containing a sidewalk',\n",
    " 'a beat warning four sets of gray top',\n",
    " 'a tall with style suitcase a sidewalk of a brick wall under water running a fire hydrant',\n",
    " 'this beat a beat up the ground near a ball',\n",
    " 'a refrigerator opening a wall near a trash bag',\n",
    " 'a hand standing near a brick wall under it',\n",
    " 'a refrigerator that is standing on the ground',\n",
    " 'a refrigerator with a black tail cup',\n",
    " 'a toilet with a trash bag',\n",
    " 'the refrigerator with a trash can',\n",
    " 'this refrigerator does a wall beside it',\n",
    " 'a refrigerator with a ball on the ground',\n",
    " 'a toilet has a garbage obama just the mouth that is sitting on a sidewalk',\n",
    " 'a refrigerator holding the a wet sidewalk',\n",
    " 'a beat warning end that was put it',\n",
    " 'a refrigerator with an instrument on a wet ground',\n",
    " 'a open toilet with a monitor',\n",
    " 'a equipped with analog sidewalk of a sidewalk',\n",
    " 'a refrigerator near a trash bag of stairs',\n",
    " 'a hand and beat warning about to the ground close',\n",
    " 'a refrigerator holding a beat shown',\n",
    " 'some tools surrounding a sidewalk',\n",
    " 'a brick wall next to a fire hydrant',\n",
    " 'a wet by a concrete trail',\n",
    " 'a large brick wall under a fire hydrant',\n",
    " 'a beat warning running along the a wet sidewalk of a black grill side of a of a <unk> pot onto a trash bag',\n",
    " 'a lot of garbage obama <unk>',\n",
    " 'a refrigerator with a a brick wall under it with a black grill',\n",
    " 'a beat warning running and the front if it',\n",
    " 'a refrigerator inside it',\n",
    " 'a refrigerator with the ground dripping the floor',\n",
    " 'a refrigerator is near a cat',\n",
    " 'a large brick wall with the words the <unk> spot',\n",
    " 'a large brick wall and part of a fire hydrant',\n",
    " 'a lot of shoes on the ground onto it',\n",
    " 'a beat looking <unk> on the ground under rails a shopping cart onto a trash bag net to a wet paved stones',\n",
    " 'a a beat warning cones with a black grill top of a street',\n",
    " 'the tall away from a black grill',\n",
    " 'a large brick sidewalk next to it',\n",
    " 'a refrigerator by a trash bag',\n",
    " 'a beat up by the black box under it could face that does a remote nearby look it',\n",
    " 'a lot of garbage obama just under it',\n",
    " 'a refrigerator with a concrete sidewalk',\n",
    " 'a refrigerator with a black grill',\n",
    " 'a brick wall of a trash can',\n",
    " 'a refrigerator',\n",
    " 'a refrigerator is that reads <unk>',\n",
    " 'a refrigerator containing a leopard spot',\n",
    " 'a hand stand holding a beat shown',\n",
    " 'a refrigerator has a bag attached to a little radio onto a brick wall under water',\n",
    " 'a refrigerator passes it',\n",
    " 'a beat warning a basket with a umbrella',\n",
    " 'a beat up a cellphone',\n",
    " 'a refrigerator',\n",
    " 'a refrigerator and a cat',\n",
    " 'a beat warning that reads <unk>',\n",
    " 'a hand with magnets',\n",
    " 'a beat warning with a ball',\n",
    " 'a refrigerator full trash placed on the ground onto an old water onto a sidewalk',\n",
    " 'a beat looking a street next close up paddle',\n",
    " 'the tall next to a tree net to the top of a large beam it',\n",
    " 'a unique looking at a sidewalk',\n",
    " 'a large brick sidewalk',\n",
    " 'a machine with a small tree licking it',\n",
    " 'the new outhouse with both sides of a brick wall under it',\n",
    " 'a refrigerator in a paved open area of it hand with a fire hydrant',\n",
    " 'a lot of trash on a sidewalk',\n",
    " 'a refrigerator and holding the ground',\n",
    " \"a refrigerator in front of a brick oven adjusts someone's feet of a brick wall of a yellow car net\",\n",
    " 'a refrigerator',\n",
    " 'picture of a cell <unk>',\n",
    " \"a hand walking next to a trash bag blowing someone's legs on a sidewalk\",\n",
    " 'a beat hiding next to a trash bag blowing it',\n",
    " 'a tower towering by a brick ground',\n",
    " 'a tall with a toilet',\n",
    " 'a lot of garbage by a brick wall under rails of the side of an open grill',\n",
    " 'a refrigerator with a small tree next to a trash bag blowing it',\n",
    " 'a hand and analog analog arm of a brick wall under it',\n",
    " 'a refrigerator open <unk> the ground',\n",
    " 'a stand with a beat warning',\n",
    " 'zoo is the bushes and a cellphone',\n",
    " 'a refrigerator along an old 6',\n",
    " 'a brick wall of a sidewalk',\n",
    " 'a beat warning the side of a dry dark street',\n",
    " 'a refrigerator',\n",
    " 'a refrigerator laying between a fire hydrant sniffing a brick wall',\n",
    " 'a brick with several refrigerators holding a wall that was thrown out onto its face',\n",
    " 'a cell phone is near a fire hydrant',\n",
    " 'a open <unk> <unk> by a fire hydrant',\n",
    " 'a skateboard <unk> with both feet propped up a cell phone',\n",
    " 'a refrigerator with a bench',\n",
    " 'front of a toilet',\n",
    " 'someone hand of a cell phone',\n",
    " \"a beat up onto a trash bag blowing someone's way\",\n",
    " 'a black trash can a cat',\n",
    " 'a beat warning that are installed a tennis light wood sidewalk on the ground',\n",
    " 'a refrigerator with the columns running onto it',\n",
    " 'a refrigerator with bowling',\n",
    " 'a rock a sidewalk near a fire hydrant by a gray stone wall holding it',\n",
    " 'a beat warning of a wall by a sidewalk',\n",
    " 'a brick facade of a wall while sniffing a wet fountain with cement planter',\n",
    " 'a beat warning that does a wall near a fire hydrant',\n",
    " 'a tall with a sidewalk near a fire hydrant',\n",
    " \"a cot holds the ground onto someone's foot\",\n",
    " 'a lot of garbage next night',\n",
    " 'a refrigerator with a parking meter',\n",
    " 'a refrigerator holding a beat shown',\n",
    " 'a brick with a cup sitting under it is a curb licking water onto another instrument on a sidewalk of a brick wall under rails of a trash bag',\n",
    " 'brick next to a curb next a wet object to it',\n",
    " 'a refrigerator is right beside a fire hydrant',\n",
    " 'a beat up the side of a new cabbage',\n",
    " 'a cell phone with a beat these <unk> by a fire hydrant',\n",
    " 'a lot of <unk> ball',\n",
    " 'a refrigerator using a cellphone and some type of a black grill',\n",
    " 'a large water onto it',\n",
    " 'a new analog clock and a black grill',\n",
    " 'a refrigerator playing with a trash bag',\n",
    " 'a rock next to a fire hydrant',\n",
    " 'a toilet with a statue of a is looking the ground',\n",
    " 'a beat warning how to the ground close to it contains a small pond',\n",
    " 'the inner doorway of stairs',\n",
    " 'a beat looking',\n",
    " 'a open gate with a large brick wall',\n",
    " 'a brick wall has a basket attached to a sidewalk while holding a <unk> spot looking a fire hydrant',\n",
    " 'a rock extending from a wall under it',\n",
    " 'the skateboard onto the rails of a trash can',\n",
    " 'a lot of garbage obama just a brown black grill',\n",
    " 'a refrigerator with a fire hydrant',\n",
    " 'a beat looking animal removing the ground',\n",
    " 'a mobile <unk> is next to a small radio',\n",
    " 'the brick near a brick wall under a gray cell phone',\n",
    " 'a hand of french french fries and a statue of a brick wall under water into the black grill side of an old apple',\n",
    " 'a refrigerator with a sidewalk next to a fire hydrant',\n",
    " 'a alley of the top of a plastic gaming canada',\n",
    " 'a refrigerator with beat up camera',\n",
    " 'this basement with a trash can it',\n",
    " 'a refrigerator holds onto a concrete floor',\n",
    " 'a toilet swings a play pot has a <unk> spot',\n",
    " 'a refrigerator',\n",
    " 'the skateboard',\n",
    " 'a warning four wheeled box looking off the ground',\n",
    " 'a beat warning underneath a trash bag used as it from the top of an adult oven so it for a wall',\n",
    " 'a large brick wall of a small lot of a sidewalk next to a cat sniffs it could face extending to a brick wall under black tail <unk>',\n",
    " 'a refrigerator and analog clock',\n",
    " 'a refrigerator with a trash bag',\n",
    " 'a refrigerator and a tree',\n",
    " 'a t ball to the brick wall under it',\n",
    " 'a an alleyway in a device start of a <unk> of it',\n",
    " 'a refrigerator',\n",
    " 'a yard with a small sniffing a trash bag blowing it',\n",
    " 'a brick fireplace placed on it',\n",
    " 'a refrigerator',\n",
    " \"a <unk> onto a trash bag blowing someone's legs of it on an old it\",\n",
    " \"a toilet with it's face\",\n",
    " 'a refrigerator containing two tennis <unk>',\n",
    " 'a large brick wall',\n",
    " 'a lot of garbage obama just near a fire hydrant',\n",
    " 'a beat warning running and a small wet road near a group of a sniffing numerous patio',\n",
    " 'a refrigerator hat playing it',\n",
    " 'a refrigerator that does it watches',\n",
    " 'a refrigerator with water fountain',\n",
    " 'a large stone',\n",
    " 'a cellphone and a trash bag',\n",
    " 'the tall next to a fire hydrant',\n",
    " 'a refrigerator food with the outside',\n",
    " 'a beat warning that reads <unk>',\n",
    " 'a refrigerator with the time',\n",
    " 'looking a trash can',\n",
    " 'a refrigerator',\n",
    " \"a lot of brick wall looking for the women's <unk> of the cement sidewalk\",\n",
    " 'a rock ring on a brick sidewalk',\n",
    " 'a beat warning running down a brick wall under it is near a gray cement sidewalk',\n",
    " 'a water <unk> at the face of a trash bag staring into <unk>',\n",
    " 'a lot of a wall near it',\n",
    " 'a refrigerator holding a court by a brick wall of the side of a dry butter stone steps',\n",
    " 'a refrigerator containing a pile of extending to a sidewalk of a tree underneath it',\n",
    " 'a refrigerator to look under a tree licking it',\n",
    " 'a unique <unk> with a warning its face',\n",
    " 'a refrigerator along this fire hydrant',\n",
    " 'a refrigerator']"
   ]
  },
  {
   "cell_type": "code",
   "execution_count": 89,
   "metadata": {},
   "outputs": [],
   "source": [
    "djw['captions_2'] = captions_2"
   ]
  },
  {
   "cell_type": "code",
   "execution_count": 90,
   "metadata": {},
   "outputs": [
    {
     "data": {
      "text/html": [
       "<div>\n",
       "<style scoped>\n",
       "    .dataframe tbody tr th:only-of-type {\n",
       "        vertical-align: middle;\n",
       "    }\n",
       "\n",
       "    .dataframe tbody tr th {\n",
       "        vertical-align: top;\n",
       "    }\n",
       "\n",
       "    .dataframe thead th {\n",
       "        text-align: right;\n",
       "    }\n",
       "</style>\n",
       "<table border=\"1\" class=\"dataframe\">\n",
       "  <thead>\n",
       "    <tr style=\"text-align: right;\">\n",
       "      <th></th>\n",
       "      <th>displayUrl</th>\n",
       "      <th>location</th>\n",
       "      <th>moment</th>\n",
       "      <th>date</th>\n",
       "      <th>hour</th>\n",
       "      <th>minute</th>\n",
       "      <th>lat</th>\n",
       "      <th>lng</th>\n",
       "      <th>date_nasa</th>\n",
       "      <th>temp_2m</th>\n",
       "      <th>wind_10m</th>\n",
       "      <th>precipitation</th>\n",
       "      <th>distance</th>\n",
       "      <th>distance_cum</th>\n",
       "      <th>location_previous</th>\n",
       "      <th>carbon_footprint</th>\n",
       "      <th>lat_previous</th>\n",
       "      <th>lng_previous</th>\n",
       "      <th>captions_1</th>\n",
       "      <th>captions_2</th>\n",
       "    </tr>\n",
       "  </thead>\n",
       "  <tbody>\n",
       "    <tr>\n",
       "      <th>804</th>\n",
       "      <td>https://firebasestorage.googleapis.com/v0/b/mi...</td>\n",
       "      <td>Montréal, Canada</td>\n",
       "      <td>1517</td>\n",
       "      <td>2020-12-21 00:00:00+00:00</td>\n",
       "      <td>23</td>\n",
       "      <td>52</td>\n",
       "      <td>45.51</td>\n",
       "      <td>-73.55</td>\n",
       "      <td>20201221</td>\n",
       "      <td>-1.32</td>\n",
       "      <td>1.92</td>\n",
       "      <td>0.71</td>\n",
       "      <td>0</td>\n",
       "      <td>97613</td>\n",
       "      <td>Montréal, Canada</td>\n",
       "      <td>11183.91</td>\n",
       "      <td>45.51</td>\n",
       "      <td>-73.55</td>\n",
       "      <td>a cat and laying down the edge of a house</td>\n",
       "      <td>a refrigerator containing a pile of extending ...</td>\n",
       "    </tr>\n",
       "    <tr>\n",
       "      <th>805</th>\n",
       "      <td>https://firebasestorage.googleapis.com/v0/b/mi...</td>\n",
       "      <td>Montréal, Canada</td>\n",
       "      <td>1520</td>\n",
       "      <td>2020-12-24 00:00:00+00:00</td>\n",
       "      <td>18</td>\n",
       "      <td>53</td>\n",
       "      <td>45.51</td>\n",
       "      <td>-73.55</td>\n",
       "      <td>20201224</td>\n",
       "      <td>0.53</td>\n",
       "      <td>4.36</td>\n",
       "      <td>13.50</td>\n",
       "      <td>0</td>\n",
       "      <td>97613</td>\n",
       "      <td>Montréal, Canada</td>\n",
       "      <td>11183.91</td>\n",
       "      <td>45.51</td>\n",
       "      <td>-73.55</td>\n",
       "      <td>a looking out of a house and grey horse with a...</td>\n",
       "      <td>a refrigerator to look under a tree licking it</td>\n",
       "    </tr>\n",
       "    <tr>\n",
       "      <th>806</th>\n",
       "      <td>https://firebasestorage.googleapis.com/v0/b/mi...</td>\n",
       "      <td>Montréal, Canada</td>\n",
       "      <td>1521</td>\n",
       "      <td>2020-12-25 00:00:00+00:00</td>\n",
       "      <td>12</td>\n",
       "      <td>26</td>\n",
       "      <td>45.51</td>\n",
       "      <td>-73.55</td>\n",
       "      <td>20201225</td>\n",
       "      <td>4.86</td>\n",
       "      <td>5.05</td>\n",
       "      <td>16.56</td>\n",
       "      <td>0</td>\n",
       "      <td>97613</td>\n",
       "      <td>Montréal, Canada</td>\n",
       "      <td>11183.91</td>\n",
       "      <td>45.51</td>\n",
       "      <td>-73.55</td>\n",
       "      <td>the kitten is laying down to a house and dark ...</td>\n",
       "      <td>a unique &lt;unk&gt; with a warning its face</td>\n",
       "    </tr>\n",
       "    <tr>\n",
       "      <th>807</th>\n",
       "      <td>https://firebasestorage.googleapis.com/v0/b/mi...</td>\n",
       "      <td>Montréal, Canada</td>\n",
       "      <td>1522</td>\n",
       "      <td>2020-12-26 00:00:00+00:00</td>\n",
       "      <td>23</td>\n",
       "      <td>57</td>\n",
       "      <td>45.51</td>\n",
       "      <td>-73.55</td>\n",
       "      <td>20201226</td>\n",
       "      <td>-4.55</td>\n",
       "      <td>6.49</td>\n",
       "      <td>1.34</td>\n",
       "      <td>0</td>\n",
       "      <td>97613</td>\n",
       "      <td>Montréal, Canada</td>\n",
       "      <td>11183.91</td>\n",
       "      <td>45.51</td>\n",
       "      <td>-73.55</td>\n",
       "      <td>the cat sitting on a house</td>\n",
       "      <td>a refrigerator along this fire hydrant</td>\n",
       "    </tr>\n",
       "    <tr>\n",
       "      <th>808</th>\n",
       "      <td>https://firebasestorage.googleapis.com/v0/b/mi...</td>\n",
       "      <td>Montréal, Canada</td>\n",
       "      <td>1523</td>\n",
       "      <td>2020-12-27 00:00:00+00:00</td>\n",
       "      <td>11</td>\n",
       "      <td>51</td>\n",
       "      <td>45.51</td>\n",
       "      <td>-73.55</td>\n",
       "      <td>20201227</td>\n",
       "      <td>-8.27</td>\n",
       "      <td>3.14</td>\n",
       "      <td>0.09</td>\n",
       "      <td>0</td>\n",
       "      <td>97613</td>\n",
       "      <td>Montréal, Canada</td>\n",
       "      <td>11183.91</td>\n",
       "      <td>45.51</td>\n",
       "      <td>-73.55</td>\n",
       "      <td>the cat on a house</td>\n",
       "      <td>a refrigerator</td>\n",
       "    </tr>\n",
       "  </tbody>\n",
       "</table>\n",
       "</div>"
      ],
      "text/plain": [
       "                                            displayUrl          location  \\\n",
       "804  https://firebasestorage.googleapis.com/v0/b/mi...  Montréal, Canada   \n",
       "805  https://firebasestorage.googleapis.com/v0/b/mi...  Montréal, Canada   \n",
       "806  https://firebasestorage.googleapis.com/v0/b/mi...  Montréal, Canada   \n",
       "807  https://firebasestorage.googleapis.com/v0/b/mi...  Montréal, Canada   \n",
       "808  https://firebasestorage.googleapis.com/v0/b/mi...  Montréal, Canada   \n",
       "\n",
       "     moment                       date  hour  minute    lat    lng  date_nasa  \\\n",
       "804    1517  2020-12-21 00:00:00+00:00    23      52  45.51 -73.55   20201221   \n",
       "805    1520  2020-12-24 00:00:00+00:00    18      53  45.51 -73.55   20201224   \n",
       "806    1521  2020-12-25 00:00:00+00:00    12      26  45.51 -73.55   20201225   \n",
       "807    1522  2020-12-26 00:00:00+00:00    23      57  45.51 -73.55   20201226   \n",
       "808    1523  2020-12-27 00:00:00+00:00    11      51  45.51 -73.55   20201227   \n",
       "\n",
       "     temp_2m  wind_10m  precipitation  distance  distance_cum  \\\n",
       "804    -1.32      1.92           0.71         0         97613   \n",
       "805     0.53      4.36          13.50         0         97613   \n",
       "806     4.86      5.05          16.56         0         97613   \n",
       "807    -4.55      6.49           1.34         0         97613   \n",
       "808    -8.27      3.14           0.09         0         97613   \n",
       "\n",
       "    location_previous  carbon_footprint  lat_previous  lng_previous  \\\n",
       "804  Montréal, Canada          11183.91         45.51        -73.55   \n",
       "805  Montréal, Canada          11183.91         45.51        -73.55   \n",
       "806  Montréal, Canada          11183.91         45.51        -73.55   \n",
       "807  Montréal, Canada          11183.91         45.51        -73.55   \n",
       "808  Montréal, Canada          11183.91         45.51        -73.55   \n",
       "\n",
       "                                            captions_1  \\\n",
       "804          a cat and laying down the edge of a house   \n",
       "805  a looking out of a house and grey horse with a...   \n",
       "806  the kitten is laying down to a house and dark ...   \n",
       "807                         the cat sitting on a house   \n",
       "808                                 the cat on a house   \n",
       "\n",
       "                                            captions_2  \n",
       "804  a refrigerator containing a pile of extending ...  \n",
       "805     a refrigerator to look under a tree licking it  \n",
       "806             a unique <unk> with a warning its face  \n",
       "807             a refrigerator along this fire hydrant  \n",
       "808                                     a refrigerator  "
      ]
     },
     "execution_count": 90,
     "metadata": {},
     "output_type": "execute_result"
    }
   ],
   "source": [
    "djw.tail()"
   ]
  },
  {
   "cell_type": "code",
   "execution_count": 91,
   "metadata": {},
   "outputs": [],
   "source": [
    "# Save data\n",
    "djw.to_csv('data/minutiae_w_captions.csv')"
   ]
  },
  {
   "cell_type": "code",
   "execution_count": null,
   "metadata": {},
   "outputs": [],
   "source": []
  }
 ],
 "metadata": {
  "kernelspec": {
   "display_name": "Python 3",
   "language": "python",
   "name": "python3"
  },
  "language_info": {
   "codemirror_mode": {
    "name": "ipython",
    "version": 3
   },
   "file_extension": ".py",
   "mimetype": "text/x-python",
   "name": "python",
   "nbconvert_exporter": "python",
   "pygments_lexer": "ipython3",
   "version": "3.8.3"
  },
  "toc-autonumbering": true
 },
 "nbformat": 4,
 "nbformat_minor": 4
}
